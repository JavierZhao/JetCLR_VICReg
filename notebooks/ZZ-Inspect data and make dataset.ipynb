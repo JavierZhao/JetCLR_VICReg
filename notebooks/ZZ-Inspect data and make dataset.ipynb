{
 "cells": [
  {
   "cell_type": "code",
   "execution_count": 1,
   "id": "ef38909b",
   "metadata": {
    "ExecuteTime": {
     "end_time": "2023-08-09T19:18:08.511386Z",
     "start_time": "2023-08-09T19:18:05.740807Z"
    }
   },
   "outputs": [],
   "source": [
    "import awkward as ak\n",
    "import numpy as np\n",
    "import pandas as pd\n",
    "import vector\n",
    "import matplotlib.pyplot as plt\n",
    "import mplhep as hep\n",
    "import torch\n",
    "from sklearn.metrics import auc\n",
    "import os\n",
    "import os.path as osp\n",
    "\n",
    "plt.style.use(hep.style.ROOT)"
   ]
  },
  {
   "cell_type": "code",
   "execution_count": 2,
   "id": "838ab371",
   "metadata": {
    "ExecuteTime": {
     "end_time": "2023-08-09T19:18:08.516481Z",
     "start_time": "2023-08-09T19:18:08.513851Z"
    }
   },
   "outputs": [],
   "source": [
    "# !pwd"
   ]
  },
  {
   "cell_type": "code",
   "execution_count": 3,
   "id": "6596d715",
   "metadata": {
    "ExecuteTime": {
     "end_time": "2023-08-09T19:18:08.520499Z",
     "start_time": "2023-08-09T19:18:08.518174Z"
    }
   },
   "outputs": [],
   "source": [
    "# !nvidia-smi -q"
   ]
  },
  {
   "cell_type": "code",
   "execution_count": 4,
   "id": "034e7f67",
   "metadata": {
    "ExecuteTime": {
     "end_time": "2023-08-09T19:18:23.227943Z",
     "start_time": "2023-08-09T19:18:08.522890Z"
    }
   },
   "outputs": [],
   "source": [
    "label = \"test\"\n",
    "hdf5_file = f\"/ssl-jet-vol-v2/toptagging/{label}/raw/{label}.h5\"\n",
    "vector.register_awkward()\n",
    "\n",
    "df = pd.read_hdf(hdf5_file, key=\"table\")"
   ]
  },
  {
   "cell_type": "code",
   "execution_count": 5,
   "id": "920e7517",
   "metadata": {
    "ExecuteTime": {
     "end_time": "2023-08-09T19:18:37.223831Z",
     "start_time": "2023-08-09T19:18:23.231545Z"
    }
   },
   "outputs": [],
   "source": [
    "def _col_list(prefix, max_particles=200):\n",
    "    return [\"%s_%d\" % (prefix, i) for i in range(max_particles)]\n",
    "\n",
    "_px = df[_col_list(\"PX\")].values\n",
    "_py = df[_col_list(\"PY\")].values\n",
    "_pz = df[_col_list(\"PZ\")].values\n",
    "_e = df[_col_list(\"E\")].values\n",
    "\n",
    "mask = _e > 0\n",
    "n_particles = np.sum(mask, axis=1)\n",
    "\n",
    "px = ak.unflatten(_px[mask], n_particles)\n",
    "py = ak.unflatten(_py[mask], n_particles)\n",
    "pz = ak.unflatten(_pz[mask], n_particles)\n",
    "energy = ak.unflatten(_e[mask], n_particles)\n",
    "\n",
    "p4 = ak.zip(\n",
    "            {\n",
    "                \"px\": px,\n",
    "                \"py\": py,\n",
    "                \"pz\": pz,\n",
    "                \"energy\": energy,\n",
    "            },\n",
    "            with_name=\"Momentum4D\",\n",
    "        )\n",
    "\n",
    "jet_p4 = ak.sum(p4, axis=-1)\n",
    "\n",
    "# outputs\n",
    "v = {}\n",
    "v[\"label\"] = df[\"is_signal_new\"].values\n",
    "\n",
    "v[\"jet_pt\"] = jet_p4.pt.to_numpy()\n",
    "v[\"jet_eta\"] = jet_p4.eta.to_numpy()\n",
    "v[\"jet_phi\"] = jet_p4.phi.to_numpy()\n",
    "v[\"jet_energy\"] = jet_p4.energy.to_numpy()\n",
    "v[\"jet_mass\"] = jet_p4.mass.to_numpy()\n",
    "v[\"jet_nparticles\"] = n_particles\n",
    "\n",
    "v[\"part_px\"] = px\n",
    "v[\"part_py\"] = py\n",
    "v[\"part_pz\"] = pz\n",
    "v[\"part_energy\"] = energy\n",
    "\n",
    "v[\"part_deta\"] = p4.deltaeta(jet_p4)\n",
    "v[\"part_dphi\"] = p4.deltaphi(jet_p4)\n",
    "\n",
    "part_pt = np.hypot(v[\"part_px\"], v[\"part_py\"])"
   ]
  },
  {
   "cell_type": "code",
   "execution_count": 6,
   "id": "2621a253",
   "metadata": {
    "ExecuteTime": {
     "end_time": "2023-08-09T19:18:37.233724Z",
     "start_time": "2023-08-09T19:18:37.229528Z"
    }
   },
   "outputs": [],
   "source": [
    "# v[\"part_deta\"][0]"
   ]
  },
  {
   "cell_type": "code",
   "execution_count": 7,
   "id": "129d1b10",
   "metadata": {
    "ExecuteTime": {
     "end_time": "2023-08-09T19:18:37.238273Z",
     "start_time": "2023-08-09T19:18:37.235788Z"
    }
   },
   "outputs": [],
   "source": [
    "# part_pt[0]"
   ]
  },
  {
   "cell_type": "code",
   "execution_count": 8,
   "id": "d18cad56",
   "metadata": {
    "ExecuteTime": {
     "end_time": "2023-08-09T19:18:37.242766Z",
     "start_time": "2023-08-09T19:18:37.240226Z"
    }
   },
   "outputs": [],
   "source": [
    "# max_nconstit = 50\n",
    "# i = 0\n",
    "# pt = torch.from_numpy(part_pt[i].to_numpy().reshape(-1, 1))[:max_nconstit]\n",
    "# padded_pt = pt\n",
    "# if pt.shape[0] < max_nconstit:\n",
    "#     zeros = torch.zeros(max_nconstit - pt.shape[0], 1)\n",
    "#     padded_pt = torch.cat([pt, zeros], axis=0)\n",
    "# padded_pt"
   ]
  },
  {
   "cell_type": "code",
   "execution_count": 9,
   "id": "e03c2e40",
   "metadata": {
    "ExecuteTime": {
     "end_time": "2023-08-09T19:18:37.249524Z",
     "start_time": "2023-08-09T19:18:37.245008Z"
    }
   },
   "outputs": [],
   "source": [
    "def zero_pad(arr, max_nconstit=50):\n",
    "    \"\"\"\n",
    "    arr: torch tensor\n",
    "    \"\"\"\n",
    "    arr = arr[:max_nconstit]\n",
    "    if arr.shape[0] < max_nconstit:\n",
    "        zeros = torch.zeros(max_nconstit - arr.shape[0], 1)\n",
    "        padded_arr = torch.cat([arr, zeros], axis=0)\n",
    "        return padded_arr\n",
    "    else:\n",
    "        return arr"
   ]
  },
  {
   "cell_type": "code",
   "execution_count": 10,
   "id": "f4d91a62",
   "metadata": {
    "ExecuteTime": {
     "end_time": "2023-08-09T19:18:37.264808Z",
     "start_time": "2023-08-09T19:18:37.253161Z"
    }
   },
   "outputs": [
    {
     "data": {
      "text/plain": [
       "torch.Size([50, 1])"
      ]
     },
     "execution_count": 10,
     "metadata": {},
     "output_type": "execute_result"
    }
   ],
   "source": [
    "# zero_pad(torch.from_numpy(part_pt[100].to_numpy().reshape(-1, 1))).shape"
   ]
  },
  {
   "cell_type": "code",
   "execution_count": 11,
   "id": "c3f852bf",
   "metadata": {
    "ExecuteTime": {
     "end_time": "2023-08-09T19:18:37.299901Z",
     "start_time": "2023-08-09T19:18:37.266951Z"
    }
   },
   "outputs": [
    {
     "data": {
      "text/plain": [
       "torch.Size([3, 50])"
      ]
     },
     "execution_count": 11,
     "metadata": {},
     "output_type": "execute_result"
    }
   ],
   "source": [
    "# jet_index = 0\n",
    "# pt = zero_pad(torch.from_numpy(part_pt[jet_index].to_numpy().reshape(-1, 1)))\n",
    "# deta = zero_pad(torch.from_numpy(v[\"part_deta\"][jet_index].to_numpy().reshape(-1, 1)))\n",
    "# dphi = zero_pad(torch.from_numpy(v[\"part_dphi\"][jet_index].to_numpy().reshape(-1, 1)))\n",
    "\n",
    "# jet = torch.cat([pt, deta, dphi], axis=1).transpose(0,1)\n",
    "\n",
    "# jet.shape"
   ]
  },
  {
   "cell_type": "code",
   "execution_count": 12,
   "id": "2177e20d",
   "metadata": {
    "ExecuteTime": {
     "end_time": "2023-08-09T19:18:37.305472Z",
     "start_time": "2023-08-09T19:18:37.301874Z"
    }
   },
   "outputs": [],
   "source": [
    "# jet2 = jet.clone()"
   ]
  },
  {
   "cell_type": "code",
   "execution_count": 13,
   "id": "14da81d5",
   "metadata": {
    "ExecuteTime": {
     "end_time": "2023-08-09T19:18:37.319531Z",
     "start_time": "2023-08-09T19:18:37.307451Z"
    }
   },
   "outputs": [],
   "source": [
    "# features = []\n",
    "# labels = []\n",
    "# for jet_index in range(10):\n",
    "#     pt = zero_pad(torch.from_numpy(part_pt[jet_index].to_numpy().reshape(-1, 1)))\n",
    "#     deta = zero_pad(torch.from_numpy(v[\"part_deta\"][jet_index].to_numpy().reshape(-1, 1)))\n",
    "#     dphi = zero_pad(torch.from_numpy(v[\"part_dphi\"][jet_index].to_numpy().reshape(-1, 1)))\n",
    "\n",
    "#     jet = torch.cat([pt, deta, dphi], axis=1).transpose(0,1)\n",
    "#     y = torch.tensor(v[\"label\"][jet_index]).long()\n",
    "    \n",
    "#     features.append(jet)\n",
    "#     labels.append(y)"
   ]
  },
  {
   "cell_type": "code",
   "execution_count": 14,
   "id": "3a89a835",
   "metadata": {
    "ExecuteTime": {
     "end_time": "2023-08-09T19:18:37.337137Z",
     "start_time": "2023-08-09T19:18:37.321448Z"
    }
   },
   "outputs": [
    {
     "data": {
      "text/plain": [
       "tensor([[[ 2.0452e+02,  1.4516e+02,  7.2957e+01,  ...,  0.0000e+00,\n",
       "           0.0000e+00,  0.0000e+00],\n",
       "         [-1.9442e-02,  5.8873e-03,  2.7067e-02,  ...,  0.0000e+00,\n",
       "           0.0000e+00,  0.0000e+00],\n",
       "         [ 9.3275e-02, -3.4971e-02, -2.2574e-02,  ...,  0.0000e+00,\n",
       "           0.0000e+00,  0.0000e+00]],\n",
       "\n",
       "        [[ 9.5436e+01,  9.4674e+01,  7.1292e+01,  ...,  1.2189e+00,\n",
       "           1.0371e+00,  8.6181e-01],\n",
       "         [ 3.1814e-02,  3.1344e-02,  1.5960e-02,  ..., -9.9717e-02,\n",
       "          -1.2260e-01, -6.8209e-01],\n",
       "         [ 2.9309e-02, -6.7194e-02,  4.9881e-02,  ..., -3.6181e-01,\n",
       "           6.1498e-02, -1.9809e-02]],\n",
       "\n",
       "        [[ 1.2621e+02,  6.6783e+01,  4.1358e+01,  ...,  0.0000e+00,\n",
       "           0.0000e+00,  0.0000e+00],\n",
       "         [-7.3247e-03,  5.5220e-03,  1.4092e-02,  ...,  0.0000e+00,\n",
       "           0.0000e+00,  0.0000e+00],\n",
       "         [-7.0035e-02,  7.6470e-03, -1.1063e-04,  ...,  0.0000e+00,\n",
       "           0.0000e+00,  0.0000e+00]],\n",
       "\n",
       "        ...,\n",
       "\n",
       "        [[ 1.5427e+02,  8.9057e+01,  5.8244e+01,  ...,  0.0000e+00,\n",
       "           0.0000e+00,  0.0000e+00],\n",
       "         [-2.5619e-02, -2.4813e-02,  8.4056e-02,  ...,  0.0000e+00,\n",
       "           0.0000e+00,  0.0000e+00],\n",
       "         [ 2.9354e-02,  3.0218e-02, -8.5596e-02,  ...,  0.0000e+00,\n",
       "           0.0000e+00,  0.0000e+00]],\n",
       "\n",
       "        [[ 5.5419e+01,  4.8368e+01,  4.7071e+01,  ...,  2.4770e+00,\n",
       "           2.4262e+00,  2.4075e+00],\n",
       "         [ 2.1560e-01,  3.1362e-02, -3.9883e-01,  ...,  4.8972e-01,\n",
       "          -2.8165e-01,  4.1764e-01],\n",
       "         [-3.1560e-01,  5.0914e-01, -7.7889e-02,  ..., -5.6031e-01,\n",
       "           2.3777e-02,  7.9509e-02]],\n",
       "\n",
       "        [[ 2.6776e+02,  1.6901e+02,  4.7111e+01,  ...,  0.0000e+00,\n",
       "           0.0000e+00,  0.0000e+00],\n",
       "         [-5.2233e-04,  1.5582e-03,  1.2433e-02,  ...,  0.0000e+00,\n",
       "           0.0000e+00,  0.0000e+00],\n",
       "         [-2.6818e-02,  7.3440e-02, -3.8225e-02,  ...,  0.0000e+00,\n",
       "           0.0000e+00,  0.0000e+00]]])"
      ]
     },
     "execution_count": 14,
     "metadata": {},
     "output_type": "execute_result"
    }
   ],
   "source": [
    "# torch.stack(features)"
   ]
  },
  {
   "cell_type": "code",
   "execution_count": 15,
   "id": "cdc390e0",
   "metadata": {
    "ExecuteTime": {
     "end_time": "2023-08-09T19:18:37.343097Z",
     "start_time": "2023-08-09T19:18:37.339286Z"
    }
   },
   "outputs": [
    {
     "data": {
      "text/plain": [
       "torch.Size([10])"
      ]
     },
     "execution_count": 15,
     "metadata": {},
     "output_type": "execute_result"
    }
   ],
   "source": [
    "# torch.stack(labels).shape"
   ]
  },
  {
   "cell_type": "code",
   "execution_count": 16,
   "id": "b75eb66c",
   "metadata": {
    "ExecuteTime": {
     "end_time": "2023-08-09T19:22:56.878911Z",
     "start_time": "2023-08-09T19:18:37.344818Z"
    }
   },
   "outputs": [
    {
     "name": "stdout",
     "output_type": "stream",
     "text": [
      "saving datafile data_0\n",
      "saving datafile data_1\n",
      "saving datafile data_2\n",
      "saving datafile data_3\n"
     ]
    }
   ],
   "source": [
    "features = []\n",
    "labels = []\n",
    "c = 0\n",
    "processed_dir = f\"/ssl-jet-vol-v2/toptagging/{label}/processed/3_features\"\n",
    "os.system(\n",
    "        f\"mkdir -p {processed_dir}\"\n",
    "    )\n",
    "for jet_index in range(len(df)):\n",
    "    pt = zero_pad(torch.from_numpy(part_pt[jet_index].to_numpy().reshape(-1, 1)))\n",
    "    deta = zero_pad(torch.from_numpy(v[\"part_deta\"][jet_index].to_numpy().reshape(-1, 1)))\n",
    "    dphi = zero_pad(torch.from_numpy(v[\"part_dphi\"][jet_index].to_numpy().reshape(-1, 1)))\n",
    "\n",
    "    jet = torch.cat([pt, deta, dphi], axis=1).transpose(0,1)\n",
    "    y = torch.tensor(v[\"label\"][jet_index]).long()\n",
    "    \n",
    "    features.append(jet)\n",
    "    labels.append(y)\n",
    "    print(\"success\")\n",
    "    break\n",
    "    \n",
    "    if jet_index % 100000 == 0 and jet_index != 0:\n",
    "        print(f\"saving datafile data_{c}\")\n",
    "        torch.save(torch.stack(features), osp.join(processed_dir, f\"data_{c}.pt\"))\n",
    "        torch.save(torch.stack(labels), osp.join(processed_dir, f\"labels_{c}.pt\"))\n",
    "        c += 1\n",
    "        features = []\n",
    "        labels = []"
   ]
  },
  {
   "cell_type": "code",
   "execution_count": 17,
   "id": "8468b7c5",
   "metadata": {
    "ExecuteTime": {
     "end_time": "2023-08-09T19:22:56.885238Z",
     "start_time": "2023-08-09T19:22:56.881945Z"
    }
   },
   "outputs": [],
   "source": [
    "# plt.hist(v[\"jet_phi\"])"
   ]
  },
  {
   "cell_type": "code",
   "execution_count": 18,
   "id": "a7a7bc81",
   "metadata": {
    "ExecuteTime": {
     "end_time": "2023-08-09T19:23:30.018895Z",
     "start_time": "2023-08-09T19:23:29.321203Z"
    }
   },
   "outputs": [],
   "source": [
    "data_0 = torch.load(osp.join(processed_dir, \"data_0.pt\"))"
   ]
  },
  {
   "cell_type": "code",
   "execution_count": 19,
   "id": "89989457",
   "metadata": {
    "ExecuteTime": {
     "end_time": "2023-08-09T19:23:35.016672Z",
     "start_time": "2023-08-09T19:23:35.011011Z"
    }
   },
   "outputs": [
    {
     "data": {
      "text/plain": [
       "torch.Size([100001, 3, 50])"
      ]
     },
     "execution_count": 19,
     "metadata": {},
     "output_type": "execute_result"
    }
   ],
   "source": [
    "data_0.shape"
   ]
  },
  {
   "cell_type": "code",
   "execution_count": null,
   "id": "95e49ed7",
   "metadata": {},
   "outputs": [],
   "source": []
  }
 ],
 "metadata": {
  "kernelspec": {
   "display_name": "Python 3 (ipykernel)",
   "language": "python",
   "name": "python3"
  },
  "language_info": {
   "codemirror_mode": {
    "name": "ipython",
    "version": 3
   },
   "file_extension": ".py",
   "mimetype": "text/x-python",
   "name": "python",
   "nbconvert_exporter": "python",
   "pygments_lexer": "ipython3",
   "version": "3.10.10"
  }
 },
 "nbformat": 4,
 "nbformat_minor": 5
}
