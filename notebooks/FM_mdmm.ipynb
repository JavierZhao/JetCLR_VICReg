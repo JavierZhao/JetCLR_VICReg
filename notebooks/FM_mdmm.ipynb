{
 "cells": [
  {
   "cell_type": "markdown",
   "metadata": {},
   "source": [
    "# `mdmm` tutorial\n",
    "The purpose of this notebook is to guide you to train a model with a loss function of several parameters in a proper mathematical way. The idea comes from the paper [Constrained Differential Optimization](https://papers.nips.cc/paper/1987/file/a87ff679a2f3e71d9181a67b7542122c-Paper.pdf), and the implementation from the [mdmm package Github](https://github.com/crowsonkb/mdmm)\n",
    "\n",
    "The guide is best illustrated through the **[VICReg](https://arxiv.org/abs/2105.04906)** example where your input is split into two views and you are asked to minimize three loss terms: `variance`, `invariance` and `covariance`."
   ]
  },
  {
   "cell_type": "code",
   "execution_count": 1,
   "metadata": {
    "ExecuteTime": {
     "end_time": "2023-07-19T21:11:21.330261Z",
     "start_time": "2023-07-19T21:11:18.919152Z"
    }
   },
   "outputs": [
    {
     "name": "stdout",
     "output_type": "stream",
     "text": [
      "Requirement already satisfied: mdmm in /opt/conda/lib/python3.10/site-packages (0.1.3)\r\n",
      "Requirement already satisfied: torch>=1.7.1 in /opt/conda/lib/python3.10/site-packages (from mdmm) (1.13.1)\r\n",
      "Requirement already satisfied: typing_extensions in /opt/conda/lib/python3.10/site-packages (from torch>=1.7.1->mdmm) (4.5.0)\r\n"
     ]
    }
   ],
   "source": [
    "! pip install mdmm"
   ]
  },
  {
   "cell_type": "code",
   "execution_count": 2,
   "metadata": {
    "ExecuteTime": {
     "end_time": "2023-07-19T21:11:23.027786Z",
     "start_time": "2023-07-19T21:11:21.334268Z"
    }
   },
   "outputs": [
    {
     "name": "stdout",
     "output_type": "stream",
     "text": [
      "Will use NVIDIA A10\n"
     ]
    }
   ],
   "source": [
    "import warnings\n",
    "import numpy as np\n",
    "import mdmm\n",
    "import torch\n",
    "import torch.nn as nn\n",
    "import torch.nn.functional as F\n",
    "from torch_geometric.data import Batch\n",
    "from torch_geometric.loader import DataLoader\n",
    "from torch_geometric.nn import global_mean_pool, GATConv\n",
    "from torch_geometric.nn.conv import GravNetConv\n",
    "\n",
    "warnings.simplefilter(\"ignore\", UserWarning)\n",
    "\n",
    "# define the global base device\n",
    "if torch.cuda.device_count():\n",
    "    device = torch.device(\"cuda:0\")\n",
    "    print(f\"Will use {torch.cuda.get_device_name(device)}\")\n",
    "else:\n",
    "    device = \"cpu\"\n",
    "    print(\"Will use cpu\")"
   ]
  },
  {
   "cell_type": "code",
   "execution_count": 3,
   "metadata": {
    "ExecuteTime": {
     "end_time": "2023-07-19T21:11:23.535938Z",
     "start_time": "2023-07-19T21:11:23.030727Z"
    }
   },
   "outputs": [
    {
     "name": "stdout",
     "output_type": "stream",
     "text": [
      "\n",
      "==============NVSMI LOG==============\n",
      "\n",
      "Timestamp                                 : Wed Jul 19 21:11:23 2023\n",
      "Driver Version                            : 515.65.01\n",
      "CUDA Version                              : 11.7\n",
      "\n",
      "Attached GPUs                             : 1\n",
      "GPU 00000000:01:00.0\n",
      "    Product Name                          : NVIDIA A10\n",
      "    Product Brand                         : NVIDIA\n",
      "    Product Architecture                  : Ampere\n",
      "    Display Mode                          : Disabled\n",
      "    Display Active                        : Disabled\n",
      "    Persistence Mode                      : Disabled\n",
      "    MIG Mode\n",
      "        Current                           : N/A\n",
      "        Pending                           : N/A\n",
      "    Accounting Mode                       : Disabled\n",
      "    Accounting Mode Buffer Size           : 4000\n",
      "    Driver Model\n",
      "        Current                           : N/A\n",
      "        Pending                           : N/A\n",
      "    Serial Number                         : 1565021003080\n",
      "    GPU UUID                              : GPU-12310812-a4dc-2642-fc6d-0b2570f2266d\n",
      "    Minor Number                          : 2\n",
      "    VBIOS Version                         : 94.02.5C.00.04\n",
      "    MultiGPU Board                        : No\n",
      "    Board ID                              : 0x100\n",
      "    GPU Part Number                       : 900-2G133-0020-100\n",
      "    Module ID                             : 0\n",
      "    Inforom Version\n",
      "        Image Version                     : G133.0215.00.06\n",
      "        OEM Object                        : 2.0\n",
      "        ECC Object                        : 6.16\n",
      "        Power Management Object           : N/A\n",
      "    GPU Operation Mode\n",
      "        Current                           : N/A\n",
      "        Pending                           : N/A\n",
      "    GSP Firmware Version                  : 515.65.01\n",
      "    GPU Virtualization Mode\n",
      "        Virtualization Mode               : None\n",
      "        Host VGPU Mode                    : N/A\n",
      "    IBMNPU\n",
      "        Relaxed Ordering Mode             : N/A\n",
      "    PCI\n",
      "        Bus                               : 0x01\n",
      "        Device                            : 0x00\n",
      "        Domain                            : 0x0000\n",
      "        Device Id                         : 0x223610DE\n",
      "        Bus Id                            : 00000000:01:00.0\n",
      "        Sub System Id                     : 0x148210DE\n",
      "        GPU Link Info\n",
      "            PCIe Generation\n",
      "                Max                       : 4\n",
      "                Current                   : 1\n",
      "            Link Width\n",
      "                Max                       : 16x\n",
      "                Current                   : 16x\n",
      "        Bridge Chip\n",
      "            Type                          : N/A\n",
      "            Firmware                      : N/A\n",
      "        Replays Since Reset               : 0\n",
      "        Replay Number Rollovers           : 0\n",
      "        Tx Throughput                     : 0 KB/s\n",
      "        Rx Throughput                     : 0 KB/s\n",
      "    Fan Speed                             : 0 %\n",
      "    Performance State                     : P8\n",
      "    Clocks Throttle Reasons\n",
      "        Idle                              : Active\n",
      "        Applications Clocks Setting       : Not Active\n",
      "        SW Power Cap                      : Not Active\n",
      "        HW Slowdown                       : Not Active\n",
      "            HW Thermal Slowdown           : Not Active\n",
      "            HW Power Brake Slowdown       : Not Active\n",
      "        Sync Boost                        : Not Active\n",
      "        SW Thermal Slowdown               : Not Active\n",
      "        Display Clock Setting             : Not Active\n",
      "    FB Memory Usage\n",
      "        Total                             : 23028 MiB\n",
      "        Reserved                          : 435 MiB\n",
      "        Used                              : 2 MiB\n",
      "        Free                              : 22589 MiB\n",
      "    BAR1 Memory Usage\n",
      "        Total                             : 32768 MiB\n",
      "        Used                              : 2 MiB\n",
      "        Free                              : 32766 MiB\n",
      "    Compute Mode                          : Default\n",
      "    Utilization\n",
      "        Gpu                               : 0 %\n",
      "        Memory                            : 0 %\n",
      "        Encoder                           : 0 %\n",
      "        Decoder                           : 0 %\n",
      "    Encoder Stats\n",
      "        Active Sessions                   : 0\n",
      "        Average FPS                       : 0\n",
      "        Average Latency                   : 0\n",
      "    FBC Stats\n",
      "        Active Sessions                   : 0\n",
      "        Average FPS                       : 0\n",
      "        Average Latency                   : 0\n",
      "    Ecc Mode\n",
      "        Current                           : Enabled\n",
      "        Pending                           : Enabled\n",
      "    ECC Errors\n",
      "        Volatile\n",
      "            SRAM Correctable              : 0\n",
      "            SRAM Uncorrectable            : 0\n",
      "            DRAM Correctable              : 0\n",
      "            DRAM Uncorrectable            : 0\n",
      "        Aggregate\n",
      "            SRAM Correctable              : 0\n",
      "            SRAM Uncorrectable            : 0\n",
      "            DRAM Correctable              : 0\n",
      "            DRAM Uncorrectable            : 0\n",
      "    Retired Pages\n",
      "        Single Bit ECC                    : N/A\n",
      "        Double Bit ECC                    : N/A\n",
      "        Pending Page Blacklist            : N/A\n",
      "    Remapped Rows\n",
      "        Correctable Error                 : 0\n",
      "        Uncorrectable Error               : 0\n",
      "        Pending                           : No\n",
      "        Remapping Failure Occurred        : No\n",
      "        Bank Remap Availability Histogram\n",
      "            Max                           : 192 bank(s)\n",
      "            High                          : 0 bank(s)\n",
      "            Partial                       : 0 bank(s)\n",
      "            Low                           : 0 bank(s)\n",
      "            None                          : 0 bank(s)\n",
      "    Temperature\n",
      "        GPU Current Temp                  : 47 C\n",
      "        GPU Shutdown Temp                 : 101 C\n",
      "        GPU Slowdown Temp                 : 98 C\n",
      "        GPU Max Operating Temp            : 91 C\n",
      "        GPU Target Temperature            : N/A\n",
      "        Memory Current Temp               : N/A\n",
      "        Memory Max Operating Temp         : N/A\n",
      "    Power Readings\n",
      "        Power Management                  : Supported\n",
      "        Power Draw                        : 25.65 W\n",
      "        Power Limit                       : 150.00 W\n",
      "        Default Power Limit               : 150.00 W\n",
      "        Enforced Power Limit              : 150.00 W\n",
      "        Min Power Limit                   : 100.00 W\n",
      "        Max Power Limit                   : 150.00 W\n",
      "    Clocks\n",
      "        Graphics                          : 210 MHz\n",
      "        SM                                : 210 MHz\n",
      "        Memory                            : 405 MHz\n",
      "        Video                             : 555 MHz\n",
      "    Applications Clocks\n",
      "        Graphics                          : 1695 MHz\n",
      "        Memory                            : 6251 MHz\n",
      "    Default Applications Clocks\n",
      "        Graphics                          : 1695 MHz\n",
      "        Memory                            : 6251 MHz\n",
      "    Max Clocks\n",
      "        Graphics                          : 1695 MHz\n",
      "        SM                                : 1695 MHz\n",
      "        Memory                            : 6251 MHz\n",
      "        Video                             : 1575 MHz\n",
      "    Max Customer Boost Clocks\n",
      "        Graphics                          : 1695 MHz\n",
      "    Clock Policy\n",
      "        Auto Boost                        : N/A\n",
      "        Auto Boost Default                : N/A\n",
      "    Voltage\n",
      "        Graphics                          : 650.000 mV\n",
      "    Processes                             : None\n",
      "\n"
     ]
    }
   ],
   "source": [
    "!nvidia-smi -q"
   ]
  },
  {
   "cell_type": "markdown",
   "metadata": {},
   "source": [
    "Load a processed `.pt` clic file."
   ]
  },
  {
   "cell_type": "code",
   "execution_count": 4,
   "metadata": {
    "ExecuteTime": {
     "end_time": "2023-07-19T21:11:51.706299Z",
     "start_time": "2023-07-19T21:11:23.539970Z"
    }
   },
   "outputs": [
    {
     "name": "stdout",
     "output_type": "stream",
     "text": [
      "num of clic events 100001\n"
     ]
    }
   ],
   "source": [
    "data = torch.load(\"/../ssl-jet-vol-v2/toptagging/train/processed/data_0.pt\")\n",
    "print(f\"num of clic events {len(data)}\")"
   ]
  },
  {
   "cell_type": "code",
   "execution_count": 5,
   "metadata": {
    "ExecuteTime": {
     "end_time": "2023-07-19T21:11:51.769792Z",
     "start_time": "2023-07-19T21:11:51.708531Z"
    }
   },
   "outputs": [
    {
     "name": "stdout",
     "output_type": "stream",
     "text": [
      "A single event: \n",
      " DataBatch(x=[6214, 7], y=[128], batch=[6214], ptr=[129])\n"
     ]
    }
   ],
   "source": [
    "# build a data loader\n",
    "batch_size = 128\n",
    "\n",
    "loader = DataLoader(data, batch_size, shuffle=True)\n",
    "for batch in loader:\n",
    "    print(f\"A single event: \\n {batch}\")\n",
    "    break\n",
    "\n",
    "input_dim = batch.x.shape[-1]"
   ]
  },
  {
   "cell_type": "markdown",
   "metadata": {},
   "source": [
    "# Preparation"
   ]
  },
  {
   "cell_type": "code",
   "execution_count": 6,
   "metadata": {
    "ExecuteTime": {
     "end_time": "2023-07-19T21:11:51.778247Z",
     "start_time": "2023-07-19T21:11:51.771609Z"
    }
   },
   "outputs": [],
   "source": [
    "def translate_jets(batch, width=1.0, device='cpu'):\n",
    "    width = 1.0\n",
    "    bb = batch.clone()\n",
    "    bb = bb.to(\"cpu\")\n",
    "    X = bb.x.numpy()\n",
    "    ptp_eta = np.ptp(X[:,0], axis=-1, keepdims=True)\n",
    "    ptp_phi = np.ptp(X[:,1], axis=-1, keepdims=True)\n",
    "    low_eta  = -width*ptp_eta\n",
    "#     print(f\"low eta: {low_eta}\")\n",
    "    high_eta = +width*ptp_eta\n",
    "#     print(f\"high eta: {high_eta}\")\n",
    "    low_phi = np.maximum(-width*ptp_phi, -np.pi-np.min(X[:,1]).reshape(ptp_phi.shape))\n",
    "#     print(f\"low phi: {low_phi}\")\n",
    "    high_phi = np.minimum(+width*ptp_phi, +np.pi-np.max(X[:,1]).reshape(ptp_phi.shape))\n",
    "#     print(f\"high phi: {high_phi}\")\n",
    "    shift_eta_batch = np.random.uniform(low=low_eta, high=high_eta, size=(bb.y.shape[0], 1))  \n",
    "    shift_phi_batch = np.random.uniform(low=low_phi, high=high_phi, size=(bb.y.shape[0], 1))  \n",
    "    \n",
    "    # To make sure that the components of each jet get shifted by the same amount\n",
    "    for i in range(len(bb)):\n",
    "        X_jet = bb[i].x.numpy()\n",
    "        shift_eta_jet = np.ones((X_jet.shape[0], 1)) * shift_eta_batch[i]\n",
    "        shift_phi_jet = np.ones((X_jet.shape[0], 1)) * shift_phi_batch[i]\n",
    "        if i == 0:\n",
    "            shift_eta = shift_eta_jet\n",
    "            shift_phi = shift_phi_jet\n",
    "        else:\n",
    "            shift_eta = np.concatenate((shift_eta, shift_eta_jet))\n",
    "            shift_phi = np.concatenate((shift_phi, shift_phi_jet))\n",
    "\n",
    "    shift = np.hstack((shift_eta, shift_phi, np.zeros((X.shape[0], 5))))\n",
    "    new_X = X + shift\n",
    "    new_X = torch.tensor(new_X).to(device)\n",
    "    bb.x = new_X\n",
    "    return bb.to(device)"
   ]
  },
  {
   "cell_type": "code",
   "execution_count": 7,
   "metadata": {
    "ExecuteTime": {
     "end_time": "2023-07-19T21:11:51.789593Z",
     "start_time": "2023-07-19T21:11:51.781012Z"
    }
   },
   "outputs": [],
   "source": [
    "def rotate_jets(batch, device):\n",
    "    bb = batch.clone()\n",
    "    bb = bb.to(\"cpu\")\n",
    "    rot_angle = np.random.rand(len(bb))*2*np.pi\n",
    "#     print(rot_angle)\n",
    "    c = np.cos(rot_angle)\n",
    "    s = np.sin(rot_angle)\n",
    "    o = np.ones_like(rot_angle)\n",
    "    z = np.zeros_like(rot_angle)\n",
    "    rot_matrix = np.array([[z, c, -s], [z, s, c], [o, z, z]])  # (3, 3, 100)\n",
    "    rot_matrix = rot_matrix.transpose(2,0,1)  # (100, 3, 3)\n",
    "\n",
    "    for i in range(len(bb)):\n",
    "        x_ = bb[i].x[:,:3]\n",
    "        new_x = np.einsum('ij,jk', bb[i].x[:,:3], rot_matrix[i])  # this is somehow (pT, eta', phi')\n",
    "        new_x[:, [0,2]] = new_x[:, [2, 0]] \n",
    "        new_x[:, [0,1]] = new_x[:, [1, 0]] # now (phi', eta', pT)\n",
    "        \n",
    "        if i == 0:\n",
    "            new_X = new_x\n",
    "        else:\n",
    "            new_X = np.concatenate((new_X, new_x), axis=0)\n",
    "\n",
    "    new_X = torch.tensor(new_X).to(device)\n",
    "    bb.x[:,:3] = new_X\n",
    "    return bb.to(device)"
   ]
  },
  {
   "cell_type": "code",
   "execution_count": 8,
   "metadata": {
    "ExecuteTime": {
     "end_time": "2023-07-19T21:11:51.794772Z",
     "start_time": "2023-07-19T21:11:51.791581Z"
    }
   },
   "outputs": [],
   "source": [
    "def augmentation(batch, device=\"cpu\"):\n",
    "    \"\"\"\n",
    "    Takes events of the form Batch() and applies a series of augmentations. \n",
    "    The output will have the same shape as the input\n",
    "    \"\"\"\n",
    "    batch_aug = translate_jets(batch, device=device)\n",
    "    batch_aug = rotate_jets(batch_aug, device=device)\n",
    "    return batch_aug"
   ]
  },
  {
   "cell_type": "code",
   "execution_count": 9,
   "metadata": {
    "ExecuteTime": {
     "end_time": "2023-07-19T21:11:51.799923Z",
     "start_time": "2023-07-19T21:11:51.796704Z"
    }
   },
   "outputs": [],
   "source": [
    "def event_augmentation(batch, device=\"cpu\"):\n",
    "    \"\"\"\n",
    "    Takes events of the form Batch() and splits them into two Batch() objects representing the two views.\n",
    "\n",
    "    In this example, the two views are translated and then rotated by different amounts\n",
    "    \"\"\"\n",
    "    view1 = augmentation(batch, device=device)\n",
    "    view2 = augmentation(batch, device=device)\n",
    "\n",
    "    return view1, view2"
   ]
  },
  {
   "cell_type": "code",
   "execution_count": 10,
   "metadata": {
    "ExecuteTime": {
     "end_time": "2023-07-19T21:11:51.806460Z",
     "start_time": "2023-07-19T21:11:51.803651Z"
    }
   },
   "outputs": [],
   "source": [
    "# view1, view2 = event_augmentation(batch, device)\n",
    "# print(f\"view1: {view1}\")\n",
    "# print(f\"view2: {view2}\")"
   ]
  },
  {
   "cell_type": "code",
   "execution_count": 11,
   "metadata": {
    "ExecuteTime": {
     "end_time": "2023-07-19T21:11:51.811632Z",
     "start_time": "2023-07-19T21:11:51.808569Z"
    }
   },
   "outputs": [],
   "source": [
    "# view1.x"
   ]
  },
  {
   "cell_type": "code",
   "execution_count": 12,
   "metadata": {
    "ExecuteTime": {
     "end_time": "2023-07-19T21:11:51.816916Z",
     "start_time": "2023-07-19T21:11:51.814135Z"
    }
   },
   "outputs": [],
   "source": [
    "# print(view2[10])"
   ]
  },
  {
   "cell_type": "code",
   "execution_count": 13,
   "metadata": {
    "ExecuteTime": {
     "end_time": "2023-07-19T21:11:51.821200Z",
     "start_time": "2023-07-19T21:11:51.818821Z"
    }
   },
   "outputs": [],
   "source": [
    "# print(view1[0].x[:3])"
   ]
  },
  {
   "cell_type": "markdown",
   "metadata": {},
   "source": [
    "# Setup the VICReg model (Transformer-based)\n",
    "https://github.com/bmdillon/JetCLR/blob/main/scripts/modules/transformer.py"
   ]
  },
  {
   "cell_type": "code",
   "execution_count": 14,
   "metadata": {
    "ExecuteTime": {
     "end_time": "2023-07-19T21:11:51.844862Z",
     "start_time": "2023-07-19T21:11:51.823584Z"
    }
   },
   "outputs": [],
   "source": [
    "class Transformer(nn.Module):\n",
    "    # define and intialize the structure of the neural network\n",
    "    def __init__(\n",
    "        self,\n",
    "        input_dim=7,\n",
    "        model_dim=1000,\n",
    "        output_dim=1000,\n",
    "        n_heads=4,\n",
    "        dim_feedforward=1000,\n",
    "        n_layers=4,\n",
    "        learning_rate=0.00005,\n",
    "        n_head_layers=2,\n",
    "        head_norm=False,\n",
    "        dropout=0.1,\n",
    "        opt=\"adam\",\n",
    "    ):\n",
    "        super().__init__()\n",
    "        # define hyperparameters\n",
    "        self.input_dim = input_dim\n",
    "        self.model_dim = model_dim\n",
    "        self.output_dim = output_dim\n",
    "        self.n_heads = n_heads\n",
    "        self.dim_feedforward = dim_feedforward\n",
    "        self.n_layers = n_layers\n",
    "        self.learning_rate = learning_rate\n",
    "        self.n_head_layers = n_head_layers\n",
    "        self.head_norm = head_norm\n",
    "        self.dropout = dropout\n",
    "        # define subnetworks\n",
    "        self.embedding = nn.Linear(input_dim, model_dim)\n",
    "        self.transformer = nn.TransformerEncoder(\n",
    "            nn.TransformerEncoderLayer(\n",
    "                model_dim, n_heads, dim_feedforward=dim_feedforward, dropout=dropout\n",
    "            ),\n",
    "            n_layers,\n",
    "        )\n",
    "        # head_layers have output_dim\n",
    "        if n_head_layers == 0:\n",
    "            self.head_layers = []\n",
    "        else:\n",
    "            if head_norm:\n",
    "                self.norm_layers = nn.ModuleList([nn.LayerNorm(model_dim)])\n",
    "            self.head_layers = nn.ModuleList([nn.Linear(model_dim, output_dim)])\n",
    "            for i in range(n_head_layers - 1):\n",
    "                if head_norm:\n",
    "                    self.norm_layers.append(nn.LayerNorm(output_dim))\n",
    "                self.head_layers.append(nn.Linear(output_dim, output_dim))\n",
    "        # option to use adam or sgd\n",
    "        if opt == \"adam\":\n",
    "            self.optimizer = torch.optim.Adam(self.parameters(), lr=self.learning_rate)\n",
    "        if opt == \"sgdca\" or opt == \"sgdslr\" or opt == \"sgd\":\n",
    "            self.optimizer = torch.optim.SGD(\n",
    "                self.parameters(), lr=self.learning_rate, momentum=0.9\n",
    "            )\n",
    "\n",
    "    def forward(self, view1, view2, mask=None, mult_reps=False):\n",
    "        \"\"\"\n",
    "        the two views are shaped like DataBatch(x=[12329, 7], y=[256], batch=[12329], ptr=[257])\n",
    "        transformer expects (sequence_length, feature_number) so we don't need to transpose\n",
    "        \"\"\"\n",
    "        view1_representations, view2_representations = [], []\n",
    "        assert len(view1) == len(view2)\n",
    "        # produce one representation per jet\n",
    "        for i in range(len(view1)):\n",
    "            jet1 = view1[i]\n",
    "            jet2 = view2[i]\n",
    "            # make a copy\n",
    "            x_1 = jet1.x + 0.0\n",
    "            x_2 = jet2.x + 0.0\n",
    "            # cast to torch.float32 to prevent RuntimeError: mat1 and mat2 must have the same dtype\n",
    "            x_1 = x_1.to(torch.float32)\n",
    "            x_2 = x_2.to(torch.float32)\n",
    "            # embedding\n",
    "            x_1 = self.embedding(x_1)\n",
    "            x_2 = self.embedding(x_2)\n",
    "            # transformer\n",
    "            x_1 = self.transformer(x_1, mask=mask)\n",
    "            x_2 = self.transformer(x_2, mask=mask)\n",
    "            # sum over sequence dim\n",
    "            # (batch_size, model_dim)\n",
    "            x_1 = x_1.sum(0)\n",
    "            x_2 = x_2.sum(0)\n",
    "            # head\n",
    "            x_1 = self.head(x_1, mult_reps)\n",
    "            x_2 = self.head(x_2, mult_reps)\n",
    "            # append to representations list\n",
    "            view1_representations.append(x_1)\n",
    "            view2_representations.append(x_2)\n",
    "        \n",
    "        return torch.stack(view1_representations), torch.stack(view2_representations)\n",
    "\n",
    "    def head(self, x, mult_reps):\n",
    "        \"\"\"\n",
    "        calculates output of the head if it exists, i.e. if n_head_layer>0\n",
    "        returns multiple representation layers if asked for by mult_reps = True\n",
    "        input:  x shape=(batchsize, model_dim)\n",
    "                mult_reps boolean\n",
    "        output: reps shape=(batchsize, output_dim)                  for mult_reps=False\n",
    "                reps shape=(batchsize, number_of_reps, output_dim)  for mult_reps=True\n",
    "        \"\"\"\n",
    "        relu = nn.ReLU()\n",
    "        # return representations from multiple layers for evaluation\n",
    "        if mult_reps == True:\n",
    "            if self.n_head_layers > 0:\n",
    "                reps = torch.empty(x.shape[0], self.n_head_layers + 1, self.output_dim)\n",
    "                reps[:, 0] = x\n",
    "                for i, layer in enumerate(self.head_layers):\n",
    "                    # only apply layer norm on head if chosen\n",
    "                    if self.head_norm:\n",
    "                        x = self.norm_layers[i](x)\n",
    "                    x = relu(x)\n",
    "                    x = layer(x)\n",
    "                    reps[:, i + 1] = x\n",
    "                # shape (n_head_layers, output_dim)\n",
    "                return reps\n",
    "            # no head exists -> just return x in a list with dimension 1\n",
    "            else:\n",
    "                reps = x[:, None, :]\n",
    "                # shape (batchsize, 1, model_dim)\n",
    "                return reps\n",
    "        # return only last representation for contrastive loss\n",
    "        else:\n",
    "            for i, layer in enumerate(\n",
    "                self.head_layers\n",
    "            ):  # will do nothing if n_head_layers is 0\n",
    "                if self.head_norm:\n",
    "                    x = self.norm_layers[i](x)\n",
    "                x = relu(x)\n",
    "                x = layer(x)\n",
    "            # shape either (model_dim) if no head, or (output_dim) if head exists\n",
    "            return x"
   ]
  },
  {
   "cell_type": "code",
   "execution_count": 15,
   "metadata": {
    "ExecuteTime": {
     "end_time": "2023-07-19T21:11:51.856443Z",
     "start_time": "2023-07-19T21:11:51.846507Z"
    },
    "scrolled": true
   },
   "outputs": [],
   "source": [
    "class VICReg(nn.Module):\n",
    "    def __init__(self, encoder, decoder):\n",
    "        super(VICReg, self).__init__()\n",
    "        self.encoder = encoder\n",
    "        self.decoder = decoder\n",
    "\n",
    "        self.augmentation = event_augmentation\n",
    "        self.device = device\n",
    "\n",
    "    def forward(self, event):\n",
    "        # seperate the two views\n",
    "        view1, view2 = self.augmentation(event, self.device)\n",
    "\n",
    "        # encode to retrieve the representations\n",
    "        view1_representations, view2_representations = self.encoder(view1, view2)\n",
    "#         print(f\"view 1 representations: {view1_representations}\")\n",
    "#         print(f\"view 2 representations: {view2_representations}\")\n",
    "\n",
    "        # simple MLP decoder\n",
    "        view1_embeddings = self.decoder(view1_representations)\n",
    "        view2_embeddings = self.decoder(view2_representations)\n",
    "\n",
    "        # global pooling to be able to compute a loss between views of different dimensionalities\n",
    "#         view1_embeddings = global_mean_pool(view1_embeddings, view1.batch)\n",
    "#         view2_embeddings = global_mean_pool(view2_embeddings, view2.batch)\n",
    "\n",
    "        return view1_embeddings, view2_embeddings\n",
    "\n",
    "\n",
    "class ENCODER(nn.Module):\n",
    "    \"\"\"The Encoder part of VICReg which attempts to learn useful latent representations of the two views.\"\"\"\n",
    "\n",
    "    def __init__(\n",
    "        self,\n",
    "        input_dim,\n",
    "        width=126,\n",
    "        embedding_dim=34,\n",
    "        num_convs=2,\n",
    "    ):\n",
    "        super(ENCODER, self).__init__()\n",
    "\n",
    "        self.act = nn.ELU\n",
    "\n",
    "        # 1. same MLP for each view\n",
    "        self.nn1 = nn.Sequential(\n",
    "            nn.Linear(input_dim, width),\n",
    "            self.act(),\n",
    "            nn.Linear(width, width),\n",
    "            self.act(),\n",
    "            nn.Linear(width, width),\n",
    "            self.act(),\n",
    "            nn.Linear(width, embedding_dim),\n",
    "        )\n",
    "        self.nn2 = self.nn1\n",
    "\n",
    "        # 2. same GNN for each view\n",
    "        self.convs = nn.ModuleList()\n",
    "        for i in range(num_convs):\n",
    "            self.convs.append(\n",
    "                GravNetConv(\n",
    "                    embedding_dim,\n",
    "                    embedding_dim,\n",
    "                    space_dimensions=4,\n",
    "                    propagate_dimensions=22,\n",
    "                    k=8,\n",
    "                )\n",
    "            )\n",
    "\n",
    "    def forward(self, view1, view2):\n",
    "        view1_representations = self.nn1(view1.x.float())\n",
    "        view2_representations = self.nn2(view2.x.float())\n",
    "\n",
    "        # perform a series of graph convolutions\n",
    "        for num, conv in enumerate(self.convs):\n",
    "            view1_representations = conv(view1_representations, view1.batch)\n",
    "            view2_representations = conv(view2_representations, view2.batch)\n",
    "\n",
    "        return view1_representations, view2_representations\n",
    "\n",
    "\n",
    "class DECODER(nn.Module):\n",
    "    \"\"\"The Decoder part of VICReg which attempts to expand the learned latent representations\n",
    "    of the two views into a space where a loss can be computed.\"\"\"\n",
    "\n",
    "    def __init__(\n",
    "        self,\n",
    "        embedding_dim=34,\n",
    "        width=126,\n",
    "        output_dim=200,\n",
    "    ):\n",
    "        super(DECODER, self).__init__()\n",
    "\n",
    "        self.act = nn.ELU\n",
    "\n",
    "        # DECODER\n",
    "        self.expander = nn.Sequential(\n",
    "            nn.Linear(embedding_dim, width),\n",
    "            self.act(),\n",
    "            nn.Linear(width, width),\n",
    "            self.act(),\n",
    "            nn.Linear(width, width),\n",
    "            self.act(),\n",
    "            nn.Linear(width, output_dim),\n",
    "        )\n",
    "\n",
    "    def forward(self, x):\n",
    "        return self.expander(x)\n"
   ]
  },
  {
   "cell_type": "code",
   "execution_count": 16,
   "metadata": {
    "ExecuteTime": {
     "end_time": "2023-07-19T21:11:52.953473Z",
     "start_time": "2023-07-19T21:11:51.858879Z"
    }
   },
   "outputs": [
    {
     "data": {
      "text/plain": [
       "VICReg(\n",
       "  (encoder): Transformer(\n",
       "    (embedding): Linear(in_features=7, out_features=1000, bias=True)\n",
       "    (transformer): TransformerEncoder(\n",
       "      (layers): ModuleList(\n",
       "        (0): TransformerEncoderLayer(\n",
       "          (self_attn): MultiheadAttention(\n",
       "            (out_proj): NonDynamicallyQuantizableLinear(in_features=1000, out_features=1000, bias=True)\n",
       "          )\n",
       "          (linear1): Linear(in_features=1000, out_features=1000, bias=True)\n",
       "          (dropout): Dropout(p=0.1, inplace=False)\n",
       "          (linear2): Linear(in_features=1000, out_features=1000, bias=True)\n",
       "          (norm1): LayerNorm((1000,), eps=1e-05, elementwise_affine=True)\n",
       "          (norm2): LayerNorm((1000,), eps=1e-05, elementwise_affine=True)\n",
       "          (dropout1): Dropout(p=0.1, inplace=False)\n",
       "          (dropout2): Dropout(p=0.1, inplace=False)\n",
       "        )\n",
       "        (1): TransformerEncoderLayer(\n",
       "          (self_attn): MultiheadAttention(\n",
       "            (out_proj): NonDynamicallyQuantizableLinear(in_features=1000, out_features=1000, bias=True)\n",
       "          )\n",
       "          (linear1): Linear(in_features=1000, out_features=1000, bias=True)\n",
       "          (dropout): Dropout(p=0.1, inplace=False)\n",
       "          (linear2): Linear(in_features=1000, out_features=1000, bias=True)\n",
       "          (norm1): LayerNorm((1000,), eps=1e-05, elementwise_affine=True)\n",
       "          (norm2): LayerNorm((1000,), eps=1e-05, elementwise_affine=True)\n",
       "          (dropout1): Dropout(p=0.1, inplace=False)\n",
       "          (dropout2): Dropout(p=0.1, inplace=False)\n",
       "        )\n",
       "        (2): TransformerEncoderLayer(\n",
       "          (self_attn): MultiheadAttention(\n",
       "            (out_proj): NonDynamicallyQuantizableLinear(in_features=1000, out_features=1000, bias=True)\n",
       "          )\n",
       "          (linear1): Linear(in_features=1000, out_features=1000, bias=True)\n",
       "          (dropout): Dropout(p=0.1, inplace=False)\n",
       "          (linear2): Linear(in_features=1000, out_features=1000, bias=True)\n",
       "          (norm1): LayerNorm((1000,), eps=1e-05, elementwise_affine=True)\n",
       "          (norm2): LayerNorm((1000,), eps=1e-05, elementwise_affine=True)\n",
       "          (dropout1): Dropout(p=0.1, inplace=False)\n",
       "          (dropout2): Dropout(p=0.1, inplace=False)\n",
       "        )\n",
       "        (3): TransformerEncoderLayer(\n",
       "          (self_attn): MultiheadAttention(\n",
       "            (out_proj): NonDynamicallyQuantizableLinear(in_features=1000, out_features=1000, bias=True)\n",
       "          )\n",
       "          (linear1): Linear(in_features=1000, out_features=1000, bias=True)\n",
       "          (dropout): Dropout(p=0.1, inplace=False)\n",
       "          (linear2): Linear(in_features=1000, out_features=1000, bias=True)\n",
       "          (norm1): LayerNorm((1000,), eps=1e-05, elementwise_affine=True)\n",
       "          (norm2): LayerNorm((1000,), eps=1e-05, elementwise_affine=True)\n",
       "          (dropout1): Dropout(p=0.1, inplace=False)\n",
       "          (dropout2): Dropout(p=0.1, inplace=False)\n",
       "        )\n",
       "      )\n",
       "    )\n",
       "    (head_layers): ModuleList(\n",
       "      (0): Linear(in_features=1000, out_features=1000, bias=True)\n",
       "      (1): Linear(in_features=1000, out_features=1000, bias=True)\n",
       "    )\n",
       "  )\n",
       "  (decoder): DECODER(\n",
       "    (expander): Sequential(\n",
       "      (0): Linear(in_features=1000, out_features=126, bias=True)\n",
       "      (1): ELU(alpha=1.0)\n",
       "      (2): Linear(in_features=126, out_features=126, bias=True)\n",
       "      (3): ELU(alpha=1.0)\n",
       "      (4): Linear(in_features=126, out_features=126, bias=True)\n",
       "      (5): ELU(alpha=1.0)\n",
       "      (6): Linear(in_features=126, out_features=200, bias=True)\n",
       "    )\n",
       "  )\n",
       ")"
      ]
     },
     "execution_count": 16,
     "metadata": {},
     "output_type": "execute_result"
    }
   ],
   "source": [
    "# GravNet based\n",
    "# vicreg_encoder = ENCODER(input_dim, embedding_dim=34)\n",
    "# vicreg_decoder = DECODER(embedding_dim=34, output_dim=200)\n",
    "\n",
    "# Transformer based\n",
    "vicreg_encoder = Transformer()\n",
    "vicreg_decoder = DECODER(embedding_dim=1000, output_dim=200)\n",
    "\n",
    "vicreg = VICReg(vicreg_encoder, vicreg_decoder)\n",
    "vicreg.to(device)"
   ]
  },
  {
   "cell_type": "markdown",
   "metadata": {},
   "source": [
    "# Setup the loss terms"
   ]
  },
  {
   "cell_type": "code",
   "execution_count": 17,
   "metadata": {
    "ExecuteTime": {
     "end_time": "2023-07-19T21:11:52.965468Z",
     "start_time": "2023-07-19T21:11:52.955990Z"
    }
   },
   "outputs": [],
   "source": [
    "def off_diagonal(x):\n",
    "    \"\"\"Copied from VICReg paper github https://github.com/facebookresearch/vicreg/\"\"\"\n",
    "    n, m = x.shape\n",
    "    assert n == m\n",
    "    return x.flatten()[:-1].view(n - 1, n + 1)[:, 1:].flatten()\n",
    "\n",
    "\n",
    "class CovLoss(nn.Module):\n",
    "    def forward(self, view1, view2):\n",
    "        N = view1.size(0)  # batch size\n",
    "        D = view1.size(1)  # dim of representations\n",
    "\n",
    "        view1 = view1 - view1.mean(dim=0)\n",
    "        view2 = view2 - view2.mean(dim=0)\n",
    "\n",
    "        cov_view1 = (view1.T @ view1) / (N - 1)\n",
    "        cov_view2 = (view2.T @ view2) / (N - 1)\n",
    "\n",
    "        loss = off_diagonal(cov_view1).pow_(2).sum().div(D) + off_diagonal(cov_view2).pow_(2).sum().div(D)\n",
    "        return loss\n",
    "\n",
    "\n",
    "class VarLoss(nn.Module):\n",
    "    def forward(self, view1, view2):\n",
    "        view1 = view1 - view1.mean(dim=0)\n",
    "        view2 = view2 - view2.mean(dim=0)\n",
    "\n",
    "        # variance loss\n",
    "        std_view1 = torch.sqrt(view1.var(dim=0) + 1e-10)\n",
    "        std_view2 = torch.sqrt(view2.var(dim=0) + 1e-10)\n",
    "\n",
    "        loss = torch.mean(F.relu(1 - std_view1)) / 2 + torch.mean(F.relu(1 - std_view2)) / 2\n",
    "        return loss"
   ]
  },
  {
   "cell_type": "code",
   "execution_count": 18,
   "metadata": {
    "ExecuteTime": {
     "end_time": "2023-07-19T21:11:52.972447Z",
     "start_time": "2023-07-19T21:11:52.967423Z"
    }
   },
   "outputs": [],
   "source": [
    "crit_invar = nn.MSELoss()\n",
    "crit_var = VarLoss()\n",
    "crit_cov = CovLoss()\n",
    "\n",
    "max_var = 1e-5 * batch_size\n",
    "max_cov = 50 * batch_size\n",
    "\n",
    "constraints = []\n",
    "constraints.append(mdmm.MaxConstraint(lambda: crit_var(view1_embeddings, view2_embeddings), max_var))\n",
    "constraints.append(mdmm.MaxConstraint(lambda: crit_cov(view1_embeddings, view2_embeddings), max_cov, scale=1e4))\n",
    "\n",
    "mdmm_module = mdmm.MDMM(constraints)\n",
    "optimizer = mdmm_module.make_optimizer(vicreg.parameters(), lr=1e-4)"
   ]
  },
  {
   "cell_type": "markdown",
   "metadata": {},
   "source": [
    "# Run a training loop"
   ]
  },
  {
   "cell_type": "code",
   "execution_count": 19,
   "metadata": {
    "ExecuteTime": {
     "end_time": "2023-07-19T21:15:26.786901Z",
     "start_time": "2023-07-19T21:11:52.974244Z"
    }
   },
   "outputs": [
    {
     "name": "stdout",
     "output_type": "stream",
     "text": [
      "view1_embeddings size: torch.Size([128, 200])\n",
      "constrained invariance loss: 9682.63\n",
      "view1_embeddings size: torch.Size([128, 200])\n",
      "constrained invariance loss: 8885.83\n",
      "view1_embeddings size: torch.Size([128, 200])\n",
      "constrained invariance loss: 14480.33\n",
      "view1_embeddings size: torch.Size([128, 200])\n",
      "constrained invariance loss: 8904.89\n",
      "view1_embeddings size: torch.Size([128, 200])\n",
      "constrained invariance loss: 6962.13\n",
      "view1_embeddings size: torch.Size([128, 200])\n",
      "constrained invariance loss: 5660.12\n",
      "view1_embeddings size: torch.Size([128, 200])\n",
      "constrained invariance loss: 5219.75\n",
      "view1_embeddings size: torch.Size([128, 200])\n",
      "constrained invariance loss: 4488.83\n",
      "view1_embeddings size: torch.Size([128, 200])\n",
      "constrained invariance loss: 3830.41\n",
      "view1_embeddings size: torch.Size([128, 200])\n",
      "constrained invariance loss: 3981.82\n",
      "view1_embeddings size: torch.Size([128, 200])\n",
      "constrained invariance loss: 2925.83\n",
      "view1_embeddings size: torch.Size([128, 200])\n",
      "constrained invariance loss: 2705.58\n",
      "view1_embeddings size: torch.Size([128, 200])\n",
      "constrained invariance loss: 2609.91\n",
      "view1_embeddings size: torch.Size([128, 200])\n",
      "constrained invariance loss: 2792.86\n",
      "view1_embeddings size: torch.Size([128, 200])\n",
      "constrained invariance loss: 2991.51\n",
      "view1_embeddings size: torch.Size([128, 200])\n",
      "constrained invariance loss: 2066.26\n",
      "view1_embeddings size: torch.Size([128, 200])\n",
      "constrained invariance loss: 2194.85\n",
      "view1_embeddings size: torch.Size([128, 200])\n",
      "constrained invariance loss: 2195.67\n",
      "view1_embeddings size: torch.Size([128, 200])\n",
      "constrained invariance loss: 2720.44\n",
      "view1_embeddings size: torch.Size([128, 200])\n",
      "constrained invariance loss: 2202.57\n",
      "view1_embeddings size: torch.Size([128, 200])\n",
      "constrained invariance loss: 2366.38\n",
      "view1_embeddings size: torch.Size([128, 200])\n",
      "constrained invariance loss: 2417.24\n",
      "view1_embeddings size: torch.Size([128, 200])\n",
      "constrained invariance loss: 1935.33\n",
      "view1_embeddings size: torch.Size([128, 200])\n",
      "constrained invariance loss: 2065.19\n",
      "view1_embeddings size: torch.Size([128, 200])\n",
      "constrained invariance loss: 2002.26\n",
      "view1_embeddings size: torch.Size([128, 200])\n",
      "constrained invariance loss: 2421.63\n",
      "view1_embeddings size: torch.Size([128, 200])\n",
      "constrained invariance loss: 1829.94\n",
      "view1_embeddings size: torch.Size([128, 200])\n",
      "constrained invariance loss: 2087.32\n",
      "view1_embeddings size: torch.Size([128, 200])\n",
      "constrained invariance loss: 2224.09\n",
      "view1_embeddings size: torch.Size([128, 200])\n",
      "constrained invariance loss: 1905.52\n",
      "view1_embeddings size: torch.Size([128, 200])\n",
      "constrained invariance loss: 1778.48\n",
      "view1_embeddings size: torch.Size([128, 200])\n",
      "constrained invariance loss: 2451.16\n",
      "view1_embeddings size: torch.Size([128, 200])\n",
      "constrained invariance loss: 2823.39\n",
      "view1_embeddings size: torch.Size([128, 200])\n",
      "constrained invariance loss: 1706.85\n",
      "view1_embeddings size: torch.Size([128, 200])\n",
      "constrained invariance loss: 2477.25\n",
      "view1_embeddings size: torch.Size([128, 200])\n",
      "constrained invariance loss: 2215.69\n",
      "view1_embeddings size: torch.Size([128, 200])\n",
      "constrained invariance loss: 2139.83\n",
      "view1_embeddings size: torch.Size([128, 200])\n",
      "constrained invariance loss: 2008.80\n",
      "view1_embeddings size: torch.Size([128, 200])\n",
      "constrained invariance loss: 1783.15\n",
      "view1_embeddings size: torch.Size([128, 200])\n",
      "constrained invariance loss: 1778.27\n",
      "view1_embeddings size: torch.Size([128, 200])\n",
      "constrained invariance loss: 1754.76\n",
      "view1_embeddings size: torch.Size([128, 200])\n",
      "constrained invariance loss: 2285.49\n",
      "view1_embeddings size: torch.Size([128, 200])\n",
      "constrained invariance loss: 1856.13\n",
      "view1_embeddings size: torch.Size([128, 200])\n",
      "constrained invariance loss: 1841.96\n",
      "view1_embeddings size: torch.Size([128, 200])\n",
      "constrained invariance loss: 1523.32\n",
      "view1_embeddings size: torch.Size([128, 200])\n",
      "constrained invariance loss: 1598.97\n",
      "view1_embeddings size: torch.Size([128, 200])\n",
      "constrained invariance loss: 1329.34\n",
      "view1_embeddings size: torch.Size([128, 200])\n",
      "constrained invariance loss: 1711.89\n",
      "view1_embeddings size: torch.Size([128, 200])\n",
      "constrained invariance loss: 1541.44\n",
      "view1_embeddings size: torch.Size([128, 200])\n",
      "constrained invariance loss: 1343.56\n",
      "view1_embeddings size: torch.Size([128, 200])\n",
      "constrained invariance loss: 1199.77\n",
      "view1_embeddings size: torch.Size([128, 200])\n",
      "constrained invariance loss: 1044.72\n",
      "view1_embeddings size: torch.Size([128, 200])\n",
      "constrained invariance loss: 1210.43\n",
      "view1_embeddings size: torch.Size([128, 200])\n",
      "constrained invariance loss: 1107.53\n",
      "view1_embeddings size: torch.Size([128, 200])\n",
      "constrained invariance loss: 1217.26\n",
      "view1_embeddings size: torch.Size([128, 200])\n",
      "constrained invariance loss: 1308.36\n",
      "view1_embeddings size: torch.Size([128, 200])\n",
      "constrained invariance loss: 1124.59\n",
      "view1_embeddings size: torch.Size([128, 200])\n",
      "constrained invariance loss: 1121.52\n",
      "view1_embeddings size: torch.Size([128, 200])\n",
      "constrained invariance loss: 1146.96\n",
      "view1_embeddings size: torch.Size([128, 200])\n",
      "constrained invariance loss: 1112.84\n",
      "view1_embeddings size: torch.Size([128, 200])\n",
      "constrained invariance loss: 1034.83\n",
      "view1_embeddings size: torch.Size([128, 200])\n",
      "constrained invariance loss: 1065.06\n",
      "view1_embeddings size: torch.Size([128, 200])\n",
      "constrained invariance loss: 1701.85\n",
      "view1_embeddings size: torch.Size([128, 200])\n",
      "constrained invariance loss: 1101.56\n",
      "view1_embeddings size: torch.Size([128, 200])\n",
      "constrained invariance loss: 1160.35\n",
      "view1_embeddings size: torch.Size([128, 200])\n",
      "constrained invariance loss: 1344.73\n",
      "view1_embeddings size: torch.Size([128, 200])\n",
      "constrained invariance loss: 1158.12\n",
      "view1_embeddings size: torch.Size([128, 200])\n",
      "constrained invariance loss: 1249.54\n",
      "view1_embeddings size: torch.Size([128, 200])\n",
      "constrained invariance loss: 1128.18\n",
      "view1_embeddings size: torch.Size([128, 200])\n",
      "constrained invariance loss: 1011.21\n",
      "view1_embeddings size: torch.Size([128, 200])\n",
      "constrained invariance loss: 1042.98\n",
      "view1_embeddings size: torch.Size([128, 200])\n",
      "constrained invariance loss: 1403.47\n",
      "view1_embeddings size: torch.Size([128, 200])\n",
      "constrained invariance loss: 928.35\n",
      "view1_embeddings size: torch.Size([128, 200])\n",
      "constrained invariance loss: 1318.57\n",
      "view1_embeddings size: torch.Size([128, 200])\n",
      "constrained invariance loss: 880.85\n",
      "view1_embeddings size: torch.Size([128, 200])\n",
      "constrained invariance loss: 1325.31\n",
      "view1_embeddings size: torch.Size([128, 200])\n",
      "constrained invariance loss: 1337.33\n",
      "view1_embeddings size: torch.Size([128, 200])\n",
      "constrained invariance loss: 906.59\n",
      "view1_embeddings size: torch.Size([128, 200])\n",
      "constrained invariance loss: 1308.42\n",
      "view1_embeddings size: torch.Size([128, 200])\n",
      "constrained invariance loss: 1501.39\n",
      "view1_embeddings size: torch.Size([128, 200])\n",
      "constrained invariance loss: 1326.48\n",
      "view1_embeddings size: torch.Size([128, 200])\n",
      "constrained invariance loss: 1669.19\n",
      "view1_embeddings size: torch.Size([128, 200])\n",
      "constrained invariance loss: 1019.21\n",
      "view1_embeddings size: torch.Size([128, 200])\n",
      "constrained invariance loss: 1215.39\n",
      "view1_embeddings size: torch.Size([128, 200])\n",
      "constrained invariance loss: 1436.18\n",
      "view1_embeddings size: torch.Size([128, 200])\n",
      "constrained invariance loss: 1320.50\n",
      "view1_embeddings size: torch.Size([128, 200])\n",
      "constrained invariance loss: 1227.59\n",
      "view1_embeddings size: torch.Size([128, 200])\n",
      "constrained invariance loss: 1521.98\n",
      "view1_embeddings size: torch.Size([128, 200])\n",
      "constrained invariance loss: 1318.26\n",
      "view1_embeddings size: torch.Size([128, 200])\n",
      "constrained invariance loss: 1342.91\n",
      "view1_embeddings size: torch.Size([128, 200])\n",
      "constrained invariance loss: 1764.15\n",
      "view1_embeddings size: torch.Size([128, 200])\n",
      "constrained invariance loss: 1565.02\n",
      "view1_embeddings size: torch.Size([128, 200])\n",
      "constrained invariance loss: 1491.60\n",
      "view1_embeddings size: torch.Size([128, 200])\n",
      "constrained invariance loss: 1794.86\n",
      "view1_embeddings size: torch.Size([128, 200])\n",
      "constrained invariance loss: 1743.62\n",
      "view1_embeddings size: torch.Size([128, 200])\n",
      "constrained invariance loss: 1526.44\n",
      "view1_embeddings size: torch.Size([128, 200])\n",
      "constrained invariance loss: 1388.62\n",
      "view1_embeddings size: torch.Size([128, 200])\n",
      "constrained invariance loss: 1338.99\n",
      "view1_embeddings size: torch.Size([128, 200])\n",
      "constrained invariance loss: 1105.40\n"
     ]
    },
    {
     "name": "stdout",
     "output_type": "stream",
     "text": [
      "view1_embeddings size: torch.Size([128, 200])\n",
      "constrained invariance loss: 1791.62\n",
      "view1_embeddings size: torch.Size([128, 200])\n",
      "constrained invariance loss: 1141.43\n"
     ]
    }
   ],
   "source": [
    "losses_inv, losses_var, losses_cov, losses_reg = [], [], [], []\n",
    "\n",
    "for i, batch in enumerate(loader):\n",
    "    print(f\"batch {i}\")\n",
    "    # run VICReg forward pass to get the embeddings\n",
    "    view1_embeddings, view2_embeddings = vicreg(batch.to(device))\n",
    "    print(f\"view1_embeddings size: {view1_embeddings.size()}\")\n",
    "\n",
    "    # compute the invariance loss which is contrained by the other loss terms\n",
    "    loss = batch_size * crit_invar(view1_embeddings, view2_embeddings)\n",
    "#     print(f\"invariance loss: {loss:.2f}\")\n",
    "    losses_inv.append(loss.detach().item())\n",
    "    loss_var = batch_size * crit_var(view1_embeddings, view2_embeddings)\n",
    "#     print(f\"variance loss: {loss_var:.2f}\")\n",
    "    losses_var.append(loss_var.detach().item())\n",
    "    loss_cov = batch_size * crit_cov(view1_embeddings, view2_embeddings)\n",
    "#     print(f\"covariance loss: {loss_cov:.2f}\")\n",
    "    losses_cov.append(loss_cov.detach().item())\n",
    "#     print(f\"max var: {max_var * 1e4}\")\n",
    "#     print(f\"max cov: {max_cov * 1e4}\")\n",
    "\n",
    "    mdmm_return = mdmm_module(loss)\n",
    "\n",
    "    # backprop\n",
    "    for param in vicreg.parameters():\n",
    "        param.grad = None\n",
    "    mdmm_return.value.backward()\n",
    "#     print(mdmm_return)\n",
    "\n",
    "    optimizer.step()\n",
    "#     print(f\"constrained invariance loss: {loss.detach():.2f}\")\n",
    "    print(f\"constrained invariance loss: {loss.detach():.2f}\")\n",
    "    losses_reg.append(loss.detach().item())\n",
    "\n",
    "    if i == 100:\n",
    "        break\n",
    "#     print(\"-----------\")"
   ]
  },
  {
   "cell_type": "code",
   "execution_count": 20,
   "metadata": {
    "ExecuteTime": {
     "end_time": "2023-07-19T21:15:26.809318Z",
     "start_time": "2023-07-19T21:15:26.792185Z"
    }
   },
   "outputs": [
    {
     "name": "stdout",
     "output_type": "stream",
     "text": [
      "view1_embeddings size: torch.Size([128, 200])\n"
     ]
    }
   ],
   "source": [
    "print(f\"view1_embeddings size: {view1_embeddings.size()}\")"
   ]
  },
  {
   "cell_type": "code",
   "execution_count": 21,
   "metadata": {
    "ExecuteTime": {
     "end_time": "2023-07-19T21:15:27.275778Z",
     "start_time": "2023-07-19T21:15:26.811201Z"
    }
   },
   "outputs": [
    {
     "name": "stdout",
     "output_type": "stream",
     "text": [
      "\n",
      "==============NVSMI LOG==============\n",
      "\n",
      "Timestamp                                 : Wed Jul 19 21:15:27 2023\n",
      "Driver Version                            : 515.65.01\n",
      "CUDA Version                              : 11.7\n",
      "\n",
      "Attached GPUs                             : 1\n",
      "GPU 00000000:01:00.0\n",
      "    Product Name                          : NVIDIA A10\n",
      "    Product Brand                         : NVIDIA\n",
      "    Product Architecture                  : Ampere\n",
      "    Display Mode                          : Disabled\n",
      "    Display Active                        : Disabled\n",
      "    Persistence Mode                      : Disabled\n",
      "    MIG Mode\n",
      "        Current                           : N/A\n",
      "        Pending                           : N/A\n",
      "    Accounting Mode                       : Disabled\n",
      "    Accounting Mode Buffer Size           : 4000\n",
      "    Driver Model\n",
      "        Current                           : N/A\n",
      "        Pending                           : N/A\n",
      "    Serial Number                         : 1565021003080\n",
      "    GPU UUID                              : GPU-12310812-a4dc-2642-fc6d-0b2570f2266d\n",
      "    Minor Number                          : 2\n",
      "    VBIOS Version                         : 94.02.5C.00.04\n",
      "    MultiGPU Board                        : No\n",
      "    Board ID                              : 0x100\n",
      "    GPU Part Number                       : 900-2G133-0020-100\n",
      "    Module ID                             : 0\n",
      "    Inforom Version\n",
      "        Image Version                     : G133.0215.00.06\n",
      "        OEM Object                        : 2.0\n",
      "        ECC Object                        : 6.16\n",
      "        Power Management Object           : N/A\n",
      "    GPU Operation Mode\n",
      "        Current                           : N/A\n",
      "        Pending                           : N/A\n",
      "    GSP Firmware Version                  : 515.65.01\n",
      "    GPU Virtualization Mode\n",
      "        Virtualization Mode               : None\n",
      "        Host VGPU Mode                    : N/A\n",
      "    IBMNPU\n",
      "        Relaxed Ordering Mode             : N/A\n",
      "    PCI\n",
      "        Bus                               : 0x01\n",
      "        Device                            : 0x00\n",
      "        Domain                            : 0x0000\n",
      "        Device Id                         : 0x223610DE\n",
      "        Bus Id                            : 00000000:01:00.0\n",
      "        Sub System Id                     : 0x148210DE\n",
      "        GPU Link Info\n",
      "            PCIe Generation\n",
      "                Max                       : 4\n",
      "                Current                   : 4\n",
      "            Link Width\n",
      "                Max                       : 16x\n",
      "                Current                   : 16x\n",
      "        Bridge Chip\n",
      "            Type                          : N/A\n",
      "            Firmware                      : N/A\n",
      "        Replays Since Reset               : 0\n",
      "        Replay Number Rollovers           : 0\n",
      "        Tx Throughput                     : 0 KB/s\n",
      "        Rx Throughput                     : 0 KB/s\n",
      "    Fan Speed                             : 0 %\n",
      "    Performance State                     : P0\n",
      "    Clocks Throttle Reasons\n",
      "        Idle                              : Not Active\n",
      "        Applications Clocks Setting       : Not Active\n",
      "        SW Power Cap                      : Not Active\n",
      "        HW Slowdown                       : Not Active\n",
      "            HW Thermal Slowdown           : Not Active\n",
      "            HW Power Brake Slowdown       : Not Active\n",
      "        Sync Boost                        : Not Active\n",
      "        SW Thermal Slowdown               : Not Active\n",
      "        Display Clock Setting             : Not Active\n",
      "    FB Memory Usage\n",
      "        Total                             : 23028 MiB\n",
      "        Reserved                          : 435 MiB\n",
      "        Used                              : 3875 MiB\n",
      "        Free                              : 18716 MiB\n",
      "    BAR1 Memory Usage\n",
      "        Total                             : 32768 MiB\n",
      "        Used                              : 4 MiB\n",
      "        Free                              : 32764 MiB\n",
      "    Compute Mode                          : Default\n",
      "    Utilization\n",
      "        Gpu                               : 0 %\n",
      "        Memory                            : 0 %\n",
      "        Encoder                           : 0 %\n",
      "        Decoder                           : 0 %\n",
      "    Encoder Stats\n",
      "        Active Sessions                   : 0\n",
      "        Average FPS                       : 0\n",
      "        Average Latency                   : 0\n",
      "    FBC Stats\n",
      "        Active Sessions                   : 0\n",
      "        Average FPS                       : 0\n",
      "        Average Latency                   : 0\n",
      "    Ecc Mode\n",
      "        Current                           : Enabled\n",
      "        Pending                           : Enabled\n",
      "    ECC Errors\n",
      "        Volatile\n",
      "            SRAM Correctable              : 0\n",
      "            SRAM Uncorrectable            : 0\n",
      "            DRAM Correctable              : 0\n",
      "            DRAM Uncorrectable            : 0\n",
      "        Aggregate\n",
      "            SRAM Correctable              : 0\n",
      "            SRAM Uncorrectable            : 0\n",
      "            DRAM Correctable              : 0\n",
      "            DRAM Uncorrectable            : 0\n",
      "    Retired Pages\n",
      "        Single Bit ECC                    : N/A\n",
      "        Double Bit ECC                    : N/A\n",
      "        Pending Page Blacklist            : N/A\n",
      "    Remapped Rows\n",
      "        Correctable Error                 : 0\n",
      "        Uncorrectable Error               : 0\n",
      "        Pending                           : No\n",
      "        Remapping Failure Occurred        : No\n",
      "        Bank Remap Availability Histogram\n",
      "            Max                           : 192 bank(s)\n",
      "            High                          : 0 bank(s)\n",
      "            Partial                       : 0 bank(s)\n",
      "            Low                           : 0 bank(s)\n",
      "            None                          : 0 bank(s)\n",
      "    Temperature\n",
      "        GPU Current Temp                  : 65 C\n",
      "        GPU Shutdown Temp                 : 101 C\n",
      "        GPU Slowdown Temp                 : 98 C\n",
      "        GPU Max Operating Temp            : 91 C\n",
      "        GPU Target Temperature            : N/A\n",
      "        Memory Current Temp               : N/A\n",
      "        Memory Max Operating Temp         : N/A\n",
      "    Power Readings\n",
      "        Power Management                  : Supported\n",
      "        Power Draw                        : 115.14 W\n",
      "        Power Limit                       : 150.00 W\n",
      "        Default Power Limit               : 150.00 W\n",
      "        Enforced Power Limit              : 150.00 W\n",
      "        Min Power Limit                   : 100.00 W\n",
      "        Max Power Limit                   : 150.00 W\n",
      "    Clocks\n",
      "        Graphics                          : 1695 MHz\n",
      "        SM                                : 1695 MHz\n",
      "        Memory                            : 6250 MHz\n",
      "        Video                             : 1485 MHz\n",
      "    Applications Clocks\n",
      "        Graphics                          : 1695 MHz\n",
      "        Memory                            : 6251 MHz\n",
      "    Default Applications Clocks\n",
      "        Graphics                          : 1695 MHz\n",
      "        Memory                            : 6251 MHz\n",
      "    Max Clocks\n",
      "        Graphics                          : 1695 MHz\n",
      "        SM                                : 1695 MHz\n",
      "        Memory                            : 6251 MHz\n",
      "        Video                             : 1575 MHz\n",
      "    Max Customer Boost Clocks\n",
      "        Graphics                          : 1695 MHz\n",
      "    Clock Policy\n",
      "        Auto Boost                        : N/A\n",
      "        Auto Boost Default                : N/A\n",
      "    Voltage\n",
      "        Graphics                          : 925.000 mV\n",
      "    Processes\n",
      "        GPU instance ID                   : N/A\n",
      "        Compute instance ID               : N/A\n",
      "        Process ID                        : 2172606\n",
      "            Type                          : C\n",
      "            Name                          : \n",
      "            Used GPU Memory               : 3873 MiB\n",
      "\n"
     ]
    }
   ],
   "source": [
    "!nvidia-smi -q"
   ]
  },
  {
   "cell_type": "code",
   "execution_count": 22,
   "metadata": {
    "ExecuteTime": {
     "end_time": "2023-07-19T21:15:27.693095Z",
     "start_time": "2023-07-19T21:15:27.279093Z"
    }
   },
   "outputs": [],
   "source": [
    "import matplotlib\n",
    "import matplotlib.pyplot as plt\n",
    "# plt.plot(losses)"
   ]
  },
  {
   "cell_type": "code",
   "execution_count": 23,
   "metadata": {
    "ExecuteTime": {
     "end_time": "2023-07-19T21:15:27.700603Z",
     "start_time": "2023-07-19T21:15:27.696029Z"
    }
   },
   "outputs": [
    {
     "name": "stdout",
     "output_type": "stream",
     "text": [
      "max var * 1e4: 12.8\n",
      "max cov * 1e4: 64000000.0\n"
     ]
    }
   ],
   "source": [
    "print(f\"max var * 1e4: {max_var * 1e4}\")\n",
    "print(f\"max cov * 1e4: {max_cov * 1e4}\")"
   ]
  },
  {
   "cell_type": "code",
   "execution_count": 24,
   "metadata": {
    "ExecuteTime": {
     "end_time": "2023-07-19T21:15:27.859295Z",
     "start_time": "2023-07-19T21:15:27.703307Z"
    }
   },
   "outputs": [
    {
     "data": {
      "text/plain": [
       "Text(0.5, 1.0, 'Unconstrained Invariance loss * 1e4')"
      ]
     },
     "execution_count": 24,
     "metadata": {},
     "output_type": "execute_result"
    },
    {
     "data": {
      "image/png": "[encoded data removed]",
      "text/plain": [
       "<Figure size 640x480 with 1 Axes>"
      ]
     },
     "metadata": {},
     "output_type": "display_data"
    }
   ],
   "source": [
    "plt.plot(losses_inv)\n",
    "plt.title(\"Unconstrained Invariance loss\")"
   ]
  },
  {
   "cell_type": "code",
   "execution_count": 25,
   "metadata": {
    "ExecuteTime": {
     "end_time": "2023-07-19T21:15:28.032229Z",
     "start_time": "2023-07-19T21:15:27.860748Z"
    }
   },
   "outputs": [
    {
     "data": {
      "text/plain": [
       "Text(0.5, 1.0, 'Variance loss * 1e4')"
      ]
     },
     "execution_count": 25,
     "metadata": {},
     "output_type": "execute_result"
    },
    {
     "data": {
      "image/png": "[encoded data removed]",
      "text/plain": [
       "<Figure size 640x480 with 1 Axes>"
      ]
     },
     "metadata": {},
     "output_type": "display_data"
    }
   ],
   "source": [
    "plt.plot(losses_var)\n",
    "plt.title(\"Variance loss\")"
   ]
  },
  {
   "cell_type": "code",
   "execution_count": 26,
   "metadata": {
    "ExecuteTime": {
     "end_time": "2023-07-19T21:15:28.190790Z",
     "start_time": "2023-07-19T21:15:28.033830Z"
    }
   },
   "outputs": [
    {
     "data": {
      "text/plain": [
       "Text(0.5, 1.0, 'Covariance loss * 1e4')"
      ]
     },
     "execution_count": 26,
     "metadata": {},
     "output_type": "execute_result"
    },
    {
     "data": {
      "image/png": "[encoded data removed]",
      "text/plain": [
       "<Figure size 640x480 with 1 Axes>"
      ]
     },
     "metadata": {},
     "output_type": "display_data"
    }
   ],
   "source": [
    "plt.plot(losses_cov)\n",
    "plt.title(\"Covariance loss\")"
   ]
  },
  {
   "cell_type": "code",
   "execution_count": 27,
   "metadata": {
    "ExecuteTime": {
     "end_time": "2023-07-19T21:15:28.349015Z",
     "start_time": "2023-07-19T21:15:28.192329Z"
    }
   },
   "outputs": [
    {
     "data": {
      "text/plain": [
       "Text(0.5, 1.0, 'Constrained Invariance loss * 1e4')"
      ]
     },
     "execution_count": 27,
     "metadata": {},
     "output_type": "execute_result"
    },
    {
     "data": {
      "image/png": "[encoded data removed]",
      "text/plain": [
       "<Figure size 640x480 with 1 Axes>"
      ]
     },
     "metadata": {},
     "output_type": "display_data"
    }
   ],
   "source": [
    "plt.plot(losses_reg)\n",
    "plt.title(\"Constrained Invariance loss\")"
   ]
  },
  {
   "cell_type": "code",
   "execution_count": null,
   "metadata": {},
   "outputs": [],
   "source": []
  }
 ],
 "metadata": {
  "kernelspec": {
   "display_name": "Python 3 (ipykernel)",
   "language": "python",
   "name": "python3"
  },
  "language_info": {
   "codemirror_mode": {
    "name": "ipython",
    "version": 3
   },
   "file_extension": ".py",
   "mimetype": "text/x-python",
   "name": "python",
   "nbconvert_exporter": "python",
   "pygments_lexer": "ipython3",
   "version": "3.10.10"
  },
  "vscode": {
   "interpreter": {
    "hash": "bd710be4164d8116e60481776a482d6ed163c0c31d42101b2cd55e4bfc6d2c5e"
   }
  }
 },
 "nbformat": 4,
 "nbformat_minor": 4
}
