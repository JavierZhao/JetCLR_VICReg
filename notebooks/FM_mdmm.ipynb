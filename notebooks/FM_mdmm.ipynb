{
 "cells": [
  {
   "cell_type": "markdown",
   "metadata": {},
   "source": [
    "# `mdmm` tutorial\n",
    "The purpose of this notebook is to guide you to train a model with a loss function of several parameters in a proper mathematical way. The idea comes from the paper [Constrained Differential Optimization](https://papers.nips.cc/paper/1987/file/a87ff679a2f3e71d9181a67b7542122c-Paper.pdf), and the implementation from the [mdmm package Github](https://github.com/crowsonkb/mdmm)\n",
    "\n",
    "The guide is best illustrated through the **[VICReg](https://arxiv.org/abs/2105.04906)** example where your input is split into two views and you are asked to minimize three loss terms: `variance`, `invariance` and `covariance`."
   ]
  },
  {
   "cell_type": "code",
   "execution_count": 53,
   "metadata": {
    "ExecuteTime": {
     "end_time": "2023-08-11T18:56:09.626986Z",
     "start_time": "2023-08-11T18:56:05.509775Z"
    }
   },
   "outputs": [
    {
     "name": "stdout",
     "output_type": "stream",
     "text": [
      "Requirement already satisfied: mdmm in /opt/conda/lib/python3.10/site-packages (0.1.3)\r\n",
      "Requirement already satisfied: torch>=1.7.1 in /opt/conda/lib/python3.10/site-packages (from mdmm) (1.12.1)\r\n",
      "Requirement already satisfied: typing_extensions in /opt/conda/lib/python3.10/site-packages (from torch>=1.7.1->mdmm) (4.4.0)\r\n"
     ]
    }
   ],
   "source": [
    "! pip install mdmm"
   ]
  },
  {
   "cell_type": "code",
   "execution_count": 54,
   "metadata": {
    "ExecuteTime": {
     "end_time": "2023-08-11T18:56:09.638325Z",
     "start_time": "2023-08-11T18:56:09.630813Z"
    }
   },
   "outputs": [
    {
     "name": "stdout",
     "output_type": "stream",
     "text": [
      "Will use NVIDIA GeForce GTX 1080 Ti\n"
     ]
    }
   ],
   "source": [
    "import warnings\n",
    "import numpy as np\n",
    "import mdmm\n",
    "import matplotlib\n",
    "import matplotlib.pyplot as plt\n",
    "import torch\n",
    "import torch.nn as nn\n",
    "import torch.nn.functional as F\n",
    "\n",
    "import copy\n",
    "import glob\n",
    "import os\n",
    "from pathlib import Path\n",
    "\n",
    "from torch.utils.data import DataLoader\n",
    "\n",
    "warnings.simplefilter(\"ignore\", UserWarning)\n",
    "\n",
    "# define the global base device\n",
    "if torch.cuda.device_count():\n",
    "    device = torch.device(\"cuda:0\")\n",
    "    print(f\"Will use {torch.cuda.get_device_name(device)}\")\n",
    "else:\n",
    "    device = \"cpu\"\n",
    "    print(\"Will use cpu\")"
   ]
  },
  {
   "cell_type": "code",
   "execution_count": 55,
   "metadata": {
    "ExecuteTime": {
     "end_time": "2023-08-11T18:56:09.656892Z",
     "start_time": "2023-08-11T18:56:09.641119Z"
    }
   },
   "outputs": [],
   "source": [
    "# !nvidia-smi -q"
   ]
  },
  {
   "cell_type": "markdown",
   "metadata": {},
   "source": [
    "Load a processed `.pt` clic file."
   ]
  },
  {
   "cell_type": "code",
   "execution_count": 56,
   "metadata": {
    "ExecuteTime": {
     "end_time": "2023-08-11T18:56:10.245197Z",
     "start_time": "2023-08-11T18:56:09.663197Z"
    }
   },
   "outputs": [
    {
     "name": "stdout",
     "output_type": "stream",
     "text": [
      "num of clic events 100001\n"
     ]
    }
   ],
   "source": [
    "data = torch.load(\"/../ssl-jet-vol-v2/toptagging/train/processed/3_features/data_0.pt\")\n",
    "print(f\"num of clic events {len(data)}\")"
   ]
  },
  {
   "cell_type": "code",
   "execution_count": 57,
   "metadata": {
    "ExecuteTime": {
     "end_time": "2023-08-11T18:56:10.297176Z",
     "start_time": "2023-08-11T18:56:10.249031Z"
    }
   },
   "outputs": [
    {
     "name": "stdout",
     "output_type": "stream",
     "text": [
      "A single event: \n",
      " torch.Size([128, 3, 50])\n"
     ]
    }
   ],
   "source": [
    "# build a data loader\n",
    "batch_size = 128\n",
    "\n",
    "loader = DataLoader(data, batch_size, shuffle=True)\n",
    "for batch in loader:\n",
    "    print(f\"A single event: \\n {batch.shape}\")\n",
    "    break"
   ]
  },
  {
   "cell_type": "markdown",
   "metadata": {},
   "source": [
    "# Preparation"
   ]
  },
  {
   "cell_type": "code",
   "execution_count": 58,
   "metadata": {
    "ExecuteTime": {
     "end_time": "2023-08-11T18:56:10.311147Z",
     "start_time": "2023-08-11T18:56:10.300045Z"
    }
   },
   "outputs": [],
   "source": [
    "from src.models.jet_augs import *"
   ]
  },
  {
   "cell_type": "code",
   "execution_count": 59,
   "metadata": {
    "ExecuteTime": {
     "end_time": "2023-08-11T18:56:10.327689Z",
     "start_time": "2023-08-11T18:56:10.313027Z"
    }
   },
   "outputs": [],
   "source": [
    "def augmentation(batch, device=\"cpu\"):\n",
    "    \"\"\"\n",
    "    Takes events of the form Batch() and applies a series of augmentations. \n",
    "    The output will have the same shape as the input\n",
    "    \"\"\"\n",
    "    batch_aug = translate_jets(batch, device=device)\n",
    "    batch_aug = rotate_jets(batch_aug, device=device)\n",
    "    return batch_aug"
   ]
  },
  {
   "cell_type": "code",
   "execution_count": 60,
   "metadata": {
    "ExecuteTime": {
     "end_time": "2023-08-11T18:56:10.345466Z",
     "start_time": "2023-08-11T18:56:10.338744Z"
    }
   },
   "outputs": [],
   "source": [
    "def event_augmentation(batch, device=\"cpu\"):\n",
    "    \"\"\"\n",
    "    Takes events of the form Batch() and splits them into two Batch() objects representing the two views.\n",
    "\n",
    "    In this example, the two views are translated and then rotated by different amounts\n",
    "    \"\"\"\n",
    "    view1 = augmentation(batch, device=device)\n",
    "    view2 = augmentation(batch, device=device)\n",
    "\n",
    "    return view1, view2"
   ]
  },
  {
   "cell_type": "code",
   "execution_count": 61,
   "metadata": {
    "ExecuteTime": {
     "end_time": "2023-08-11T18:56:10.373906Z",
     "start_time": "2023-08-11T18:56:10.347502Z"
    }
   },
   "outputs": [],
   "source": [
    "# view1, view2 = event_augmentation(batch, device)\n",
    "# print(f\"view1: {view1}\")\n",
    "# print(f\"view2: {view2}\")"
   ]
  },
  {
   "cell_type": "code",
   "execution_count": 62,
   "metadata": {
    "ExecuteTime": {
     "end_time": "2023-08-11T18:56:10.444997Z",
     "start_time": "2023-08-11T18:56:10.382624Z"
    }
   },
   "outputs": [],
   "source": [
    "# view1.x"
   ]
  },
  {
   "cell_type": "code",
   "execution_count": 63,
   "metadata": {
    "ExecuteTime": {
     "end_time": "2023-08-11T18:56:10.460397Z",
     "start_time": "2023-08-11T18:56:10.448336Z"
    }
   },
   "outputs": [],
   "source": [
    "# print(view2[10])"
   ]
  },
  {
   "cell_type": "code",
   "execution_count": 64,
   "metadata": {
    "ExecuteTime": {
     "end_time": "2023-08-11T18:56:10.475142Z",
     "start_time": "2023-08-11T18:56:10.462201Z"
    }
   },
   "outputs": [],
   "source": [
    "# print(view1[0].x[:3])"
   ]
  },
  {
   "cell_type": "markdown",
   "metadata": {},
   "source": [
    "# Setup the VICReg model (Transformer-based)\n",
    "https://github.com/bmdillon/JetCLR/blob/main/scripts/modules/transformer.py"
   ]
  },
  {
   "cell_type": "code",
   "execution_count": 65,
   "metadata": {
    "ExecuteTime": {
     "end_time": "2023-08-11T18:56:10.490598Z",
     "start_time": "2023-08-11T18:56:10.477233Z"
    }
   },
   "outputs": [],
   "source": [
    "from src.models.transformer import Transformer"
   ]
  },
  {
   "cell_type": "code",
   "execution_count": 66,
   "metadata": {
    "ExecuteTime": {
     "end_time": "2023-08-11T18:56:10.516737Z",
     "start_time": "2023-08-11T18:56:10.493883Z"
    },
    "scrolled": true
   },
   "outputs": [],
   "source": [
    "class VICReg(nn.Module):\n",
    "    def __init__(self, args):\n",
    "        super().__init__()\n",
    "        self.args = args\n",
    "        self.num_features = int(\n",
    "            args.mlp.split(\"-\")[-1]\n",
    "        )  # size of the last layer of the MLP projector\n",
    "        self.x_transform = nn.Sequential(\n",
    "            nn.BatchNorm1d(args.x_inputs),\n",
    "            nn.Linear(args.x_inputs, args.transform_inputs),\n",
    "            nn.BatchNorm1d(args.transform_inputs),\n",
    "            nn.ReLU(),\n",
    "        )\n",
    "        self.y_transform = nn.Sequential(\n",
    "            nn.BatchNorm1d(args.y_inputs),\n",
    "            nn.Linear(args.y_inputs, args.transform_inputs),\n",
    "            nn.BatchNorm1d(args.transform_inputs),\n",
    "            nn.ReLU(),\n",
    "        )\n",
    "        self.augmentation = args.augmentation\n",
    "        self.x_backbone = args.x_backbone\n",
    "        self.y_backbone = args.y_backbone\n",
    "        self.N_x = self.x_backbone.input_dim\n",
    "        self.N_y = self.y_backbone.input_dim\n",
    "        self.embedding = args.Do\n",
    "        self.return_embedding = args.return_embedding\n",
    "        self.return_representation = args.return_representation\n",
    "        self.x_projector = Projector(args.mlp, self.embedding)\n",
    "        self.y_projector = (\n",
    "            self.x_projector if args.shared else copy.deepcopy(self.x_projector)\n",
    "        )\n",
    "\n",
    "    def forward(self, x):\n",
    "        \"\"\"\n",
    "        x -> x_aug -> (x_xform) -> x_rep -> x_emb\n",
    "        y -> y_aug -> (y_xform) -> y_rep -> y_emb\n",
    "        _aug: augmented\n",
    "        _xform: transformed by linear layer (skipped because it destroys the zero padding)\n",
    "        _rep: backbone representation\n",
    "        _emb: projected embedding\n",
    "        \"\"\"\n",
    "        x_aug, y_aug = self.augmentation(\n",
    "            self.args, x, self.args.device\n",
    "        )  # [batch_size, n_constit, 3]\n",
    "#         print(f\"x_aug contains nan: {contains_nan(x_aug)}\")\n",
    "#         print(f\"y_aug contains nan: {contains_nan(y_aug)}\")\n",
    "\n",
    "        # x_xform = self.x_transform.to(torch.double)(\n",
    "        #     x_aug.x.double()\n",
    "        # )  # [batch_size, n_constit, transform_inputs]?\n",
    "        # y_xform = self.y_transform.to(torch.double)(\n",
    "        #     y_aug.x.double()\n",
    "        # )  # [batch_size, n_constit, transform_inputs]?\n",
    "\n",
    "        x_rep = self.x_backbone(\n",
    "            x_aug, use_mask=self.args.mask, use_continuous_mask=self.args.cmask\n",
    "        )  # [batch_size, output_dim]\n",
    "        y_rep = self.y_backbone(\n",
    "            y_aug, use_mask=self.args.mask, use_continuous_mask=self.args.cmask\n",
    "        )  # [batch_size, output_dim]\n",
    "#         print(f\"x_rep contains nan: {contains_nan(x_rep)}\")\n",
    "#         print(f\"y_rep contains nan: {contains_nan(y_rep)}\")\n",
    "        if self.return_representation:\n",
    "            return x_rep, y_rep\n",
    "\n",
    "        x_emb = self.x_projector(x_rep)  # [batch_size, embedding_size]\n",
    "        y_emb = self.y_projector(y_rep)  # [batch_size, embedding_size]\n",
    "#         print(f\"x_emb contains nan: {contains_nan(x_emb)}\")\n",
    "#         print(f\"y_emb contains nan: {contains_nan(y_emb)}\")\n",
    "        if self.return_embedding:\n",
    "            return x_emb, y_emb\n",
    "        x = x_emb\n",
    "        y = y_emb\n",
    "        repr_loss = F.mse_loss(x, y)\n",
    "\n",
    "        x = x - x.mean(dim=0)\n",
    "        y = y - y.mean(dim=0)\n",
    "\n",
    "        std_x = torch.sqrt(x.var(dim=0) + 0.0001)\n",
    "        std_y = torch.sqrt(y.var(dim=0) + 0.0001)\n",
    "        std_loss = torch.mean(F.relu(1 - std_x)) / 2 + torch.mean(F.relu(1 - std_y)) / 2\n",
    "\n",
    "        cov_x = (x.T @ x) / (self.args.batch_size - 1)\n",
    "        cov_y = (y.T @ y) / (self.args.batch_size - 1)\n",
    "        cov_loss = off_diagonal(cov_x).pow_(2).sum().div(\n",
    "            self.num_features\n",
    "        ) + off_diagonal(cov_y).pow_(2).sum().div(self.num_features)\n",
    "\n",
    "        loss = (\n",
    "            self.args.sim_coeff * repr_loss\n",
    "            + self.args.std_coeff * std_loss\n",
    "            + self.args.cov_coeff * cov_loss\n",
    "        )\n",
    "        if args.return_all_losses:\n",
    "            return loss, repr_loss, std_loss, cov_loss\n",
    "        else:\n",
    "            return loss"
   ]
  },
  {
   "cell_type": "code",
   "execution_count": 67,
   "metadata": {
    "ExecuteTime": {
     "end_time": "2023-08-11T18:56:10.543270Z",
     "start_time": "2023-08-11T18:56:10.518640Z"
    }
   },
   "outputs": [],
   "source": [
    "def Projector(mlp, embedding):\n",
    "    mlp_spec = f\"{embedding}-{mlp}\"\n",
    "    layers = []\n",
    "    f = list(map(int, mlp_spec.split(\"-\")))\n",
    "    for i in range(len(f) - 2):\n",
    "        layers.append(nn.Linear(f[i], f[i + 1]))\n",
    "        layers.append(nn.BatchNorm1d(f[i + 1]))\n",
    "        layers.append(nn.ReLU())\n",
    "    layers.append(nn.Linear(f[-2], f[-1], bias=False))\n",
    "    return nn.Sequential(*layers)\n",
    "\n",
    "\n",
    "def off_diagonal(x):\n",
    "    n, m = x.shape\n",
    "    assert n == m\n",
    "    return x.flatten()[:-1].view(n - 1, n + 1)[:, 1:].flatten()\n",
    "\n",
    "\n",
    "def get_backbones(args):\n",
    "    x_backbone = Transformer(input_dim=args.x_inputs)\n",
    "    y_backbone = x_backbone if args.shared else copy.deepcopy(x_backbone)\n",
    "    return x_backbone, y_backbone\n",
    "\n",
    "\n",
    "def augmentation(args, x, device):\n",
    "    \"\"\"\n",
    "    Applies all the augmentations specified in the args\n",
    "    \"\"\"\n",
    "    # cropping to 50 particles is already done in data preprocessing\n",
    "    # crop all jets to a fixed number of constituents (default=50)\n",
    "#     x = crop_jets(x, args.nconstit)\n",
    "    x = rotate_jets(x, device)\n",
    "    y = x.clone()\n",
    "    if args.do_rotation:\n",
    "        y = rotate_jets(y, device)\n",
    "    if args.do_cf:\n",
    "        y = collinear_fill_jets(np.array(y.cpu()), device)\n",
    "        y = collinear_fill_jets(np.array(y.cpu()), device)\n",
    "    if args.do_ptd:\n",
    "        y = distort_jets(y, device, strength=args.ptst, pT_clip_min=args.ptcm)\n",
    "    if args.do_translation:\n",
    "        y = translate_jets(y, device, width=args.trsw)\n",
    "        x = translate_jets(x, device, width=args.trsw)\n",
    "    x = rescale_pts(x)  # [batch_size, 3, n_constit]\n",
    "    y = rescale_pts(y)  # [batch_size, 3, n_constit]\n",
    "    x = x.transpose(1, 2)  # [batch_size, 3, n_constit] -> [batch_size, n_constit, 3]\n",
    "    y = y.transpose(1, 2)  # [batch_size, 3, n_constit] -> [batch_size, n_constit, 3]\n",
    "    return x, y\n",
    "\n",
    "\n",
    "# load the datafiles\n",
    "def load_data(dataset_path, flag, n_files=-1):\n",
    "    data_files = glob.glob(f\"{dataset_path}/{flag}/processed/3_features/*\")\n",
    "\n",
    "    data = []\n",
    "    for i, file in enumerate(data_files):\n",
    "        data += torch.load(f\"{dataset_path}/{flag}/processed/3_features/data_{i}.pt\")\n",
    "        print(f\"--- loaded file {i} from `{flag}` directory\")\n",
    "        if n_files != -1 and i == n_files - 1:\n",
    "            break\n",
    "\n",
    "    return data"
   ]
  },
  {
   "cell_type": "code",
   "execution_count": 68,
   "metadata": {
    "ExecuteTime": {
     "end_time": "2023-08-11T18:56:10.565439Z",
     "start_time": "2023-08-11T18:56:10.545539Z"
    }
   },
   "outputs": [],
   "source": [
    "import argparse\n",
    "parser = argparse.ArgumentParser()\n",
    "args = parser.parse_args(args=[])"
   ]
  },
  {
   "cell_type": "code",
   "execution_count": 69,
   "metadata": {
    "ExecuteTime": {
     "end_time": "2023-08-11T18:56:10.580884Z",
     "start_time": "2023-08-11T18:56:10.569684Z"
    }
   },
   "outputs": [],
   "source": [
    "project_dir = \"/ssl-jet-vol-v2/JetCLR_VICReg\"\n",
    "args.mask = False\n",
    "args.cmask = True\n",
    "args.epoch = 10\n",
    "args.batch_size = 256\n",
    "args.outdir = f\"{project_dir}/models/\"\n",
    "args.label = \"notebook_test\"\n",
    "args.dataset_path = \"/ssl-jet-vol-v2/toptagging\"\n",
    "args.num_train_files = 1\n",
    "args.num_val_files = 1\n",
    "args.shared = False\n",
    "args.mlp = \"256-256-256\"\n",
    "args.transform_inputs = 32\n",
    "args.Do = 1000\n",
    "args.hidden = 128\n",
    "args.sim_coeff = 25.0\n",
    "args.std_coeff = 25.0\n",
    "args.cov_coeff = 1.0\n",
    "args.return_embedding = True\n",
    "args.return_representation = False\n",
    "args.do_translation = True\n",
    "args.do_rotation = True\n",
    "args.do_cf = True\n",
    "args.do_ptd = True\n",
    "args.nconstit = 50\n",
    "args.ptst = 0.1\n",
    "args.ptcm = 0.1\n",
    "args.trsw = 1.0\n",
    "args.return_all_losses = True"
   ]
  },
  {
   "cell_type": "markdown",
   "metadata": {},
   "source": [
    "# Setup the loss terms"
   ]
  },
  {
   "cell_type": "code",
   "execution_count": 70,
   "metadata": {
    "ExecuteTime": {
     "end_time": "2023-08-11T18:56:10.599127Z",
     "start_time": "2023-08-11T18:56:10.583555Z"
    }
   },
   "outputs": [],
   "source": [
    "def off_diagonal(x):\n",
    "    \"\"\"Copied from VICReg paper github https://github.com/facebookresearch/vicreg/\"\"\"\n",
    "    n, m = x.shape\n",
    "    assert n == m\n",
    "    return x.flatten()[:-1].view(n - 1, n + 1)[:, 1:].flatten()\n",
    "\n",
    "\n",
    "class CovLoss(nn.Module):\n",
    "    def forward(self, view1, view2):\n",
    "        N = view1.size(0)  # batch size\n",
    "        D = view1.size(1)  # dim of representations\n",
    "\n",
    "        view1 = view1 - view1.mean(dim=0)\n",
    "        view2 = view2 - view2.mean(dim=0)\n",
    "\n",
    "        cov_view1 = (view1.T @ view1) / (N - 1)\n",
    "        cov_view2 = (view2.T @ view2) / (N - 1)\n",
    "\n",
    "        loss = off_diagonal(cov_view1).pow_(2).sum().div(D) + off_diagonal(cov_view2).pow_(2).sum().div(D)\n",
    "        return loss\n",
    "\n",
    "\n",
    "class VarLoss(nn.Module):\n",
    "    def forward(self, view1, view2):\n",
    "        view1 = view1 - view1.mean(dim=0)\n",
    "        view2 = view2 - view2.mean(dim=0)\n",
    "\n",
    "        # variance loss\n",
    "        std_view1 = torch.sqrt(view1.var(dim=0) + 1e-10)\n",
    "        std_view2 = torch.sqrt(view2.var(dim=0) + 1e-10)\n",
    "\n",
    "        loss = torch.mean(F.relu(1 - std_view1)) / 2 + torch.mean(F.relu(1 - std_view2)) / 2\n",
    "        return loss"
   ]
  },
  {
   "cell_type": "code",
   "execution_count": 71,
   "metadata": {
    "ExecuteTime": {
     "end_time": "2023-08-11T18:56:12.274583Z",
     "start_time": "2023-08-11T18:56:10.601668Z"
    }
   },
   "outputs": [],
   "source": [
    "args.augmentation = augmentation\n",
    "args.device = device\n",
    "\n",
    "args.x_inputs = 3\n",
    "args.y_inputs = 3\n",
    "\n",
    "args.x_backbone, args.y_backbone = get_backbones(args)\n",
    "model = VICReg(args).to(args.device)"
   ]
  },
  {
   "cell_type": "code",
   "execution_count": 141,
   "metadata": {
    "ExecuteTime": {
     "end_time": "2023-08-11T19:07:39.809665Z",
     "start_time": "2023-08-11T19:07:39.779904Z"
    }
   },
   "outputs": [],
   "source": [
    "crit_invar = nn.MSELoss()\n",
    "crit_var = VarLoss()\n",
    "crit_cov = CovLoss()\n",
    "\n",
    "max_var = 0.5 * batch_size\n",
    "max_cov = 0.5 * batch_size\n",
    "\n",
    "constraints = []\n",
    "constraints.append(mdmm.MaxConstraintHard(lambda: crit_var(view1_embeddings, view2_embeddings), max_var, scale=1e-10))\n",
    "constraints.append(mdmm.MaxConstraintHard(lambda: crit_cov(view1_embeddings, view2_embeddings), max_cov))\n",
    "# constraints.append(mdmm.MaxConstraint(lambda: crit_cov(view1_embeddings, view2_embeddings), max_cov, scale=1e4))\n",
    "\n",
    "mdmm_module = mdmm.MDMM(constraints).to(device)\n",
    "optimizer = mdmm_module.make_optimizer(model.parameters(), lr=1e-4)"
   ]
  },
  {
   "cell_type": "code",
   "execution_count": 142,
   "metadata": {
    "ExecuteTime": {
     "end_time": "2023-08-11T19:07:39.827038Z",
     "start_time": "2023-08-11T19:07:39.812278Z"
    }
   },
   "outputs": [
    {
     "data": {
      "text/plain": [
       "430.0"
      ]
     },
     "execution_count": 142,
     "metadata": {},
     "output_type": "execute_result"
    }
   ],
   "source": [
    "1e3*0.43"
   ]
  },
  {
   "cell_type": "markdown",
   "metadata": {},
   "source": [
    "# Run a training loop"
   ]
  },
  {
   "cell_type": "code",
   "execution_count": 143,
   "metadata": {
    "ExecuteTime": {
     "end_time": "2023-08-11T19:07:50.386184Z",
     "start_time": "2023-08-11T19:07:39.830511Z"
    }
   },
   "outputs": [
    {
     "name": "stdout",
     "output_type": "stream",
     "text": [
      "max var: 64.0\n",
      "max cov: 64.0\n",
      "batch 0\n",
      "invariance loss: 0.17\n",
      "variance loss: 124.78\n",
      "covariance loss: 0.00\n",
      "constrained invariance loss: 0.17\n",
      "-----------\n",
      "batch 1\n",
      "invariance loss: 0.86\n",
      "variance loss: 120.98\n",
      "covariance loss: 0.15\n",
      "constrained invariance loss: 0.86\n",
      "-----------\n",
      "batch 2\n",
      "invariance loss: 0.64\n",
      "variance loss: 122.38\n",
      "covariance loss: 0.07\n",
      "constrained invariance loss: 0.64\n",
      "-----------\n",
      "batch 3\n",
      "invariance loss: 0.69\n",
      "variance loss: 121.96\n",
      "covariance loss: 0.11\n",
      "constrained invariance loss: 0.69\n",
      "-----------\n",
      "batch 4\n",
      "invariance loss: 0.39\n",
      "variance loss: 123.22\n",
      "covariance loss: 0.02\n",
      "constrained invariance loss: 0.39\n",
      "-----------\n",
      "batch 5\n",
      "invariance loss: 0.40\n",
      "variance loss: 123.13\n",
      "covariance loss: 0.02\n",
      "constrained invariance loss: 0.40\n",
      "-----------\n",
      "batch 6\n",
      "invariance loss: 0.34\n",
      "variance loss: 123.50\n",
      "covariance loss: 0.01\n",
      "constrained invariance loss: 0.34\n",
      "-----------\n",
      "batch 7\n",
      "invariance loss: 0.62\n",
      "variance loss: 122.35\n",
      "covariance loss: 0.07\n",
      "constrained invariance loss: 0.62\n",
      "-----------\n",
      "batch 8\n",
      "invariance loss: 0.41\n",
      "variance loss: 123.42\n",
      "covariance loss: 0.02\n",
      "constrained invariance loss: 0.41\n",
      "-----------\n",
      "batch 9\n",
      "invariance loss: 0.32\n",
      "variance loss: 123.71\n",
      "covariance loss: 0.02\n",
      "constrained invariance loss: 0.32\n",
      "-----------\n",
      "batch 10\n",
      "invariance loss: 0.29\n",
      "variance loss: 123.93\n",
      "covariance loss: 0.01\n",
      "constrained invariance loss: 0.29\n",
      "-----------\n",
      "batch 11\n",
      "invariance loss: 0.31\n",
      "variance loss: 123.76\n",
      "covariance loss: 0.01\n",
      "constrained invariance loss: 0.31\n",
      "-----------\n",
      "batch 12\n",
      "invariance loss: 0.35\n",
      "variance loss: 123.49\n",
      "covariance loss: 0.02\n",
      "constrained invariance loss: 0.35\n",
      "-----------\n",
      "batch 13\n",
      "invariance loss: 0.27\n",
      "variance loss: 124.06\n",
      "covariance loss: 0.01\n",
      "constrained invariance loss: 0.27\n",
      "-----------\n",
      "batch 14\n",
      "invariance loss: 0.27\n",
      "variance loss: 124.11\n",
      "covariance loss: 0.01\n",
      "constrained invariance loss: 0.27\n",
      "-----------\n",
      "batch 15\n",
      "invariance loss: 0.33\n",
      "variance loss: 123.67\n",
      "covariance loss: 0.02\n",
      "constrained invariance loss: 0.33\n",
      "-----------\n",
      "batch 16\n",
      "invariance loss: 0.25\n",
      "variance loss: 124.11\n",
      "covariance loss: 0.01\n",
      "constrained invariance loss: 0.25\n",
      "-----------\n",
      "batch 17\n",
      "invariance loss: 0.16\n",
      "variance loss: 124.91\n",
      "covariance loss: 0.00\n",
      "constrained invariance loss: 0.16\n",
      "-----------\n",
      "batch 18\n",
      "invariance loss: 0.24\n",
      "variance loss: 124.24\n",
      "covariance loss: 0.01\n",
      "constrained invariance loss: 0.24\n",
      "-----------\n",
      "batch 19\n",
      "invariance loss: 0.18\n",
      "variance loss: 124.81\n",
      "covariance loss: 0.00\n",
      "constrained invariance loss: 0.18\n",
      "-----------\n",
      "batch 20\n",
      "invariance loss: 0.26\n",
      "variance loss: 124.16\n",
      "covariance loss: 0.01\n",
      "constrained invariance loss: 0.26\n",
      "-----------\n",
      "batch 21\n",
      "invariance loss: 0.27\n",
      "variance loss: 124.21\n",
      "covariance loss: 0.01\n",
      "constrained invariance loss: 0.27\n",
      "-----------\n",
      "batch 22\n",
      "invariance loss: 0.25\n",
      "variance loss: 124.23\n",
      "covariance loss: 0.01\n",
      "constrained invariance loss: 0.25\n",
      "-----------\n",
      "batch 23\n",
      "invariance loss: 0.17\n",
      "variance loss: 124.81\n",
      "covariance loss: 0.00\n",
      "constrained invariance loss: 0.17\n",
      "-----------\n",
      "batch 24\n",
      "invariance loss: 0.17\n",
      "variance loss: 124.81\n",
      "covariance loss: 0.00\n",
      "constrained invariance loss: 0.17\n",
      "-----------\n",
      "batch 25\n",
      "invariance loss: 0.23\n",
      "variance loss: 124.42\n",
      "covariance loss: 0.01\n",
      "constrained invariance loss: 0.23\n",
      "-----------\n",
      "batch 26\n",
      "invariance loss: 0.18\n",
      "variance loss: 124.69\n",
      "covariance loss: 0.00\n",
      "constrained invariance loss: 0.18\n",
      "-----------\n",
      "batch 27\n",
      "invariance loss: 0.16\n",
      "variance loss: 124.90\n",
      "covariance loss: 0.00\n",
      "constrained invariance loss: 0.16\n",
      "-----------\n",
      "batch 28\n",
      "invariance loss: 0.22\n",
      "variance loss: 124.45\n",
      "covariance loss: 0.01\n",
      "constrained invariance loss: 0.22\n",
      "-----------\n",
      "batch 29\n",
      "invariance loss: 0.30\n",
      "variance loss: 124.02\n",
      "covariance loss: 0.02\n",
      "constrained invariance loss: 0.30\n",
      "-----------\n",
      "batch 30\n",
      "invariance loss: 0.37\n",
      "variance loss: 123.57\n",
      "covariance loss: 0.03\n",
      "constrained invariance loss: 0.37\n"
     ]
    }
   ],
   "source": [
    "losses_inv, losses_var, losses_cov, losses_reg = [], [], [], []\n",
    "print(f\"max var: {max_var}\")\n",
    "print(f\"max cov: {max_cov}\")\n",
    "for i, batch in enumerate(loader):\n",
    "    print(f\"batch {i}\")\n",
    "    # run VICReg forward pass to get the embeddings\n",
    "    view1_embeddings, view2_embeddings = model(batch.to(device))\n",
    "#     print(f\"view1_embeddings size: {view1_embeddings.size()}\")\n",
    "\n",
    "    # compute the invariance loss which is contrained by the other loss terms\n",
    "    loss = batch_size * crit_invar(view1_embeddings, view2_embeddings)\n",
    "    print(f\"invariance loss: {loss:.2f}\")\n",
    "    losses_inv.append(loss.detach().item())\n",
    "    loss_var = batch_size * crit_var(view1_embeddings, view2_embeddings)\n",
    "    print(f\"variance loss: {loss_var:.2f}\")\n",
    "    losses_var.append(loss_var.detach().item())\n",
    "    loss_cov = batch_size * crit_cov(view1_embeddings, view2_embeddings)\n",
    "    print(f\"covariance loss: {loss_cov:.2f}\")\n",
    "    losses_cov.append(loss_cov.detach().item())\n",
    "\n",
    "\n",
    "    mdmm_return = mdmm_module(loss.to(device))\n",
    "\n",
    "    # backprop\n",
    "    for param in model.parameters():\n",
    "        param.grad = None\n",
    "    mdmm_return.value.backward()\n",
    "\n",
    "    optimizer.step()\n",
    "    print(f\"constrained invariance loss: {loss.detach():.2f}\")\n",
    "    losses_reg.append(loss.detach().item())\n",
    "\n",
    "    if i == 30:\n",
    "        break\n",
    "    print(\"-----------\")"
   ]
  },
  {
   "cell_type": "code",
   "execution_count": 144,
   "metadata": {
    "ExecuteTime": {
     "end_time": "2023-08-11T19:07:50.402273Z",
     "start_time": "2023-08-11T19:07:50.391865Z"
    }
   },
   "outputs": [
    {
     "data": {
      "text/plain": [
       "MDMMReturn(value=tensor(0.3660, device='cuda:0', grad_fn=<AddBackward0>), fn_values=[tensor(0.9654, device='cuda:0', grad_fn=<AddBackward0>), tensor(0.0002, device='cuda:0', grad_fn=<AddBackward0>)], infs=[tensor(0., device='cuda:0', grad_fn=<SubBackward0>), tensor(0., device='cuda:0', grad_fn=<SubBackward0>)])"
      ]
     },
     "execution_count": 144,
     "metadata": {},
     "output_type": "execute_result"
    }
   ],
   "source": [
    "mdmm_return"
   ]
  },
  {
   "cell_type": "code",
   "execution_count": 145,
   "metadata": {
    "ExecuteTime": {
     "end_time": "2023-08-11T19:07:50.428572Z",
     "start_time": "2023-08-11T19:07:50.404909Z"
    }
   },
   "outputs": [
    {
     "data": {
      "text/plain": [
       "[tensor(0., device='cuda:0', grad_fn=<SubBackward0>),\n",
       " tensor(0., device='cuda:0', grad_fn=<SubBackward0>)]"
      ]
     },
     "execution_count": 145,
     "metadata": {},
     "output_type": "execute_result"
    }
   ],
   "source": [
    "mdmm_return.infs"
   ]
  },
  {
   "cell_type": "code",
   "execution_count": 146,
   "metadata": {
    "ExecuteTime": {
     "end_time": "2023-08-11T19:07:50.454858Z",
     "start_time": "2023-08-11T19:07:50.431495Z"
    }
   },
   "outputs": [
    {
     "data": {
      "text/plain": [
       "MDMMReturn(value=tensor(0.3660, device='cuda:0', grad_fn=<AddBackward0>), fn_values=[tensor(0.9654, device='cuda:0', grad_fn=<AddBackward0>), tensor(0.0002, device='cuda:0', grad_fn=<AddBackward0>)], infs=[tensor(0., device='cuda:0', grad_fn=<SubBackward0>), tensor(0., device='cuda:0', grad_fn=<SubBackward0>)])"
      ]
     },
     "execution_count": 146,
     "metadata": {},
     "output_type": "execute_result"
    }
   ],
   "source": [
    "mdmm_return"
   ]
  },
  {
   "cell_type": "code",
   "execution_count": 147,
   "metadata": {
    "ExecuteTime": {
     "end_time": "2023-08-11T19:07:50.472394Z",
     "start_time": "2023-08-11T19:07:50.456960Z"
    }
   },
   "outputs": [],
   "source": [
    "# print(f\"view1_embeddings size: {view1_embeddings.size()}\")"
   ]
  },
  {
   "cell_type": "code",
   "execution_count": 148,
   "metadata": {
    "ExecuteTime": {
     "end_time": "2023-08-11T19:07:50.489278Z",
     "start_time": "2023-08-11T19:07:50.475837Z"
    }
   },
   "outputs": [],
   "source": [
    "# !nvidia-smi -q"
   ]
  },
  {
   "cell_type": "code",
   "execution_count": 149,
   "metadata": {
    "ExecuteTime": {
     "end_time": "2023-08-11T19:07:50.512406Z",
     "start_time": "2023-08-11T19:07:50.492114Z"
    }
   },
   "outputs": [
    {
     "name": "stdout",
     "output_type": "stream",
     "text": [
      "max var: 64.0\n",
      "max cov: 64.0\n"
     ]
    }
   ],
   "source": [
    "print(f\"max var: {max_var}\")\n",
    "print(f\"max cov: {max_cov}\")"
   ]
  },
  {
   "cell_type": "code",
   "execution_count": 150,
   "metadata": {
    "ExecuteTime": {
     "end_time": "2023-08-11T19:07:50.787612Z",
     "start_time": "2023-08-11T19:07:50.516036Z"
    }
   },
   "outputs": [
    {
     "data": {
      "text/plain": [
       "Text(0.5, 1.0, 'Unconstrained Invariance loss')"
      ]
     },
     "execution_count": 150,
     "metadata": {},
     "output_type": "execute_result"
    },
    {
     "data": {
      "image/png": "[encoded data removed]",
      "text/plain": [
       "<Figure size 640x480 with 1 Axes>"
      ]
     },
     "metadata": {},
     "output_type": "display_data"
    }
   ],
   "source": [
    "plt.plot(losses_inv)\n",
    "plt.title(\"Unconstrained Invariance loss\")"
   ]
  },
  {
   "cell_type": "code",
   "execution_count": 151,
   "metadata": {
    "ExecuteTime": {
     "end_time": "2023-08-11T19:07:51.093584Z",
     "start_time": "2023-08-11T19:07:50.789947Z"
    }
   },
   "outputs": [
    {
     "data": {
      "text/plain": [
       "Text(0.5, 1.0, 'Variance loss')"
      ]
     },
     "execution_count": 151,
     "metadata": {},
     "output_type": "execute_result"
    },
    {
     "data": {
      "image/png": "[encoded data removed]",
      "text/plain": [
       "<Figure size 640x480 with 1 Axes>"
      ]
     },
     "metadata": {},
     "output_type": "display_data"
    }
   ],
   "source": [
    "plt.plot(losses_var)\n",
    "plt.title(\"Variance loss\")"
   ]
  },
  {
   "cell_type": "code",
   "execution_count": 152,
   "metadata": {
    "ExecuteTime": {
     "end_time": "2023-08-11T19:07:51.350601Z",
     "start_time": "2023-08-11T19:07:51.096034Z"
    }
   },
   "outputs": [
    {
     "data": {
      "text/plain": [
       "Text(0.5, 1.0, 'Covariance loss')"
      ]
     },
     "execution_count": 152,
     "metadata": {},
     "output_type": "execute_result"
    },
    {
     "data": {
      "image/png": "[encoded data removed]",
      "text/plain": [
       "<Figure size 640x480 with 1 Axes>"
      ]
     },
     "metadata": {},
     "output_type": "display_data"
    }
   ],
   "source": [
    "plt.plot(losses_cov)\n",
    "plt.title(\"Covariance loss\")"
   ]
  },
  {
   "cell_type": "code",
   "execution_count": 153,
   "metadata": {
    "ExecuteTime": {
     "end_time": "2023-08-11T19:07:51.628523Z",
     "start_time": "2023-08-11T19:07:51.352567Z"
    }
   },
   "outputs": [
    {
     "data": {
      "text/plain": [
       "Text(0.5, 1.0, 'Constrained Invariance loss')"
      ]
     },
     "execution_count": 153,
     "metadata": {},
     "output_type": "execute_result"
    },
    {
     "data": {
      "image/png": "[encoded data removed]",
      "text/plain": [
       "<Figure size 640x480 with 1 Axes>"
      ]
     },
     "metadata": {},
     "output_type": "display_data"
    }
   ],
   "source": [
    "plt.plot(losses_reg)\n",
    "plt.title(\"Constrained Invariance loss\")"
   ]
  },
  {
   "cell_type": "code",
   "execution_count": null,
   "metadata": {},
   "outputs": [],
   "source": []
  }
 ],
 "metadata": {
  "kernelspec": {
   "display_name": "Python 3 (ipykernel)",
   "language": "python",
   "name": "python3"
  },
  "language_info": {
   "codemirror_mode": {
    "name": "ipython",
    "version": 3
   },
   "file_extension": ".py",
   "mimetype": "text/x-python",
   "name": "python",
   "nbconvert_exporter": "python",
   "pygments_lexer": "ipython3",
   "version": "3.10.6"
  },
  "vscode": {
   "interpreter": {
    "hash": "bd710be4164d8116e60481776a482d6ed163c0c31d42101b2cd55e4bfc6d2c5e"
   }
  }
 },
 "nbformat": 4,
 "nbformat_minor": 4
}
