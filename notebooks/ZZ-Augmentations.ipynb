{
 "cells": [
  {
   "cell_type": "markdown",
   "id": "8c454b06",
   "metadata": {},
   "source": [
    "## The purpose of this notebook is to write and test out equivalent implementations of https://github.com/bmdillon/JetCLR/blob/main/scripts/modules/jet_augs.py with PyTorch instead of Numpy"
   ]
  },
  {
   "cell_type": "code",
   "execution_count": 5,
   "id": "d3a46e2f",
   "metadata": {
    "ExecuteTime": {
     "end_time": "2023-08-02T17:03:36.499613Z",
     "start_time": "2023-08-02T17:03:27.559507Z"
    }
   },
   "outputs": [
    {
     "name": "stdout",
     "output_type": "stream",
     "text": [
      "Collecting torch_geometric\n",
      "  Downloading torch_geometric-2.3.1.tar.gz (661 kB)\n",
      "\u001b[2K     \u001b[90m━━━━━━━━━━━━━━━━━━━━━━━━━━━━━━━━━━━━━━\u001b[0m \u001b[32m661.6/661.6 kB\u001b[0m \u001b[31m15.7 MB/s\u001b[0m eta \u001b[36m0:00:00\u001b[0ma \u001b[36m0:00:01\u001b[0m\n",
      "\u001b[?25h  Installing build dependencies ... \u001b[?25ldone\n",
      "\u001b[?25h  Getting requirements to build wheel ... \u001b[?25ldone\n",
      "\u001b[?25h  Preparing metadata (pyproject.toml) ... \u001b[?25ldone\n",
      "\u001b[?25hRequirement already satisfied: scipy in /opt/conda/lib/python3.10/site-packages (from torch_geometric) (1.10.0)\n",
      "Requirement already satisfied: scikit-learn in /opt/conda/lib/python3.10/site-packages (from torch_geometric) (1.2.0)\n",
      "Requirement already satisfied: jinja2 in /opt/conda/lib/python3.10/site-packages (from torch_geometric) (3.1.2)\n",
      "Requirement already satisfied: requests in /opt/conda/lib/python3.10/site-packages (from torch_geometric) (2.28.1)\n",
      "Requirement already satisfied: pyparsing in /opt/conda/lib/python3.10/site-packages (from torch_geometric) (3.0.9)\n",
      "Requirement already satisfied: psutil>=5.8.0 in /opt/conda/lib/python3.10/site-packages (from torch_geometric) (5.9.3)\n",
      "Requirement already satisfied: tqdm in /opt/conda/lib/python3.10/site-packages (from torch_geometric) (4.64.1)\n",
      "Requirement already satisfied: numpy in /opt/conda/lib/python3.10/site-packages (from torch_geometric) (1.23.5)\n",
      "Requirement already satisfied: MarkupSafe>=2.0 in /opt/conda/lib/python3.10/site-packages (from jinja2->torch_geometric) (2.1.1)\n",
      "Requirement already satisfied: urllib3<1.27,>=1.21.1 in /opt/conda/lib/python3.10/site-packages (from requests->torch_geometric) (1.26.11)\n",
      "Requirement already satisfied: idna<4,>=2.5 in /opt/conda/lib/python3.10/site-packages (from requests->torch_geometric) (3.4)\n",
      "Requirement already satisfied: charset-normalizer<3,>=2 in /opt/conda/lib/python3.10/site-packages (from requests->torch_geometric) (2.1.1)\n",
      "Requirement already satisfied: certifi>=2017.4.17 in /opt/conda/lib/python3.10/site-packages (from requests->torch_geometric) (2022.12.7)\n",
      "Requirement already satisfied: threadpoolctl>=2.0.0 in /opt/conda/lib/python3.10/site-packages (from scikit-learn->torch_geometric) (3.1.0)\n",
      "Requirement already satisfied: joblib>=1.1.1 in /opt/conda/lib/python3.10/site-packages (from scikit-learn->torch_geometric) (1.2.0)\n",
      "Building wheels for collected packages: torch_geometric\n",
      "  Building wheel for torch_geometric (pyproject.toml) ... \u001b[?25ldone\n",
      "\u001b[?25h  Created wheel for torch_geometric: filename=torch_geometric-2.3.1-py3-none-any.whl size=910460 sha256=953da0708c666701552b001cfb94b4db20f01006578b47d6960d145bc8b66062\n",
      "  Stored in directory: /home/jovyan/.cache/pip/wheels/aa/16/a8/fd7737d723cc1eb8df023c016c262ff4520091e1b022f8c164\n",
      "Successfully built torch_geometric\n",
      "Installing collected packages: torch_geometric\n",
      "Successfully installed torch_geometric-2.3.1\n"
     ]
    }
   ],
   "source": [
    "! pip install torch_geometric"
   ]
  },
  {
   "cell_type": "code",
   "execution_count": 1,
   "id": "2c1517ff",
   "metadata": {
    "ExecuteTime": {
     "end_time": "2023-08-02T23:01:31.604261Z",
     "start_time": "2023-08-02T23:01:29.801705Z"
    }
   },
   "outputs": [],
   "source": [
    "import glob\n",
    "import os\n",
    "import sys\n",
    "import numpy as np\n",
    "import random\n",
    "import time\n",
    "\n",
    "import matplotlib.pyplot as plt\n",
    "import torch\n",
    "import torch.nn as nn\n",
    "import torch.nn.functional as F\n",
    "\n",
    "import torch_geometric\n",
    "from torch_geometric.data import Batch, Data\n",
    "from torch_geometric.loader import DataListLoader, DataLoader"
   ]
  },
  {
   "cell_type": "code",
   "execution_count": 2,
   "id": "ea243ef9",
   "metadata": {
    "ExecuteTime": {
     "end_time": "2023-08-02T23:01:34.568067Z",
     "start_time": "2023-08-02T23:01:34.552442Z"
    }
   },
   "outputs": [
    {
     "name": "stdout",
     "output_type": "stream",
     "text": [
      "Device 0: NVIDIA GeForce RTX 3090\n"
     ]
    }
   ],
   "source": [
    "# define the global base device\n",
    "world_size = torch.cuda.device_count()\n",
    "multi_gpu = world_size >= 2\n",
    "if world_size:\n",
    "    device = torch.device(\"cuda:0\")\n",
    "    for i in range(world_size):\n",
    "        print(f\"Device {i}: {torch.cuda.get_device_name(i)}\")\n",
    "else:\n",
    "    device = \"cpu\"\n",
    "    print(\"Device: CPU\")"
   ]
  },
  {
   "cell_type": "markdown",
   "id": "73c31b9d",
   "metadata": {},
   "source": [
    "## Load Data"
   ]
  },
  {
   "cell_type": "code",
   "execution_count": 3,
   "id": "50e68296",
   "metadata": {
    "ExecuteTime": {
     "end_time": "2023-08-02T23:01:50.165781Z",
     "start_time": "2023-08-02T23:01:37.626400Z"
    }
   },
   "outputs": [
    {
     "name": "stdout",
     "output_type": "stream",
     "text": [
      "--- loaded file 0 from `train` directory\n"
     ]
    }
   ],
   "source": [
    "# load the datafiles\n",
    "def load_data(dataset_path, flag, n_files=-1):\n",
    "    data_files = glob.glob(f\"{dataset_path}/{flag}/processed/*\")\n",
    "        \n",
    "    data = []\n",
    "    for i, file in enumerate(data_files):\n",
    "        data += torch.load(f\"{dataset_path}/{flag}/processed/data_{i}.pt\")\n",
    "        print(f\"--- loaded file {i} from `{flag}` directory\")\n",
    "        if n_files!=-1 and i==n_files-1:\n",
    "            break\n",
    "                \n",
    "    return data\n",
    "\n",
    "dataset_path = \"/../ssl-jet-vol-v2/toptagging/\"\n",
    "\n",
    "data_train = load_data(dataset_path, \"train\", n_files=1)\n",
    "# data_valid = load_data(dataset_path, \"val\", n_files=4)\n",
    "# data_test = load_data(dataset_path, \"val\", n_files=1)"
   ]
  },
  {
   "cell_type": "code",
   "execution_count": 4,
   "id": "71a1e537",
   "metadata": {
    "ExecuteTime": {
     "end_time": "2023-08-02T23:01:52.168673Z",
     "start_time": "2023-08-02T23:01:52.166104Z"
    }
   },
   "outputs": [],
   "source": [
    "batch_size = 128\n",
    "\n",
    "train_loader = DataLoader(data_train, batch_size)"
   ]
  },
  {
   "cell_type": "code",
   "execution_count": 50,
   "id": "43e3fdd9",
   "metadata": {
    "ExecuteTime": {
     "end_time": "2023-08-02T17:39:39.065586Z",
     "start_time": "2023-08-02T17:39:39.056282Z"
    }
   },
   "outputs": [],
   "source": [
    "for i, bb in enumerate(train_loader):\n",
    "    break"
   ]
  },
  {
   "cell_type": "code",
   "execution_count": 51,
   "id": "a52c7d76",
   "metadata": {
    "ExecuteTime": {
     "end_time": "2023-08-02T17:39:40.127333Z",
     "start_time": "2023-08-02T17:39:40.123047Z"
    }
   },
   "outputs": [
    {
     "data": {
      "text/plain": [
       "DataBatch(x=[5980, 7], y=[128], batch=[5980], ptr=[129])"
      ]
     },
     "execution_count": 51,
     "metadata": {},
     "output_type": "execute_result"
    }
   ],
   "source": [
    "bb"
   ]
  },
  {
   "cell_type": "code",
   "execution_count": 27,
   "id": "43609242",
   "metadata": {
    "ExecuteTime": {
     "end_time": "2023-08-02T17:30:05.607777Z",
     "start_time": "2023-08-02T17:30:05.605171Z"
    }
   },
   "outputs": [],
   "source": [
    "bb.x = bb.x[:, :3]"
   ]
  },
  {
   "cell_type": "code",
   "execution_count": 29,
   "id": "a969ea12",
   "metadata": {
    "ExecuteTime": {
     "end_time": "2023-08-02T17:30:16.415656Z",
     "start_time": "2023-08-02T17:30:16.409339Z"
    }
   },
   "outputs": [
    {
     "data": {
      "text/plain": [
       "tensor([[ 4.8051e-03, -1.2196e-02,  5.8162e+00],\n",
       "        [-3.0414e-02,  1.1893e-01,  4.3164e+00],\n",
       "        [ 3.2171e-03, -7.5693e-03,  4.3124e+00],\n",
       "        ...,\n",
       "        [-6.6076e-01,  1.8006e-01, -7.0576e-01],\n",
       "        [ 1.6592e-01,  6.9361e-01, -1.0265e+00],\n",
       "        [ 2.4350e-01,  1.7230e-01, -1.1979e+00]])"
      ]
     },
     "execution_count": 29,
     "metadata": {},
     "output_type": "execute_result"
    }
   ],
   "source": [
    "bb.x"
   ]
  },
  {
   "cell_type": "code",
   "execution_count": 15,
   "id": "07705453",
   "metadata": {
    "ExecuteTime": {
     "end_time": "2023-08-02T17:17:38.407495Z",
     "start_time": "2023-08-02T17:17:38.398733Z"
    }
   },
   "outputs": [
    {
     "data": {
      "text/plain": [
       "tensor([23, 43, 41, 25, 73, 55, 53, 70, 27, 64, 89, 28, 71, 29, 40, 22, 41, 43,\n",
       "        13, 25, 57, 32, 76, 57, 27, 16, 23, 50, 40, 44, 42, 42, 25, 65, 21, 44,\n",
       "        61, 23, 32, 26, 53, 47, 55, 67, 54, 36, 81, 62, 62, 66, 13, 45, 68, 23,\n",
       "        69, 30, 30, 34, 49, 34, 48, 65, 41, 78, 41, 32, 81, 50, 52, 60, 57, 39,\n",
       "        54, 57, 73, 53, 77, 90, 48, 59, 53, 67, 49, 43, 49, 52, 39, 55, 39, 37,\n",
       "        21, 33, 21, 44, 25, 48, 56, 21, 44, 36, 53, 33, 54, 45, 59, 69, 44, 34,\n",
       "        69, 64, 80, 17, 39, 60, 44, 31, 62, 18, 49, 35, 52, 42, 59, 37, 62, 59,\n",
       "        28, 39])"
      ]
     },
     "execution_count": 15,
     "metadata": {},
     "output_type": "execute_result"
    }
   ],
   "source": [
    "torch.bincount(bb.batch)"
   ]
  },
  {
   "cell_type": "markdown",
   "id": "27bde590",
   "metadata": {},
   "source": [
    "## Reshape a batch\n",
    "\n",
    "Original shape: (n_constit_total, 7)  \n",
    "Desired shape: (batch_size, 3, n_constit)"
   ]
  },
  {
   "cell_type": "code",
   "execution_count": 5,
   "id": "e4cf456e",
   "metadata": {
    "ExecuteTime": {
     "end_time": "2023-08-02T23:02:02.077097Z",
     "start_time": "2023-08-02T23:02:02.073420Z"
    }
   },
   "outputs": [],
   "source": [
    "def convert_x_py(bb):\n",
    "    bb.x = bb.x[:, :3]\n",
    "    bb.x = bb.x[:, [2, 0, 1]]\n",
    "    # Compute number of constituents for each item in the batch\n",
    "    n_constits = torch.bincount(bb.batch)\n",
    "\n",
    "    # Compute maximum number of constituents\n",
    "    n_constit = n_constits.max().item()\n",
    "\n",
    "    # Allocate a tensor of the desired shape, filled with a padding value (e.g. zero)\n",
    "    x_padded = torch.zeros(bb.batch.max().item() + 1, 3, n_constit)\n",
    "\n",
    "    # Fill the padded tensor with the values from Batch.x\n",
    "    for i, (start, length) in enumerate(zip(bb.ptr[:-1], n_constits)):\n",
    "        x_padded[i, :, :length] = bb.x[start:start+length].t()\n",
    "\n",
    "    return x_padded.to(device)"
   ]
  },
  {
   "cell_type": "code",
   "execution_count": 6,
   "id": "2bac3a9e",
   "metadata": {
    "ExecuteTime": {
     "end_time": "2023-08-02T23:02:02.692097Z",
     "start_time": "2023-08-02T23:02:02.688077Z"
    }
   },
   "outputs": [],
   "source": [
    "def convert_x(batch):\n",
    "    \"\"\"\n",
    "    \n",
    "    \n",
    "    \"\"\"\n",
    "    batch.x = batch.x[:, :3]  # dim 1 ordering: eta, phi, pT\n",
    "    bb.x = bb.x[:, [2, 0, 1]] # dim 1 ordering: pT, eta, phi\n",
    "    batch_size = batch.num_graphs\n",
    "    list_of_graphs = batch.to_data_list()  # convert the batch to a list of Data objects\n",
    "    max_nodes = max(data.x.size(0) for data in list_of_graphs)  # get maximum number of nodes\n",
    "#     print(max_nodes)\n",
    "    padded_x = []\n",
    "\n",
    "    for data in list_of_graphs:\n",
    "        padding = torch.zeros((max_nodes - data.x.size(0), 3))  # create a padding tensor\n",
    "#         print(max_nodes - data.x.size(0))\n",
    "        padded_data = torch.cat([data.x, padding], dim=0)  # append padding to the graph tensor\n",
    "        padded_x.append(padded_data)\n",
    "\n",
    "    padded_x = torch.stack(padded_x, dim=0)  # stack into a single tensor\n",
    "    padded_x = padded_x.transpose(1, 2)  # transpose to get [batch_size, 3, max_nodes]\n",
    "    return padded_x.to(device)  # output tensor of shape [batch_size, max_nodes, 3]"
   ]
  },
  {
   "cell_type": "code",
   "execution_count": 7,
   "id": "7ce72dab",
   "metadata": {
    "ExecuteTime": {
     "end_time": "2023-08-02T23:02:11.187668Z",
     "start_time": "2023-08-02T23:02:05.359611Z"
    }
   },
   "outputs": [],
   "source": [
    "for _, bb in enumerate(train_loader):\n",
    "    convert_x_py(bb)"
   ]
  },
  {
   "cell_type": "code",
   "execution_count": 8,
   "id": "c16f9cba",
   "metadata": {
    "ExecuteTime": {
     "end_time": "2023-08-02T23:02:18.469960Z",
     "start_time": "2023-08-02T23:02:11.190023Z"
    }
   },
   "outputs": [],
   "source": [
    "for _, bb in enumerate(train_loader):\n",
    "    convert_x(bb)"
   ]
  },
  {
   "cell_type": "code",
   "execution_count": 9,
   "id": "9d8e7b47",
   "metadata": {
    "ExecuteTime": {
     "end_time": "2023-08-02T23:02:22.737288Z",
     "start_time": "2023-08-02T23:02:22.732463Z"
    }
   },
   "outputs": [],
   "source": [
    "for i, bb in enumerate(train_loader):\n",
    "    break"
   ]
  },
  {
   "cell_type": "code",
   "execution_count": 9,
   "id": "d40e568e",
   "metadata": {
    "ExecuteTime": {
     "end_time": "2023-08-02T22:03:58.266959Z",
     "start_time": "2023-08-02T22:03:58.207961Z"
    }
   },
   "outputs": [
    {
     "data": {
      "text/plain": [
       "tensor([[[-1.0421e-02, -5.1420e-03, -1.0631e-02,  ...,  0.0000e+00,\n",
       "           0.0000e+00,  0.0000e+00],\n",
       "         [ 4.6977e+00,  4.6504e+00,  4.0143e+00,  ...,  0.0000e+00,\n",
       "           0.0000e+00,  0.0000e+00],\n",
       "         [-2.1989e-02, -3.5567e-02, -2.8496e-02,  ...,  0.0000e+00,\n",
       "           0.0000e+00,  0.0000e+00]],\n",
       "\n",
       "        [[ 6.7657e-02, -4.6331e-02, -5.9609e-02,  ...,  0.0000e+00,\n",
       "           0.0000e+00,  0.0000e+00],\n",
       "         [ 4.9020e+00,  4.5779e+00,  4.0775e+00,  ...,  0.0000e+00,\n",
       "           0.0000e+00,  0.0000e+00],\n",
       "         [-4.8572e-02,  3.7484e-02, -4.7075e-02,  ...,  0.0000e+00,\n",
       "           0.0000e+00,  0.0000e+00]],\n",
       "\n",
       "        [[-1.6790e-01, -1.9235e-01, -1.5715e-01,  ...,  0.0000e+00,\n",
       "           0.0000e+00,  0.0000e+00],\n",
       "         [ 4.5775e+00,  4.0804e+00,  4.0495e+00,  ...,  0.0000e+00,\n",
       "           0.0000e+00,  0.0000e+00],\n",
       "         [ 2.1439e-02,  4.5556e-02,  1.8307e-01,  ...,  0.0000e+00,\n",
       "           0.0000e+00,  0.0000e+00]],\n",
       "\n",
       "        ...,\n",
       "\n",
       "        [[-1.4034e-01, -1.5707e-01, -1.5707e-01,  ...,  0.0000e+00,\n",
       "           0.0000e+00,  0.0000e+00],\n",
       "         [ 4.1507e+00,  4.0257e+00,  4.0095e+00,  ...,  0.0000e+00,\n",
       "           0.0000e+00,  0.0000e+00],\n",
       "         [ 3.3760e-01, -1.9428e-01, -1.9428e-01,  ...,  0.0000e+00,\n",
       "           0.0000e+00,  0.0000e+00]],\n",
       "\n",
       "        [[-2.1985e-03,  3.4361e-02,  1.6558e-02,  ...,  0.0000e+00,\n",
       "           0.0000e+00,  0.0000e+00],\n",
       "         [ 5.2768e+00,  5.0574e+00,  4.1042e+00,  ...,  0.0000e+00,\n",
       "           0.0000e+00,  0.0000e+00],\n",
       "         [ 1.3160e-01,  1.6281e-01, -4.5028e-01,  ...,  0.0000e+00,\n",
       "           0.0000e+00,  0.0000e+00]],\n",
       "\n",
       "        [[-7.8360e-02, -3.8155e-02, -8.4198e-03,  ...,  0.0000e+00,\n",
       "           0.0000e+00,  0.0000e+00],\n",
       "         [ 4.8541e+00,  4.5253e+00,  4.1839e+00,  ...,  0.0000e+00,\n",
       "           0.0000e+00,  0.0000e+00],\n",
       "         [-2.8235e-01, -3.0096e-01,  1.9155e-01,  ...,  0.0000e+00,\n",
       "           0.0000e+00,  0.0000e+00]]])"
      ]
     },
     "execution_count": 9,
     "metadata": {},
     "output_type": "execute_result"
    }
   ],
   "source": [
    "convert_x_py(bb)"
   ]
  },
  {
   "cell_type": "code",
   "execution_count": 10,
   "id": "09070343",
   "metadata": {
    "ExecuteTime": {
     "end_time": "2023-08-02T22:04:02.752455Z",
     "start_time": "2023-08-02T22:04:02.732773Z"
    }
   },
   "outputs": [
    {
     "data": {
      "text/plain": [
       "tensor([[[-2.1989e-02, -3.5567e-02, -2.8496e-02,  ...,  0.0000e+00,\n",
       "           0.0000e+00,  0.0000e+00],\n",
       "         [-1.0421e-02, -5.1420e-03, -1.0631e-02,  ...,  0.0000e+00,\n",
       "           0.0000e+00,  0.0000e+00],\n",
       "         [ 4.6977e+00,  4.6504e+00,  4.0143e+00,  ...,  0.0000e+00,\n",
       "           0.0000e+00,  0.0000e+00]],\n",
       "\n",
       "        [[-4.8572e-02,  3.7484e-02, -4.7075e-02,  ...,  0.0000e+00,\n",
       "           0.0000e+00,  0.0000e+00],\n",
       "         [ 6.7657e-02, -4.6331e-02, -5.9609e-02,  ...,  0.0000e+00,\n",
       "           0.0000e+00,  0.0000e+00],\n",
       "         [ 4.9020e+00,  4.5779e+00,  4.0775e+00,  ...,  0.0000e+00,\n",
       "           0.0000e+00,  0.0000e+00]],\n",
       "\n",
       "        [[ 2.1439e-02,  4.5556e-02,  1.8307e-01,  ...,  0.0000e+00,\n",
       "           0.0000e+00,  0.0000e+00],\n",
       "         [-1.6790e-01, -1.9235e-01, -1.5715e-01,  ...,  0.0000e+00,\n",
       "           0.0000e+00,  0.0000e+00],\n",
       "         [ 4.5775e+00,  4.0804e+00,  4.0495e+00,  ...,  0.0000e+00,\n",
       "           0.0000e+00,  0.0000e+00]],\n",
       "\n",
       "        ...,\n",
       "\n",
       "        [[ 3.3760e-01, -1.9428e-01, -1.9428e-01,  ...,  0.0000e+00,\n",
       "           0.0000e+00,  0.0000e+00],\n",
       "         [-1.4034e-01, -1.5707e-01, -1.5707e-01,  ...,  0.0000e+00,\n",
       "           0.0000e+00,  0.0000e+00],\n",
       "         [ 4.1507e+00,  4.0257e+00,  4.0095e+00,  ...,  0.0000e+00,\n",
       "           0.0000e+00,  0.0000e+00]],\n",
       "\n",
       "        [[ 1.3160e-01,  1.6281e-01, -4.5028e-01,  ...,  0.0000e+00,\n",
       "           0.0000e+00,  0.0000e+00],\n",
       "         [-2.1985e-03,  3.4361e-02,  1.6558e-02,  ...,  0.0000e+00,\n",
       "           0.0000e+00,  0.0000e+00],\n",
       "         [ 5.2768e+00,  5.0574e+00,  4.1042e+00,  ...,  0.0000e+00,\n",
       "           0.0000e+00,  0.0000e+00]],\n",
       "\n",
       "        [[-2.8235e-01, -3.0096e-01,  1.9155e-01,  ...,  0.0000e+00,\n",
       "           0.0000e+00,  0.0000e+00],\n",
       "         [-7.8360e-02, -3.8155e-02, -8.4198e-03,  ...,  0.0000e+00,\n",
       "           0.0000e+00,  0.0000e+00],\n",
       "         [ 4.8541e+00,  4.5253e+00,  4.1839e+00,  ...,  0.0000e+00,\n",
       "           0.0000e+00,  0.0000e+00]]])"
      ]
     },
     "execution_count": 10,
     "metadata": {},
     "output_type": "execute_result"
    }
   ],
   "source": [
    "convert_x(bb)"
   ]
  },
  {
   "cell_type": "markdown",
   "id": "52403854",
   "metadata": {},
   "source": [
    "## Translation"
   ]
  },
  {
   "cell_type": "code",
   "execution_count": 29,
   "id": "2b800cf0",
   "metadata": {
    "ExecuteTime": {
     "end_time": "2023-08-02T22:10:08.479721Z",
     "start_time": "2023-08-02T22:10:08.460351Z"
    }
   },
   "outputs": [],
   "source": [
    "for i, bb in enumerate(train_loader):\n",
    "    break"
   ]
  },
  {
   "cell_type": "code",
   "execution_count": 30,
   "id": "67beb4cd",
   "metadata": {
    "ExecuteTime": {
     "end_time": "2023-08-02T22:10:11.150984Z",
     "start_time": "2023-08-02T22:10:11.062375Z"
    }
   },
   "outputs": [],
   "source": [
    "converted_batch = convert_x(bb)"
   ]
  },
  {
   "cell_type": "code",
   "execution_count": 31,
   "id": "a33a521b",
   "metadata": {
    "ExecuteTime": {
     "end_time": "2023-08-02T22:10:12.741408Z",
     "start_time": "2023-08-02T22:10:12.736225Z"
    }
   },
   "outputs": [
    {
     "data": {
      "text/plain": [
       "device(type='cuda', index=0)"
      ]
     },
     "execution_count": 31,
     "metadata": {},
     "output_type": "execute_result"
    }
   ],
   "source": [
    "converted_batch.device"
   ]
  },
  {
   "cell_type": "code",
   "execution_count": 23,
   "id": "4aca3643",
   "metadata": {
    "ExecuteTime": {
     "end_time": "2023-08-02T22:08:40.031647Z",
     "start_time": "2023-08-02T22:08:40.021870Z"
    }
   },
   "outputs": [],
   "source": [
    "def translate_jets(batch, width=1.0):\n",
    "    mask = (batch[:, 0] > 0).float() # 1 for constituents with non-zero pT, 0 otherwise\n",
    "\n",
    "    # Calculating ptp (max - min) for eta and phi\n",
    "    ptp_eta = (batch[:, 1, :].max(dim=-1, keepdim=True).values - batch[:, 1, :].min(dim=-1, keepdim=True).values)\n",
    "    ptp_phi = (batch[:, 2, :].max(dim=-1, keepdim=True).values - batch[:, 2, :].min(dim=-1, keepdim=True).values)\n",
    "\n",
    "    low_eta = -width * ptp_eta\n",
    "    high_eta = +width * ptp_eta\n",
    "    low_phi = torch.maximum(-width * ptp_phi, -torch.tensor(np.pi) - batch[:, 2, :].min(dim=1).values.reshape(ptp_phi.shape))\n",
    "    high_phi = torch.minimum(+width * ptp_phi, +torch.tensor(np.pi) - batch[:, 2, :].max(dim=1).values.reshape(ptp_phi.shape))\n",
    "\n",
    "    shift_eta = mask * (torch.rand_like(low_eta) * (high_eta - low_eta) + low_eta)\n",
    "    shift_phi = mask * (torch.rand_like(low_phi) * (high_phi - low_phi) + low_phi)\n",
    "    shift = torch.stack([torch.zeros_like(shift_eta), shift_eta, shift_phi], dim=1).squeeze()\n",
    "\n",
    "    shifted_batch = batch + shift\n",
    "    return shifted_batch"
   ]
  },
  {
   "cell_type": "code",
   "execution_count": 32,
   "id": "1cccd55b",
   "metadata": {
    "ExecuteTime": {
     "end_time": "2023-08-02T22:10:17.625281Z",
     "start_time": "2023-08-02T22:10:17.619854Z"
    }
   },
   "outputs": [],
   "source": [
    "new_batch = translate_jets(converted_batch)"
   ]
  },
  {
   "cell_type": "code",
   "execution_count": 67,
   "id": "ec91d6b3",
   "metadata": {
    "ExecuteTime": {
     "end_time": "2023-08-02T17:50:08.215049Z",
     "start_time": "2023-08-02T17:50:08.208268Z"
    }
   },
   "outputs": [
    {
     "data": {
      "text/plain": [
       "tensor([[ 0.0048, -0.0304,  0.0032, -0.0078,  0.0176, -0.0078, -0.0123, -0.0224,\n",
       "         -0.0214,  0.0220, -0.0722,  0.0343,  0.0810,  0.0298, -0.0354,  0.0295,\n",
       "          0.0528,  0.1544,  0.0066, -0.2777, -0.2948,  0.4583, -0.0605,  0.0000,\n",
       "          0.0000,  0.0000,  0.0000,  0.0000,  0.0000,  0.0000,  0.0000,  0.0000,\n",
       "          0.0000,  0.0000,  0.0000,  0.0000,  0.0000,  0.0000,  0.0000,  0.0000,\n",
       "          0.0000,  0.0000,  0.0000,  0.0000,  0.0000,  0.0000,  0.0000,  0.0000,\n",
       "          0.0000,  0.0000,  0.0000,  0.0000,  0.0000,  0.0000,  0.0000,  0.0000,\n",
       "          0.0000,  0.0000,  0.0000,  0.0000,  0.0000,  0.0000,  0.0000,  0.0000,\n",
       "          0.0000,  0.0000,  0.0000,  0.0000,  0.0000,  0.0000,  0.0000,  0.0000,\n",
       "          0.0000,  0.0000,  0.0000,  0.0000,  0.0000,  0.0000,  0.0000,  0.0000,\n",
       "          0.0000,  0.0000,  0.0000,  0.0000,  0.0000,  0.0000,  0.0000,  0.0000,\n",
       "          0.0000,  0.0000],\n",
       "        [-0.0122,  0.1189, -0.0076, -0.0310, -0.0217, -0.0244, -0.0202, -0.0276,\n",
       "         -0.0018, -0.0146, -0.2011, -0.0305, -0.0158,  0.0102, -0.0594, -0.0650,\n",
       "         -0.0311, -0.0536,  0.0585, -0.1146, -0.0621,  0.5959, -0.3987,  0.0000,\n",
       "          0.0000,  0.0000,  0.0000,  0.0000,  0.0000,  0.0000,  0.0000,  0.0000,\n",
       "          0.0000,  0.0000,  0.0000,  0.0000,  0.0000,  0.0000,  0.0000,  0.0000,\n",
       "          0.0000,  0.0000,  0.0000,  0.0000,  0.0000,  0.0000,  0.0000,  0.0000,\n",
       "          0.0000,  0.0000,  0.0000,  0.0000,  0.0000,  0.0000,  0.0000,  0.0000,\n",
       "          0.0000,  0.0000,  0.0000,  0.0000,  0.0000,  0.0000,  0.0000,  0.0000,\n",
       "          0.0000,  0.0000,  0.0000,  0.0000,  0.0000,  0.0000,  0.0000,  0.0000,\n",
       "          0.0000,  0.0000,  0.0000,  0.0000,  0.0000,  0.0000,  0.0000,  0.0000,\n",
       "          0.0000,  0.0000,  0.0000,  0.0000,  0.0000,  0.0000,  0.0000,  0.0000,\n",
       "          0.0000,  0.0000]])"
      ]
     },
     "execution_count": 67,
     "metadata": {},
     "output_type": "execute_result"
    }
   ],
   "source": [
    "converted_batch[0,1:,:]"
   ]
  },
  {
   "cell_type": "code",
   "execution_count": 56,
   "id": "a9fd1c67",
   "metadata": {
    "ExecuteTime": {
     "end_time": "2023-08-02T17:41:51.900738Z",
     "start_time": "2023-08-02T17:41:51.889351Z"
    }
   },
   "outputs": [],
   "source": [
    "new_batch = translate_jets(converted_batch)"
   ]
  },
  {
   "cell_type": "code",
   "execution_count": 61,
   "id": "f12a95d5",
   "metadata": {
    "ExecuteTime": {
     "end_time": "2023-08-02T17:42:39.269021Z",
     "start_time": "2023-08-02T17:42:39.261802Z"
    }
   },
   "outputs": [
    {
     "data": {
      "text/plain": [
       "tensor([0.3241, 0.3241, 0.3241, 0.3241, 0.3241, 0.3241, 0.3241, 0.3241, 0.3241,\n",
       "        0.3241, 0.3241, 0.3241, 0.3241, 0.3241, 0.3241, 0.3241, 0.3241, 0.3241,\n",
       "        0.3241, 0.3241, 0.3241, 0.0000, 0.0000, 0.0000, 0.0000, 0.0000, 0.0000,\n",
       "        0.0000, 0.0000, 0.0000, 0.0000, 0.0000, 0.0000, 0.0000, 0.0000, 0.0000,\n",
       "        0.0000, 0.0000, 0.0000, 0.0000, 0.0000, 0.0000, 0.0000, 0.0000, 0.0000,\n",
       "        0.0000, 0.0000, 0.0000, 0.0000, 0.0000, 0.0000, 0.0000, 0.0000, 0.0000,\n",
       "        0.0000, 0.0000, 0.0000, 0.0000, 0.0000, 0.0000, 0.0000, 0.0000, 0.0000,\n",
       "        0.0000, 0.0000, 0.0000, 0.0000, 0.0000, 0.0000, 0.0000, 0.0000, 0.0000,\n",
       "        0.0000, 0.0000, 0.0000, 0.0000, 0.0000, 0.0000, 0.0000, 0.0000, 0.0000,\n",
       "        0.0000, 0.0000, 0.0000, 0.0000, 0.0000, 0.0000, 0.0000, 0.0000, 0.0000])"
      ]
     },
     "execution_count": 61,
     "metadata": {},
     "output_type": "execute_result"
    }
   ],
   "source": [
    "new_batch[0, 2,:] - converted_batch[0,2,:]"
   ]
  },
  {
   "cell_type": "markdown",
   "id": "1901c218",
   "metadata": {},
   "source": [
    "## Rotation"
   ]
  },
  {
   "cell_type": "code",
   "execution_count": 64,
   "id": "ae4ae681",
   "metadata": {
    "ExecuteTime": {
     "end_time": "2023-08-02T17:49:26.843992Z",
     "start_time": "2023-08-02T17:49:26.839972Z"
    }
   },
   "outputs": [],
   "source": [
    "def rotate_jets(batch):\n",
    "    '''\n",
    "    Input: batch of jets, shape (batchsize, 3, n_constit)\n",
    "    dim 1 ordering: (pT, eta, phi)\n",
    "    Output: batch of jets rotated independently in eta-phi, same shape as input\n",
    "    '''\n",
    "    rot_angle = torch.rand(batch.shape[0]) * 2 * torch.tensor(np.pi)\n",
    "    c = torch.cos(rot_angle)\n",
    "    s = torch.sin(rot_angle)\n",
    "    o = torch.ones_like(rot_angle)\n",
    "    z = torch.zeros_like(rot_angle)\n",
    "    rot_matrix = torch.stack([o, z, z, z, c, -s, z, s, c], dim=1).reshape(-1, 3, 3).transpose(0, 2) # (batchsize, 3, 3)\n",
    "    return torch.einsum('ijk,lji->ilk', batch, rot_matrix)"
   ]
  },
  {
   "cell_type": "code",
   "execution_count": 65,
   "id": "e844639f",
   "metadata": {
    "ExecuteTime": {
     "end_time": "2023-08-02T17:49:27.535635Z",
     "start_time": "2023-08-02T17:49:27.523794Z"
    }
   },
   "outputs": [],
   "source": [
    "new_batch = rotate_jets(converted_batch)"
   ]
  },
  {
   "cell_type": "code",
   "execution_count": 73,
   "id": "8012baa0",
   "metadata": {
    "ExecuteTime": {
     "end_time": "2023-08-02T17:51:44.938781Z",
     "start_time": "2023-08-02T17:51:44.930608Z"
    }
   },
   "outputs": [
    {
     "data": {
      "text/plain": [
       "tensor([[ 0.0048, -0.0304,  0.0032, -0.0078,  0.0176, -0.0078, -0.0123, -0.0224,\n",
       "         -0.0214,  0.0220, -0.0722,  0.0343,  0.0810,  0.0298, -0.0354,  0.0295,\n",
       "          0.0528,  0.1544,  0.0066, -0.2777, -0.2948,  0.4583, -0.0605,  0.0000,\n",
       "          0.0000,  0.0000,  0.0000,  0.0000,  0.0000,  0.0000,  0.0000,  0.0000,\n",
       "          0.0000,  0.0000,  0.0000,  0.0000,  0.0000,  0.0000,  0.0000,  0.0000,\n",
       "          0.0000,  0.0000,  0.0000,  0.0000,  0.0000,  0.0000,  0.0000,  0.0000,\n",
       "          0.0000,  0.0000,  0.0000,  0.0000,  0.0000,  0.0000,  0.0000,  0.0000,\n",
       "          0.0000,  0.0000,  0.0000,  0.0000,  0.0000,  0.0000,  0.0000,  0.0000,\n",
       "          0.0000,  0.0000,  0.0000,  0.0000,  0.0000,  0.0000,  0.0000,  0.0000,\n",
       "          0.0000,  0.0000,  0.0000,  0.0000,  0.0000,  0.0000,  0.0000,  0.0000,\n",
       "          0.0000,  0.0000,  0.0000,  0.0000,  0.0000,  0.0000,  0.0000,  0.0000,\n",
       "          0.0000,  0.0000],\n",
       "        [-0.0122,  0.1189, -0.0076, -0.0310, -0.0217, -0.0244, -0.0202, -0.0276,\n",
       "         -0.0018, -0.0146, -0.2011, -0.0305, -0.0158,  0.0102, -0.0594, -0.0650,\n",
       "         -0.0311, -0.0536,  0.0585, -0.1146, -0.0621,  0.5959, -0.3987,  0.0000,\n",
       "          0.0000,  0.0000,  0.0000,  0.0000,  0.0000,  0.0000,  0.0000,  0.0000,\n",
       "          0.0000,  0.0000,  0.0000,  0.0000,  0.0000,  0.0000,  0.0000,  0.0000,\n",
       "          0.0000,  0.0000,  0.0000,  0.0000,  0.0000,  0.0000,  0.0000,  0.0000,\n",
       "          0.0000,  0.0000,  0.0000,  0.0000,  0.0000,  0.0000,  0.0000,  0.0000,\n",
       "          0.0000,  0.0000,  0.0000,  0.0000,  0.0000,  0.0000,  0.0000,  0.0000,\n",
       "          0.0000,  0.0000,  0.0000,  0.0000,  0.0000,  0.0000,  0.0000,  0.0000,\n",
       "          0.0000,  0.0000,  0.0000,  0.0000,  0.0000,  0.0000,  0.0000,  0.0000,\n",
       "          0.0000,  0.0000,  0.0000,  0.0000,  0.0000,  0.0000,  0.0000,  0.0000,\n",
       "          0.0000,  0.0000]])"
      ]
     },
     "execution_count": 73,
     "metadata": {},
     "output_type": "execute_result"
    }
   ],
   "source": [
    "converted_batch[0,1:,:]"
   ]
  },
  {
   "cell_type": "code",
   "execution_count": 70,
   "id": "d2edb567",
   "metadata": {
    "ExecuteTime": {
     "end_time": "2023-08-02T17:50:38.426145Z",
     "start_time": "2023-08-02T17:50:38.420142Z"
    }
   },
   "outputs": [
    {
     "data": {
      "text/plain": [
       "tensor([[ 2.0638e-04, -1.7214e-02, -8.8983e-05,  1.9022e-02, -8.0113e-03,\n",
       "          1.6462e-02,  1.9039e-02,  3.1191e-02,  2.0445e-02, -1.4775e-02,\n",
       "          1.4339e-01, -2.0112e-02, -6.8857e-02, -3.1422e-02,  5.5396e-02,\n",
       "         -2.5259e-03, -3.6966e-02, -1.2229e-01, -2.8403e-02,  3.0041e-01,\n",
       "          2.9621e-01, -6.5082e-01,  2.0790e-01,  0.0000e+00,  0.0000e+00,\n",
       "          0.0000e+00,  0.0000e+00,  0.0000e+00,  0.0000e+00,  0.0000e+00,\n",
       "          0.0000e+00,  0.0000e+00,  0.0000e+00,  0.0000e+00,  0.0000e+00,\n",
       "          0.0000e+00,  0.0000e+00,  0.0000e+00,  0.0000e+00,  0.0000e+00,\n",
       "          0.0000e+00,  0.0000e+00,  0.0000e+00,  0.0000e+00,  0.0000e+00,\n",
       "          0.0000e+00,  0.0000e+00,  0.0000e+00,  0.0000e+00,  0.0000e+00,\n",
       "          0.0000e+00,  0.0000e+00,  0.0000e+00,  0.0000e+00,  0.0000e+00,\n",
       "          0.0000e+00,  0.0000e+00,  0.0000e+00,  0.0000e+00,  0.0000e+00,\n",
       "          0.0000e+00,  0.0000e+00,  0.0000e+00,  0.0000e+00,  0.0000e+00,\n",
       "          0.0000e+00,  0.0000e+00,  0.0000e+00,  0.0000e+00,  0.0000e+00,\n",
       "          0.0000e+00,  0.0000e+00,  0.0000e+00,  0.0000e+00,  0.0000e+00,\n",
       "          0.0000e+00,  0.0000e+00,  0.0000e+00,  0.0000e+00,  0.0000e+00,\n",
       "          0.0000e+00,  0.0000e+00,  0.0000e+00,  0.0000e+00,  0.0000e+00,\n",
       "          0.0000e+00,  0.0000e+00,  0.0000e+00,  0.0000e+00,  0.0000e+00],\n",
       "        [ 1.3107e-02, -1.2154e-01,  8.2241e-03,  2.5660e-02,  2.6724e-02,\n",
       "          1.9587e-02,  1.3987e-02,  1.6988e-02, -6.4541e-03,  2.1913e-02,\n",
       "          1.5839e-01,  4.1242e-02,  4.5482e-02,  1.9178e-03,  4.1436e-02,\n",
       "          7.1351e-02,  4.8836e-02,  1.0835e-01, -5.1520e-02,  1.0476e-04,\n",
       "         -5.4993e-02, -3.7626e-01,  3.4552e-01,  0.0000e+00,  0.0000e+00,\n",
       "          0.0000e+00,  0.0000e+00,  0.0000e+00,  0.0000e+00,  0.0000e+00,\n",
       "          0.0000e+00,  0.0000e+00,  0.0000e+00,  0.0000e+00,  0.0000e+00,\n",
       "          0.0000e+00,  0.0000e+00,  0.0000e+00,  0.0000e+00,  0.0000e+00,\n",
       "          0.0000e+00,  0.0000e+00,  0.0000e+00,  0.0000e+00,  0.0000e+00,\n",
       "          0.0000e+00,  0.0000e+00,  0.0000e+00,  0.0000e+00,  0.0000e+00,\n",
       "          0.0000e+00,  0.0000e+00,  0.0000e+00,  0.0000e+00,  0.0000e+00,\n",
       "          0.0000e+00,  0.0000e+00,  0.0000e+00,  0.0000e+00,  0.0000e+00,\n",
       "          0.0000e+00,  0.0000e+00,  0.0000e+00,  0.0000e+00,  0.0000e+00,\n",
       "          0.0000e+00,  0.0000e+00,  0.0000e+00,  0.0000e+00,  0.0000e+00,\n",
       "          0.0000e+00,  0.0000e+00,  0.0000e+00,  0.0000e+00,  0.0000e+00,\n",
       "          0.0000e+00,  0.0000e+00,  0.0000e+00,  0.0000e+00,  0.0000e+00,\n",
       "          0.0000e+00,  0.0000e+00,  0.0000e+00,  0.0000e+00,  0.0000e+00,\n",
       "          0.0000e+00,  0.0000e+00,  0.0000e+00,  0.0000e+00,  0.0000e+00]])"
      ]
     },
     "execution_count": 70,
     "metadata": {},
     "output_type": "execute_result"
    }
   ],
   "source": [
    "new_batch[0, 1:,:]"
   ]
  },
  {
   "cell_type": "markdown",
   "id": "df0f04f2",
   "metadata": {},
   "source": [
    "## Normalization"
   ]
  },
  {
   "cell_type": "code",
   "execution_count": 74,
   "id": "1af46fa5",
   "metadata": {
    "ExecuteTime": {
     "end_time": "2023-08-02T17:56:20.541218Z",
     "start_time": "2023-08-02T17:56:20.536640Z"
    }
   },
   "outputs": [],
   "source": [
    "def normalise_pts(batch):\n",
    "    '''\n",
    "    Input: batch of jets, shape (batchsize, 3, n_constit)\n",
    "    dim 1 ordering: (pT, eta, phi)\n",
    "    Output: batch of pT-normalised jets, pT in each jet sums to 1, same shape as input\n",
    "    '''\n",
    "    batch_norm = batch.clone()\n",
    "    pt_sum = batch_norm[:, 0, :].sum(dim=1, keepdim=True)\n",
    "    normalized_pt = batch_norm[:, 0, :] / pt_sum\n",
    "    normalized_pt = torch.nan_to_num(normalized_pt, posinf=0.0, neginf=0.0)\n",
    "    batch_norm[:, 0, :] = normalized_pt\n",
    "    return batch_norm"
   ]
  },
  {
   "cell_type": "code",
   "execution_count": 75,
   "id": "da89ad48",
   "metadata": {
    "ExecuteTime": {
     "end_time": "2023-08-02T17:56:36.632440Z",
     "start_time": "2023-08-02T17:56:36.623295Z"
    }
   },
   "outputs": [],
   "source": [
    "new_batch = normalise_pts(converted_batch)"
   ]
  },
  {
   "cell_type": "code",
   "execution_count": 77,
   "id": "f3848bc0",
   "metadata": {
    "ExecuteTime": {
     "end_time": "2023-08-02T17:57:08.988627Z",
     "start_time": "2023-08-02T17:57:08.978857Z"
    }
   },
   "outputs": [
    {
     "data": {
      "text/plain": [
       "tensor([[1.0000],\n",
       "        [1.0000],\n",
       "        [1.0000],\n",
       "        [1.0000],\n",
       "        [1.0000],\n",
       "        [1.0000],\n",
       "        [1.0000],\n",
       "        [1.0000],\n",
       "        [1.0000],\n",
       "        [1.0000],\n",
       "        [1.0000],\n",
       "        [1.0000],\n",
       "        [1.0000],\n",
       "        [1.0000],\n",
       "        [1.0000],\n",
       "        [1.0000],\n",
       "        [1.0000],\n",
       "        [1.0000],\n",
       "        [1.0000],\n",
       "        [1.0000],\n",
       "        [1.0000],\n",
       "        [1.0000],\n",
       "        [1.0000],\n",
       "        [1.0000],\n",
       "        [1.0000],\n",
       "        [1.0000],\n",
       "        [1.0000],\n",
       "        [1.0000],\n",
       "        [1.0000],\n",
       "        [1.0000],\n",
       "        [1.0000],\n",
       "        [1.0000],\n",
       "        [1.0000],\n",
       "        [1.0000],\n",
       "        [1.0000],\n",
       "        [1.0000],\n",
       "        [1.0000],\n",
       "        [1.0000],\n",
       "        [1.0000],\n",
       "        [1.0000],\n",
       "        [1.0000],\n",
       "        [1.0000],\n",
       "        [1.0000],\n",
       "        [1.0000],\n",
       "        [1.0000],\n",
       "        [1.0000],\n",
       "        [1.0000],\n",
       "        [1.0000],\n",
       "        [1.0000],\n",
       "        [1.0000],\n",
       "        [1.0000],\n",
       "        [1.0000],\n",
       "        [1.0000],\n",
       "        [1.0000],\n",
       "        [1.0000],\n",
       "        [1.0000],\n",
       "        [1.0000],\n",
       "        [1.0000],\n",
       "        [1.0000],\n",
       "        [1.0000],\n",
       "        [1.0000],\n",
       "        [1.0000],\n",
       "        [1.0000],\n",
       "        [1.0000],\n",
       "        [1.0000],\n",
       "        [1.0000],\n",
       "        [1.0000],\n",
       "        [1.0000],\n",
       "        [1.0000],\n",
       "        [1.0000],\n",
       "        [1.0000],\n",
       "        [1.0000],\n",
       "        [1.0000],\n",
       "        [1.0000],\n",
       "        [1.0000],\n",
       "        [1.0000],\n",
       "        [1.0000],\n",
       "        [1.0000],\n",
       "        [1.0000],\n",
       "        [1.0000],\n",
       "        [1.0000],\n",
       "        [1.0000],\n",
       "        [1.0000],\n",
       "        [1.0000],\n",
       "        [1.0000],\n",
       "        [1.0000],\n",
       "        [1.0000],\n",
       "        [1.0000],\n",
       "        [1.0000],\n",
       "        [1.0000],\n",
       "        [1.0000],\n",
       "        [1.0000],\n",
       "        [1.0000],\n",
       "        [1.0000],\n",
       "        [1.0000],\n",
       "        [1.0000],\n",
       "        [1.0000],\n",
       "        [1.0000],\n",
       "        [1.0000],\n",
       "        [1.0000],\n",
       "        [1.0000],\n",
       "        [1.0000],\n",
       "        [1.0000],\n",
       "        [1.0000],\n",
       "        [1.0000],\n",
       "        [1.0000],\n",
       "        [1.0000],\n",
       "        [1.0000],\n",
       "        [1.0000],\n",
       "        [1.0000],\n",
       "        [1.0000],\n",
       "        [1.0000],\n",
       "        [1.0000],\n",
       "        [1.0000],\n",
       "        [1.0000],\n",
       "        [1.0000],\n",
       "        [1.0000],\n",
       "        [1.0000],\n",
       "        [1.0000],\n",
       "        [1.0000],\n",
       "        [1.0000],\n",
       "        [1.0000],\n",
       "        [1.0000],\n",
       "        [1.0000],\n",
       "        [1.0000],\n",
       "        [1.0000],\n",
       "        [1.0000],\n",
       "        [1.0000]])"
      ]
     },
     "execution_count": 77,
     "metadata": {},
     "output_type": "execute_result"
    }
   ],
   "source": [
    "new_batch[:, 0, :].sum(dim=1, keepdim=True)"
   ]
  },
  {
   "cell_type": "markdown",
   "id": "2ea67cfb",
   "metadata": {},
   "source": [
    "## Rescaling"
   ]
  },
  {
   "cell_type": "code",
   "execution_count": 78,
   "id": "99b4850d",
   "metadata": {
    "ExecuteTime": {
     "end_time": "2023-08-02T17:58:15.677296Z",
     "start_time": "2023-08-02T17:58:15.671895Z"
    }
   },
   "outputs": [],
   "source": [
    "def rescale_pts(batch):\n",
    "    '''\n",
    "    Input: batch of jets, shape (batchsize, 3, n_constit)\n",
    "    dim 1 ordering: (pT, eta, phi)\n",
    "    Output: batch of pT-rescaled jets, each constituent pT is rescaled by 600, same shape as input\n",
    "    '''\n",
    "    batch_rscl = batch.clone()\n",
    "    rescaled_pt = batch_rscl[:, 0, :] / 600\n",
    "    rescaled_pt = torch.nan_to_num(rescaled_pt, posinf=0.0, neginf=0.0)\n",
    "    batch_rscl[:, 0, :] = rescaled_pt\n",
    "    return batch_rscl"
   ]
  },
  {
   "cell_type": "code",
   "execution_count": 79,
   "id": "fe8476ed",
   "metadata": {
    "ExecuteTime": {
     "end_time": "2023-08-02T17:58:29.501211Z",
     "start_time": "2023-08-02T17:58:29.489581Z"
    }
   },
   "outputs": [],
   "source": [
    "new_batch = rescale_pts(converted_batch)"
   ]
  },
  {
   "cell_type": "code",
   "execution_count": 82,
   "id": "2902dada",
   "metadata": {
    "ExecuteTime": {
     "end_time": "2023-08-02T17:59:02.410427Z",
     "start_time": "2023-08-02T17:59:02.399920Z"
    }
   },
   "outputs": [
    {
     "data": {
      "text/plain": [
       "tensor([[599.9999],\n",
       "        [600.0000],\n",
       "        [600.0001],\n",
       "        [599.9999],\n",
       "        [600.0001],\n",
       "        [600.0001],\n",
       "        [599.9999],\n",
       "        [600.0000],\n",
       "        [600.0000],\n",
       "        [600.0000],\n",
       "        [599.9999],\n",
       "        [600.0001],\n",
       "        [600.0000],\n",
       "        [600.0001],\n",
       "        [600.0000],\n",
       "        [600.0000],\n",
       "        [600.0001],\n",
       "        [599.9999],\n",
       "        [600.0000],\n",
       "        [600.0001],\n",
       "        [600.0000],\n",
       "        [600.0001],\n",
       "        [599.9999],\n",
       "        [600.0000],\n",
       "        [600.0000],\n",
       "        [600.0000],\n",
       "        [600.0000],\n",
       "        [600.0001],\n",
       "        [600.0000],\n",
       "        [600.0000],\n",
       "        [599.9999],\n",
       "        [599.9999],\n",
       "        [599.9999],\n",
       "        [599.9998],\n",
       "        [599.9999],\n",
       "        [599.9999],\n",
       "        [600.0000],\n",
       "        [600.0000],\n",
       "        [600.0001],\n",
       "        [600.0000],\n",
       "        [600.0000],\n",
       "        [599.9999],\n",
       "        [600.0000],\n",
       "        [600.0000],\n",
       "        [600.0001],\n",
       "        [600.0001],\n",
       "        [599.9999],\n",
       "        [600.0001],\n",
       "        [600.0000],\n",
       "        [599.9999],\n",
       "        [600.0000],\n",
       "        [599.9999],\n",
       "        [600.0001],\n",
       "        [599.9999],\n",
       "        [600.0000],\n",
       "        [600.0001],\n",
       "        [600.0000],\n",
       "        [600.0000],\n",
       "        [600.0001],\n",
       "        [600.0001],\n",
       "        [600.0000],\n",
       "        [600.0000],\n",
       "        [600.0000],\n",
       "        [600.0000],\n",
       "        [599.9999],\n",
       "        [600.0001],\n",
       "        [600.0000],\n",
       "        [600.0001],\n",
       "        [599.9999],\n",
       "        [600.0001],\n",
       "        [599.9999],\n",
       "        [600.0000],\n",
       "        [600.0001],\n",
       "        [599.9999],\n",
       "        [600.0000],\n",
       "        [600.0000],\n",
       "        [600.0000],\n",
       "        [600.0000],\n",
       "        [600.0001],\n",
       "        [600.0001],\n",
       "        [600.0000],\n",
       "        [600.0001],\n",
       "        [600.0001],\n",
       "        [600.0000],\n",
       "        [600.0000],\n",
       "        [600.0000],\n",
       "        [600.0001],\n",
       "        [600.0000],\n",
       "        [600.0000],\n",
       "        [600.0001],\n",
       "        [599.9999],\n",
       "        [599.9999],\n",
       "        [599.9999],\n",
       "        [600.0000],\n",
       "        [599.9999],\n",
       "        [600.0000],\n",
       "        [600.0000],\n",
       "        [599.9999],\n",
       "        [599.9999],\n",
       "        [600.0000],\n",
       "        [600.0000],\n",
       "        [600.0000],\n",
       "        [600.0000],\n",
       "        [600.0001],\n",
       "        [600.0000],\n",
       "        [600.0001],\n",
       "        [600.0001],\n",
       "        [600.0001],\n",
       "        [600.0000],\n",
       "        [600.0000],\n",
       "        [599.9999],\n",
       "        [600.0000],\n",
       "        [600.0001],\n",
       "        [599.9999],\n",
       "        [600.0000],\n",
       "        [600.0000],\n",
       "        [600.0000],\n",
       "        [600.0000],\n",
       "        [600.0000],\n",
       "        [600.0001],\n",
       "        [600.0000],\n",
       "        [600.0000],\n",
       "        [600.0000],\n",
       "        [599.9999],\n",
       "        [600.0001],\n",
       "        [600.0000],\n",
       "        [600.0000],\n",
       "        [599.9999]])"
      ]
     },
     "execution_count": 82,
     "metadata": {},
     "output_type": "execute_result"
    }
   ],
   "source": [
    "converted_batch[:, 0, :].sum(dim=1, keepdim=True) / new_batch[:, 0, :].sum(dim=1, keepdim=True)"
   ]
  },
  {
   "cell_type": "code",
   "execution_count": 80,
   "id": "bacb753d",
   "metadata": {
    "ExecuteTime": {
     "end_time": "2023-08-02T17:58:37.009668Z",
     "start_time": "2023-08-02T17:58:37.000892Z"
    }
   },
   "outputs": [
    {
     "data": {
      "text/plain": [
       "tensor([[0.0680],\n",
       "        [0.0970],\n",
       "        [0.1118],\n",
       "        [0.0763],\n",
       "        [0.1033],\n",
       "        [0.0805],\n",
       "        [0.1160],\n",
       "        [0.1597],\n",
       "        [0.0755],\n",
       "        [0.1042],\n",
       "        [0.1156],\n",
       "        [0.0717],\n",
       "        [0.1223],\n",
       "        [0.0849],\n",
       "        [0.0677],\n",
       "        [0.0375],\n",
       "        [0.0727],\n",
       "        [0.0970],\n",
       "        [0.0544],\n",
       "        [0.0806],\n",
       "        [0.1030],\n",
       "        [0.0754],\n",
       "        [0.1688],\n",
       "        [0.1244],\n",
       "        [0.0335],\n",
       "        [0.0499],\n",
       "        [0.0941],\n",
       "        [0.1180],\n",
       "        [0.0766],\n",
       "        [0.1024],\n",
       "        [0.0964],\n",
       "        [0.1082],\n",
       "        [0.0713],\n",
       "        [0.1247],\n",
       "        [0.0491],\n",
       "        [0.1013],\n",
       "        [0.1620],\n",
       "        [0.0781],\n",
       "        [0.0794],\n",
       "        [0.0637],\n",
       "        [0.1218],\n",
       "        [0.1279],\n",
       "        [0.1579],\n",
       "        [0.1243],\n",
       "        [0.1416],\n",
       "        [0.0782],\n",
       "        [0.1440],\n",
       "        [0.1353],\n",
       "        [0.1100],\n",
       "        [0.1818],\n",
       "        [0.0536],\n",
       "        [0.1345],\n",
       "        [0.0931],\n",
       "        [0.0282],\n",
       "        [0.1512],\n",
       "        [0.0762],\n",
       "        [0.0762],\n",
       "        [0.0619],\n",
       "        [0.0946],\n",
       "        [0.0941],\n",
       "        [0.1132],\n",
       "        [0.1079],\n",
       "        [0.0901],\n",
       "        [0.1397],\n",
       "        [0.1165],\n",
       "        [0.0948],\n",
       "        [0.1495],\n",
       "        [0.0900],\n",
       "        [0.1322],\n",
       "        [0.1322],\n",
       "        [0.1408],\n",
       "        [0.0854],\n",
       "        [0.1255],\n",
       "        [0.1431],\n",
       "        [0.1679],\n",
       "        [0.1451],\n",
       "        [0.1501],\n",
       "        [0.1933],\n",
       "        [0.1206],\n",
       "        [0.1250],\n",
       "        [0.1145],\n",
       "        [0.1427],\n",
       "        [0.1117],\n",
       "        [0.1161],\n",
       "        [0.1025],\n",
       "        [0.1223],\n",
       "        [0.0964],\n",
       "        [0.1314],\n",
       "        [0.0868],\n",
       "        [0.1089],\n",
       "        [0.0573],\n",
       "        [0.0952],\n",
       "        [0.0638],\n",
       "        [0.0911],\n",
       "        [0.0624],\n",
       "        [0.0807],\n",
       "        [0.1276],\n",
       "        [0.0665],\n",
       "        [0.0509],\n",
       "        [0.0726],\n",
       "        [0.1189],\n",
       "        [0.0686],\n",
       "        [0.1184],\n",
       "        [0.1343],\n",
       "        [0.1272],\n",
       "        [0.1744],\n",
       "        [0.0949],\n",
       "        [0.0905],\n",
       "        [0.1797],\n",
       "        [0.1536],\n",
       "        [0.1665],\n",
       "        [0.0589],\n",
       "        [0.1029],\n",
       "        [0.1357],\n",
       "        [0.0654],\n",
       "        [0.0918],\n",
       "        [0.1283],\n",
       "        [0.0439],\n",
       "        [0.0766],\n",
       "        [0.1036],\n",
       "        [0.1057],\n",
       "        [0.1189],\n",
       "        [0.1319],\n",
       "        [0.0756],\n",
       "        [0.1161],\n",
       "        [0.1716],\n",
       "        [0.1044],\n",
       "        [0.1043]])"
      ]
     },
     "execution_count": 80,
     "metadata": {},
     "output_type": "execute_result"
    }
   ],
   "source": [
    "new_batch[:, 0, :].sum(dim=1, keepdim=True)"
   ]
  },
  {
   "cell_type": "markdown",
   "id": "5dc1a72a",
   "metadata": {},
   "source": [
    "## Cropping"
   ]
  },
  {
   "cell_type": "code",
   "execution_count": 83,
   "id": "e73a0803",
   "metadata": {
    "ExecuteTime": {
     "end_time": "2023-08-02T18:01:03.683722Z",
     "start_time": "2023-08-02T18:01:03.679038Z"
    }
   },
   "outputs": [],
   "source": [
    "def crop_jets( batch, nc=50):\n",
    "    '''\n",
    "    Input: batch of jets, shape (batchsize, 3, n_constit)\n",
    "    dim 1 ordering: (pT, eta, phi)\n",
    "    Output: batch of cropped jets, each jet is cropped to nc constituents, shape (batchsize, 3, nc)\n",
    "    '''\n",
    "    batch_crop = batch.clone()\n",
    "    return batch_crop[:,:,0:nc]"
   ]
  },
  {
   "cell_type": "code",
   "execution_count": 84,
   "id": "3d5c8be8",
   "metadata": {
    "ExecuteTime": {
     "end_time": "2023-08-02T18:01:21.237460Z",
     "start_time": "2023-08-02T18:01:21.224506Z"
    }
   },
   "outputs": [],
   "source": [
    "new_batch = crop_jets(converted_batch)"
   ]
  },
  {
   "cell_type": "code",
   "execution_count": 85,
   "id": "28d5034d",
   "metadata": {
    "ExecuteTime": {
     "end_time": "2023-08-02T18:01:28.066031Z",
     "start_time": "2023-08-02T18:01:28.060835Z"
    }
   },
   "outputs": [
    {
     "data": {
      "text/plain": [
       "torch.Size([128, 3, 50])"
      ]
     },
     "execution_count": 85,
     "metadata": {},
     "output_type": "execute_result"
    }
   ],
   "source": [
    "new_batch.shape"
   ]
  },
  {
   "cell_type": "markdown",
   "id": "c2acbe91",
   "metadata": {},
   "source": [
    "## Soft splitting"
   ]
  },
  {
   "cell_type": "code",
   "execution_count": 92,
   "id": "b35acc9d",
   "metadata": {
    "ExecuteTime": {
     "end_time": "2023-08-02T18:06:44.215786Z",
     "start_time": "2023-08-02T18:06:44.209755Z"
    }
   },
   "outputs": [],
   "source": [
    "def distort_jets(batch, strength=0.1, pT_clip_min=0.1):\n",
    "    '''\n",
    "    Input: batch of jets, shape (batchsize, 3, n_constit)\n",
    "    dim 1 ordering: (pT, eta, phi)\n",
    "    Output: batch of jets with each constituents position shifted independently, \n",
    "            shifts drawn from normal with mean 0, std strength/pT, same shape as input\n",
    "    '''\n",
    "    mask = (batch[:, 0] > 0).float() # 1 for constituents with non-zero pT, 0 otherwise\n",
    "    pT = batch[:, 0]  # (batchsize, n_constit)\n",
    "    clipped_pT = pT.clamp(min=pT_clip_min)\n",
    "    \n",
    "    shift_eta = mask * torch.randn_like(pT) * strength / clipped_pT\n",
    "    shift_eta = torch.nan_to_num(shift_eta, posinf=0.0, neginf=0.0)\n",
    "    \n",
    "    shift_phi = mask * torch.randn_like(pT) * strength / clipped_pT\n",
    "    shift_phi = torch.nan_to_num(shift_phi, posinf=0.0, neginf=0.0)\n",
    "    \n",
    "    zeros_tensor = torch.zeros_like(shift_eta)\n",
    "    shift = torch.stack([zeros_tensor, shift_eta, shift_phi], dim=1)\n",
    "    return batch + shift"
   ]
  },
  {
   "cell_type": "code",
   "execution_count": 93,
   "id": "b08a77ce",
   "metadata": {
    "ExecuteTime": {
     "end_time": "2023-08-02T18:06:44.861736Z",
     "start_time": "2023-08-02T18:06:44.809519Z"
    }
   },
   "outputs": [],
   "source": [
    "new_batch = distort_jets(converted_batch)"
   ]
  },
  {
   "cell_type": "code",
   "execution_count": 94,
   "id": "6680bd57",
   "metadata": {
    "ExecuteTime": {
     "end_time": "2023-08-02T18:06:45.545666Z",
     "start_time": "2023-08-02T18:06:45.537588Z"
    }
   },
   "outputs": [
    {
     "data": {
      "text/plain": [
       "tensor([ 0.0048, -0.0304,  0.0032, -0.0078,  0.0176, -0.0078, -0.0123, -0.0224,\n",
       "        -0.0214,  0.0220, -0.0722,  0.0343,  0.0810,  0.0298, -0.0354,  0.0295,\n",
       "         0.0528,  0.1544,  0.0066, -0.2777, -0.2948,  0.4583, -0.0605,  0.0000,\n",
       "         0.0000,  0.0000,  0.0000,  0.0000,  0.0000,  0.0000,  0.0000,  0.0000,\n",
       "         0.0000,  0.0000,  0.0000,  0.0000,  0.0000,  0.0000,  0.0000,  0.0000,\n",
       "         0.0000,  0.0000,  0.0000,  0.0000,  0.0000,  0.0000,  0.0000,  0.0000,\n",
       "         0.0000,  0.0000,  0.0000,  0.0000,  0.0000,  0.0000,  0.0000,  0.0000,\n",
       "         0.0000,  0.0000,  0.0000,  0.0000,  0.0000,  0.0000,  0.0000,  0.0000,\n",
       "         0.0000,  0.0000,  0.0000,  0.0000,  0.0000,  0.0000,  0.0000,  0.0000,\n",
       "         0.0000,  0.0000,  0.0000,  0.0000,  0.0000,  0.0000,  0.0000,  0.0000,\n",
       "         0.0000,  0.0000,  0.0000,  0.0000,  0.0000,  0.0000,  0.0000,  0.0000,\n",
       "         0.0000,  0.0000])"
      ]
     },
     "execution_count": 94,
     "metadata": {},
     "output_type": "execute_result"
    }
   ],
   "source": [
    "converted_batch[0,1,:]"
   ]
  },
  {
   "cell_type": "code",
   "execution_count": 95,
   "id": "5af03637",
   "metadata": {
    "ExecuteTime": {
     "end_time": "2023-08-02T18:06:51.194012Z",
     "start_time": "2023-08-02T18:06:51.188712Z"
    }
   },
   "outputs": [
    {
     "data": {
      "text/plain": [
       "tensor([ 3.8488e-03, -1.4790e-02,  1.0660e-02, -1.6686e-02,  1.4937e-02,\n",
       "        -3.1109e-02,  4.1678e-02,  2.6737e-04,  6.9504e-03,  2.5316e-02,\n",
       "        -8.1712e-02,  5.1337e-02,  1.2423e-01,  1.3699e-01,  1.7869e-02,\n",
       "        -8.2534e-02,  1.9962e-01, -7.8314e-02, -2.3362e-03, -2.6009e-01,\n",
       "        -7.7566e-01,  4.5826e-01, -6.0504e-02,  0.0000e+00,  0.0000e+00,\n",
       "         0.0000e+00,  0.0000e+00,  0.0000e+00,  0.0000e+00,  0.0000e+00,\n",
       "         0.0000e+00,  0.0000e+00,  0.0000e+00,  0.0000e+00,  0.0000e+00,\n",
       "         0.0000e+00,  0.0000e+00,  0.0000e+00,  0.0000e+00,  0.0000e+00,\n",
       "         0.0000e+00,  0.0000e+00,  0.0000e+00,  0.0000e+00,  0.0000e+00,\n",
       "         0.0000e+00,  0.0000e+00,  0.0000e+00,  0.0000e+00,  0.0000e+00,\n",
       "         0.0000e+00,  0.0000e+00,  0.0000e+00,  0.0000e+00,  0.0000e+00,\n",
       "         0.0000e+00,  0.0000e+00,  0.0000e+00,  0.0000e+00,  0.0000e+00,\n",
       "         0.0000e+00,  0.0000e+00,  0.0000e+00,  0.0000e+00,  0.0000e+00,\n",
       "         0.0000e+00,  0.0000e+00,  0.0000e+00,  0.0000e+00,  0.0000e+00,\n",
       "         0.0000e+00,  0.0000e+00,  0.0000e+00,  0.0000e+00,  0.0000e+00,\n",
       "         0.0000e+00,  0.0000e+00,  0.0000e+00,  0.0000e+00,  0.0000e+00,\n",
       "         0.0000e+00,  0.0000e+00,  0.0000e+00,  0.0000e+00,  0.0000e+00,\n",
       "         0.0000e+00,  0.0000e+00,  0.0000e+00,  0.0000e+00,  0.0000e+00])"
      ]
     },
     "execution_count": 95,
     "metadata": {},
     "output_type": "execute_result"
    }
   ],
   "source": [
    "new_batch[0,1,:]"
   ]
  },
  {
   "cell_type": "markdown",
   "id": "55c2383f",
   "metadata": {},
   "source": [
    "## Collinear splitting"
   ]
  },
  {
   "cell_type": "code",
   "execution_count": null,
   "id": "3f9225fd",
   "metadata": {},
   "outputs": [],
   "source": [
    "for i, bb in enumerate(train_loader):\n",
    "    break\n",
    "converted_batch = convert_x(bb).to(device)"
   ]
  },
  {
   "cell_type": "code",
   "execution_count": 124,
   "id": "ff394845",
   "metadata": {
    "ExecuteTime": {
     "end_time": "2023-08-02T18:28:54.737111Z",
     "start_time": "2023-08-02T18:28:54.733774Z"
    }
   },
   "outputs": [],
   "source": [
    "def are_all_nonzero_elements_unique(tensor):\n",
    "    non_zero_elements = tensor[tensor != 0]\n",
    "    unique_elements = torch.unique(non_zero_elements)\n",
    "    return unique_elements.numel() == non_zero_elements.numel()"
   ]
  },
  {
   "cell_type": "code",
   "execution_count": 125,
   "id": "65379b96",
   "metadata": {
    "ExecuteTime": {
     "end_time": "2023-08-02T18:29:00.640673Z",
     "start_time": "2023-08-02T18:29:00.634945Z"
    }
   },
   "outputs": [
    {
     "data": {
      "text/plain": [
       "True"
      ]
     },
     "execution_count": 125,
     "metadata": {},
     "output_type": "execute_result"
    }
   ],
   "source": [
    "are_all_nonzero_elements_unique(converted_batch[0,1,:])"
   ]
  },
  {
   "cell_type": "code",
   "execution_count": 306,
   "id": "063e4899",
   "metadata": {
    "ExecuteTime": {
     "end_time": "2023-08-02T21:49:42.379413Z",
     "start_time": "2023-08-02T21:49:42.375051Z"
    }
   },
   "outputs": [
    {
     "data": {
      "text/plain": [
       "device(type='cuda', index=0)"
      ]
     },
     "execution_count": 306,
     "metadata": {},
     "output_type": "execute_result"
    }
   ],
   "source": [
    "converted_batch.device"
   ]
  },
  {
   "cell_type": "code",
   "execution_count": 307,
   "id": "9215bd18",
   "metadata": {
    "ExecuteTime": {
     "end_time": "2023-08-02T21:49:50.017402Z",
     "start_time": "2023-08-02T21:49:50.007338Z"
    }
   },
   "outputs": [],
   "source": [
    "def collinear_fill_jets_2(batch):\n",
    "    '''\n",
    "    Input: batch of jets, shape (batchsize, 3, n_constit)\n",
    "    dim 1 ordering: (pT, eta, phi)\n",
    "    Output: batch of jets with collinear splittings, the function attempts to fill as many of the zero-padded args.nconstit\n",
    "    entries with collinear splittings of the constituents by splitting each constituent at most once, same shape as input\n",
    "    '''\n",
    "    cloned_batch = batch.clone()\n",
    "    num_constituents = batch.shape[2]\n",
    "    num_non_zeros = (batch[:, 0, :] != 0.0).sum(dim=-1)\n",
    "#     num_non_zeros = np.array( [ np.where( batch[:,0,:][i]>0.0)[0].shape[0] for i in range(len(batch)) ] )\n",
    "    \n",
    "    for batch_idx in range(len(batch)):\n",
    "        \n",
    "#         max_non_zeros = max(num_non_zeros[batch_idx], int(num_constituents / 2))\n",
    "        num_zeros_to_fill = min([num_non_zeros[batch_idx], num_constituents - num_non_zeros[batch_idx]])\n",
    "        elements_to_split = torch.randperm(num_non_zeros[batch_idx])[:num_zeros_to_fill]\n",
    "#         elements_to_split = np.random.choice( np.linspace(0,num_zeros_to_fill-1,num_zeros_to_fill), size=num_zeros_to_fill, replace=False )\n",
    "        random_scaling_factors = torch.rand(num_zeros_to_fill)\n",
    "\n",
    "        for split_idx in range(num_zeros_to_fill):\n",
    "            element_idx = int(elements_to_split[split_idx])\n",
    "            scaling_factor = random_scaling_factors[split_idx]\n",
    "            original_pt = batch[batch_idx, 0, element_idx]\n",
    "            cloned_batch[batch_idx, 0, element_idx] = scaling_factor * original_pt\n",
    "#             cloned_batch[batch_idx, 0, int(num_non_zeros[batch_idx] + split_idx)] = (1 - scaling_factor) * batch[batch_idx, 0, element_idx]\n",
    "            \n",
    "            cloned_batch[batch_idx, 0, int(num_non_zeros[batch_idx] + split_idx)] = original_pt - cloned_batch[batch_idx, 0, element_idx]\n",
    "#             total = cloned_batch[batch_idx, 0, int(num_non_zeros[batch_idx] + split_idx)] + cloned_batch[batch_idx, 0, element_idx]\n",
    "#             print(abs(total.item() - original_pt.item() < 0.001))\n",
    "            cloned_batch[batch_idx, 1, int(num_non_zeros[batch_idx] + split_idx)] = batch[batch_idx, 1, element_idx]\n",
    "            cloned_batch[batch_idx, 2, int(num_non_zeros[batch_idx] + split_idx)] = batch[batch_idx, 2, element_idx]\n",
    "\n",
    "    return cloned_batch"
   ]
  },
  {
   "cell_type": "code",
   "execution_count": 308,
   "id": "d730968d",
   "metadata": {
    "ExecuteTime": {
     "end_time": "2023-08-02T21:49:52.343205Z",
     "start_time": "2023-08-02T21:49:51.605277Z"
    }
   },
   "outputs": [
    {
     "data": {
      "text/plain": [
       "tensor([[[ 2.2190e-01,  3.0742e+00,  1.6362e+00,  ...,  0.0000e+00,\n",
       "           0.0000e+00,  0.0000e+00],\n",
       "         [ 4.8051e-03, -3.0414e-02,  3.2171e-03,  ...,  0.0000e+00,\n",
       "           0.0000e+00,  0.0000e+00],\n",
       "         [-1.2196e-02,  1.1893e-01, -7.5693e-03,  ...,  0.0000e+00,\n",
       "           0.0000e+00,  0.0000e+00]],\n",
       "\n",
       "        [[ 2.2420e+00,  4.0446e+00,  2.0844e+00,  ...,  0.0000e+00,\n",
       "           0.0000e+00,  0.0000e+00],\n",
       "         [-2.7744e-02,  1.4459e-02, -1.4909e-03,  ...,  0.0000e+00,\n",
       "           0.0000e+00,  0.0000e+00],\n",
       "         [-9.5150e-03,  1.1490e-02,  5.4397e-02,  ...,  0.0000e+00,\n",
       "           0.0000e+00,  0.0000e+00]],\n",
       "\n",
       "        [[ 8.3519e-01,  4.0517e-02,  2.9810e+00,  ...,  0.0000e+00,\n",
       "           0.0000e+00,  0.0000e+00],\n",
       "         [-6.2029e-02,  5.5684e-02, -5.2199e-03,  ...,  0.0000e+00,\n",
       "           0.0000e+00,  0.0000e+00],\n",
       "         [-2.9171e-02,  9.4480e-02,  3.1358e-02,  ...,  0.0000e+00,\n",
       "           0.0000e+00,  0.0000e+00]],\n",
       "\n",
       "        ...,\n",
       "\n",
       "        [[ 1.3188e+00,  1.7132e-01,  3.7863e+00,  ..., -2.1401e-01,\n",
       "           1.2412e+00,  1.2582e-01],\n",
       "         [-1.2788e-01,  3.3035e-02,  1.3589e-02,  ...,  2.8695e-01,\n",
       "          -1.4604e-01, -3.1506e-01],\n",
       "         [-5.5486e-01,  1.1927e-01,  1.4941e-01,  ..., -6.1060e-01,\n",
       "          -5.0032e-02, -3.6900e-02]],\n",
       "\n",
       "        [[ 2.1402e+00,  9.2961e-01,  8.9722e-03,  ...,  0.0000e+00,\n",
       "           0.0000e+00,  0.0000e+00],\n",
       "         [-1.8329e-02, -1.6968e-02,  1.4202e-01,  ...,  0.0000e+00,\n",
       "           0.0000e+00,  0.0000e+00],\n",
       "         [ 9.2324e-02,  1.0426e-01,  1.8587e-01,  ...,  0.0000e+00,\n",
       "           0.0000e+00,  0.0000e+00]],\n",
       "\n",
       "        [[ 1.1334e+00,  4.4111e-01,  2.9438e-01,  ...,  0.0000e+00,\n",
       "           0.0000e+00,  0.0000e+00],\n",
       "         [ 8.2718e-02, -6.9137e-02,  7.8678e-02,  ...,  0.0000e+00,\n",
       "           0.0000e+00,  0.0000e+00],\n",
       "         [ 1.1965e-01, -3.7819e-01,  1.2172e-01,  ...,  0.0000e+00,\n",
       "           0.0000e+00,  0.0000e+00]]], device='cuda:0')"
      ]
     },
     "execution_count": 308,
     "metadata": {},
     "output_type": "execute_result"
    }
   ],
   "source": [
    "collinear_fill_jets_2(converted_batch)"
   ]
  },
  {
   "cell_type": "code",
   "execution_count": 312,
   "id": "b2bb3563",
   "metadata": {
    "ExecuteTime": {
     "end_time": "2023-08-02T21:54:23.356601Z",
     "start_time": "2023-08-02T21:54:23.350909Z"
    }
   },
   "outputs": [],
   "source": [
    "def collinear_fill_jets_np( batch ):\n",
    "    '''\n",
    "    Input: batch of jets, shape (batchsize, 3, n_constit)\n",
    "    dim 1 ordering: (pT, eta, phi)\n",
    "    Output: batch of jets with collinear splittings, the function attempts to fill as many of the zero-padded args.nconstit\n",
    "    entries with collinear splittings of the constituents by splitting each constituent at most once, same shape as input\n",
    "    '''\n",
    "    batchb = batch.copy()\n",
    "    nc = batch.shape[2]  # number of constituents\n",
    "    nzs = np.array( [ np.where( batch[:,0,:][i]!=0.0)[0].shape[0] for i in range(len(batch)) ] ) # number of non-zero elements\n",
    "    for k in range(len(batch)):\n",
    "        zs1 = np.min([nzs[k], nc-nzs[k]])  # number of zero padded entries to fill\n",
    "        els = np.random.choice( np.linspace(0,nzs[k]-1,nzs[k]), size=zs1, replace=False )\n",
    "        rs = np.random.uniform( size=zs1 ) # scaling factor\n",
    "        for j in range(zs1):\n",
    "            # split pT\n",
    "            batchb[k,0,int(els[j])] = rs[j]*batch[k,0,int(els[j])]\n",
    "            batchb[k,0,int(nzs[k]+j)] = (1-rs[j])*batch[k,0,int(els[j])]\n",
    "            # keep eta and phi\n",
    "            batchb[k,1,int(nzs[k]+j)] = batch[k,1,int(els[j])]\n",
    "            batchb[k,2,int(nzs[k]+j)] = batch[k,2,int(els[j])]\n",
    "    return torch.tensor(batchb).to(device)"
   ]
  },
  {
   "cell_type": "code",
   "execution_count": 313,
   "id": "020dcb4b",
   "metadata": {
    "ExecuteTime": {
     "end_time": "2023-08-02T21:54:25.992018Z",
     "start_time": "2023-08-02T21:54:25.951656Z"
    }
   },
   "outputs": [
    {
     "data": {
      "text/plain": [
       "tensor([[[ 5.0245e+00,  1.6125e+00,  1.2359e+00,  ...,  0.0000e+00,\n",
       "           0.0000e+00,  0.0000e+00],\n",
       "         [ 4.8051e-03, -3.0414e-02,  3.2171e-03,  ...,  0.0000e+00,\n",
       "           0.0000e+00,  0.0000e+00],\n",
       "         [-1.2196e-02,  1.1893e-01, -7.5693e-03,  ...,  0.0000e+00,\n",
       "           0.0000e+00,  0.0000e+00]],\n",
       "\n",
       "        [[ 3.8368e-02,  2.9158e+00,  1.7454e+00,  ...,  0.0000e+00,\n",
       "           0.0000e+00,  0.0000e+00],\n",
       "         [-2.7744e-02,  1.4459e-02, -1.4909e-03,  ...,  0.0000e+00,\n",
       "           0.0000e+00,  0.0000e+00],\n",
       "         [-9.5150e-03,  1.1490e-02,  5.4397e-02,  ...,  0.0000e+00,\n",
       "           0.0000e+00,  0.0000e+00]],\n",
       "\n",
       "        [[ 2.5912e-01,  3.0305e+00,  3.6987e+00,  ...,  0.0000e+00,\n",
       "           0.0000e+00,  0.0000e+00],\n",
       "         [-6.2029e-02,  5.5684e-02, -5.2199e-03,  ...,  0.0000e+00,\n",
       "           0.0000e+00,  0.0000e+00],\n",
       "         [-2.9171e-02,  9.4480e-02,  3.1358e-02,  ...,  0.0000e+00,\n",
       "           0.0000e+00,  0.0000e+00]],\n",
       "\n",
       "        ...,\n",
       "\n",
       "        [[ 2.6528e+00,  3.7950e+00,  7.0484e-01,  ...,  1.1565e+00,\n",
       "           1.5306e+00,  5.1913e-01],\n",
       "         [-1.2788e-01,  3.3035e-02,  1.3589e-02,  ...,  2.6447e-02,\n",
       "          -2.2365e-01, -1.4604e-01],\n",
       "         [-5.5486e-01,  1.1927e-01,  1.4941e-01,  ...,  1.0961e-01,\n",
       "          -2.0432e-01, -5.0032e-02]],\n",
       "\n",
       "        [[ 3.1920e+00,  2.4725e+00,  9.9486e-01,  ...,  0.0000e+00,\n",
       "           0.0000e+00,  0.0000e+00],\n",
       "         [-1.8329e-02, -1.6968e-02,  1.4202e-01,  ...,  0.0000e+00,\n",
       "           0.0000e+00,  0.0000e+00],\n",
       "         [ 9.2324e-02,  1.0426e-01,  1.8587e-01,  ...,  0.0000e+00,\n",
       "           0.0000e+00,  0.0000e+00]],\n",
       "\n",
       "        [[ 4.0936e+00,  3.2991e+00,  1.7716e+00,  ...,  0.0000e+00,\n",
       "           0.0000e+00,  0.0000e+00],\n",
       "         [ 8.2718e-02, -6.9137e-02,  7.8678e-02,  ...,  0.0000e+00,\n",
       "           0.0000e+00,  0.0000e+00],\n",
       "         [ 1.1965e-01, -3.7819e-01,  1.2172e-01,  ...,  0.0000e+00,\n",
       "           0.0000e+00,  0.0000e+00]]], device='cuda:0')"
      ]
     },
     "execution_count": 313,
     "metadata": {},
     "output_type": "execute_result"
    }
   ],
   "source": [
    "collinear_fill_jets_np(np.array(converted_batch.cpu()))"
   ]
  },
  {
   "cell_type": "code",
   "execution_count": 292,
   "id": "a921ebd1",
   "metadata": {
    "ExecuteTime": {
     "end_time": "2023-08-02T21:39:36.262783Z",
     "start_time": "2023-08-02T21:39:36.235060Z"
    }
   },
   "outputs": [],
   "source": [
    "new_batch = collinear_fill_jets_np(np.array(converted_batch.cpu()))"
   ]
  },
  {
   "cell_type": "code",
   "execution_count": 293,
   "id": "b32c7ca3",
   "metadata": {
    "ExecuteTime": {
     "end_time": "2023-08-02T21:39:40.662479Z",
     "start_time": "2023-08-02T21:39:40.655031Z"
    }
   },
   "outputs": [
    {
     "data": {
      "text/plain": [
       "array([[ 0.00480515, -0.03041375,  0.0032171 , -0.00780481,  0.01759285,\n",
       "        -0.00775272, -0.01226979, -0.02236104, -0.02136147,  0.02201229,\n",
       "        -0.07218915,  0.03431445,  0.08099574,  0.02978092, -0.03541929,\n",
       "         0.02953249,  0.05279046,  0.1543557 ,  0.00662047, -0.27768683,\n",
       "        -0.2948079 ,  0.45826262, -0.0605036 , -0.02236104, -0.02136147,\n",
       "        -0.03041375,  0.00662047,  0.03431445, -0.00780481,  0.08099574,\n",
       "         0.45826262,  0.1543557 ,  0.0032171 , -0.07218915,  0.02201229,\n",
       "         0.01759285, -0.0605036 , -0.03541929, -0.00775272, -0.2948079 ,\n",
       "         0.02953249,  0.00480515,  0.05279046, -0.01226979, -0.27768683,\n",
       "         0.02978092,  0.        ,  0.        ,  0.        ,  0.        ,\n",
       "         0.        ,  0.        ,  0.        ,  0.        ,  0.        ,\n",
       "         0.        ,  0.        ,  0.        ,  0.        ,  0.        ,\n",
       "         0.        ,  0.        ,  0.        ,  0.        ,  0.        ,\n",
       "         0.        ,  0.        ,  0.        ,  0.        ,  0.        ,\n",
       "         0.        ,  0.        ,  0.        ,  0.        ,  0.        ,\n",
       "         0.        ,  0.        ,  0.        ,  0.        ,  0.        ,\n",
       "         0.        ,  0.        ,  0.        ,  0.        ,  0.        ,\n",
       "         0.        ,  0.        ,  0.        ,  0.        ,  0.        ],\n",
       "       [-0.01219583,  0.11892605, -0.00756931, -0.03097343, -0.02165246,\n",
       "        -0.02438331, -0.02018809, -0.02759433, -0.00182629, -0.01462722,\n",
       "        -0.2010858 , -0.03046203, -0.01580191,  0.01020432, -0.05942297,\n",
       "        -0.06500149, -0.03105879, -0.05355239,  0.05845642, -0.11460447,\n",
       "        -0.06206656,  0.5959265 , -0.3986795 , -0.02759433, -0.00182629,\n",
       "         0.11892605,  0.05845642, -0.03046203, -0.03097343, -0.01580191,\n",
       "         0.5959265 , -0.05355239, -0.00756931, -0.2010858 , -0.01462722,\n",
       "        -0.02165246, -0.3986795 , -0.05942297, -0.02438331, -0.06206656,\n",
       "        -0.06500149, -0.01219583, -0.03105879, -0.02018809, -0.11460447,\n",
       "         0.01020432,  0.        ,  0.        ,  0.        ,  0.        ,\n",
       "         0.        ,  0.        ,  0.        ,  0.        ,  0.        ,\n",
       "         0.        ,  0.        ,  0.        ,  0.        ,  0.        ,\n",
       "         0.        ,  0.        ,  0.        ,  0.        ,  0.        ,\n",
       "         0.        ,  0.        ,  0.        ,  0.        ,  0.        ,\n",
       "         0.        ,  0.        ,  0.        ,  0.        ,  0.        ,\n",
       "         0.        ,  0.        ,  0.        ,  0.        ,  0.        ,\n",
       "         0.        ,  0.        ,  0.        ,  0.        ,  0.        ,\n",
       "         0.        ,  0.        ,  0.        ,  0.        ,  0.        ]],\n",
       "      dtype=float32)"
      ]
     },
     "execution_count": 293,
     "metadata": {},
     "output_type": "execute_result"
    }
   ],
   "source": [
    "new_batch[0,1:]"
   ]
  },
  {
   "cell_type": "code",
   "execution_count": 207,
   "id": "1bdf1995",
   "metadata": {
    "ExecuteTime": {
     "end_time": "2023-08-02T20:42:11.048300Z",
     "start_time": "2023-08-02T20:42:11.042634Z"
    }
   },
   "outputs": [
    {
     "data": {
      "text/plain": [
       "tensor([ 0.0048, -0.0304,  0.0032, -0.0078,  0.0176, -0.0078, -0.0123, -0.0224,\n",
       "        -0.0214,  0.0220, -0.0722,  0.0343,  0.0810,  0.0298, -0.0354,  0.0295,\n",
       "         0.0528,  0.1544,  0.0066, -0.2777, -0.2948,  0.4583, -0.0605,  0.0000,\n",
       "         0.0000,  0.0000,  0.0000,  0.0000,  0.0000,  0.0000,  0.0000,  0.0000,\n",
       "         0.0000,  0.0000,  0.0000,  0.0000,  0.0000,  0.0000,  0.0000,  0.0000,\n",
       "         0.0000,  0.0000,  0.0000,  0.0000,  0.0000,  0.0000,  0.0000,  0.0000,\n",
       "         0.0000,  0.0000,  0.0000,  0.0000,  0.0000,  0.0000,  0.0000,  0.0000,\n",
       "         0.0000,  0.0000,  0.0000,  0.0000,  0.0000,  0.0000,  0.0000,  0.0000,\n",
       "         0.0000,  0.0000,  0.0000,  0.0000,  0.0000,  0.0000,  0.0000,  0.0000,\n",
       "         0.0000,  0.0000,  0.0000,  0.0000,  0.0000,  0.0000,  0.0000,  0.0000,\n",
       "         0.0000,  0.0000,  0.0000,  0.0000,  0.0000,  0.0000,  0.0000,  0.0000,\n",
       "         0.0000,  0.0000])"
      ]
     },
     "execution_count": 207,
     "metadata": {},
     "output_type": "execute_result"
    }
   ],
   "source": [
    "converted_batch[0,1,:]"
   ]
  },
  {
   "cell_type": "code",
   "execution_count": 304,
   "id": "d20e14b5",
   "metadata": {
    "ExecuteTime": {
     "end_time": "2023-08-02T21:49:04.878535Z",
     "start_time": "2023-08-02T21:49:04.503237Z"
    }
   },
   "outputs": [],
   "source": [
    "split_dict = {}\n",
    "k=0\n",
    "for i in range(new_batch.shape[2]):\n",
    "    split_dict[i] = []\n",
    "    for j in range(new_batch.shape[2]):\n",
    "        if new_batch[k,1,j] == new_batch[k,1,i] and new_batch[k,2,j] == new_batch[k,2,i] and new_batch[k,1,i] != 0:\n",
    "            split_dict[i].append(j)"
   ]
  },
  {
   "cell_type": "code",
   "execution_count": 305,
   "id": "c81fc46c",
   "metadata": {
    "ExecuteTime": {
     "end_time": "2023-08-02T21:49:05.042277Z",
     "start_time": "2023-08-02T21:49:05.020722Z"
    }
   },
   "outputs": [
    {
     "name": "stdout",
     "output_type": "stream",
     "text": [
      "0 tensor(0., device='cuda:0')\n",
      "1 tensor(0., device='cuda:0')\n",
      "2 tensor(0., device='cuda:0')\n",
      "3 tensor(0., device='cuda:0')\n",
      "4 tensor(0., device='cuda:0')\n",
      "5 tensor(0., device='cuda:0')\n",
      "6 tensor(0., device='cuda:0')\n",
      "7 tensor(0., device='cuda:0')\n",
      "8 tensor(0., device='cuda:0')\n",
      "9 tensor(0., device='cuda:0')\n",
      "10 tensor(0., device='cuda:0')\n",
      "11 tensor(0., device='cuda:0')\n",
      "12 tensor(0., device='cuda:0')\n",
      "13 tensor(0., device='cuda:0')\n",
      "14 tensor(0., device='cuda:0')\n",
      "15 tensor(0., device='cuda:0')\n",
      "16 tensor(0., device='cuda:0')\n",
      "17 tensor(0., device='cuda:0')\n",
      "18 tensor(0., device='cuda:0')\n",
      "19 tensor(0., device='cuda:0')\n",
      "20 tensor(0., device='cuda:0')\n",
      "21 tensor(0., device='cuda:0')\n",
      "22 tensor(0., device='cuda:0')\n",
      "23 tensor(0., device='cuda:0')\n",
      "24 tensor(0., device='cuda:0')\n",
      "25 tensor(0., device='cuda:0')\n",
      "26 tensor(0., device='cuda:0')\n",
      "27 tensor(0., device='cuda:0')\n",
      "28 tensor(0., device='cuda:0')\n",
      "29 tensor(0., device='cuda:0')\n",
      "30 tensor(0., device='cuda:0')\n",
      "31 tensor(0., device='cuda:0')\n",
      "32 tensor(0., device='cuda:0')\n",
      "33 tensor(0., device='cuda:0')\n",
      "34 tensor(0., device='cuda:0')\n",
      "35 tensor(0., device='cuda:0')\n",
      "36 tensor(0., device='cuda:0')\n",
      "37 tensor(0., device='cuda:0')\n",
      "38 tensor(0., device='cuda:0')\n",
      "39 tensor(0., device='cuda:0')\n",
      "40 tensor(0., device='cuda:0')\n",
      "41 tensor(0., device='cuda:0')\n",
      "42 tensor(0., device='cuda:0')\n",
      "43 tensor(0., device='cuda:0')\n",
      "44 tensor(0., device='cuda:0')\n",
      "45 tensor(0., device='cuda:0')\n"
     ]
    }
   ],
   "source": [
    "for i in split_dict.keys():\n",
    "    if len(split_dict[i]) == 2:\n",
    "        print(i, new_batch[k,0,split_dict[i][0]] + new_batch[k,0,split_dict[i][1]] - converted_batch[k,0,min(split_dict[i])].item())"
   ]
  },
  {
   "cell_type": "code",
   "execution_count": 279,
   "id": "63d36022",
   "metadata": {
    "ExecuteTime": {
     "end_time": "2023-08-02T21:35:59.464654Z",
     "start_time": "2023-08-02T21:35:59.450746Z"
    }
   },
   "outputs": [
    {
     "name": "stdout",
     "output_type": "stream",
     "text": [
      "0: True\n",
      "1: True\n",
      "2: False\n",
      "3: True\n",
      "4: False\n",
      "5: False\n",
      "6: False\n",
      "7: False\n",
      "8: True\n",
      "9: False\n",
      "10: False\n",
      "11: True\n",
      "12: False\n",
      "13: False\n",
      "14: True\n",
      "15: True\n",
      "16: False\n",
      "17: True\n",
      "18: True\n",
      "19: True\n",
      "20: False\n",
      "21: False\n",
      "22: False\n",
      "23: True\n",
      "24: True\n",
      "25: True\n",
      "26: True\n",
      "27: False\n",
      "28: True\n",
      "29: False\n",
      "30: True\n",
      "31: False\n",
      "32: True\n",
      "33: False\n",
      "34: True\n",
      "35: False\n",
      "36: False\n",
      "37: False\n",
      "38: False\n",
      "39: True\n",
      "40: True\n",
      "41: False\n",
      "42: True\n",
      "43: False\n",
      "44: False\n",
      "45: False\n",
      "46: False\n",
      "47: True\n",
      "48: False\n",
      "49: False\n",
      "50: True\n",
      "51: False\n",
      "52: False\n",
      "53: True\n",
      "54: False\n",
      "55: False\n",
      "56: True\n",
      "57: True\n",
      "58: False\n",
      "59: False\n",
      "60: False\n",
      "61: True\n",
      "62: False\n",
      "63: True\n",
      "64: False\n",
      "65: False\n",
      "66: False\n",
      "67: False\n",
      "68: False\n",
      "69: False\n",
      "70: False\n",
      "71: False\n",
      "72: True\n",
      "73: False\n",
      "74: False\n",
      "75: False\n",
      "76: False\n",
      "77: False\n",
      "78: False\n",
      "79: False\n",
      "80: False\n",
      "81: False\n",
      "82: False\n",
      "83: False\n",
      "84: True\n",
      "85: False\n",
      "86: True\n",
      "87: False\n",
      "88: False\n",
      "89: True\n",
      "90: True\n",
      "91: False\n",
      "92: True\n",
      "93: True\n",
      "94: True\n",
      "95: False\n",
      "96: True\n",
      "97: True\n",
      "98: False\n",
      "99: True\n",
      "100: False\n",
      "101: False\n",
      "102: False\n",
      "103: True\n",
      "104: False\n",
      "105: False\n",
      "106: True\n",
      "107: False\n",
      "108: False\n",
      "109: False\n",
      "110: False\n",
      "111: True\n",
      "112: False\n",
      "113: True\n",
      "114: False\n",
      "115: True\n",
      "116: True\n",
      "117: False\n",
      "118: False\n",
      "119: True\n",
      "120: False\n",
      "121: True\n",
      "122: True\n",
      "123: True\n",
      "124: True\n",
      "125: False\n",
      "126: True\n",
      "127: False\n"
     ]
    }
   ],
   "source": [
    "for i in range(128):\n",
    "    print(f\"{i}: {are_all_nonzero_elements_unique(converted_batch[i,1,:])}\")\n",
    "    "
   ]
  },
  {
   "cell_type": "code",
   "execution_count": 271,
   "id": "972d17f5",
   "metadata": {
    "ExecuteTime": {
     "end_time": "2023-08-02T21:33:56.248972Z",
     "start_time": "2023-08-02T21:33:56.239915Z"
    }
   },
   "outputs": [
    {
     "data": {
      "text/plain": [
       "{0: [0],\n",
       " 1: [1],\n",
       " 2: [2],\n",
       " 3: [3],\n",
       " 4: [4],\n",
       " 5: [5],\n",
       " 6: [6],\n",
       " 7: [7],\n",
       " 8: [8],\n",
       " 9: [9],\n",
       " 10: [10],\n",
       " 11: [11],\n",
       " 12: [12],\n",
       " 13: [13],\n",
       " 14: [14],\n",
       " 15: [15],\n",
       " 16: [16],\n",
       " 17: [17],\n",
       " 18: [18],\n",
       " 19: [19],\n",
       " 20: [20],\n",
       " 21: [21],\n",
       " 22: [22],\n",
       " 23: [23],\n",
       " 24: [24],\n",
       " 25: [25],\n",
       " 26: [26],\n",
       " 27: [27],\n",
       " 28: [28],\n",
       " 29: [29],\n",
       " 30: [30],\n",
       " 31: [31],\n",
       " 32: [32],\n",
       " 33: [33],\n",
       " 34: [34],\n",
       " 35: [35, 79],\n",
       " 36: [36],\n",
       " 37: [37],\n",
       " 38: [38],\n",
       " 39: [39, 87],\n",
       " 40: [40],\n",
       " 41: [41],\n",
       " 42: [42],\n",
       " 43: [43],\n",
       " 44: [44],\n",
       " 45: [45],\n",
       " 46: [46],\n",
       " 47: [47],\n",
       " 48: [48, 74],\n",
       " 49: [49],\n",
       " 50: [50],\n",
       " 51: [51],\n",
       " 52: [52],\n",
       " 53: [53],\n",
       " 54: [54],\n",
       " 55: [55],\n",
       " 56: [56],\n",
       " 57: [57],\n",
       " 58: [58],\n",
       " 59: [59],\n",
       " 60: [60],\n",
       " 61: [61],\n",
       " 62: [62],\n",
       " 63: [63],\n",
       " 64: [64],\n",
       " 65: [65],\n",
       " 66: [66],\n",
       " 67: [67],\n",
       " 68: [68],\n",
       " 69: [69],\n",
       " 70: [70, 89],\n",
       " 71: [71],\n",
       " 72: [72],\n",
       " 73: [73],\n",
       " 74: [48, 74],\n",
       " 75: [75],\n",
       " 76: [76],\n",
       " 77: [77],\n",
       " 78: [78],\n",
       " 79: [35, 79],\n",
       " 80: [80],\n",
       " 81: [81],\n",
       " 82: [82],\n",
       " 83: [83],\n",
       " 84: [84],\n",
       " 85: [85],\n",
       " 86: [86],\n",
       " 87: [39, 87],\n",
       " 88: [88],\n",
       " 89: [70, 89]}"
      ]
     },
     "execution_count": 271,
     "metadata": {},
     "output_type": "execute_result"
    }
   ],
   "source": [
    "split_dict"
   ]
  },
  {
   "cell_type": "code",
   "execution_count": 32,
   "id": "bed1148a",
   "metadata": {
    "ExecuteTime": {
     "end_time": "2023-08-02T23:13:02.336691Z",
     "start_time": "2023-08-02T23:13:02.331121Z"
    }
   },
   "outputs": [],
   "source": [
    "def collinear_fill_jets( batch ):\n",
    "    '''\n",
    "    Input: batch of jets, shape (batchsize, 3, n_constit)\n",
    "    dim 1 ordering: (pT, eta, phi)\n",
    "    Output: batch of jets with collinear splittings, the function attempts to fill as many of the zero-padded args.nconstit\n",
    "    entries with collinear splittings of the constituents by splitting each constituent at most once, same shape as input\n",
    "    '''\n",
    "    batchb = batch.copy()\n",
    "    nc = batch.shape[2]\n",
    "    nzs = np.array( [ np.where( batch[:,0,:][i]!=0.0)[0].shape[0] for i in range(len(batch)) ] )\n",
    "    print(nzs)\n",
    "    for k in range(len(batch)):\n",
    "        nzs1 = np.max( [ nzs[k], int(nc/2) ] )\n",
    "        zs1 = int(nc-nzs1)\n",
    "        els = np.random.choice( np.linspace(0,nzs1-1,nzs1), size=zs1, replace=False )\n",
    "        rs = np.random.uniform( size=zs1 )\n",
    "        if k == 0:\n",
    "            print(f\"nzs[k]:{nzs[k]}\")\n",
    "            print(f\"els: {els.shape}\")\n",
    "            print(23 in els)\n",
    "        for j in range(zs1):\n",
    "            batchb[k,0,int(els[j])] = rs[j]*batch[k,0,int(els[j])]\n",
    "            batchb[k,0,int(nzs[k]+j)] = (1-rs[j])*batch[k,0,int(els[j])]\n",
    "            batchb[k,1,int(nzs[k]+j)] = batch[k,1,int(els[j])]\n",
    "            batchb[k,2,int(nzs[k]+j)] = batch[k,2,int(els[j])]\n",
    "    return batchb"
   ]
  },
  {
   "cell_type": "code",
   "execution_count": 12,
   "id": "a9fabad5",
   "metadata": {
    "ExecuteTime": {
     "end_time": "2023-08-02T23:03:17.336763Z",
     "start_time": "2023-08-02T23:03:17.305142Z"
    }
   },
   "outputs": [],
   "source": [
    "converted_batch = convert_x(bb)"
   ]
  },
  {
   "cell_type": "code",
   "execution_count": 33,
   "id": "88ab2b11",
   "metadata": {
    "ExecuteTime": {
     "end_time": "2023-08-02T23:13:03.756525Z",
     "start_time": "2023-08-02T23:13:03.714264Z"
    }
   },
   "outputs": [
    {
     "name": "stdout",
     "output_type": "stream",
     "text": [
      "[23 43 41 25 73 55 53 70 27 64 89 28 71 29 40 22 41 43 13 25 57 32 76 57\n",
      " 27 16 23 50 40 44 42 42 25 65 21 44 61 23 32 26 53 47 55 67 54 36 81 62\n",
      " 62 66 13 45 68 23 69 30 30 34 49 34 48 65 41 78 41 32 81 50 52 60 57 39\n",
      " 54 57 73 53 77 90 48 59 53 67 49 43 49 52 39 55 39 37 21 33 21 44 25 48\n",
      " 56 21 44 36 53 33 54 45 59 69 44 34 69 64 80 17 39 60 44 31 62 18 49 35\n",
      " 52 42 59 37 62 59 28 39]\n",
      "nzs[k]:23\n",
      "els: (45,)\n",
      "True\n"
     ]
    }
   ],
   "source": [
    "new_batch = collinear_fill_jets(np.array(converted_batch.cpu()))"
   ]
  },
  {
   "cell_type": "code",
   "execution_count": 25,
   "id": "c05816df",
   "metadata": {
    "ExecuteTime": {
     "end_time": "2023-08-02T23:08:39.532094Z",
     "start_time": "2023-08-02T23:08:39.521388Z"
    },
    "collapsed": true
   },
   "outputs": [
    {
     "name": "stdout",
     "output_type": "stream",
     "text": [
      "torch.Size([23, 3])\n",
      "torch.Size([43, 3])\n",
      "torch.Size([41, 3])\n",
      "torch.Size([25, 3])\n",
      "torch.Size([73, 3])\n",
      "torch.Size([55, 3])\n",
      "torch.Size([53, 3])\n",
      "torch.Size([70, 3])\n",
      "torch.Size([27, 3])\n",
      "torch.Size([64, 3])\n",
      "torch.Size([89, 3])\n",
      "torch.Size([28, 3])\n",
      "torch.Size([71, 3])\n",
      "torch.Size([29, 3])\n",
      "torch.Size([40, 3])\n",
      "torch.Size([22, 3])\n",
      "torch.Size([41, 3])\n",
      "torch.Size([43, 3])\n",
      "torch.Size([13, 3])\n",
      "torch.Size([25, 3])\n",
      "torch.Size([57, 3])\n",
      "torch.Size([32, 3])\n",
      "torch.Size([76, 3])\n",
      "torch.Size([57, 3])\n",
      "torch.Size([27, 3])\n",
      "torch.Size([16, 3])\n",
      "torch.Size([23, 3])\n",
      "torch.Size([50, 3])\n",
      "torch.Size([40, 3])\n",
      "torch.Size([44, 3])\n",
      "torch.Size([42, 3])\n",
      "torch.Size([42, 3])\n",
      "torch.Size([25, 3])\n",
      "torch.Size([65, 3])\n",
      "torch.Size([21, 3])\n",
      "torch.Size([44, 3])\n",
      "torch.Size([61, 3])\n",
      "torch.Size([23, 3])\n",
      "torch.Size([32, 3])\n",
      "torch.Size([26, 3])\n",
      "torch.Size([53, 3])\n",
      "torch.Size([47, 3])\n",
      "torch.Size([55, 3])\n",
      "torch.Size([67, 3])\n",
      "torch.Size([54, 3])\n",
      "torch.Size([36, 3])\n",
      "torch.Size([81, 3])\n",
      "torch.Size([62, 3])\n",
      "torch.Size([62, 3])\n",
      "torch.Size([66, 3])\n",
      "torch.Size([13, 3])\n",
      "torch.Size([45, 3])\n",
      "torch.Size([68, 3])\n",
      "torch.Size([23, 3])\n",
      "torch.Size([69, 3])\n",
      "torch.Size([30, 3])\n",
      "torch.Size([30, 3])\n",
      "torch.Size([34, 3])\n",
      "torch.Size([49, 3])\n",
      "torch.Size([34, 3])\n",
      "torch.Size([48, 3])\n",
      "torch.Size([65, 3])\n",
      "torch.Size([41, 3])\n",
      "torch.Size([78, 3])\n",
      "torch.Size([41, 3])\n",
      "torch.Size([32, 3])\n",
      "torch.Size([81, 3])\n",
      "torch.Size([50, 3])\n",
      "torch.Size([52, 3])\n",
      "torch.Size([60, 3])\n",
      "torch.Size([57, 3])\n",
      "torch.Size([39, 3])\n",
      "torch.Size([54, 3])\n",
      "torch.Size([57, 3])\n",
      "torch.Size([73, 3])\n",
      "torch.Size([53, 3])\n",
      "torch.Size([77, 3])\n",
      "torch.Size([90, 3])\n",
      "torch.Size([48, 3])\n",
      "torch.Size([59, 3])\n",
      "torch.Size([53, 3])\n",
      "torch.Size([67, 3])\n",
      "torch.Size([49, 3])\n",
      "torch.Size([43, 3])\n",
      "torch.Size([49, 3])\n",
      "torch.Size([52, 3])\n",
      "torch.Size([39, 3])\n",
      "torch.Size([55, 3])\n",
      "torch.Size([39, 3])\n",
      "torch.Size([37, 3])\n",
      "torch.Size([21, 3])\n",
      "torch.Size([33, 3])\n",
      "torch.Size([21, 3])\n",
      "torch.Size([44, 3])\n",
      "torch.Size([25, 3])\n",
      "torch.Size([48, 3])\n",
      "torch.Size([56, 3])\n",
      "torch.Size([21, 3])\n",
      "torch.Size([44, 3])\n",
      "torch.Size([36, 3])\n",
      "torch.Size([53, 3])\n",
      "torch.Size([33, 3])\n",
      "torch.Size([54, 3])\n",
      "torch.Size([45, 3])\n",
      "torch.Size([59, 3])\n",
      "torch.Size([69, 3])\n",
      "torch.Size([44, 3])\n",
      "torch.Size([34, 3])\n",
      "torch.Size([69, 3])\n",
      "torch.Size([64, 3])\n",
      "torch.Size([80, 3])\n",
      "torch.Size([17, 3])\n",
      "torch.Size([39, 3])\n",
      "torch.Size([60, 3])\n",
      "torch.Size([44, 3])\n",
      "torch.Size([31, 3])\n",
      "torch.Size([62, 3])\n",
      "torch.Size([18, 3])\n",
      "torch.Size([49, 3])\n",
      "torch.Size([35, 3])\n",
      "torch.Size([52, 3])\n",
      "torch.Size([42, 3])\n",
      "torch.Size([59, 3])\n",
      "torch.Size([37, 3])\n",
      "torch.Size([62, 3])\n",
      "torch.Size([59, 3])\n",
      "torch.Size([28, 3])\n",
      "torch.Size([39, 3])\n"
     ]
    }
   ],
   "source": [
    "for i in range(128):\n",
    "    print(bb[i].x.shape)"
   ]
  },
  {
   "cell_type": "code",
   "execution_count": 28,
   "id": "7d7747ad",
   "metadata": {
    "ExecuteTime": {
     "end_time": "2023-08-02T23:09:19.545519Z",
     "start_time": "2023-08-02T23:09:19.541749Z"
    }
   },
   "outputs": [
    {
     "data": {
      "text/plain": [
       "array([ 3.5951667 ,  1.3918711 ,  2.7377632 ,  3.1586854 ,  1.0422342 ,\n",
       "        2.639468  ,  0.21917054,  1.0453333 ,  0.8468509 ,  0.5749914 ,\n",
       "        1.4674066 ,  0.4539976 ,  1.0031737 ,  0.5150111 ,  0.86192113,\n",
       "        0.4999498 ,  0.0963839 ,  0.12090765,  0.19472317,  0.11526545,\n",
       "        0.02369792, -0.015419  , -1.1311806 ,  0.        ,  0.03653057,\n",
       "        0.        ,  0.        ,  0.        ,  0.        ,  0.        ,\n",
       "        0.        ,  0.        ,  0.        ,  0.        ,  0.        ,\n",
       "        0.        ,  0.        ,  0.        ,  0.        ,  0.        ,\n",
       "        0.        ,  0.        ,  0.        ,  0.        ,  0.        ,\n",
       "        1.3832604 ,  1.5746067 ,  1.7138896 ,  2.2210484 ,  2.3937337 ,\n",
       "        0.        ,  0.44604877,  0.        ,  0.        ,  0.        ,\n",
       "        0.        ,  0.        ,  0.        ,  0.        ,  0.8752433 ,\n",
       "        0.        ,  0.        ,  1.413772  ,  0.19832505,  0.        ,\n",
       "       -0.6592403 ,  0.        ,  0.        ,  0.        ,  0.        ,\n",
       "        0.        ,  0.        ,  0.        ,  0.        ,  0.        ,\n",
       "        0.        ,  0.        ,  0.        ,  0.        ,  0.        ,\n",
       "        0.        ,  0.        ,  0.        ,  0.        ,  0.        ,\n",
       "        0.        ,  0.        ,  0.        ,  0.        ,  0.        ],\n",
       "      dtype=float32)"
      ]
     },
     "execution_count": 28,
     "metadata": {},
     "output_type": "execute_result"
    }
   ],
   "source": [
    "new_batch[0,0,:]"
   ]
  },
  {
   "cell_type": "code",
   "execution_count": 29,
   "id": "976a17e1",
   "metadata": {
    "ExecuteTime": {
     "end_time": "2023-08-02T23:09:22.617476Z",
     "start_time": "2023-08-02T23:09:22.598049Z"
    }
   },
   "outputs": [
    {
     "data": {
      "text/plain": [
       "array([ 5.816215  ,  4.316429  ,  4.31237   ,  3.3570106 ,  2.7561238 ,\n",
       "        2.6759984 ,  2.6129043 ,  2.2736187 ,  2.091402  ,  1.9887633 ,\n",
       "        1.9134554 ,  1.837258  ,  1.5402927 ,  1.3902544 ,  1.0075308 ,\n",
       "        0.7134997 ,  0.6245758 ,  0.54390323,  0.48727167,  0.24372263,\n",
       "        0.13339488, -0.6746593 , -1.1519126 ,  0.        ,  0.        ,\n",
       "        0.        ,  0.        ,  0.        ,  0.        ,  0.        ,\n",
       "        0.        ,  0.        ,  0.        ,  0.        ,  0.        ,\n",
       "        0.        ,  0.        ,  0.        ,  0.        ,  0.        ,\n",
       "        0.        ,  0.        ,  0.        ,  0.        ,  0.        ,\n",
       "        0.        ,  0.        ,  0.        ,  0.        ,  0.        ,\n",
       "        0.        ,  0.        ,  0.        ,  0.        ,  0.        ,\n",
       "        0.        ,  0.        ,  0.        ,  0.        ,  0.        ,\n",
       "        0.        ,  0.        ,  0.        ,  0.        ,  0.        ,\n",
       "        0.        ,  0.        ,  0.        ,  0.        ,  0.        ,\n",
       "        0.        ,  0.        ,  0.        ,  0.        ,  0.        ,\n",
       "        0.        ,  0.        ,  0.        ,  0.        ,  0.        ,\n",
       "        0.        ,  0.        ,  0.        ,  0.        ,  0.        ,\n",
       "        0.        ,  0.        ,  0.        ,  0.        ,  0.        ],\n",
       "      dtype=float32)"
      ]
     },
     "execution_count": 29,
     "metadata": {},
     "output_type": "execute_result"
    }
   ],
   "source": [
    "np.array(converted_batch.cpu())[0,0,:]"
   ]
  },
  {
   "cell_type": "code",
   "execution_count": null,
   "id": "6cc88cc0",
   "metadata": {},
   "outputs": [],
   "source": []
  }
 ],
 "metadata": {
  "kernelspec": {
   "display_name": "Python 3 (ipykernel)",
   "language": "python",
   "name": "python3"
  },
  "language_info": {
   "codemirror_mode": {
    "name": "ipython",
    "version": 3
   },
   "file_extension": ".py",
   "mimetype": "text/x-python",
   "name": "python",
   "nbconvert_exporter": "python",
   "pygments_lexer": "ipython3",
   "version": "3.10.10"
  }
 },
 "nbformat": 4,
 "nbformat_minor": 5
}
