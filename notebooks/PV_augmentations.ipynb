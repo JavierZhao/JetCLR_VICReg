{
 "cells": [
  {
   "cell_type": "code",
   "execution_count": 1,
   "id": "9b222cee",
   "metadata": {},
   "outputs": [],
   "source": [
    "import glob\n",
    "import os\n",
    "import sys\n",
    "\n",
    "sys.path.insert(0, \"hbb_interaction_network\")\n",
    "\n",
    "import pickle as pkl\n",
    "import time\n",
    "from itertools import cycle\n",
    "\n",
    "import matplotlib\n",
    "import matplotlib.pyplot as plt\n",
    "import matplotlib.colors as colors\n",
    "import mplhep as hep\n",
    "import numpy as np\n",
    "import pandas as pd\n",
    "import torch\n",
    "import torch.nn as nn\n",
    "import torch_geometric\n",
    "from sklearn.metrics import auc, roc_curve\n",
    "from torch_geometric.data import Batch, Data\n",
    "from torch_geometric.loader import DataListLoader, DataLoader\n",
    "\n",
    "import awkward as ak\n",
    "import fastjet\n",
    "import vector\n",
    "\n",
    "plt.style.use(hep.style.CMS)\n",
    "plt.rcParams.update({\"font.size\": 20})\n",
    "\n",
    "from tqdm.notebook import tqdm"
   ]
  },
  {
   "cell_type": "code",
   "execution_count": 2,
   "id": "70a0a1c2",
   "metadata": {},
   "outputs": [
    {
     "name": "stdout",
     "output_type": "stream",
     "text": [
      "Device 0: NVIDIA A10\n"
     ]
    }
   ],
   "source": [
    "# define the global base device\n",
    "world_size = torch.cuda.device_count()\n",
    "multi_gpu = world_size >= 2\n",
    "if world_size:\n",
    "    device = torch.device(\"cuda:0\")\n",
    "    for i in range(world_size):\n",
    "        print(f\"Device {i}: {torch.cuda.get_device_name(i)}\")\n",
    "else:\n",
    "    device = \"cpu\"\n",
    "    print(\"Device: CPU\")"
   ]
  },
  {
   "cell_type": "code",
   "execution_count": 3,
   "id": "76f3064d",
   "metadata": {},
   "outputs": [],
   "source": [
    "# ! pip install torch_geometric fastjet"
   ]
  },
  {
   "cell_type": "code",
   "execution_count": 3,
   "id": "4ecccaa8",
   "metadata": {},
   "outputs": [
    {
     "name": "stdout",
     "output_type": "stream",
     "text": [
      "toptagging/test/processed:\n",
      "data_0.pt  data_1.pt  data_2.pt  data_3.pt  data_quick.pt\n",
      "\n",
      "toptagging/train/processed:\n",
      "data_0.pt   data_11.pt\tdata_2.pt  data_4.pt  data_6.pt  data_8.pt\n",
      "data_10.pt  data_1.pt\tdata_3.pt  data_5.pt  data_7.pt  data_9.pt\n",
      "\n",
      "toptagging/val/processed:\n",
      "data_0.pt  data_1.pt  data_2.pt  data_3.pt\n"
     ]
    }
   ],
   "source": [
    "! ls toptagging/*/processed"
   ]
  },
  {
   "cell_type": "code",
   "execution_count": 4,
   "id": "e18c94b8",
   "metadata": {},
   "outputs": [
    {
     "name": "stdout",
     "output_type": "stream",
     "text": [
      "--- loaded file 0 from `train` directory\n",
      "--- loaded file 1 from `train` directory\n",
      "--- loaded file 0 from `val` directory\n"
     ]
    }
   ],
   "source": [
    "# load the datafiles\n",
    "def load_data(dataset_path, flag, n_files=-1):\n",
    "    data_files = glob.glob(f\"{dataset_path}/{flag}/processed/*\")\n",
    "        \n",
    "    data = []\n",
    "    for i, file in enumerate(data_files):\n",
    "        data += torch.load(f\"{dataset_path}/{flag}/processed/data_{i}.pt\")\n",
    "        print(f\"--- loaded file {i} from `{flag}` directory\")\n",
    "        if n_files!=-1 and i==n_files-1:\n",
    "            break\n",
    "                \n",
    "    return data\n",
    "\n",
    "dataset_path = \"toptagging/\"\n",
    "\n",
    "data_train = load_data(dataset_path, \"train\", n_files=2)\n",
    "# data_valid = load_data(dataset_path, \"val\", n_files=4)\n",
    "data_test = load_data(dataset_path, \"val\", n_files=1)"
   ]
  },
  {
   "cell_type": "code",
   "execution_count": 5,
   "id": "2cc4d570",
   "metadata": {},
   "outputs": [
    {
     "data": {
      "text/plain": [
       "200001"
      ]
     },
     "execution_count": 5,
     "metadata": {},
     "output_type": "execute_result"
    }
   ],
   "source": [
    "len(data_train)"
   ]
  },
  {
   "cell_type": "code",
   "execution_count": 23,
   "id": "f919e396",
   "metadata": {},
   "outputs": [
    {
     "data": {
      "text/plain": [
       "[Data(x=[23, 7], y=0),\n",
       " Data(x=[43, 7], y=0),\n",
       " Data(x=[41, 7], y=0),\n",
       " Data(x=[25, 7], y=0)]"
      ]
     },
     "execution_count": 23,
     "metadata": {},
     "output_type": "execute_result"
    }
   ],
   "source": [
    "data_train[:4]"
   ]
  },
  {
   "cell_type": "code",
   "execution_count": 6,
   "id": "5a9147da",
   "metadata": {},
   "outputs": [],
   "source": [
    "\"\"\"\n",
    "The 7 input features per particle in the jet.\n",
    "    1. ∆η difference in pseudorapidity between the particle and the jet axis\n",
    "    2. ∆φ difference in azimuthal angle between the particle and the jet axis\n",
    "    3. log pT logarithm of the particle’s pT\n",
    "    4. log E logarithm of the particle’s energy\n",
    "    5. log pT/pT_jet logarithm of the particle’s pT relative to the jet pT\n",
    "    6. log E/E_jet logarithm of the particle’s energy relative to the jet energy\n",
    "    7. ∆R\n",
    "\"\"\"\n",
    "\n",
    "feature_dict = {\n",
    "    \"eta\": 0,\n",
    "    \"phi\": 1,\n",
    "    \"pt\": 2,\n",
    "    \"E\": 3,\n",
    "    \"pt/jet_pt\": 4,\n",
    "    \"E/jet_E\": 5,\n",
    "    \"deltaR\": 6,    \n",
    "}\n",
    "\n",
    "feature_label = {\n",
    "    \"eta\": r\"Particle $\\left| \\eta \\right|$\",\n",
    "    \"phi\": r\"Particle $\\left| \\phi \\right|$\",\n",
    "    \"pt\": r\"Particle $p_T$\",\n",
    "    \"E\": \"Particle E\",\n",
    "    \"pt/jet_pt\": r\"Log($\\frac{p_T(particle)}{p_T(jet)})$\",\n",
    "    \"E/jet_E\": r\"$Log(\\frac{E(particle)}{E(jet)})$\",\n",
    "    \"deltaR\": r\"$\\Delta R(particle, jet)$\", \n",
    "    \n",
    "}"
   ]
  },
  {
   "cell_type": "code",
   "execution_count": 7,
   "id": "0af377cf",
   "metadata": {},
   "outputs": [],
   "source": [
    "num_features = 7"
   ]
  },
  {
   "cell_type": "code",
   "execution_count": 8,
   "id": "066b351b",
   "metadata": {},
   "outputs": [],
   "source": [
    "batch_size = 100\n",
    "\n",
    "train_loader = DataLoader(data_train, batch_size)\n",
    "# valid_loader = DataLoader(data_valid, batch_size)\n",
    "test_loader = DataLoader(data_test, batch_size)"
   ]
  },
  {
   "cell_type": "code",
   "execution_count": 25,
   "id": "d558a189",
   "metadata": {},
   "outputs": [
    {
     "data": {
      "text/plain": [
       "DataBatch(x=[4643, 7], y=[100], batch=[4643], ptr=[101])"
      ]
     },
     "execution_count": 25,
     "metadata": {},
     "output_type": "execute_result"
    }
   ],
   "source": [
    "for i, bb in enumerate(train_loader):\n",
    "#     x, y = batch.x, batch.y\n",
    "#     print(x.shape, y.shape)\n",
    "#     if i==5:\n",
    "        break\n",
    "bb"
   ]
  },
  {
   "cell_type": "code",
   "execution_count": 26,
   "id": "c072c242",
   "metadata": {},
   "outputs": [
    {
     "data": {
      "text/plain": [
       "DataBatch(x=[4643, 7], y=[100], batch=[4643], ptr=[101])"
      ]
     },
     "execution_count": 26,
     "metadata": {},
     "output_type": "execute_result"
    }
   ],
   "source": [
    "bb"
   ]
  },
  {
   "cell_type": "code",
   "execution_count": 118,
   "id": "ec05e999",
   "metadata": {},
   "outputs": [
    {
     "data": {
      "text/plain": [
       "tensor([[ 4.8051e-03, -1.2196e-02,  5.8162e+00,  ..., -6.0878e-01,\n",
       "         -6.0632e-01,  1.3108e-02],\n",
       "        [-3.0414e-02,  1.1893e-01,  4.3164e+00,  ..., -2.1086e+00,\n",
       "         -2.1307e+00,  1.2275e-01],\n",
       "        [ 3.2171e-03, -7.5693e-03,  4.3124e+00,  ..., -2.1126e+00,\n",
       "         -2.1113e+00,  8.2246e-03],\n",
       "        ...,\n",
       "        [-9.3287e-02,  3.7845e-01, -1.0176e+00,  ..., -7.3324e+00,\n",
       "         -7.4193e+00,  3.8978e-01],\n",
       "        [-5.6471e-01,  4.0648e-01, -1.1138e+00,  ..., -7.4286e+00,\n",
       "         -7.9230e+00,  6.9579e-01],\n",
       "        [ 5.0191e-01, -2.3996e-02, -1.8225e+00,  ..., -8.1372e+00,\n",
       "         -7.6588e+00,  5.0248e-01]])"
      ]
     },
     "execution_count": 118,
     "metadata": {},
     "output_type": "execute_result"
    }
   ],
   "source": [
    "bb.x"
   ]
  },
  {
   "cell_type": "code",
   "execution_count": 14,
   "id": "b1f46c7b",
   "metadata": {},
   "outputs": [
    {
     "data": {
      "text/plain": [
       "tensor([ 5.8162,  4.3164,  4.3124,  ..., -1.0176, -1.1138, -1.8225])"
      ]
     },
     "execution_count": 14,
     "metadata": {},
     "output_type": "execute_result"
    }
   ],
   "source": [
    "mask bb.x[:,2] > 0"
   ]
  },
  {
   "cell_type": "code",
   "execution_count": 31,
   "id": "20b37bcf",
   "metadata": {},
   "outputs": [
    {
     "data": {
      "text/plain": [
       "tensor([1.5909])"
      ]
     },
     "execution_count": 31,
     "metadata": {},
     "output_type": "execute_result"
    }
   ],
   "source": [
    "np.ptp(bb.x[:,1], axis=-1, keepdims=True)"
   ]
  },
  {
   "cell_type": "code",
   "execution_count": 38,
   "id": "78413686",
   "metadata": {},
   "outputs": [
    {
     "data": {
      "text/plain": [
       "4643"
      ]
     },
     "execution_count": 38,
     "metadata": {},
     "output_type": "execute_result"
    }
   ],
   "source": [
    "bb.x.shape[0]"
   ]
  },
  {
   "cell_type": "code",
   "execution_count": 9,
   "id": "e21989cd",
   "metadata": {},
   "outputs": [],
   "source": [
    "def translate_jets(batch, width=1.0, device='cpu'):\n",
    "    width = 1.0\n",
    "    batch = batch.to(\"cpu\")\n",
    "    X = batch.x.numpy()\n",
    "    mask = (X[:,2] > 0).reshape(X.shape[0],1)\n",
    "    ptp_eta = np.ptp(X[:,1], axis=-1, keepdims=True)\n",
    "    ptp_phi = np.ptp(X[:,0], axis=-1, keepdims=True)\n",
    "    low_eta  = -width*ptp_eta\n",
    "    high_eta = +width*ptp_eta\n",
    "    low_phi = np.maximum(-width*ptp_phi, -np.pi-np.min(X[:,2]).reshape(ptp_phi.shape))\n",
    "    high_phi = np.minimum(+width*ptp_phi, +np.pi-np.max(X[:,2]).reshape(ptp_phi.shape))\n",
    "    shift_eta = mask*np.random.uniform(low=low_eta, high=high_eta, size=(X.shape[0], 1))\n",
    "    shift_phi = mask*np.random.uniform(low=low_phi, high=high_phi, size=(X.shape[0], 1))\n",
    "    shift = np.hstack((shift_eta, shift_phi, np.zeros((X.shape[0], 5))))\n",
    "    X = X + shift\n",
    "    X = torch.tensor(X).to(device)\n",
    "    batch.x = X.float()\n",
    "    return batch.to(device)"
   ]
  },
  {
   "cell_type": "code",
   "execution_count": 10,
   "id": "fcf8b932",
   "metadata": {},
   "outputs": [],
   "source": [
    "def rotate_jets(batch, device):\n",
    "    batch = batch.to(\"cpu\")\n",
    "    rot_angle = np.random.rand(len(batch))*2*np.pi\n",
    "    c = np.cos(rot_angle)\n",
    "    s = np.sin(rot_angle)\n",
    "    o = np.ones_like(rot_angle)\n",
    "    z = np.zeros_like(rot_angle)\n",
    "    rot_matrix = np.array([[o, z, z], [z, c, -s], [z, s, c]])\n",
    "    rot_matrix = rot_matrix.transpose(2,0,1)\n",
    "\n",
    "    x_rot = np.zeros_like(batch.x.cpu())\n",
    "    for i in range(len(batch)):\n",
    "#         indices = torch.where(batch.batch==i)[0]\n",
    "        x_ = batch[i].x[:,:3]\n",
    "        batch[i].x[:,:3] = torch.tensor(np.einsum('ij,lj->il', x_, rot_matrix[i]))\n",
    "#         x_rot[indices[0].item():indices[-1].item()+1,:3] = np.einsum('ij,lj->il', x_, rot_matrix[i])\n",
    "#     x_rot = torch.tensor(x_rot)\n",
    "#     x_rot[:,3:] = batch.x[:,3:]\n",
    "#     batch.x = x_rot\n",
    "    return batch.to(device)"
   ]
  },
  {
   "cell_type": "code",
   "execution_count": 11,
   "id": "f9e51b41",
   "metadata": {},
   "outputs": [],
   "source": [
    "def rescale_pts(batch):\n",
    "    x_rscl = batch.x.clone()\n",
    "    batch.x[:,2] = torch.nan_to_num(x_rscl[:,2]/600, posinf=0.0, neginf=0.0)\n",
    "    return batch"
   ]
  },
  {
   "cell_type": "code",
   "execution_count": 12,
   "id": "90d9dcd3",
   "metadata": {},
   "outputs": [],
   "source": [
    "def normalize_pts( batch ):\n",
    "    x_norm = batch.x.clone()\n",
    "    batch.x[:,2] = torch.nan_to_num(x_norm[:,2]/torch.sum(x_norm[:,2]), posinf = 0.0, neginf = 0.0 )\n",
    "    return batch"
   ]
  },
  {
   "cell_type": "code",
   "execution_count": 13,
   "id": "34dd8cee",
   "metadata": {},
   "outputs": [],
   "source": [
    "# 0,1,2, eta, phi, pT"
   ]
  },
  {
   "cell_type": "code",
   "execution_count": 14,
   "id": "30b2ede4",
   "metadata": {},
   "outputs": [],
   "source": [
    "from typing import Callable, Union\n",
    "\n",
    "import numpy as np\n",
    "import torch\n",
    "import torch.nn as nn\n",
    "import torch.nn.functional as F\n",
    "from torch import Tensor\n",
    "from torch_cluster import knn_graph\n",
    "from torch_geometric.nn import global_mean_pool\n",
    "from torch_geometric.nn.conv import MessagePassing, EdgeConv\n",
    "from torch_geometric.typing import Adj, PairTensor\n",
    "from pdb import set_trace as bp\n",
    "\n",
    "class EdgeConvBlock(nn.Module):\n",
    "    def __init__(self, in_size, layer_size, depth):\n",
    "        super(EdgeConvBlock, self).__init__()\n",
    "\n",
    "        layers = []\n",
    "\n",
    "        layers.append(nn.Linear(in_size * 2, layer_size))\n",
    "        layers.append(nn.BatchNorm1d(layer_size))\n",
    "        layers.append(nn.ReLU())\n",
    "\n",
    "        for i in range(depth):\n",
    "            layers.append(nn.Linear(layer_size, layer_size))\n",
    "            layers.append(nn.BatchNorm1d(layer_size))\n",
    "            layers.append(nn.ReLU())\n",
    "\n",
    "        self.edge_conv = EdgeConv(nn.Sequential(*layers), aggr=\"mean\")\n",
    "\n",
    "    def forward(self, x, edge_index):\n",
    "        return self.edge_conv(x, edge_index)\n",
    "\n",
    "\n",
    "class ParticleNet(nn.Module):\n",
    "    def __init__(\n",
    "        self,\n",
    "        node_feat_size,\n",
    "        num_classes=1,\n",
    "        k=16,\n",
    "        depth=2,\n",
    "        dropout=False,\n",
    "        device = \"cpu\"\n",
    "    ):\n",
    "        super(ParticleNet, self).__init__()\n",
    "\n",
    "        self.node_feat_size = node_feat_size\n",
    "        self.num_classes = num_classes\n",
    "\n",
    "        self.k = k\n",
    "        self.num_edge_conv_blocks = 3\n",
    "        \n",
    "        self.augmentations = True\n",
    "\n",
    "        self.kernel_sizes = [self.node_feat_size, 64, 128, 256]\n",
    "        self.input_sizes = np.cumsum(self.kernel_sizes)  # [4, 4+64, 4+64+128, 4+64+128+256]\n",
    "\n",
    "        self.fc_size = 256\n",
    "        self.device = device\n",
    "\n",
    "        if dropout:\n",
    "            self.dropout = 0.1\n",
    "            self.dropout_layer = nn.Dropout(p=self.dropout)\n",
    "        else:\n",
    "            self.dropout = None\n",
    "\n",
    "        # define the edgeconvblocks\n",
    "        self.edge_conv_blocks = nn.ModuleList()\n",
    "        for i in range(0, self.num_edge_conv_blocks):\n",
    "            self.edge_conv_blocks.append(EdgeConvBlock(self.input_sizes[i], self.kernel_sizes[i + 1], depth=depth))\n",
    "\n",
    "        # define the fully connected networks (post-edgeconvs)\n",
    "        self.fc1 = nn.Linear(self.input_sizes[-1], self.fc_size)\n",
    "        self.fc2 = nn.Linear(self.fc_size, self.num_classes)\n",
    "\n",
    "        self.sig = nn.Sigmoid()\n",
    "    \n",
    "#     def augmentations(self, batch):\n",
    "#         batch = rescale_pts(batch)\n",
    "#         batch = rotate_jets(batch, self.device)\n",
    "#         batch = translate_jets(batch, device = self.device)\n",
    "#         batch = normalize_pts(batch)\n",
    "    \n",
    "\n",
    "    def forward(self, batch):\n",
    "        if self.augmentations:\n",
    "            batch = rescale_pts(batch)\n",
    "            batch = rotate_jets(batch, self.device)\n",
    "            batch = translate_jets(batch, device = self.device)\n",
    "            batch = normalize_pts(batch)\n",
    "        \n",
    "        x = batch.x\n",
    "        y = batch.y\n",
    "        batch = batch.batch\n",
    "\n",
    "        # input transformations\n",
    "#         x[:, 2] = (x[:, 2] - 1.7) * 0.7  # part_pt_log\n",
    "#         x[:, 3] = (x[:, 3] - 2.0) * 0.7  # part_e_log\n",
    "#         x[:, 4] = (x[:, 4] + 4.7) * 0.7  # part_logptrel\n",
    "#         x[:, 5] = (x[:, 5] + 4.7) * 0.7  # part_logerel\n",
    "#         x[:, 6] = (x[:, 6] - 0.2) * 4.7  # part_deltaR\n",
    "\n",
    "        edge_index = {}\n",
    "        for i in range(self.num_edge_conv_blocks):\n",
    "            # using only angular coords for knn in first edgeconv block\n",
    "            edge_index[f\"edge_conv_{i}\"] = knn_graph(x[:, :2], self.k, batch) if i == 0 else knn_graph(x, self.k, batch)\n",
    "\n",
    "            out = self.edge_conv_blocks[i](x, edge_index[f\"edge_conv_{i}\"])\n",
    "\n",
    "            x = torch.cat((out, x), dim=1)  # concatenating with latent features i.e. skip connections per EdgeConvBlock\n",
    "\n",
    "        x = global_mean_pool(x, batch)\n",
    "\n",
    "        x = F.relu(self.fc1(x))\n",
    "        if self.dropout:\n",
    "            x = self.dropout_layer(x)\n",
    "        x = self.fc2(x)\n",
    "        x = self.sig(x)\n",
    "\n",
    "        return x, y"
   ]
  },
  {
   "cell_type": "code",
   "execution_count": 15,
   "id": "ed62a9ca",
   "metadata": {},
   "outputs": [],
   "source": [
    "# setup the input/output dimension of the model\n",
    "num_features = 7  # we have 7 input features\n",
    "num_classes = 1  # we have one output node"
   ]
  },
  {
   "cell_type": "code",
   "execution_count": 16,
   "id": "bbaa9552",
   "metadata": {},
   "outputs": [
    {
     "data": {
      "text/plain": [
       "ParticleNet(\n",
       "  (dropout_layer): Dropout(p=0.1, inplace=False)\n",
       "  (edge_conv_blocks): ModuleList(\n",
       "    (0): EdgeConvBlock(\n",
       "      (edge_conv): EdgeConv(nn=Sequential(\n",
       "        (0): Linear(in_features=14, out_features=64, bias=True)\n",
       "        (1): BatchNorm1d(64, eps=1e-05, momentum=0.1, affine=True, track_running_stats=True)\n",
       "        (2): ReLU()\n",
       "        (3): Linear(in_features=64, out_features=64, bias=True)\n",
       "        (4): BatchNorm1d(64, eps=1e-05, momentum=0.1, affine=True, track_running_stats=True)\n",
       "        (5): ReLU()\n",
       "        (6): Linear(in_features=64, out_features=64, bias=True)\n",
       "        (7): BatchNorm1d(64, eps=1e-05, momentum=0.1, affine=True, track_running_stats=True)\n",
       "        (8): ReLU()\n",
       "        (9): Linear(in_features=64, out_features=64, bias=True)\n",
       "        (10): BatchNorm1d(64, eps=1e-05, momentum=0.1, affine=True, track_running_stats=True)\n",
       "        (11): ReLU()\n",
       "      ))\n",
       "    )\n",
       "    (1): EdgeConvBlock(\n",
       "      (edge_conv): EdgeConv(nn=Sequential(\n",
       "        (0): Linear(in_features=142, out_features=128, bias=True)\n",
       "        (1): BatchNorm1d(128, eps=1e-05, momentum=0.1, affine=True, track_running_stats=True)\n",
       "        (2): ReLU()\n",
       "        (3): Linear(in_features=128, out_features=128, bias=True)\n",
       "        (4): BatchNorm1d(128, eps=1e-05, momentum=0.1, affine=True, track_running_stats=True)\n",
       "        (5): ReLU()\n",
       "        (6): Linear(in_features=128, out_features=128, bias=True)\n",
       "        (7): BatchNorm1d(128, eps=1e-05, momentum=0.1, affine=True, track_running_stats=True)\n",
       "        (8): ReLU()\n",
       "        (9): Linear(in_features=128, out_features=128, bias=True)\n",
       "        (10): BatchNorm1d(128, eps=1e-05, momentum=0.1, affine=True, track_running_stats=True)\n",
       "        (11): ReLU()\n",
       "      ))\n",
       "    )\n",
       "    (2): EdgeConvBlock(\n",
       "      (edge_conv): EdgeConv(nn=Sequential(\n",
       "        (0): Linear(in_features=398, out_features=256, bias=True)\n",
       "        (1): BatchNorm1d(256, eps=1e-05, momentum=0.1, affine=True, track_running_stats=True)\n",
       "        (2): ReLU()\n",
       "        (3): Linear(in_features=256, out_features=256, bias=True)\n",
       "        (4): BatchNorm1d(256, eps=1e-05, momentum=0.1, affine=True, track_running_stats=True)\n",
       "        (5): ReLU()\n",
       "        (6): Linear(in_features=256, out_features=256, bias=True)\n",
       "        (7): BatchNorm1d(256, eps=1e-05, momentum=0.1, affine=True, track_running_stats=True)\n",
       "        (8): ReLU()\n",
       "        (9): Linear(in_features=256, out_features=256, bias=True)\n",
       "        (10): BatchNorm1d(256, eps=1e-05, momentum=0.1, affine=True, track_running_stats=True)\n",
       "        (11): ReLU()\n",
       "      ))\n",
       "    )\n",
       "  )\n",
       "  (fc1): Linear(in_features=455, out_features=256, bias=True)\n",
       "  (fc2): Linear(in_features=256, out_features=1, bias=True)\n",
       "  (sig): Sigmoid()\n",
       ")"
      ]
     },
     "execution_count": 16,
     "metadata": {},
     "output_type": "execute_result"
    }
   ],
   "source": [
    "model_kwargs = {\n",
    "    \"node_feat_size\": num_features,\n",
    "    \"num_classes\": num_classes,\n",
    "    \"k\": 16,\n",
    "    \"depth\": 3,\n",
    "    \"dropout\": True,\n",
    "    \"device\":device\n",
    "}\n",
    "\n",
    "model = ParticleNet(**model_kwargs)\n",
    "model.to(device)"
   ]
  },
  {
   "cell_type": "code",
   "execution_count": 17,
   "id": "3f30d58f",
   "metadata": {},
   "outputs": [
    {
     "data": {
      "text/plain": [
       "ParticleNet(\n",
       "  (dropout_layer): Dropout(p=0.1, inplace=False)\n",
       "  (edge_conv_blocks): ModuleList(\n",
       "    (0): EdgeConvBlock(\n",
       "      (edge_conv): EdgeConv(nn=Sequential(\n",
       "        (0): Linear(in_features=14, out_features=64, bias=True)\n",
       "        (1): BatchNorm1d(64, eps=1e-05, momentum=0.1, affine=True, track_running_stats=True)\n",
       "        (2): ReLU()\n",
       "        (3): Linear(in_features=64, out_features=64, bias=True)\n",
       "        (4): BatchNorm1d(64, eps=1e-05, momentum=0.1, affine=True, track_running_stats=True)\n",
       "        (5): ReLU()\n",
       "        (6): Linear(in_features=64, out_features=64, bias=True)\n",
       "        (7): BatchNorm1d(64, eps=1e-05, momentum=0.1, affine=True, track_running_stats=True)\n",
       "        (8): ReLU()\n",
       "        (9): Linear(in_features=64, out_features=64, bias=True)\n",
       "        (10): BatchNorm1d(64, eps=1e-05, momentum=0.1, affine=True, track_running_stats=True)\n",
       "        (11): ReLU()\n",
       "      ))\n",
       "    )\n",
       "    (1): EdgeConvBlock(\n",
       "      (edge_conv): EdgeConv(nn=Sequential(\n",
       "        (0): Linear(in_features=142, out_features=128, bias=True)\n",
       "        (1): BatchNorm1d(128, eps=1e-05, momentum=0.1, affine=True, track_running_stats=True)\n",
       "        (2): ReLU()\n",
       "        (3): Linear(in_features=128, out_features=128, bias=True)\n",
       "        (4): BatchNorm1d(128, eps=1e-05, momentum=0.1, affine=True, track_running_stats=True)\n",
       "        (5): ReLU()\n",
       "        (6): Linear(in_features=128, out_features=128, bias=True)\n",
       "        (7): BatchNorm1d(128, eps=1e-05, momentum=0.1, affine=True, track_running_stats=True)\n",
       "        (8): ReLU()\n",
       "        (9): Linear(in_features=128, out_features=128, bias=True)\n",
       "        (10): BatchNorm1d(128, eps=1e-05, momentum=0.1, affine=True, track_running_stats=True)\n",
       "        (11): ReLU()\n",
       "      ))\n",
       "    )\n",
       "    (2): EdgeConvBlock(\n",
       "      (edge_conv): EdgeConv(nn=Sequential(\n",
       "        (0): Linear(in_features=398, out_features=256, bias=True)\n",
       "        (1): BatchNorm1d(256, eps=1e-05, momentum=0.1, affine=True, track_running_stats=True)\n",
       "        (2): ReLU()\n",
       "        (3): Linear(in_features=256, out_features=256, bias=True)\n",
       "        (4): BatchNorm1d(256, eps=1e-05, momentum=0.1, affine=True, track_running_stats=True)\n",
       "        (5): ReLU()\n",
       "        (6): Linear(in_features=256, out_features=256, bias=True)\n",
       "        (7): BatchNorm1d(256, eps=1e-05, momentum=0.1, affine=True, track_running_stats=True)\n",
       "        (8): ReLU()\n",
       "        (9): Linear(in_features=256, out_features=256, bias=True)\n",
       "        (10): BatchNorm1d(256, eps=1e-05, momentum=0.1, affine=True, track_running_stats=True)\n",
       "        (11): ReLU()\n",
       "      ))\n",
       "    )\n",
       "  )\n",
       "  (fc1): Linear(in_features=455, out_features=256, bias=True)\n",
       "  (fc2): Linear(in_features=256, out_features=1, bias=True)\n",
       "  (sig): Sigmoid()\n",
       ")"
      ]
     },
     "execution_count": 17,
     "metadata": {},
     "output_type": "execute_result"
    }
   ],
   "source": [
    "optimizer = torch.optim.Adam(model.parameters(), lr=1e-3)\n",
    "\n",
    "criterion = nn.BCELoss()\n",
    "sig = nn.Sigmoid()\n",
    "\n",
    "model.train()"
   ]
  },
  {
   "cell_type": "code",
   "execution_count": 18,
   "id": "0b9c40b6",
   "metadata": {},
   "outputs": [
    {
     "data": {
      "application/vnd.jupyter.widget-view+json": {
       "model_id": "4aa900f5d0264edeab4c6b5b32ea7919",
       "version_major": 2,
       "version_minor": 0
      },
      "text/plain": [
       "  0%|          | 0/10 [00:00<?, ?it/s]"
      ]
     },
     "metadata": {},
     "output_type": "display_data"
    },
    {
     "data": {
      "application/vnd.jupyter.widget-view+json": {
       "model_id": "c18eb82d3e984607a40ce301a825b5bc",
       "version_major": 2,
       "version_minor": 0
      },
      "text/plain": [
       "0it [00:00, ?it/s]"
      ]
     },
     "metadata": {},
     "output_type": "display_data"
    },
    {
     "name": "stdout",
     "output_type": "stream",
     "text": [
      "epoch 0, loss: 0.573233962059021\n"
     ]
    },
    {
     "data": {
      "application/vnd.jupyter.widget-view+json": {
       "model_id": "10d9f0b9761a413ba1a85602fb3230c0",
       "version_major": 2,
       "version_minor": 0
      },
      "text/plain": [
       "0it [00:00, ?it/s]"
      ]
     },
     "metadata": {},
     "output_type": "display_data"
    },
    {
     "name": "stdout",
     "output_type": "stream",
     "text": [
      "epoch 1, loss: 0.5649367570877075\n"
     ]
    },
    {
     "data": {
      "application/vnd.jupyter.widget-view+json": {
       "model_id": "3e4838f60830459981e335edb0fae0c1",
       "version_major": 2,
       "version_minor": 0
      },
      "text/plain": [
       "0it [00:00, ?it/s]"
      ]
     },
     "metadata": {},
     "output_type": "display_data"
    },
    {
     "name": "stdout",
     "output_type": "stream",
     "text": [
      "epoch 2, loss: 0.5618266463279724\n"
     ]
    },
    {
     "data": {
      "application/vnd.jupyter.widget-view+json": {
       "model_id": "cbc20f7c97fc4b12866ce662e6290a70",
       "version_major": 2,
       "version_minor": 0
      },
      "text/plain": [
       "0it [00:00, ?it/s]"
      ]
     },
     "metadata": {},
     "output_type": "display_data"
    },
    {
     "name": "stdout",
     "output_type": "stream",
     "text": [
      "epoch 3, loss: 0.5604450106620789\n"
     ]
    },
    {
     "data": {
      "application/vnd.jupyter.widget-view+json": {
       "model_id": "a1cae32b34c14d2bb86148c4e38c0697",
       "version_major": 2,
       "version_minor": 0
      },
      "text/plain": [
       "0it [00:00, ?it/s]"
      ]
     },
     "metadata": {},
     "output_type": "display_data"
    },
    {
     "name": "stdout",
     "output_type": "stream",
     "text": [
      "epoch 4, loss: 0.5591593980789185\n"
     ]
    },
    {
     "data": {
      "application/vnd.jupyter.widget-view+json": {
       "model_id": "cbdbb588b49c4d969e93939de0424ecf",
       "version_major": 2,
       "version_minor": 0
      },
      "text/plain": [
       "0it [00:00, ?it/s]"
      ]
     },
     "metadata": {},
     "output_type": "display_data"
    },
    {
     "name": "stdout",
     "output_type": "stream",
     "text": [
      "epoch 5, loss: 0.5580376386642456\n"
     ]
    },
    {
     "data": {
      "application/vnd.jupyter.widget-view+json": {
       "model_id": "51f1fe4012d147fb978bf11123313165",
       "version_major": 2,
       "version_minor": 0
      },
      "text/plain": [
       "0it [00:00, ?it/s]"
      ]
     },
     "metadata": {},
     "output_type": "display_data"
    },
    {
     "name": "stdout",
     "output_type": "stream",
     "text": [
      "epoch 6, loss: 0.5573257803916931\n"
     ]
    },
    {
     "data": {
      "application/vnd.jupyter.widget-view+json": {
       "model_id": "6d8d89ef73af4385847e04c1461e6115",
       "version_major": 2,
       "version_minor": 0
      },
      "text/plain": [
       "0it [00:00, ?it/s]"
      ]
     },
     "metadata": {},
     "output_type": "display_data"
    },
    {
     "name": "stdout",
     "output_type": "stream",
     "text": [
      "epoch 7, loss: 0.5568434596061707\n"
     ]
    },
    {
     "data": {
      "application/vnd.jupyter.widget-view+json": {
       "model_id": "547832aaa9644bbf8d26533f26233efc",
       "version_major": 2,
       "version_minor": 0
      },
      "text/plain": [
       "0it [00:00, ?it/s]"
      ]
     },
     "metadata": {},
     "output_type": "display_data"
    },
    {
     "name": "stdout",
     "output_type": "stream",
     "text": [
      "epoch 8, loss: 0.5564178228378296\n"
     ]
    },
    {
     "data": {
      "application/vnd.jupyter.widget-view+json": {
       "model_id": "c7fcc4a152674a51b56cd4670e3bbde1",
       "version_major": 2,
       "version_minor": 0
      },
      "text/plain": [
       "0it [00:00, ?it/s]"
      ]
     },
     "metadata": {},
     "output_type": "display_data"
    },
    {
     "name": "stdout",
     "output_type": "stream",
     "text": [
      "epoch 9, loss: 0.5559555292129517\n"
     ]
    }
   ],
   "source": [
    "# quick training without monitoring validation\n",
    "optimizer = torch.optim.Adam(model.parameters(), lr=1e-3)\n",
    "\n",
    "criterion = nn.BCELoss()\n",
    "sig = nn.Sigmoid()\n",
    "\n",
    "model.train()\n",
    "\n",
    "for epoch in tqdm(range(10)):\n",
    "    losses = []\n",
    "    for i, batch in tqdm(enumerate(train_loader)):\n",
    "        preds, targets = model(batch.to(device))\n",
    "        loss = criterion(sig(preds), targets.reshape(-1, 1).float())\n",
    "#         print(f\"batch # {i}, loss={loss:.3f}\")\n",
    "\n",
    "        for param in model.parameters():\n",
    "            param.grad = None\n",
    "        loss.backward()\n",
    "        optimizer.step()\n",
    "        losses.append(loss.detach())\n",
    "\n",
    "    losses = sum(losses)/len(losses)\n",
    "    print(f\"epoch {epoch}, loss: {losses}\")"
   ]
  },
  {
   "cell_type": "code",
   "execution_count": 19,
   "id": "1ad4d40c",
   "metadata": {},
   "outputs": [],
   "source": [
    "# model.eval()\n",
    "# with torch.no_grad():\n",
    "#     for i, batch in tqdm(enumerate(val_loader)):\n",
    "#         preds, targets = model(batch.to(device))\n",
    "#         loss = criterion(sig(preds), targets.reshape(-1, 1).float())\n",
    "#         val_losses.append(loss.item())\n",
    "        \n",
    "# val_loss = sum(val_losses) / len(val_losses)\n",
    "# print(\"Val loss : {}\".format(val_loss))"
   ]
  },
  {
   "cell_type": "code",
   "execution_count": 20,
   "id": "54b6bbfd",
   "metadata": {},
   "outputs": [],
   "source": [
    "def make_roc(y_test, y_score, save_path = 'roc', save_flag=False):\n",
    "    fpr, tpr, _ = roc_curve(y_test, y_score)\n",
    "\n",
    "    fig, ax = plt.subplots(figsize=(8,7))\n",
    "    ax.plot(\n",
    "        tpr,\n",
    "        fpr,\n",
    "        color=\"darkorange\",\n",
    "        lw=2,\n",
    "        label=f\"AUC = {round(auc(fpr, tpr)*100,2)}%\",\n",
    "    )\n",
    "    plt.xlim([0.0, 1.0])\n",
    "    plt.ylabel(\"False Positive Rate\")\n",
    "    plt.xlabel(\"True Positive Rate\")\n",
    "    plt.yscale(\"log\")\n",
    "    plt.legend(loc=\"lower right\")\n",
    "    if save_flag:\n",
    "        plt.savefig(f'toptagging_expts/plots/{save_path}.jpg')\n",
    "    "
   ]
  },
  {
   "cell_type": "code",
   "execution_count": 21,
   "id": "ce88a138",
   "metadata": {},
   "outputs": [
    {
     "name": "stdout",
     "output_type": "stream",
     "text": [
      "- making predictions\n"
     ]
    },
    {
     "data": {
      "application/vnd.jupyter.widget-view+json": {
       "model_id": "bd5540c216b742b685ae5f85baa9df52",
       "version_major": 2,
       "version_minor": 0
      },
      "text/plain": [
       "0it [00:00, ?it/s]"
      ]
     },
     "metadata": {},
     "output_type": "display_data"
    }
   ],
   "source": [
    "print(\"- making predictions\")\n",
    "y_score = None\n",
    "y_test = None\n",
    "\n",
    "model.eval()\n",
    "model.augmentations = False\n",
    "for i, batch in tqdm(enumerate(test_loader)):\n",
    "\n",
    "    preds, targets = model(batch.to(device))\n",
    "    preds = preds.detach().cpu()\n",
    "\n",
    "    if y_score is None:\n",
    "        y_score = preds[:].detach().cpu().reshape(-1)\n",
    "        y_test = targets.detach().cpu()\n",
    "    else:\n",
    "        y_score = torch.cat([y_score, preds[:].detach().cpu().reshape(-1)])\n",
    "        y_test = torch.cat([y_test, targets.detach().cpu()])\n",
    "\n",
    "#     if i==100:\n",
    "#         break"
   ]
  },
  {
   "cell_type": "code",
   "execution_count": 22,
   "id": "4129131e",
   "metadata": {},
   "outputs": [
    {
     "data": {
      "image/png": "[encoded data removed]",
      "text/plain": [
       "<Figure size 800x700 with 1 Axes>"
      ]
     },
     "metadata": {},
     "output_type": "display_data"
    }
   ],
   "source": [
    "plt.rcParams.update({\"font.size\": 20})\n",
    "make_roc(y_test, y_score, 'roc_rescl_rotate_transl_norm',save_flag=False)"
   ]
  },
  {
   "cell_type": "code",
   "execution_count": null,
   "id": "f551912d",
   "metadata": {},
   "outputs": [],
   "source": []
  }
 ],
 "metadata": {
  "kernelspec": {
   "display_name": "Python 3 (ipykernel)",
   "language": "python",
   "name": "python3"
  },
  "language_info": {
   "codemirror_mode": {
    "name": "ipython",
    "version": 3
   },
   "file_extension": ".py",
   "mimetype": "text/x-python",
   "name": "python",
   "nbconvert_exporter": "python",
   "pygments_lexer": "ipython3",
   "version": "3.10.6"
  }
 },
 "nbformat": 4,
 "nbformat_minor": 5
}
