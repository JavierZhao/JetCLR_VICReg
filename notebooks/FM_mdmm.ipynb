{
 "cells": [
  {
   "cell_type": "markdown",
   "metadata": {},
   "source": [
    "# `mdmm` tutorial\n",
    "The purpose of this notebook is to guide you to train a model with a loss function of several parameters in a proper mathematical way. The idea comes from the paper [Constrained Differential Optimization](https://papers.nips.cc/paper/1987/file/a87ff679a2f3e71d9181a67b7542122c-Paper.pdf), and the implementation from the [mdmm package Github](https://github.com/crowsonkb/mdmm)\n",
    "\n",
    "The guide is best illustrated through the **[VICReg](https://arxiv.org/abs/2105.04906)** example where your input is split into two views and you are asked to minimize three loss terms: `variance`, `invariance` and `covariance`."
   ]
  },
  {
   "cell_type": "code",
   "execution_count": 1,
   "metadata": {
    "ExecuteTime": {
     "end_time": "2023-07-17T18:45:49.141693Z",
     "start_time": "2023-07-17T18:45:46.652531Z"
    }
   },
   "outputs": [
    {
     "name": "stdout",
     "output_type": "stream",
     "text": [
      "Requirement already satisfied: mdmm in /opt/conda/lib/python3.10/site-packages (0.1.3)\r\n",
      "Requirement already satisfied: torch>=1.7.1 in /opt/conda/lib/python3.10/site-packages (from mdmm) (1.13.1)\r\n",
      "Requirement already satisfied: typing_extensions in /opt/conda/lib/python3.10/site-packages (from torch>=1.7.1->mdmm) (4.5.0)\r\n"
     ]
    }
   ],
   "source": [
    "! pip install mdmm"
   ]
  },
  {
   "cell_type": "code",
   "execution_count": 2,
   "metadata": {
    "ExecuteTime": {
     "end_time": "2023-07-17T18:45:51.173754Z",
     "start_time": "2023-07-17T18:45:49.145146Z"
    }
   },
   "outputs": [
    {
     "name": "stdout",
     "output_type": "stream",
     "text": [
      "Will use NVIDIA A10\n"
     ]
    }
   ],
   "source": [
    "import warnings\n",
    "import numpy as np\n",
    "import mdmm\n",
    "import torch\n",
    "import torch.nn as nn\n",
    "import torch.nn.functional as F\n",
    "from torch_geometric.data import Batch\n",
    "from torch_geometric.loader import DataLoader\n",
    "from torch_geometric.nn import global_mean_pool\n",
    "from torch_geometric.nn.conv import GravNetConv\n",
    "\n",
    "warnings.simplefilter(\"ignore\", UserWarning)\n",
    "\n",
    "# define the global base device\n",
    "if torch.cuda.device_count():\n",
    "    device = torch.device(\"cuda:0\")\n",
    "    print(f\"Will use {torch.cuda.get_device_name(device)}\")\n",
    "else:\n",
    "    device = \"cpu\"\n",
    "    print(\"Will use cpu\")"
   ]
  },
  {
   "cell_type": "markdown",
   "metadata": {},
   "source": [
    "Load a processed `.pt` clic file."
   ]
  },
  {
   "cell_type": "code",
   "execution_count": 3,
   "metadata": {
    "ExecuteTime": {
     "end_time": "2023-07-17T18:46:27.229543Z",
     "start_time": "2023-07-17T18:45:51.176516Z"
    }
   },
   "outputs": [
    {
     "name": "stdout",
     "output_type": "stream",
     "text": [
      "num of clic events 100001\n"
     ]
    }
   ],
   "source": [
    "data = torch.load(\"/../ssl-jet-vol-v2/toptagging/train/processed/data_0.pt\")\n",
    "print(f\"num of clic events {len(data)}\")"
   ]
  },
  {
   "cell_type": "code",
   "execution_count": 4,
   "metadata": {
    "ExecuteTime": {
     "end_time": "2023-07-17T18:46:27.459611Z",
     "start_time": "2023-07-17T18:46:27.232010Z"
    }
   },
   "outputs": [
    {
     "name": "stdout",
     "output_type": "stream",
     "text": [
      "A single event: \n",
      " DataBatch(x=[12559, 7], y=[256], batch=[12559], ptr=[257])\n"
     ]
    }
   ],
   "source": [
    "# build a data loader\n",
    "batch_size = 256\n",
    "\n",
    "loader = DataLoader(data, batch_size, shuffle=True)\n",
    "for batch in loader:\n",
    "    print(f\"A single event: \\n {batch}\")\n",
    "    break\n",
    "\n",
    "input_dim = batch.x.shape[-1]"
   ]
  },
  {
   "cell_type": "markdown",
   "metadata": {},
   "source": [
    "# Preparation"
   ]
  },
  {
   "cell_type": "code",
   "execution_count": 5,
   "metadata": {
    "ExecuteTime": {
     "end_time": "2023-07-17T18:46:27.469842Z",
     "start_time": "2023-07-17T18:46:27.462678Z"
    }
   },
   "outputs": [],
   "source": [
    "def translate_jets(batch, width=1.0, device='cpu'):\n",
    "    width = 1.0\n",
    "    bb = batch.clone()\n",
    "    bb = bb.to(\"cpu\")\n",
    "    X = bb.x.numpy()\n",
    "    ptp_eta = np.ptp(X[:,0], axis=-1, keepdims=True)\n",
    "    ptp_phi = np.ptp(X[:,1], axis=-1, keepdims=True)\n",
    "    low_eta  = -width*ptp_eta\n",
    "#     print(f\"low eta: {low_eta}\")\n",
    "    high_eta = +width*ptp_eta\n",
    "#     print(f\"high eta: {high_eta}\")\n",
    "    low_phi = np.maximum(-width*ptp_phi, -np.pi-np.min(X[:,1]).reshape(ptp_phi.shape))\n",
    "#     print(f\"low phi: {low_phi}\")\n",
    "    high_phi = np.minimum(+width*ptp_phi, +np.pi-np.max(X[:,1]).reshape(ptp_phi.shape))\n",
    "#     print(f\"high phi: {high_phi}\")\n",
    "    shift_eta_batch = np.random.uniform(low=low_eta, high=high_eta, size=(bb.y.shape[0], 1))  \n",
    "    shift_phi_batch = np.random.uniform(low=low_phi, high=high_phi, size=(bb.y.shape[0], 1))  \n",
    "    \n",
    "    # To make sure that the components of each jet get shifted by the same amount\n",
    "    for i in range(len(bb)):\n",
    "        X_jet = bb[i].x.numpy()\n",
    "        shift_eta_jet = np.ones((X_jet.shape[0], 1)) * shift_eta_batch[i]\n",
    "        shift_phi_jet = np.ones((X_jet.shape[0], 1)) * shift_phi_batch[i]\n",
    "        if i == 0:\n",
    "            shift_eta = shift_eta_jet\n",
    "            shift_phi = shift_phi_jet\n",
    "        else:\n",
    "            shift_eta = np.concatenate((shift_eta, shift_eta_jet))\n",
    "            shift_phi = np.concatenate((shift_phi, shift_phi_jet))\n",
    "\n",
    "    shift = np.hstack((shift_eta, shift_phi, np.zeros((X.shape[0], 5))))\n",
    "    new_X = X + shift\n",
    "    new_X = torch.tensor(new_X).to(device)\n",
    "    bb.x = new_X\n",
    "    return bb.to(device)"
   ]
  },
  {
   "cell_type": "code",
   "execution_count": 6,
   "metadata": {
    "ExecuteTime": {
     "end_time": "2023-07-17T18:46:27.476907Z",
     "start_time": "2023-07-17T18:46:27.471354Z"
    }
   },
   "outputs": [],
   "source": [
    "def rotate_jets(batch, device):\n",
    "    bb = batch.clone()\n",
    "    bb = bb.to(\"cpu\")\n",
    "    rot_angle = np.random.rand(len(bb))*2*np.pi\n",
    "#     print(rot_angle)\n",
    "    c = np.cos(rot_angle)\n",
    "    s = np.sin(rot_angle)\n",
    "    o = np.ones_like(rot_angle)\n",
    "    z = np.zeros_like(rot_angle)\n",
    "    rot_matrix = np.array([[z, c, -s], [z, s, c], [o, z, z]])  # (3, 3, 100)\n",
    "    rot_matrix = rot_matrix.transpose(2,0,1)  # (100, 3, 3)\n",
    "\n",
    "    for i in range(len(bb)):\n",
    "        x_ = bb[i].x[:,:3]\n",
    "        new_x = np.einsum('ij,jk', bb[i].x[:,:3], rot_matrix[i])  # this is somehow (pT, eta', phi')\n",
    "        new_x[:, [0,2]] = new_x[:, [2, 0]] \n",
    "        new_x[:, [0,1]] = new_x[:, [1, 0]] # now (phi', eta', pT)\n",
    "        \n",
    "        if i == 0:\n",
    "            new_X = new_x\n",
    "        else:\n",
    "            new_X = np.concatenate((new_X, new_x), axis=0)\n",
    "\n",
    "    new_X = torch.tensor(new_X).to(device)\n",
    "    bb.x[:,:3] = new_X\n",
    "    return bb.to(device)"
   ]
  },
  {
   "cell_type": "code",
   "execution_count": 7,
   "metadata": {
    "ExecuteTime": {
     "end_time": "2023-07-17T18:46:27.481041Z",
     "start_time": "2023-07-17T18:46:27.478454Z"
    }
   },
   "outputs": [],
   "source": [
    "def augmentation(batch, device=\"cpu\"):\n",
    "    \"\"\"\n",
    "    Takes events of the form Batch() and applies a series of augmentations. \n",
    "    The output will have the same shape as the input\n",
    "    \"\"\"\n",
    "    batch_aug = translate_jets(batch, device=device)\n",
    "    batch_aug = rotate_jets(batch_aug, device=device)\n",
    "    return batch_aug"
   ]
  },
  {
   "cell_type": "code",
   "execution_count": 8,
   "metadata": {
    "ExecuteTime": {
     "end_time": "2023-07-17T18:46:27.484790Z",
     "start_time": "2023-07-17T18:46:27.482247Z"
    }
   },
   "outputs": [],
   "source": [
    "def event_augmentation(batch, device=\"cpu\"):\n",
    "    \"\"\"\n",
    "    Takes events of the form Batch() and splits them into two Batch() objects representing the two views.\n",
    "\n",
    "    In this example, the two views are translated and then rotated by different amounts\n",
    "    \"\"\"\n",
    "    view1 = augmentation(batch, device=device)\n",
    "    view2 = augmentation(batch, device=device)\n",
    "\n",
    "    return view1, view2"
   ]
  },
  {
   "cell_type": "code",
   "execution_count": 9,
   "metadata": {
    "ExecuteTime": {
     "end_time": "2023-07-17T18:46:28.947949Z",
     "start_time": "2023-07-17T18:46:27.485991Z"
    }
   },
   "outputs": [
    {
     "name": "stdout",
     "output_type": "stream",
     "text": [
      "view1: DataBatch(x=[12559, 7], y=[256], batch=[12559], ptr=[257])\n",
      "view2: DataBatch(x=[12559, 7], y=[256], batch=[12559], ptr=[257])\n"
     ]
    }
   ],
   "source": [
    "view1, view2 = event_augmentation(batch, device)\n",
    "print(f\"view1: {view1}\")\n",
    "print(f\"view2: {view2}\")"
   ]
  },
  {
   "cell_type": "code",
   "execution_count": 10,
   "metadata": {
    "ExecuteTime": {
     "end_time": "2023-07-17T18:46:28.957115Z",
     "start_time": "2023-07-17T18:46:28.949706Z"
    }
   },
   "outputs": [
    {
     "name": "stdout",
     "output_type": "stream",
     "text": [
      "tensor([[-1.4918, -0.0844,  5.1652,  5.1990, -1.2191, -1.2373,  0.0990],\n",
      "        [-1.7689,  0.1323,  4.7652,  4.7657, -1.6191, -1.6706,  0.2661],\n",
      "        [-1.5067, -0.0889,  3.4224,  3.4523, -2.9619, -2.9840,  0.0857]],\n",
      "       device='cuda:0', dtype=torch.float64)\n"
     ]
    }
   ],
   "source": [
    "print(view2[0].x[:3])"
   ]
  },
  {
   "cell_type": "code",
   "execution_count": 11,
   "metadata": {
    "ExecuteTime": {
     "end_time": "2023-07-17T18:46:28.969392Z",
     "start_time": "2023-07-17T18:46:28.958640Z"
    }
   },
   "outputs": [
    {
     "name": "stdout",
     "output_type": "stream",
     "text": [
      "tensor([[ 2.5563e-01, -7.0102e-01,  5.1652e+00,  5.1990e+00, -1.2191e+00,\n",
      "         -1.2373e+00,  9.9016e-02],\n",
      "        [ 3.0050e-03, -9.4581e-01,  4.7652e+00,  4.7657e+00, -1.6191e+00,\n",
      "         -1.6706e+00,  2.6613e-01],\n",
      "        [ 2.5806e-01, -7.1645e-01,  3.4224e+00,  3.4523e+00, -2.9619e+00,\n",
      "         -2.9840e+00,  8.5700e-02]], device='cuda:0', dtype=torch.float64)\n"
     ]
    }
   ],
   "source": [
    "print(view1[0].x[:3])"
   ]
  },
  {
   "cell_type": "markdown",
   "metadata": {},
   "source": [
    "# Setup the VICReg model (GravNet-based)"
   ]
  },
  {
   "cell_type": "code",
   "execution_count": 12,
   "metadata": {
    "ExecuteTime": {
     "end_time": "2023-07-17T18:46:28.985707Z",
     "start_time": "2023-07-17T18:46:28.972276Z"
    },
    "scrolled": true
   },
   "outputs": [],
   "source": [
    "class VICReg(nn.Module):\n",
    "    def __init__(self, encoder, decoder):\n",
    "        super(VICReg, self).__init__()\n",
    "        self.encoder = encoder\n",
    "        self.decoder = decoder\n",
    "\n",
    "        self.augmentation = event_augmentation\n",
    "        self.device = device\n",
    "\n",
    "    def forward(self, event):\n",
    "        # seperate the two views\n",
    "        view1, view2 = self.augmentation(event, self.device)\n",
    "\n",
    "        # encode to retrieve the representations\n",
    "        view1_representations, view2_representations = self.encoder(view1, view2)\n",
    "#         print(f\"view 1 representations: {view1_representations}\")\n",
    "#         print(f\"view 2 representations: {view2_representations}\")\n",
    "\n",
    "        # simple MLP decoder\n",
    "        view1_embeddings = self.decoder(view1_representations)\n",
    "        view2_embeddings = self.decoder(view2_representations)\n",
    "\n",
    "        # global pooling to be able to compute a loss between views of different dimensionalities\n",
    "        view1_embeddings = global_mean_pool(view1_embeddings, view1.batch)\n",
    "        view2_embeddings = global_mean_pool(view2_embeddings, view2.batch)\n",
    "\n",
    "        return view1_embeddings, view2_embeddings\n",
    "\n",
    "\n",
    "class ENCODER(nn.Module):\n",
    "    \"\"\"The Encoder part of VICReg which attempts to learn useful latent representations of the two views.\"\"\"\n",
    "\n",
    "    def __init__(\n",
    "        self,\n",
    "        input_dim,\n",
    "        width=126,\n",
    "        embedding_dim=34,\n",
    "        num_convs=2,\n",
    "    ):\n",
    "        super(ENCODER, self).__init__()\n",
    "\n",
    "        self.act = nn.ELU\n",
    "\n",
    "        # 1. same MLP for each view\n",
    "        self.nn1 = nn.Sequential(\n",
    "            nn.Linear(input_dim, width),\n",
    "            self.act(),\n",
    "            nn.Linear(width, width),\n",
    "            self.act(),\n",
    "            nn.Linear(width, width),\n",
    "            self.act(),\n",
    "            nn.Linear(width, embedding_dim),\n",
    "        )\n",
    "        self.nn2 = self.nn1\n",
    "\n",
    "        # 2. same GNN for each view\n",
    "        self.convs = nn.ModuleList()\n",
    "        for i in range(num_convs):\n",
    "            self.convs.append(\n",
    "                GravNetConv(\n",
    "                    embedding_dim,\n",
    "                    embedding_dim,\n",
    "                    space_dimensions=4,\n",
    "                    propagate_dimensions=22,\n",
    "                    k=8,\n",
    "                )\n",
    "            )\n",
    "\n",
    "    def forward(self, view1, view2):\n",
    "        view1_representations = self.nn1(view1.x.float())\n",
    "        view2_representations = self.nn2(view2.x.float())\n",
    "\n",
    "        # perform a series of graph convolutions\n",
    "        for num, conv in enumerate(self.convs):\n",
    "            view1_representations = conv(view1_representations, view1.batch)\n",
    "            view2_representations = conv(view2_representations, view2.batch)\n",
    "\n",
    "        return view1_representations, view2_representations\n",
    "\n",
    "\n",
    "class DECODER(nn.Module):\n",
    "    \"\"\"The Decoder part of VICReg which attempts to expand the learned latent representations\n",
    "    of the two views into a space where a loss can be computed.\"\"\"\n",
    "\n",
    "    def __init__(\n",
    "        self,\n",
    "        embedding_dim=34,\n",
    "        width=126,\n",
    "        output_dim=200,\n",
    "    ):\n",
    "        super(DECODER, self).__init__()\n",
    "\n",
    "        self.act = nn.ELU\n",
    "\n",
    "        # DECODER\n",
    "        self.expander = nn.Sequential(\n",
    "            nn.Linear(embedding_dim, width),\n",
    "            self.act(),\n",
    "            nn.Linear(width, width),\n",
    "            self.act(),\n",
    "            nn.Linear(width, width),\n",
    "            self.act(),\n",
    "            nn.Linear(width, output_dim),\n",
    "        )\n",
    "\n",
    "    def forward(self, x):\n",
    "        return self.expander(x)\n"
   ]
  },
  {
   "cell_type": "code",
   "execution_count": 13,
   "metadata": {
    "ExecuteTime": {
     "end_time": "2023-07-17T18:46:29.001378Z",
     "start_time": "2023-07-17T18:46:28.987652Z"
    }
   },
   "outputs": [
    {
     "data": {
      "text/plain": [
       "VICReg(\n",
       "  (encoder): ENCODER(\n",
       "    (nn1): Sequential(\n",
       "      (0): Linear(in_features=7, out_features=126, bias=True)\n",
       "      (1): ELU(alpha=1.0)\n",
       "      (2): Linear(in_features=126, out_features=126, bias=True)\n",
       "      (3): ELU(alpha=1.0)\n",
       "      (4): Linear(in_features=126, out_features=126, bias=True)\n",
       "      (5): ELU(alpha=1.0)\n",
       "      (6): Linear(in_features=126, out_features=34, bias=True)\n",
       "    )\n",
       "    (nn2): Sequential(\n",
       "      (0): Linear(in_features=7, out_features=126, bias=True)\n",
       "      (1): ELU(alpha=1.0)\n",
       "      (2): Linear(in_features=126, out_features=126, bias=True)\n",
       "      (3): ELU(alpha=1.0)\n",
       "      (4): Linear(in_features=126, out_features=126, bias=True)\n",
       "      (5): ELU(alpha=1.0)\n",
       "      (6): Linear(in_features=126, out_features=34, bias=True)\n",
       "    )\n",
       "    (convs): ModuleList(\n",
       "      (0): GravNetConv(34, 34, k=8)\n",
       "      (1): GravNetConv(34, 34, k=8)\n",
       "    )\n",
       "  )\n",
       "  (decoder): DECODER(\n",
       "    (expander): Sequential(\n",
       "      (0): Linear(in_features=34, out_features=126, bias=True)\n",
       "      (1): ELU(alpha=1.0)\n",
       "      (2): Linear(in_features=126, out_features=126, bias=True)\n",
       "      (3): ELU(alpha=1.0)\n",
       "      (4): Linear(in_features=126, out_features=126, bias=True)\n",
       "      (5): ELU(alpha=1.0)\n",
       "      (6): Linear(in_features=126, out_features=200, bias=True)\n",
       "    )\n",
       "  )\n",
       ")"
      ]
     },
     "execution_count": 13,
     "metadata": {},
     "output_type": "execute_result"
    }
   ],
   "source": [
    "vicreg_encoder = ENCODER(input_dim, embedding_dim=34)\n",
    "vicreg_decoder = DECODER(embedding_dim=34, output_dim=200)\n",
    "\n",
    "vicreg = VICReg(vicreg_encoder, vicreg_decoder)\n",
    "vicreg.to(device)"
   ]
  },
  {
   "cell_type": "markdown",
   "metadata": {},
   "source": [
    "# Setup the loss terms"
   ]
  },
  {
   "cell_type": "code",
   "execution_count": 14,
   "metadata": {
    "ExecuteTime": {
     "end_time": "2023-07-17T18:46:29.009579Z",
     "start_time": "2023-07-17T18:46:29.004266Z"
    }
   },
   "outputs": [],
   "source": [
    "def off_diagonal(x):\n",
    "    \"\"\"Copied from VICReg paper github https://github.com/facebookresearch/vicreg/\"\"\"\n",
    "    n, m = x.shape\n",
    "    assert n == m\n",
    "    return x.flatten()[:-1].view(n - 1, n + 1)[:, 1:].flatten()\n",
    "\n",
    "\n",
    "class CovLoss(nn.Module):\n",
    "    def forward(self, view1, view2):\n",
    "        N = view1.size(0)  # batch size\n",
    "        D = view1.size(1)  # dim of representations\n",
    "\n",
    "        view1 = view1 - view1.mean(dim=0)\n",
    "        view2 = view2 - view2.mean(dim=0)\n",
    "\n",
    "        cov_view1 = (view1.T @ view1) / (N - 1)\n",
    "        cov_view2 = (view2.T @ view2) / (N - 1)\n",
    "\n",
    "        loss = off_diagonal(cov_view1).pow_(2).sum().div(D) + off_diagonal(cov_view2).pow_(2).sum().div(D)\n",
    "        return loss\n",
    "\n",
    "\n",
    "class VarLoss(nn.Module):\n",
    "    def forward(self, view1, view2):\n",
    "        view1 = view1 - view1.mean(dim=0)\n",
    "        view2 = view2 - view2.mean(dim=0)\n",
    "\n",
    "        # variance loss\n",
    "        std_view1 = torch.sqrt(view1.var(dim=0) + 1e-10)\n",
    "        std_view2 = torch.sqrt(view2.var(dim=0) + 1e-10)\n",
    "\n",
    "        loss = torch.mean(F.relu(1 - std_view1)) / 2 + torch.mean(F.relu(1 - std_view2)) / 2\n",
    "        return loss"
   ]
  },
  {
   "cell_type": "code",
   "execution_count": 15,
   "metadata": {
    "ExecuteTime": {
     "end_time": "2023-07-17T18:46:29.018600Z",
     "start_time": "2023-07-17T18:46:29.011795Z"
    }
   },
   "outputs": [],
   "source": [
    "crit_invar = nn.MSELoss()\n",
    "crit_var = VarLoss()\n",
    "crit_cov = CovLoss()\n",
    "\n",
    "max_var = 1e-5 * batch_size\n",
    "max_cov = 50 * batch_size\n",
    "\n",
    "constraints = []\n",
    "constraints.append(mdmm.MaxConstraint(lambda: crit_var(view1_embeddings, view2_embeddings), max_var))\n",
    "constraints.append(mdmm.MaxConstraint(lambda: crit_cov(view1_embeddings, view2_embeddings), max_cov, scale=1e4))\n",
    "\n",
    "mdmm_module = mdmm.MDMM(constraints)\n",
    "optimizer = mdmm_module.make_optimizer(vicreg.parameters(), lr=1e-4)"
   ]
  },
  {
   "cell_type": "markdown",
   "metadata": {},
   "source": [
    "# Run a training loop"
   ]
  },
  {
   "cell_type": "code",
   "execution_count": 16,
   "metadata": {
    "ExecuteTime": {
     "end_time": "2023-07-17T18:46:48.407189Z",
     "start_time": "2023-07-17T18:46:29.020311Z"
    }
   },
   "outputs": [
    {
     "name": "stdout",
     "output_type": "stream",
     "text": [
      "constrained invariance loss: 9.24\n",
      "constrained invariance loss: 7.48\n",
      "constrained invariance loss: 5.58\n",
      "constrained invariance loss: 4.94\n",
      "constrained invariance loss: 3.27\n",
      "constrained invariance loss: 3.68\n",
      "constrained invariance loss: 3.01\n",
      "constrained invariance loss: 2.65\n",
      "constrained invariance loss: 2.66\n",
      "constrained invariance loss: 2.39\n",
      "constrained invariance loss: 2.35\n",
      "constrained invariance loss: 2.73\n",
      "constrained invariance loss: 2.01\n",
      "constrained invariance loss: 2.27\n",
      "constrained invariance loss: 1.85\n",
      "constrained invariance loss: 2.03\n",
      "constrained invariance loss: 1.70\n",
      "constrained invariance loss: 1.95\n",
      "constrained invariance loss: 1.49\n",
      "constrained invariance loss: 1.23\n",
      "constrained invariance loss: 1.20\n",
      "constrained invariance loss: 1.29\n",
      "constrained invariance loss: 1.46\n",
      "constrained invariance loss: 1.05\n",
      "constrained invariance loss: 1.38\n",
      "constrained invariance loss: 1.53\n",
      "constrained invariance loss: 1.32\n",
      "constrained invariance loss: 1.22\n",
      "constrained invariance loss: 1.15\n",
      "constrained invariance loss: 1.10\n",
      "constrained invariance loss: 1.02\n",
      "constrained invariance loss: 1.32\n",
      "constrained invariance loss: 1.01\n",
      "constrained invariance loss: 0.99\n",
      "constrained invariance loss: 1.00\n",
      "constrained invariance loss: 0.98\n",
      "constrained invariance loss: 0.98\n",
      "constrained invariance loss: 1.02\n",
      "constrained invariance loss: 1.50\n",
      "constrained invariance loss: 0.97\n",
      "constrained invariance loss: 1.11\n",
      "constrained invariance loss: 1.16\n",
      "constrained invariance loss: 1.28\n",
      "constrained invariance loss: 1.16\n",
      "constrained invariance loss: 1.30\n",
      "constrained invariance loss: 1.14\n",
      "constrained invariance loss: 1.05\n",
      "constrained invariance loss: 1.40\n",
      "constrained invariance loss: 1.29\n",
      "constrained invariance loss: 1.51\n",
      "constrained invariance loss: 1.47\n",
      "constrained invariance loss: 1.88\n",
      "constrained invariance loss: 1.56\n",
      "constrained invariance loss: 1.44\n",
      "constrained invariance loss: 2.01\n",
      "constrained invariance loss: 1.51\n",
      "constrained invariance loss: 2.25\n",
      "constrained invariance loss: 2.06\n",
      "constrained invariance loss: 2.24\n",
      "constrained invariance loss: 2.24\n",
      "constrained invariance loss: 2.08\n",
      "constrained invariance loss: 2.00\n",
      "constrained invariance loss: 2.46\n",
      "constrained invariance loss: 2.10\n",
      "constrained invariance loss: 2.71\n",
      "constrained invariance loss: 2.30\n",
      "constrained invariance loss: 2.68\n",
      "constrained invariance loss: 2.40\n",
      "constrained invariance loss: 2.08\n",
      "constrained invariance loss: 2.94\n",
      "constrained invariance loss: 2.27\n",
      "constrained invariance loss: 2.13\n",
      "constrained invariance loss: 2.07\n",
      "constrained invariance loss: 2.39\n",
      "constrained invariance loss: 1.55\n",
      "constrained invariance loss: 2.43\n",
      "constrained invariance loss: 2.05\n",
      "constrained invariance loss: 2.16\n",
      "constrained invariance loss: 2.79\n",
      "constrained invariance loss: 2.66\n",
      "constrained invariance loss: 2.70\n",
      "constrained invariance loss: 2.65\n",
      "constrained invariance loss: 2.62\n",
      "constrained invariance loss: 2.80\n",
      "constrained invariance loss: 2.80\n",
      "constrained invariance loss: 3.42\n",
      "constrained invariance loss: 2.35\n",
      "constrained invariance loss: 2.37\n",
      "constrained invariance loss: 2.11\n",
      "constrained invariance loss: 1.86\n",
      "constrained invariance loss: 2.06\n",
      "constrained invariance loss: 1.76\n",
      "constrained invariance loss: 2.08\n",
      "constrained invariance loss: 1.58\n",
      "constrained invariance loss: 1.74\n",
      "constrained invariance loss: 1.73\n",
      "constrained invariance loss: 1.67\n",
      "constrained invariance loss: 1.79\n",
      "constrained invariance loss: 1.86\n",
      "constrained invariance loss: 1.99\n",
      "constrained invariance loss: 1.82\n"
     ]
    }
   ],
   "source": [
    "losses_inv, losses_var, losses_cov, losses_reg = [], [], [], []\n",
    "\n",
    "for i, batch in enumerate(loader):\n",
    "    # run VICReg forward pass to get the embeddings\n",
    "    view1_embeddings, view2_embeddings = vicreg(batch.to(device))\n",
    "\n",
    "    # compute the invariance loss which is contrained by the other loss terms\n",
    "    loss = batch_size * crit_invar(view1_embeddings, view2_embeddings)\n",
    "#     print(f\"invariance loss: {loss * 1e4:.2f}\")\n",
    "    losses_inv.append(loss.detach().item() * 1e4)\n",
    "    loss_var = batch_size * crit_var(view1_embeddings, view2_embeddings)\n",
    "#     print(f\"variance loss: {loss_var * 1e4:.2f}\")\n",
    "    losses_var.append(loss_var.detach().item() * 1e4)\n",
    "    loss_cov = batch_size * crit_cov(view1_embeddings, view2_embeddings)\n",
    "#     print(f\"covariance loss: {loss_cov * 1e4:.2f}\")\n",
    "    losses_cov.append(loss_cov.detach().item() * 1e4)\n",
    "#     print(f\"max var: {max_var * 1e4}\")\n",
    "#     print(f\"max cov: {max_cov * 1e4}\")\n",
    "\n",
    "    mdmm_return = mdmm_module(loss)\n",
    "\n",
    "    # backprop\n",
    "    for param in vicreg.parameters():\n",
    "        param.grad = None\n",
    "    mdmm_return.value.backward()\n",
    "#     print(mdmm_return)\n",
    "\n",
    "    optimizer.step()\n",
    "#     print(f\"constrained invariance loss: {loss.detach():.2f}\")\n",
    "    print(f\"constrained invariance loss: {loss.detach()* 1e4:.2f}\")\n",
    "    losses_reg.append(loss.detach().item() * 1e4)\n",
    "\n",
    "    if i == 100:\n",
    "        break\n",
    "#     print(\"-----------\")"
   ]
  },
  {
   "cell_type": "code",
   "execution_count": 17,
   "metadata": {
    "ExecuteTime": {
     "end_time": "2023-07-17T18:46:48.795025Z",
     "start_time": "2023-07-17T18:46:48.409085Z"
    }
   },
   "outputs": [],
   "source": [
    "import matplotlib\n",
    "import matplotlib.pyplot as plt\n",
    "# plt.plot(losses)"
   ]
  },
  {
   "cell_type": "code",
   "execution_count": 27,
   "metadata": {
    "ExecuteTime": {
     "end_time": "2023-07-17T18:51:33.504334Z",
     "start_time": "2023-07-17T18:51:33.499508Z"
    }
   },
   "outputs": [
    {
     "name": "stdout",
     "output_type": "stream",
     "text": [
      "max var * 1e4: 25.6\n",
      "max cov * 1e4: 128000000.0\n"
     ]
    }
   ],
   "source": [
    "print(f\"max var * 1e4: {max_var * 1e4}\")\n",
    "print(f\"max cov * 1e4: {max_cov * 1e4}\")"
   ]
  },
  {
   "cell_type": "code",
   "execution_count": 22,
   "metadata": {
    "ExecuteTime": {
     "end_time": "2023-07-17T18:49:19.883943Z",
     "start_time": "2023-07-17T18:49:19.754788Z"
    }
   },
   "outputs": [
    {
     "data": {
      "text/plain": [
       "Text(0.5, 1.0, 'Invariance loss * 1e4')"
      ]
     },
     "execution_count": 22,
     "metadata": {},
     "output_type": "execute_result"
    },
    {
     "data": {
      "image/png": "[encoded data removed]",
      "text/plain": [
       "<Figure size 640x480 with 1 Axes>"
      ]
     },
     "metadata": {},
     "output_type": "display_data"
    }
   ],
   "source": [
    "plt.plot(losses_inv)\n",
    "plt.title(\"Unconstrained Invariance loss * 1e4\")"
   ]
  },
  {
   "cell_type": "code",
   "execution_count": 23,
   "metadata": {
    "ExecuteTime": {
     "end_time": "2023-07-17T18:49:43.391896Z",
     "start_time": "2023-07-17T18:49:43.222763Z"
    }
   },
   "outputs": [
    {
     "data": {
      "text/plain": [
       "Text(0.5, 1.0, 'Variance loss * 1e4')"
      ]
     },
     "execution_count": 23,
     "metadata": {},
     "output_type": "execute_result"
    },
    {
     "data": {
      "image/png": "[encoded data removed]",
      "text/plain": [
       "<Figure size 640x480 with 1 Axes>"
      ]
     },
     "metadata": {},
     "output_type": "display_data"
    }
   ],
   "source": [
    "plt.plot(losses_var)\n",
    "plt.title(\"Variance loss * 1e4\")"
   ]
  },
  {
   "cell_type": "code",
   "execution_count": 24,
   "metadata": {
    "ExecuteTime": {
     "end_time": "2023-07-17T18:49:51.373448Z",
     "start_time": "2023-07-17T18:49:51.236691Z"
    }
   },
   "outputs": [
    {
     "data": {
      "text/plain": [
       "Text(0.5, 1.0, 'Covariance loss * 1e4')"
      ]
     },
     "execution_count": 24,
     "metadata": {},
     "output_type": "execute_result"
    },
    {
     "data": {
      "image/png": "[encoded data removed]",
      "text/plain": [
       "<Figure size 640x480 with 1 Axes>"
      ]
     },
     "metadata": {},
     "output_type": "display_data"
    }
   ],
   "source": [
    "plt.plot(losses_cov)\n",
    "plt.title(\"Covariance loss * 1e4\")"
   ]
  },
  {
   "cell_type": "code",
   "execution_count": 25,
   "metadata": {
    "ExecuteTime": {
     "end_time": "2023-07-17T18:49:59.473711Z",
     "start_time": "2023-07-17T18:49:59.354483Z"
    }
   },
   "outputs": [
    {
     "data": {
      "text/plain": [
       "Text(0.5, 1.0, 'Constrained Invariance loss * 1e4')"
      ]
     },
     "execution_count": 25,
     "metadata": {},
     "output_type": "execute_result"
    },
    {
     "data": {
      "image/png": "[encoded data removed]",
      "text/plain": [
       "<Figure size 640x480 with 1 Axes>"
      ]
     },
     "metadata": {},
     "output_type": "display_data"
    }
   ],
   "source": [
    "plt.plot(losses_reg)\n",
    "plt.title(\"Constrained Invariance loss * 1e4\")"
   ]
  },
  {
   "cell_type": "code",
   "execution_count": null,
   "metadata": {},
   "outputs": [],
   "source": []
  }
 ],
 "metadata": {
  "kernelspec": {
   "display_name": "Python 3 (ipykernel)",
   "language": "python",
   "name": "python3"
  },
  "language_info": {
   "codemirror_mode": {
    "name": "ipython",
    "version": 3
   },
   "file_extension": ".py",
   "mimetype": "text/x-python",
   "name": "python",
   "nbconvert_exporter": "python",
   "pygments_lexer": "ipython3",
   "version": "3.10.10"
  },
  "vscode": {
   "interpreter": {
    "hash": "bd710be4164d8116e60481776a482d6ed163c0c31d42101b2cd55e4bfc6d2c5e"
   }
  }
 },
 "nbformat": 4,
 "nbformat_minor": 4
}
