{
 "cells": [
  {
   "cell_type": "code",
   "execution_count": 1,
   "id": "0f4fc55d",
   "metadata": {},
   "outputs": [],
   "source": [
    "# !pip install fastjet"
   ]
  },
  {
   "cell_type": "code",
   "execution_count": 1,
   "id": "9b222cee",
   "metadata": {},
   "outputs": [],
   "source": [
    "import glob\n",
    "import os\n",
    "import sys\n",
    "\n",
    "sys.path.insert(0, \"hbb_interaction_network\")\n",
    "\n",
    "import pickle as pkl\n",
    "import time\n",
    "from itertools import cycle\n",
    "\n",
    "import matplotlib\n",
    "import matplotlib.pyplot as plt\n",
    "import matplotlib.colors as colors\n",
    "import mplhep as hep\n",
    "import numpy as np\n",
    "import pandas as pd\n",
    "import torch\n",
    "import torch.nn as nn\n",
    "import torch_geometric\n",
    "from sklearn.metrics import auc, roc_curve\n",
    "from torch_geometric.data import Batch, Data\n",
    "from torch_geometric.loader import DataListLoader, DataLoader\n",
    "\n",
    "import awkward as ak\n",
    "import fastjet\n",
    "import vector\n",
    "\n",
    "plt.style.use(hep.style.CMS)\n",
    "plt.rcParams.update({\"font.size\": 20})\n",
    "\n",
    "from tqdm.notebook import tqdm"
   ]
  },
  {
   "cell_type": "code",
   "execution_count": 2,
   "id": "70a0a1c2",
   "metadata": {},
   "outputs": [
    {
     "name": "stdout",
     "output_type": "stream",
     "text": [
      "Device 0: NVIDIA A100 80GB PCIe MIG 1g.10gb\n"
     ]
    }
   ],
   "source": [
    "# define the global base device\n",
    "world_size = torch.cuda.device_count()\n",
    "multi_gpu = world_size >= 2\n",
    "if world_size:\n",
    "    device = torch.device(\"cuda:0\")\n",
    "    for i in range(world_size):\n",
    "        print(f\"Device {i}: {torch.cuda.get_device_name(i)}\")\n",
    "else:\n",
    "    device = \"cpu\"\n",
    "    print(\"Device: CPU\")"
   ]
  },
  {
   "cell_type": "code",
   "execution_count": 4,
   "id": "412c10d5",
   "metadata": {},
   "outputs": [
    {
     "name": "stdout",
     "output_type": "stream",
     "text": [
      "/../ssl-jet-vol-v2/toptagging/test/processed:\n",
      "data_0.pt  data_1.pt  data_2.pt  data_3.pt  data_quick.pt\n",
      "\n",
      "/../ssl-jet-vol-v2/toptagging/train/processed:\n",
      "data_0.pt   data_11.pt\tdata_2.pt  data_4.pt  data_6.pt  data_8.pt\n",
      "data_10.pt  data_1.pt\tdata_3.pt  data_5.pt  data_7.pt  data_9.pt\n",
      "\n",
      "/../ssl-jet-vol-v2/toptagging/val/processed:\n",
      "data_0.pt  data_1.pt  data_2.pt  data_3.pt\n"
     ]
    }
   ],
   "source": [
    "! ls /../ssl-jet-vol-v2/toptagging/*/processed"
   ]
  },
  {
   "cell_type": "code",
   "execution_count": 3,
   "id": "e18c94b8",
   "metadata": {},
   "outputs": [
    {
     "name": "stdout",
     "output_type": "stream",
     "text": [
      "--- loaded file 0 from `train` directory\n"
     ]
    }
   ],
   "source": [
    "# load the datafiles\n",
    "def load_data(dataset_path, flag, n_files=-1):\n",
    "    data_files = glob.glob(f\"{dataset_path}/{flag}/processed/*\")\n",
    "        \n",
    "    data = []\n",
    "    for i, file in enumerate(data_files):\n",
    "        data += torch.load(f\"{dataset_path}/{flag}/processed/data_{i}.pt\")\n",
    "        print(f\"--- loaded file {i} from `{flag}` directory\")\n",
    "        if n_files!=-1 and i==n_files-1:\n",
    "            break\n",
    "                \n",
    "    return data\n",
    "\n",
    "dataset_path = \"/../ssl-jet-vol-v2/toptagging/\"\n",
    "\n",
    "data_train = load_data(dataset_path, \"train\", n_files=1)\n",
    "# data_valid = load_data(dataset_path, \"val\", n_files=4)\n",
    "# data_test = load_data(dataset_path, \"val\", n_files=1)"
   ]
  },
  {
   "cell_type": "code",
   "execution_count": 6,
   "id": "2cc4d570",
   "metadata": {},
   "outputs": [
    {
     "data": {
      "text/plain": [
       "100001"
      ]
     },
     "execution_count": 6,
     "metadata": {},
     "output_type": "execute_result"
    }
   ],
   "source": [
    "len(data_test)"
   ]
  },
  {
   "cell_type": "code",
   "execution_count": 7,
   "id": "f919e396",
   "metadata": {},
   "outputs": [
    {
     "data": {
      "text/plain": [
       "[Data(x=[23, 7], y=0),\n",
       " Data(x=[43, 7], y=0),\n",
       " Data(x=[41, 7], y=0),\n",
       " Data(x=[25, 7], y=0)]"
      ]
     },
     "execution_count": 7,
     "metadata": {},
     "output_type": "execute_result"
    }
   ],
   "source": [
    "data_train[:4]"
   ]
  },
  {
   "cell_type": "code",
   "execution_count": 4,
   "id": "5a9147da",
   "metadata": {},
   "outputs": [],
   "source": [
    "\"\"\"\n",
    "The 7 input features per particle in the jet.\n",
    "    1. ∆η difference in pseudorapidity between the particle and the jet axis\n",
    "    2. ∆φ difference in azimuthal angle between the particle and the jet axis\n",
    "    3. log pT logarithm of the particle’s pT\n",
    "    4. log E logarithm of the particle’s energy\n",
    "    5. log pT/pT_jet logarithm of the particle’s pT relative to the jet pT\n",
    "    6. log E/E_jet logarithm of the particle’s energy relative to the jet energy\n",
    "    7. ∆R\n",
    "\"\"\"\n",
    "\n",
    "feature_dict = {\n",
    "    \"eta\": 0,\n",
    "    \"phi\": 1,\n",
    "    \"pt\": 2,\n",
    "    \"E\": 3,\n",
    "    \"pt/jet_pt\": 4,\n",
    "    \"E/jet_E\": 5,\n",
    "    \"deltaR\": 6,    \n",
    "}\n",
    "\n",
    "feature_label = {\n",
    "    \"eta\": r\"Particle $\\left| \\eta \\right|$\",\n",
    "    \"phi\": r\"Particle $\\left| \\phi \\right|$\",\n",
    "    \"pt\": r\"Particle $p_T$\",\n",
    "    \"E\": \"Particle E\",\n",
    "    \"pt/jet_pt\": r\"Log($\\frac{p_T(particle)}{p_T(jet)})$\",\n",
    "    \"E/jet_E\": r\"$Log(\\frac{E(particle)}{E(jet)})$\",\n",
    "    \"deltaR\": r\"$\\Delta R(particle, jet)$\", \n",
    "    \n",
    "}"
   ]
  },
  {
   "cell_type": "code",
   "execution_count": 5,
   "id": "0af377cf",
   "metadata": {},
   "outputs": [],
   "source": [
    "num_features = 7"
   ]
  },
  {
   "cell_type": "code",
   "execution_count": 6,
   "id": "066b351b",
   "metadata": {},
   "outputs": [],
   "source": [
    "batch_size = 100\n",
    "\n",
    "train_loader = DataLoader(data_train, batch_size)\n",
    "# valid_loader = DataLoader(data_valid, batch_size)\n",
    "# test_loader = DataLoader(data_test, batch_size)"
   ]
  },
  {
   "cell_type": "code",
   "execution_count": 7,
   "id": "fabc372a",
   "metadata": {},
   "outputs": [
    {
     "data": {
      "text/plain": [
       "<torch_geometric.loader.dataloader.DataLoader at 0x7fddf5c115d0>"
      ]
     },
     "execution_count": 7,
     "metadata": {},
     "output_type": "execute_result"
    }
   ],
   "source": [
    "train_loader"
   ]
  },
  {
   "cell_type": "markdown",
   "id": "04085915",
   "metadata": {},
   "source": [
    "### see the range of ptp_eta"
   ]
  },
  {
   "cell_type": "code",
   "execution_count": 12,
   "id": "d558a189",
   "metadata": {},
   "outputs": [],
   "source": [
    "ptp_eta_lst = []\n",
    "for i, bb in enumerate(test_loader):\n",
    "    bb = bb.clone()\n",
    "    bb = bb.to(\"cpu\")\n",
    "    X = bb.x.numpy()\n",
    "    ptp_eta = np.ptp(X[:,0], axis=-1, keepdims=True)\n",
    "    ptp_eta_lst.append(ptp_eta[0])\n",
    "#     print(f\"ptp_eta for batch {i} : {ptp_eta}\")\n",
    "#     if i == 30:\n",
    "#         break\n",
    "    "
   ]
  },
  {
   "cell_type": "code",
   "execution_count": 13,
   "id": "c072c242",
   "metadata": {},
   "outputs": [
    {
     "data": {
      "image/png": "[encoded data removed]",
      "text/plain": [
       "<Figure size 800x600 with 1 Axes>"
      ]
     },
     "metadata": {},
     "output_type": "display_data"
    }
   ],
   "source": [
    "fig, ax = plt.subplots(figsize=(8, 6))\n",
    "plt.hist(ptp_eta_lst, bins=10, histtype=\"step\", linewidth=2, label=f\"ptp_eta\")\n",
    "\n",
    "ax.legend(title=\"10k Jets\")\n",
    "ax.set_xlabel(r\"ptp_eta\");\n",
    "ax.set_ylabel(r\"Events\");"
   ]
  },
  {
   "cell_type": "code",
   "execution_count": 14,
   "id": "abc3664d",
   "metadata": {},
   "outputs": [],
   "source": [
    "for i, bb in enumerate(train_loader):\n",
    "    break"
   ]
  },
  {
   "cell_type": "markdown",
   "id": "6496983f",
   "metadata": {},
   "source": [
    "# Translate Jets"
   ]
  },
  {
   "cell_type": "code",
   "execution_count": 23,
   "id": "e21989cd",
   "metadata": {},
   "outputs": [],
   "source": [
    "def translate_jets(batch, width=1.0, device='cpu'):\n",
    "    width = 1.0\n",
    "    bb = batch.clone()\n",
    "    bb = bb.to(\"cpu\")\n",
    "    X = bb.x.numpy()\n",
    "    ptp_eta = np.ptp(X[:,0], axis=-1, keepdims=True)\n",
    "    ptp_phi = np.ptp(X[:,1], axis=-1, keepdims=True)\n",
    "    low_eta  = -width*ptp_eta\n",
    "    print(f\"low eta: {low_eta}\")\n",
    "    high_eta = +width*ptp_eta\n",
    "    print(f\"high eta: {high_eta}\")\n",
    "    low_phi = np.maximum(-width*ptp_phi, -np.pi-np.min(X[:,1]).reshape(ptp_phi.shape))\n",
    "    print(f\"low phi: {low_phi}\")\n",
    "    high_phi = np.minimum(+width*ptp_phi, +np.pi-np.max(X[:,1]).reshape(ptp_phi.shape))\n",
    "    print(f\"high phi: {high_phi}\")\n",
    "    shift_eta_batch = np.random.uniform(low=low_eta, high=high_eta, size=(bb.y.shape[0], 1))  \n",
    "    shift_phi_batch = np.random.uniform(low=low_phi, high=high_phi, size=(bb.y.shape[0], 1))  \n",
    "    \n",
    "    # To make sure that the components of each jet get shifted by the same amount\n",
    "    for i in range(len(bb)):\n",
    "        X_jet = bb[i].x.numpy()\n",
    "        shift_eta_jet = np.ones((X_jet.shape[0], 1)) * shift_eta_batch[i]\n",
    "        shift_phi_jet = np.ones((X_jet.shape[0], 1)) * shift_phi_batch[i]\n",
    "        if i == 0:\n",
    "            shift_eta = shift_eta_jet\n",
    "            shift_phi = shift_phi_jet\n",
    "        else:\n",
    "            shift_eta = np.concatenate((shift_eta, shift_eta_jet))\n",
    "            shift_phi = np.concatenate((shift_phi, shift_phi_jet))\n",
    "\n",
    "    shift = np.hstack((shift_eta, shift_phi, np.zeros((X.shape[0], 5))))\n",
    "    new_X = X + shift\n",
    "    new_X = torch.tensor(new_X).to(device)\n",
    "    bb.x = new_X\n",
    "    return bb.to(device)"
   ]
  },
  {
   "cell_type": "markdown",
   "id": "5a2ee955",
   "metadata": {},
   "source": [
    "## Test translate_jets()"
   ]
  },
  {
   "cell_type": "code",
   "execution_count": 24,
   "id": "1950f73c",
   "metadata": {},
   "outputs": [
    {
     "name": "stdout",
     "output_type": "stream",
     "text": [
      "low eta: [-1.5893445]\n",
      "high eta: [1.5893445]\n",
      "low phi: [-1.5909317]\n",
      "high phi: [1.5909317]\n"
     ]
    }
   ],
   "source": [
    "new_batch = translate_jets(bb, device=device)"
   ]
  },
  {
   "cell_type": "code",
   "execution_count": 25,
   "id": "6ea1bda9",
   "metadata": {},
   "outputs": [
    {
     "data": {
      "text/plain": [
       "tensor([ 0.0048, -0.0304,  0.0032, -0.0078,  0.0176, -0.0078, -0.0123, -0.0224,\n",
       "        -0.0214,  0.0220, -0.0722,  0.0343,  0.0810,  0.0298, -0.0354,  0.0295,\n",
       "         0.0528,  0.1544,  0.0066, -0.2777, -0.2948,  0.4583, -0.0605])"
      ]
     },
     "execution_count": 25,
     "metadata": {},
     "output_type": "execute_result"
    }
   ],
   "source": [
    "bb[0].x[:, 0]"
   ]
  },
  {
   "cell_type": "code",
   "execution_count": 26,
   "id": "86e6df6b",
   "metadata": {},
   "outputs": [
    {
     "data": {
      "text/plain": [
       "tensor([1.0788, 1.0436, 1.0772, 1.0662, 1.0916, 1.0662, 1.0617, 1.0516, 1.0526,\n",
       "        1.0960, 1.0018, 1.1083, 1.1550, 1.1038, 1.0386, 1.1035, 1.1268, 1.2283,\n",
       "        1.0806, 0.7963, 0.7792, 1.5322, 1.0135], device='cuda:0',\n",
       "       dtype=torch.float64)"
      ]
     },
     "execution_count": 26,
     "metadata": {},
     "output_type": "execute_result"
    }
   ],
   "source": [
    "new_batch[0].x[:, 0]\n",
    "# new_batch.x.device"
   ]
  },
  {
   "cell_type": "code",
   "execution_count": 27,
   "id": "01e2ccaa",
   "metadata": {},
   "outputs": [
    {
     "data": {
      "text/plain": [
       "array([1.07397973, 1.07397973, 1.07397973, 1.07397973, 1.07397973,\n",
       "       1.07397973, 1.07397973, 1.07397973, 1.07397973, 1.07397973,\n",
       "       1.07397973, 1.07397973, 1.07397973, 1.07397973, 1.07397973,\n",
       "       1.07397973, 1.07397973, 1.07397973, 1.07397973, 1.07397973,\n",
       "       1.07397973, 1.07397973, 1.07397973])"
      ]
     },
     "execution_count": 27,
     "metadata": {},
     "output_type": "execute_result"
    }
   ],
   "source": [
    "i=0\n",
    "new_batch.cpu()[i].x[:, 0].numpy() - bb.cpu()[i].x[:, 0].numpy()"
   ]
  },
  {
   "cell_type": "markdown",
   "id": "f9ac8141",
   "metadata": {},
   "source": [
    "# Rotate Jets"
   ]
  },
  {
   "cell_type": "code",
   "execution_count": 66,
   "id": "fcf8b932",
   "metadata": {},
   "outputs": [],
   "source": [
    "def rotate_jets(batch, device):\n",
    "    bb = batch.clone()\n",
    "    bb = bb.to(\"cpu\")\n",
    "    rot_angle = np.random.rand(len(bb))*2*np.pi\n",
    "#     print(rot_angle)\n",
    "    c = np.cos(rot_angle)\n",
    "    s = np.sin(rot_angle)\n",
    "    o = np.ones_like(rot_angle)\n",
    "    z = np.zeros_like(rot_angle)\n",
    "    rot_matrix = np.array([[z, c, -s], [z, s, c], [o, z, z]])  # (3, 3, 100)\n",
    "    rot_matrix = rot_matrix.transpose(2,0,1)  # (100, 3, 3)\n",
    "\n",
    "    for i in range(len(bb)):\n",
    "        x_ = bb[i].x[:,:3]\n",
    "        new_x = np.einsum('ij,jk', bb[i].x[:,:3], rot_matrix_tr[i])  # this is somehow (pT, eta', phi')\n",
    "        new_x[:, [0,2]] = new_x[:, [2, 0]] \n",
    "        new_x[:, [0,1]] = new_x[:, [1, 0]] # now (phi', eta', pT)\n",
    "        \n",
    "        if i == 0:\n",
    "            new_X = new_x\n",
    "        else:\n",
    "            new_X = np.concatenate((new_X, new_x), axis=0)\n",
    "\n",
    "    new_X = torch.tensor(new_X).to(device)\n",
    "    bb.x = new_X\n",
    "    return bb.to(device)"
   ]
  },
  {
   "cell_type": "markdown",
   "id": "497f4901",
   "metadata": {},
   "source": [
    "## Test rotate_jets()"
   ]
  },
  {
   "cell_type": "code",
   "execution_count": 10,
   "id": "c1728e75",
   "metadata": {},
   "outputs": [],
   "source": [
    "for i, batch in enumerate(train_loader):\n",
    "    if i == 1:\n",
    "        break"
   ]
  },
  {
   "cell_type": "code",
   "execution_count": 67,
   "id": "471f24e5",
   "metadata": {},
   "outputs": [],
   "source": [
    "new_batch = rotate_jets(batch, device=device)"
   ]
  },
  {
   "cell_type": "code",
   "execution_count": 68,
   "id": "c394d084",
   "metadata": {
    "collapsed": true
   },
   "outputs": [
    {
     "data": {
      "text/plain": [
       "tensor([[-6.0437e-02, -2.9798e-02,  4.9351e+00],\n",
       "        [ 1.1935e-01,  2.6293e-01,  4.5134e+00],\n",
       "        [ 1.1935e-01,  2.6293e-01,  3.8842e+00],\n",
       "        [ 2.2080e-02, -5.8930e-02,  3.7488e+00],\n",
       "        [ 1.6222e-02, -6.6628e-02,  3.5040e+00],\n",
       "        [-2.5196e-01, -5.0939e-01,  3.3562e+00],\n",
       "        [ 1.2240e-01,  2.5398e-01,  2.9413e+00],\n",
       "        [ 4.7167e-02, -3.4889e-02,  2.6665e+00],\n",
       "        [ 1.5118e-01,  2.6092e-01,  2.5321e+00],\n",
       "        [-3.0791e-01, -5.3602e-01,  2.2583e+00],\n",
       "        [ 8.9111e-02, -8.4846e-02,  2.1801e+00],\n",
       "        [ 1.0256e-01,  2.9138e-01,  2.1715e+00],\n",
       "        [ 1.9424e-01,  2.4204e-01,  2.0848e+00],\n",
       "        [-2.2788e-01, -5.0678e-01,  1.7994e+00],\n",
       "        [-2.4578e-01, -4.4921e-01,  1.6775e+00],\n",
       "        [-7.9526e-04,  2.4844e-01,  1.6761e+00],\n",
       "        [-1.8728e-02, -6.2828e-02,  1.6329e+00],\n",
       "        [-2.5419e-01, -4.2511e-01,  1.6205e+00],\n",
       "        [ 1.0769e-01,  2.2927e-01,  1.5918e+00],\n",
       "        [-4.4587e-01, -4.5636e-01,  1.5623e+00],\n",
       "        [-4.4538e-02, -1.7549e-02,  1.4822e+00],\n",
       "        [ 1.0688e-01,  1.3231e-02,  1.4066e+00],\n",
       "        [ 1.8782e-01,  1.5051e-01,  1.3831e+00],\n",
       "        [-4.3353e-01,  2.1737e-01,  1.2644e+00],\n",
       "        [ 5.9766e-02,  2.0079e-01,  1.2436e+00],\n",
       "        [-1.0020e-01, -4.8274e-01,  1.2353e+00],\n",
       "        [-3.0038e-02,  3.8877e-01,  1.2286e+00],\n",
       "        [-1.6399e-02, -2.1783e-01,  1.2199e+00],\n",
       "        [ 2.0576e-01, -2.2634e-01,  1.2084e+00],\n",
       "        [ 9.8368e-02,  1.9743e-01,  1.1490e+00],\n",
       "        [-2.1190e-01, -2.2637e-01,  1.1462e+00],\n",
       "        [-2.1331e-01, -6.1788e-01,  1.1252e+00],\n",
       "        [ 1.3934e-01,  2.4882e-01,  1.0617e+00],\n",
       "        [-3.3013e-03, -4.7024e-01,  1.0162e+00],\n",
       "        [-2.0907e-01, -4.0799e-01,  8.3324e-01],\n",
       "        [-2.2567e-01,  1.9387e-01,  8.0464e-01],\n",
       "        [-1.0366e-02,  1.5768e-01,  7.9244e-01],\n",
       "        [-1.1943e-02, -1.2468e-01,  6.6859e-01],\n",
       "        [ 6.0320e-02,  2.7523e-01,  4.7798e-01],\n",
       "        [ 3.1347e-02, -2.0043e-01,  4.1087e-01],\n",
       "        [-1.9655e-01, -5.3068e-01,  3.9641e-01],\n",
       "        [-2.5196e-01, -5.0939e-01,  2.6377e-01],\n",
       "        [ 2.2632e-03, -5.9954e-01,  2.2258e-01],\n",
       "        [-2.2700e-01, -1.7080e-01,  2.0969e-01],\n",
       "        [ 2.6257e-01,  1.1468e-01,  1.8028e-01],\n",
       "        [ 2.9670e-02,  9.1065e-02,  1.3671e-01],\n",
       "        [ 5.0345e-02, -2.3596e-01,  8.7284e-02],\n",
       "        [-1.8120e-02, -7.4327e-01, -2.7724e-02],\n",
       "        [ 3.8512e-02, -3.5052e-01, -6.8051e-02],\n",
       "        [-2.0209e-01, -3.6152e-01, -1.9551e-01],\n",
       "        [ 6.1144e-02, -5.1466e-01, -4.8508e-01],\n",
       "        [ 4.6837e-01, -1.6947e-01, -1.4010e+00],\n",
       "        [-6.3803e-02,  6.7407e-02, -1.4965e+00]], device='cuda:0',\n",
       "       dtype=torch.float64)"
      ]
     },
     "execution_count": 68,
     "metadata": {},
     "output_type": "execute_result"
    }
   ],
   "source": [
    "new_batch[0].x[:,:3]"
   ]
  },
  {
   "cell_type": "markdown",
   "id": "59cd74f0",
   "metadata": {},
   "source": [
    "# Other augmentations"
   ]
  },
  {
   "cell_type": "code",
   "execution_count": 11,
   "id": "f9e51b41",
   "metadata": {},
   "outputs": [],
   "source": [
    "def rescale_pts(batch):\n",
    "    x_rscl = batch.x.clone()\n",
    "    batch.x[:,2] = torch.nan_to_num(x_rscl[:,2]/600, posinf=0.0, neginf=0.0)\n",
    "    return batch"
   ]
  },
  {
   "cell_type": "code",
   "execution_count": 12,
   "id": "90d9dcd3",
   "metadata": {},
   "outputs": [],
   "source": [
    "def normalize_pts( batch ):\n",
    "    x_norm = batch.x.clone()\n",
    "    batch.x[:,2] = torch.nan_to_num(x_norm[:,2]/torch.sum(x_norm[:,2]), posinf = 0.0, neginf = 0.0 )\n",
    "    return batch"
   ]
  },
  {
   "cell_type": "code",
   "execution_count": 13,
   "id": "34dd8cee",
   "metadata": {},
   "outputs": [],
   "source": [
    "# 0,1,2, eta, phi, pT"
   ]
  },
  {
   "cell_type": "markdown",
   "id": "946501dd",
   "metadata": {},
   "source": [
    "# Training VICReg with ParticleNet"
   ]
  },
  {
   "cell_type": "code",
   "execution_count": 14,
   "id": "30b2ede4",
   "metadata": {},
   "outputs": [],
   "source": [
    "from typing import Callable, Union\n",
    "\n",
    "import numpy as np\n",
    "import torch\n",
    "import torch.nn as nn\n",
    "import torch.nn.functional as F\n",
    "from torch import Tensor\n",
    "from torch_cluster import knn_graph\n",
    "from torch_geometric.nn import global_mean_pool\n",
    "from torch_geometric.nn.conv import MessagePassing, EdgeConv\n",
    "from torch_geometric.typing import Adj, PairTensor\n",
    "from pdb import set_trace as bp\n",
    "\n",
    "class EdgeConvBlock(nn.Module):\n",
    "    def __init__(self, in_size, layer_size, depth):\n",
    "        super(EdgeConvBlock, self).__init__()\n",
    "\n",
    "        layers = []\n",
    "\n",
    "        layers.append(nn.Linear(in_size * 2, layer_size))\n",
    "        layers.append(nn.BatchNorm1d(layer_size))\n",
    "        layers.append(nn.ReLU())\n",
    "\n",
    "        for i in range(depth):\n",
    "            layers.append(nn.Linear(layer_size, layer_size))\n",
    "            layers.append(nn.BatchNorm1d(layer_size))\n",
    "            layers.append(nn.ReLU())\n",
    "\n",
    "        self.edge_conv = EdgeConv(nn.Sequential(*layers), aggr=\"mean\")\n",
    "\n",
    "    def forward(self, x, edge_index):\n",
    "        return self.edge_conv(x, edge_index)\n",
    "\n",
    "\n",
    "class ParticleNet(nn.Module):\n",
    "    def __init__(\n",
    "        self,\n",
    "        node_feat_size,\n",
    "        num_classes=1,\n",
    "        k=16,\n",
    "        depth=2,\n",
    "        dropout=False,\n",
    "        device = \"cpu\"\n",
    "    ):\n",
    "        super(ParticleNet, self).__init__()\n",
    "\n",
    "        self.node_feat_size = node_feat_size\n",
    "        self.num_classes = num_classes\n",
    "\n",
    "        self.k = k\n",
    "        self.num_edge_conv_blocks = 3\n",
    "        \n",
    "        self.augmentations = True\n",
    "\n",
    "        self.kernel_sizes = [self.node_feat_size, 64, 128, 256]\n",
    "        self.input_sizes = np.cumsum(self.kernel_sizes)  # [4, 4+64, 4+64+128, 4+64+128+256]\n",
    "\n",
    "        self.fc_size = 256\n",
    "        self.device = device\n",
    "\n",
    "        if dropout:\n",
    "            self.dropout = 0.1\n",
    "            self.dropout_layer = nn.Dropout(p=self.dropout)\n",
    "        else:\n",
    "            self.dropout = None\n",
    "\n",
    "        # define the edgeconvblocks\n",
    "        self.edge_conv_blocks = nn.ModuleList()\n",
    "        for i in range(0, self.num_edge_conv_blocks):\n",
    "            self.edge_conv_blocks.append(EdgeConvBlock(self.input_sizes[i], self.kernel_sizes[i + 1], depth=depth))\n",
    "\n",
    "        # define the fully connected networks (post-edgeconvs)\n",
    "        self.fc1 = nn.Linear(self.input_sizes[-1], self.fc_size)\n",
    "        self.fc2 = nn.Linear(self.fc_size, self.num_classes)\n",
    "\n",
    "        self.sig = nn.Sigmoid()\n",
    "    \n",
    "#     def augmentations(self, batch):\n",
    "#         batch = rescale_pts(batch)\n",
    "#         batch = rotate_jets(batch, self.device)\n",
    "#         batch = translate_jets(batch, device = self.device)\n",
    "#         batch = normalize_pts(batch)\n",
    "    \n",
    "\n",
    "    def forward(self, batch):\n",
    "        if self.augmentations:\n",
    "            batch = rescale_pts(batch)\n",
    "            batch = rotate_jets(batch, self.device)\n",
    "            batch = translate_jets(batch, device = self.device)\n",
    "            batch = normalize_pts(batch)\n",
    "        \n",
    "        x = batch.x\n",
    "        y = batch.y\n",
    "        batch = batch.batch\n",
    "\n",
    "        # input transformations\n",
    "#         x[:, 2] = (x[:, 2] - 1.7) * 0.7  # part_pt_log\n",
    "#         x[:, 3] = (x[:, 3] - 2.0) * 0.7  # part_e_log\n",
    "#         x[:, 4] = (x[:, 4] + 4.7) * 0.7  # part_logptrel\n",
    "#         x[:, 5] = (x[:, 5] + 4.7) * 0.7  # part_logerel\n",
    "#         x[:, 6] = (x[:, 6] - 0.2) * 4.7  # part_deltaR\n",
    "\n",
    "        edge_index = {}\n",
    "        for i in range(self.num_edge_conv_blocks):\n",
    "            # using only angular coords for knn in first edgeconv block\n",
    "            edge_index[f\"edge_conv_{i}\"] = knn_graph(x[:, :2], self.k, batch) if i == 0 else knn_graph(x, self.k, batch)\n",
    "\n",
    "            out = self.edge_conv_blocks[i](x, edge_index[f\"edge_conv_{i}\"])\n",
    "\n",
    "            x = torch.cat((out, x), dim=1)  # concatenating with latent features i.e. skip connections per EdgeConvBlock\n",
    "\n",
    "        x = global_mean_pool(x, batch)\n",
    "\n",
    "        x = F.relu(self.fc1(x))\n",
    "        if self.dropout:\n",
    "            x = self.dropout_layer(x)\n",
    "        x = self.fc2(x)\n",
    "        x = self.sig(x)\n",
    "\n",
    "        return x, y"
   ]
  },
  {
   "cell_type": "code",
   "execution_count": 15,
   "id": "ed62a9ca",
   "metadata": {},
   "outputs": [],
   "source": [
    "# setup the input/output dimension of the model\n",
    "num_features = 7  # we have 7 input features\n",
    "num_classes = 1  # we have one output node"
   ]
  },
  {
   "cell_type": "code",
   "execution_count": 16,
   "id": "bbaa9552",
   "metadata": {},
   "outputs": [
    {
     "data": {
      "text/plain": [
       "ParticleNet(\n",
       "  (dropout_layer): Dropout(p=0.1, inplace=False)\n",
       "  (edge_conv_blocks): ModuleList(\n",
       "    (0): EdgeConvBlock(\n",
       "      (edge_conv): EdgeConv(nn=Sequential(\n",
       "        (0): Linear(in_features=14, out_features=64, bias=True)\n",
       "        (1): BatchNorm1d(64, eps=1e-05, momentum=0.1, affine=True, track_running_stats=True)\n",
       "        (2): ReLU()\n",
       "        (3): Linear(in_features=64, out_features=64, bias=True)\n",
       "        (4): BatchNorm1d(64, eps=1e-05, momentum=0.1, affine=True, track_running_stats=True)\n",
       "        (5): ReLU()\n",
       "        (6): Linear(in_features=64, out_features=64, bias=True)\n",
       "        (7): BatchNorm1d(64, eps=1e-05, momentum=0.1, affine=True, track_running_stats=True)\n",
       "        (8): ReLU()\n",
       "        (9): Linear(in_features=64, out_features=64, bias=True)\n",
       "        (10): BatchNorm1d(64, eps=1e-05, momentum=0.1, affine=True, track_running_stats=True)\n",
       "        (11): ReLU()\n",
       "      ))\n",
       "    )\n",
       "    (1): EdgeConvBlock(\n",
       "      (edge_conv): EdgeConv(nn=Sequential(\n",
       "        (0): Linear(in_features=142, out_features=128, bias=True)\n",
       "        (1): BatchNorm1d(128, eps=1e-05, momentum=0.1, affine=True, track_running_stats=True)\n",
       "        (2): ReLU()\n",
       "        (3): Linear(in_features=128, out_features=128, bias=True)\n",
       "        (4): BatchNorm1d(128, eps=1e-05, momentum=0.1, affine=True, track_running_stats=True)\n",
       "        (5): ReLU()\n",
       "        (6): Linear(in_features=128, out_features=128, bias=True)\n",
       "        (7): BatchNorm1d(128, eps=1e-05, momentum=0.1, affine=True, track_running_stats=True)\n",
       "        (8): ReLU()\n",
       "        (9): Linear(in_features=128, out_features=128, bias=True)\n",
       "        (10): BatchNorm1d(128, eps=1e-05, momentum=0.1, affine=True, track_running_stats=True)\n",
       "        (11): ReLU()\n",
       "      ))\n",
       "    )\n",
       "    (2): EdgeConvBlock(\n",
       "      (edge_conv): EdgeConv(nn=Sequential(\n",
       "        (0): Linear(in_features=398, out_features=256, bias=True)\n",
       "        (1): BatchNorm1d(256, eps=1e-05, momentum=0.1, affine=True, track_running_stats=True)\n",
       "        (2): ReLU()\n",
       "        (3): Linear(in_features=256, out_features=256, bias=True)\n",
       "        (4): BatchNorm1d(256, eps=1e-05, momentum=0.1, affine=True, track_running_stats=True)\n",
       "        (5): ReLU()\n",
       "        (6): Linear(in_features=256, out_features=256, bias=True)\n",
       "        (7): BatchNorm1d(256, eps=1e-05, momentum=0.1, affine=True, track_running_stats=True)\n",
       "        (8): ReLU()\n",
       "        (9): Linear(in_features=256, out_features=256, bias=True)\n",
       "        (10): BatchNorm1d(256, eps=1e-05, momentum=0.1, affine=True, track_running_stats=True)\n",
       "        (11): ReLU()\n",
       "      ))\n",
       "    )\n",
       "  )\n",
       "  (fc1): Linear(in_features=455, out_features=256, bias=True)\n",
       "  (fc2): Linear(in_features=256, out_features=1, bias=True)\n",
       "  (sig): Sigmoid()\n",
       ")"
      ]
     },
     "execution_count": 16,
     "metadata": {},
     "output_type": "execute_result"
    }
   ],
   "source": [
    "model_kwargs = {\n",
    "    \"node_feat_size\": num_features,\n",
    "    \"num_classes\": num_classes,\n",
    "    \"k\": 16,\n",
    "    \"depth\": 3,\n",
    "    \"dropout\": True,\n",
    "    \"device\":device\n",
    "}\n",
    "\n",
    "model = ParticleNet(**model_kwargs)\n",
    "model.to(device)"
   ]
  },
  {
   "cell_type": "code",
   "execution_count": 17,
   "id": "3f30d58f",
   "metadata": {},
   "outputs": [
    {
     "data": {
      "text/plain": [
       "ParticleNet(\n",
       "  (dropout_layer): Dropout(p=0.1, inplace=False)\n",
       "  (edge_conv_blocks): ModuleList(\n",
       "    (0): EdgeConvBlock(\n",
       "      (edge_conv): EdgeConv(nn=Sequential(\n",
       "        (0): Linear(in_features=14, out_features=64, bias=True)\n",
       "        (1): BatchNorm1d(64, eps=1e-05, momentum=0.1, affine=True, track_running_stats=True)\n",
       "        (2): ReLU()\n",
       "        (3): Linear(in_features=64, out_features=64, bias=True)\n",
       "        (4): BatchNorm1d(64, eps=1e-05, momentum=0.1, affine=True, track_running_stats=True)\n",
       "        (5): ReLU()\n",
       "        (6): Linear(in_features=64, out_features=64, bias=True)\n",
       "        (7): BatchNorm1d(64, eps=1e-05, momentum=0.1, affine=True, track_running_stats=True)\n",
       "        (8): ReLU()\n",
       "        (9): Linear(in_features=64, out_features=64, bias=True)\n",
       "        (10): BatchNorm1d(64, eps=1e-05, momentum=0.1, affine=True, track_running_stats=True)\n",
       "        (11): ReLU()\n",
       "      ))\n",
       "    )\n",
       "    (1): EdgeConvBlock(\n",
       "      (edge_conv): EdgeConv(nn=Sequential(\n",
       "        (0): Linear(in_features=142, out_features=128, bias=True)\n",
       "        (1): BatchNorm1d(128, eps=1e-05, momentum=0.1, affine=True, track_running_stats=True)\n",
       "        (2): ReLU()\n",
       "        (3): Linear(in_features=128, out_features=128, bias=True)\n",
       "        (4): BatchNorm1d(128, eps=1e-05, momentum=0.1, affine=True, track_running_stats=True)\n",
       "        (5): ReLU()\n",
       "        (6): Linear(in_features=128, out_features=128, bias=True)\n",
       "        (7): BatchNorm1d(128, eps=1e-05, momentum=0.1, affine=True, track_running_stats=True)\n",
       "        (8): ReLU()\n",
       "        (9): Linear(in_features=128, out_features=128, bias=True)\n",
       "        (10): BatchNorm1d(128, eps=1e-05, momentum=0.1, affine=True, track_running_stats=True)\n",
       "        (11): ReLU()\n",
       "      ))\n",
       "    )\n",
       "    (2): EdgeConvBlock(\n",
       "      (edge_conv): EdgeConv(nn=Sequential(\n",
       "        (0): Linear(in_features=398, out_features=256, bias=True)\n",
       "        (1): BatchNorm1d(256, eps=1e-05, momentum=0.1, affine=True, track_running_stats=True)\n",
       "        (2): ReLU()\n",
       "        (3): Linear(in_features=256, out_features=256, bias=True)\n",
       "        (4): BatchNorm1d(256, eps=1e-05, momentum=0.1, affine=True, track_running_stats=True)\n",
       "        (5): ReLU()\n",
       "        (6): Linear(in_features=256, out_features=256, bias=True)\n",
       "        (7): BatchNorm1d(256, eps=1e-05, momentum=0.1, affine=True, track_running_stats=True)\n",
       "        (8): ReLU()\n",
       "        (9): Linear(in_features=256, out_features=256, bias=True)\n",
       "        (10): BatchNorm1d(256, eps=1e-05, momentum=0.1, affine=True, track_running_stats=True)\n",
       "        (11): ReLU()\n",
       "      ))\n",
       "    )\n",
       "  )\n",
       "  (fc1): Linear(in_features=455, out_features=256, bias=True)\n",
       "  (fc2): Linear(in_features=256, out_features=1, bias=True)\n",
       "  (sig): Sigmoid()\n",
       ")"
      ]
     },
     "execution_count": 17,
     "metadata": {},
     "output_type": "execute_result"
    }
   ],
   "source": [
    "optimizer = torch.optim.Adam(model.parameters(), lr=1e-3)\n",
    "\n",
    "criterion = nn.BCELoss()\n",
    "sig = nn.Sigmoid()\n",
    "\n",
    "model.train()"
   ]
  },
  {
   "cell_type": "code",
   "execution_count": 18,
   "id": "0b9c40b6",
   "metadata": {},
   "outputs": [
    {
     "data": {
      "application/vnd.jupyter.widget-view+json": {
       "model_id": "4aa900f5d0264edeab4c6b5b32ea7919",
       "version_major": 2,
       "version_minor": 0
      },
      "text/plain": [
       "  0%|          | 0/10 [00:00<?, ?it/s]"
      ]
     },
     "metadata": {},
     "output_type": "display_data"
    },
    {
     "data": {
      "application/vnd.jupyter.widget-view+json": {
       "model_id": "c18eb82d3e984607a40ce301a825b5bc",
       "version_major": 2,
       "version_minor": 0
      },
      "text/plain": [
       "0it [00:00, ?it/s]"
      ]
     },
     "metadata": {},
     "output_type": "display_data"
    },
    {
     "name": "stdout",
     "output_type": "stream",
     "text": [
      "epoch 0, loss: 0.573233962059021\n"
     ]
    },
    {
     "data": {
      "application/vnd.jupyter.widget-view+json": {
       "model_id": "10d9f0b9761a413ba1a85602fb3230c0",
       "version_major": 2,
       "version_minor": 0
      },
      "text/plain": [
       "0it [00:00, ?it/s]"
      ]
     },
     "metadata": {},
     "output_type": "display_data"
    },
    {
     "name": "stdout",
     "output_type": "stream",
     "text": [
      "epoch 1, loss: 0.5649367570877075\n"
     ]
    },
    {
     "data": {
      "application/vnd.jupyter.widget-view+json": {
       "model_id": "3e4838f60830459981e335edb0fae0c1",
       "version_major": 2,
       "version_minor": 0
      },
      "text/plain": [
       "0it [00:00, ?it/s]"
      ]
     },
     "metadata": {},
     "output_type": "display_data"
    },
    {
     "name": "stdout",
     "output_type": "stream",
     "text": [
      "epoch 2, loss: 0.5618266463279724\n"
     ]
    },
    {
     "data": {
      "application/vnd.jupyter.widget-view+json": {
       "model_id": "cbc20f7c97fc4b12866ce662e6290a70",
       "version_major": 2,
       "version_minor": 0
      },
      "text/plain": [
       "0it [00:00, ?it/s]"
      ]
     },
     "metadata": {},
     "output_type": "display_data"
    },
    {
     "name": "stdout",
     "output_type": "stream",
     "text": [
      "epoch 3, loss: 0.5604450106620789\n"
     ]
    },
    {
     "data": {
      "application/vnd.jupyter.widget-view+json": {
       "model_id": "a1cae32b34c14d2bb86148c4e38c0697",
       "version_major": 2,
       "version_minor": 0
      },
      "text/plain": [
       "0it [00:00, ?it/s]"
      ]
     },
     "metadata": {},
     "output_type": "display_data"
    },
    {
     "name": "stdout",
     "output_type": "stream",
     "text": [
      "epoch 4, loss: 0.5591593980789185\n"
     ]
    },
    {
     "data": {
      "application/vnd.jupyter.widget-view+json": {
       "model_id": "cbdbb588b49c4d969e93939de0424ecf",
       "version_major": 2,
       "version_minor": 0
      },
      "text/plain": [
       "0it [00:00, ?it/s]"
      ]
     },
     "metadata": {},
     "output_type": "display_data"
    },
    {
     "name": "stdout",
     "output_type": "stream",
     "text": [
      "epoch 5, loss: 0.5580376386642456\n"
     ]
    },
    {
     "data": {
      "application/vnd.jupyter.widget-view+json": {
       "model_id": "51f1fe4012d147fb978bf11123313165",
       "version_major": 2,
       "version_minor": 0
      },
      "text/plain": [
       "0it [00:00, ?it/s]"
      ]
     },
     "metadata": {},
     "output_type": "display_data"
    },
    {
     "name": "stdout",
     "output_type": "stream",
     "text": [
      "epoch 6, loss: 0.5573257803916931\n"
     ]
    },
    {
     "data": {
      "application/vnd.jupyter.widget-view+json": {
       "model_id": "6d8d89ef73af4385847e04c1461e6115",
       "version_major": 2,
       "version_minor": 0
      },
      "text/plain": [
       "0it [00:00, ?it/s]"
      ]
     },
     "metadata": {},
     "output_type": "display_data"
    },
    {
     "name": "stdout",
     "output_type": "stream",
     "text": [
      "epoch 7, loss: 0.5568434596061707\n"
     ]
    },
    {
     "data": {
      "application/vnd.jupyter.widget-view+json": {
       "model_id": "547832aaa9644bbf8d26533f26233efc",
       "version_major": 2,
       "version_minor": 0
      },
      "text/plain": [
       "0it [00:00, ?it/s]"
      ]
     },
     "metadata": {},
     "output_type": "display_data"
    },
    {
     "name": "stdout",
     "output_type": "stream",
     "text": [
      "epoch 8, loss: 0.5564178228378296\n"
     ]
    },
    {
     "data": {
      "application/vnd.jupyter.widget-view+json": {
       "model_id": "c7fcc4a152674a51b56cd4670e3bbde1",
       "version_major": 2,
       "version_minor": 0
      },
      "text/plain": [
       "0it [00:00, ?it/s]"
      ]
     },
     "metadata": {},
     "output_type": "display_data"
    },
    {
     "name": "stdout",
     "output_type": "stream",
     "text": [
      "epoch 9, loss: 0.5559555292129517\n"
     ]
    }
   ],
   "source": [
    "# quick training without monitoring validation\n",
    "optimizer = torch.optim.Adam(model.parameters(), lr=1e-3)\n",
    "\n",
    "criterion = nn.BCELoss()\n",
    "sig = nn.Sigmoid()\n",
    "\n",
    "model.train()\n",
    "\n",
    "for epoch in tqdm(range(10)):\n",
    "    losses = []\n",
    "    for i, batch in tqdm(enumerate(train_loader)):\n",
    "        preds, targets = model(batch.to(device))\n",
    "        loss = criterion(sig(preds), targets.reshape(-1, 1).float())\n",
    "#         print(f\"batch # {i}, loss={loss:.3f}\")\n",
    "\n",
    "        for param in model.parameters():\n",
    "            param.grad = None\n",
    "        loss.backward()\n",
    "        optimizer.step()\n",
    "        losses.append(loss.detach())\n",
    "\n",
    "    losses = sum(losses)/len(losses)\n",
    "    print(f\"epoch {epoch}, loss: {losses}\")"
   ]
  },
  {
   "cell_type": "code",
   "execution_count": 19,
   "id": "1ad4d40c",
   "metadata": {},
   "outputs": [],
   "source": [
    "# model.eval()\n",
    "# with torch.no_grad():\n",
    "#     for i, batch in tqdm(enumerate(val_loader)):\n",
    "#         preds, targets = model(batch.to(device))\n",
    "#         loss = criterion(sig(preds), targets.reshape(-1, 1).float())\n",
    "#         val_losses.append(loss.item())\n",
    "        \n",
    "# val_loss = sum(val_losses) / len(val_losses)\n",
    "# print(\"Val loss : {}\".format(val_loss))"
   ]
  },
  {
   "cell_type": "code",
   "execution_count": 20,
   "id": "54b6bbfd",
   "metadata": {},
   "outputs": [],
   "source": [
    "def make_roc(y_test, y_score, save_path = 'roc', save_flag=False):\n",
    "    fpr, tpr, _ = roc_curve(y_test, y_score)\n",
    "\n",
    "    fig, ax = plt.subplots(figsize=(8,7))\n",
    "    ax.plot(\n",
    "        tpr,\n",
    "        fpr,\n",
    "        color=\"darkorange\",\n",
    "        lw=2,\n",
    "        label=f\"AUC = {round(auc(fpr, tpr)*100,2)}%\",\n",
    "    )\n",
    "    plt.xlim([0.0, 1.0])\n",
    "    plt.ylabel(\"False Positive Rate\")\n",
    "    plt.xlabel(\"True Positive Rate\")\n",
    "    plt.yscale(\"log\")\n",
    "    plt.legend(loc=\"lower right\")\n",
    "    if save_flag:\n",
    "        plt.savefig(f'toptagging_expts/plots/{save_path}.jpg')\n",
    "    "
   ]
  },
  {
   "cell_type": "code",
   "execution_count": 21,
   "id": "ce88a138",
   "metadata": {},
   "outputs": [
    {
     "name": "stdout",
     "output_type": "stream",
     "text": [
      "- making predictions\n"
     ]
    },
    {
     "data": {
      "application/vnd.jupyter.widget-view+json": {
       "model_id": "bd5540c216b742b685ae5f85baa9df52",
       "version_major": 2,
       "version_minor": 0
      },
      "text/plain": [
       "0it [00:00, ?it/s]"
      ]
     },
     "metadata": {},
     "output_type": "display_data"
    }
   ],
   "source": [
    "print(\"- making predictions\")\n",
    "y_score = None\n",
    "y_test = None\n",
    "\n",
    "model.eval()\n",
    "model.augmentations = False\n",
    "for i, batch in tqdm(enumerate(test_loader)):\n",
    "\n",
    "    preds, targets = model(batch.to(device))\n",
    "    preds = preds.detach().cpu()\n",
    "\n",
    "    if y_score is None:\n",
    "        y_score = preds[:].detach().cpu().reshape(-1)\n",
    "        y_test = targets.detach().cpu()\n",
    "    else:\n",
    "        y_score = torch.cat([y_score, preds[:].detach().cpu().reshape(-1)])\n",
    "        y_test = torch.cat([y_test, targets.detach().cpu()])\n",
    "\n",
    "#     if i==100:\n",
    "#         break"
   ]
  },
  {
   "cell_type": "code",
   "execution_count": 22,
   "id": "4129131e",
   "metadata": {},
   "outputs": [
    {
     "data": {
      "image/png": "[encoded data removed]",
      "text/plain": [
       "<Figure size 800x700 with 1 Axes>"
      ]
     },
     "metadata": {},
     "output_type": "display_data"
    }
   ],
   "source": [
    "plt.rcParams.update({\"font.size\": 20})\n",
    "make_roc(y_test, y_score, 'roc_rescl_rotate_transl_norm',save_flag=False)"
   ]
  },
  {
   "cell_type": "code",
   "execution_count": null,
   "id": "f551912d",
   "metadata": {},
   "outputs": [],
   "source": []
  }
 ],
 "metadata": {
  "kernelspec": {
   "display_name": "Python 3 (ipykernel)",
   "language": "python",
   "name": "python3"
  },
  "language_info": {
   "codemirror_mode": {
    "name": "ipython",
    "version": 3
   },
   "file_extension": ".py",
   "mimetype": "text/x-python",
   "name": "python",
   "nbconvert_exporter": "python",
   "pygments_lexer": "ipython3",
   "version": "3.10.10"
  }
 },
 "nbformat": 4,
 "nbformat_minor": 5
}
