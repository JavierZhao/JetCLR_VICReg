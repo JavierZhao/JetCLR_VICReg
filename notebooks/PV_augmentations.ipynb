{
 "cells": [
  {
   "cell_type": "code",
   "execution_count": 1,
   "id": "0f4fc55d",
   "metadata": {
    "ExecuteTime": {
     "end_time": "2023-07-28T17:09:19.899502Z",
     "start_time": "2023-07-28T17:09:19.893978Z"
    }
   },
   "outputs": [],
   "source": [
    "# !pip install fastjet"
   ]
  },
  {
   "cell_type": "code",
   "execution_count": 1,
   "id": "9b222cee",
   "metadata": {
    "ExecuteTime": {
     "end_time": "2023-08-01T22:21:35.437094Z",
     "start_time": "2023-08-01T22:21:30.642938Z"
    }
   },
   "outputs": [],
   "source": [
    "import glob\n",
    "import os\n",
    "import sys\n",
    "\n",
    "sys.path.insert(0, \"hbb_interaction_network\")\n",
    "\n",
    "import pickle as pkl\n",
    "import time\n",
    "from itertools import cycle\n",
    "\n",
    "import matplotlib\n",
    "import matplotlib.pyplot as plt\n",
    "import matplotlib.colors as colors\n",
    "import mplhep as hep\n",
    "import numpy as np\n",
    "import pandas as pd\n",
    "import torch\n",
    "import torch.nn as nn\n",
    "import torch_geometric\n",
    "from sklearn.metrics import auc, roc_curve\n",
    "from torch_geometric.data import Batch, Data\n",
    "from torch_geometric.loader import DataListLoader, DataLoader\n",
    "\n",
    "import awkward as ak\n",
    "import fastjet\n",
    "import vector\n",
    "\n",
    "plt.style.use(hep.style.CMS)\n",
    "plt.rcParams.update({\"font.size\": 20})\n",
    "\n",
    "from tqdm.notebook import tqdm"
   ]
  },
  {
   "cell_type": "code",
   "execution_count": 2,
   "id": "70a0a1c2",
   "metadata": {
    "ExecuteTime": {
     "end_time": "2023-08-01T22:21:38.410919Z",
     "start_time": "2023-08-01T22:21:38.384908Z"
    }
   },
   "outputs": [
    {
     "name": "stdout",
     "output_type": "stream",
     "text": [
      "Device 0: NVIDIA GeForce RTX 2080 Ti\n"
     ]
    }
   ],
   "source": [
    "# define the global base device\n",
    "world_size = torch.cuda.device_count()\n",
    "multi_gpu = world_size >= 2\n",
    "if world_size:\n",
    "    device = torch.device(\"cuda:0\")\n",
    "    for i in range(world_size):\n",
    "        print(f\"Device {i}: {torch.cuda.get_device_name(i)}\")\n",
    "else:\n",
    "    device = \"cpu\"\n",
    "    print(\"Device: CPU\")"
   ]
  },
  {
   "cell_type": "code",
   "execution_count": 4,
   "id": "412c10d5",
   "metadata": {
    "ExecuteTime": {
     "end_time": "2023-07-28T17:09:25.055456Z",
     "start_time": "2023-07-28T17:09:24.765036Z"
    }
   },
   "outputs": [
    {
     "name": "stdout",
     "output_type": "stream",
     "text": [
      "/../ssl-jet-vol-v2/toptagging/test/processed:\r\n",
      "data_0.pt  data_1.pt  data_2.pt  data_3.pt  data_quick.pt\r\n",
      "\r\n",
      "/../ssl-jet-vol-v2/toptagging/train/processed:\r\n",
      "data_0.pt   data_11.pt\tdata_2.pt  data_4.pt  data_6.pt  data_8.pt\r\n",
      "data_10.pt  data_1.pt\tdata_3.pt  data_5.pt  data_7.pt  data_9.pt\r\n",
      "\r\n",
      "/../ssl-jet-vol-v2/toptagging/val/processed:\r\n",
      "data_0.pt  data_1.pt  data_2.pt  data_3.pt\r\n"
     ]
    }
   ],
   "source": [
    "! ls /../ssl-jet-vol-v2/toptagging/*/processed"
   ]
  },
  {
   "cell_type": "code",
   "execution_count": 3,
   "id": "e18c94b8",
   "metadata": {
    "ExecuteTime": {
     "end_time": "2023-08-01T22:22:55.219115Z",
     "start_time": "2023-08-01T22:21:45.598383Z"
    }
   },
   "outputs": [
    {
     "name": "stdout",
     "output_type": "stream",
     "text": [
      "--- loaded file 0 from `train` directory\n"
     ]
    }
   ],
   "source": [
    "# load the datafiles\n",
    "def load_data(dataset_path, flag, n_files=-1):\n",
    "    data_files = glob.glob(f\"{dataset_path}/{flag}/processed/*\")\n",
    "        \n",
    "    data = []\n",
    "    for i, file in enumerate(data_files):\n",
    "        data += torch.load(f\"{dataset_path}/{flag}/processed/data_{i}.pt\")\n",
    "        print(f\"--- loaded file {i} from `{flag}` directory\")\n",
    "        if n_files!=-1 and i==n_files-1:\n",
    "            break\n",
    "                \n",
    "    return data\n",
    "\n",
    "dataset_path = \"/../ssl-jet-vol-v2/toptagging/\"\n",
    "\n",
    "data_train = load_data(dataset_path, \"train\", n_files=1)\n",
    "# data_valid = load_data(dataset_path, \"val\", n_files=4)\n",
    "# data_test = load_data(dataset_path, \"val\", n_files=1)"
   ]
  },
  {
   "cell_type": "code",
   "execution_count": 6,
   "id": "2cc4d570",
   "metadata": {
    "ExecuteTime": {
     "end_time": "2023-07-28T17:09:43.869641Z",
     "start_time": "2023-07-28T17:09:43.859850Z"
    }
   },
   "outputs": [
    {
     "data": {
      "text/plain": [
       "100.001"
      ]
     },
     "execution_count": 6,
     "metadata": {},
     "output_type": "execute_result"
    }
   ],
   "source": [
    "len(data_train) / 1000"
   ]
  },
  {
   "cell_type": "code",
   "execution_count": 9,
   "id": "f919e396",
   "metadata": {
    "ExecuteTime": {
     "end_time": "2023-07-28T17:10:55.283955Z",
     "start_time": "2023-07-28T17:10:55.273035Z"
    }
   },
   "outputs": [
    {
     "data": {
      "text/plain": [
       "Data(x=[23, 7], y=0)"
      ]
     },
     "execution_count": 9,
     "metadata": {},
     "output_type": "execute_result"
    }
   ],
   "source": [
    "data_train[0]"
   ]
  },
  {
   "cell_type": "code",
   "execution_count": 10,
   "id": "5a9147da",
   "metadata": {
    "ExecuteTime": {
     "end_time": "2023-07-28T17:12:49.106719Z",
     "start_time": "2023-07-28T17:12:49.098525Z"
    }
   },
   "outputs": [],
   "source": [
    "\"\"\"\n",
    "The 7 input features per particle in the jet.\n",
    "    1. ∆η difference in pseudorapidity between the particle and the jet axis\n",
    "    2. ∆φ difference in azimuthal angle between the particle and the jet axis\n",
    "    3. log pT logarithm of the particle’s pT\n",
    "    4. log E logarithm of the particle’s energy\n",
    "    5. log pT/pT_jet logarithm of the particle’s pT relative to the jet pT\n",
    "    6. log E/E_jet logarithm of the particle’s energy relative to the jet energy\n",
    "    7. ∆R\n",
    "\"\"\"\n",
    "\n",
    "feature_dict = {\n",
    "    \"eta\": 0,\n",
    "    \"phi\": 1,\n",
    "    \"pt\": 2,\n",
    "    \"E\": 3,\n",
    "    \"pt/jet_pt\": 4,\n",
    "    \"E/jet_E\": 5,\n",
    "    \"deltaR\": 6,    \n",
    "}\n",
    "\n",
    "feature_label = {\n",
    "    \"eta\": r\"Particle $\\left| \\eta \\right|$\",\n",
    "    \"phi\": r\"Particle $\\left| \\phi \\right|$\",\n",
    "    \"pt\": r\"Particle $p_T$\",\n",
    "    \"E\": \"Particle E\",\n",
    "    \"pt/jet_pt\": r\"Log($\\frac{p_T(particle)}{p_T(jet)})$\",\n",
    "    \"E/jet_E\": r\"$Log(\\frac{E(particle)}{E(jet)})$\",\n",
    "    \"deltaR\": r\"$\\Delta R(particle, jet)$\", \n",
    "    \n",
    "}"
   ]
  },
  {
   "cell_type": "code",
   "execution_count": 11,
   "id": "0af377cf",
   "metadata": {
    "ExecuteTime": {
     "end_time": "2023-07-28T17:12:49.880536Z",
     "start_time": "2023-07-28T17:12:49.876175Z"
    }
   },
   "outputs": [],
   "source": [
    "num_features = 7"
   ]
  },
  {
   "cell_type": "code",
   "execution_count": 5,
   "id": "066b351b",
   "metadata": {
    "ExecuteTime": {
     "end_time": "2023-08-01T22:23:36.827677Z",
     "start_time": "2023-08-01T22:23:36.822297Z"
    }
   },
   "outputs": [],
   "source": [
    "batch_size = 128\n",
    "\n",
    "train_loader = DataLoader(data_train, batch_size)\n",
    "# valid_loader = DataLoader(data_valid, batch_size)\n",
    "# test_loader = DataLoader(data_test, batch_size)"
   ]
  },
  {
   "cell_type": "code",
   "execution_count": 6,
   "id": "fabc372a",
   "metadata": {
    "ExecuteTime": {
     "end_time": "2023-08-01T22:23:38.433759Z",
     "start_time": "2023-08-01T22:23:38.421302Z"
    }
   },
   "outputs": [
    {
     "data": {
      "text/plain": [
       "<torch_geometric.loader.dataloader.DataLoader at 0x7f0d547d6c20>"
      ]
     },
     "execution_count": 6,
     "metadata": {},
     "output_type": "execute_result"
    }
   ],
   "source": [
    "train_loader"
   ]
  },
  {
   "cell_type": "code",
   "execution_count": 39,
   "id": "4a66ac77",
   "metadata": {
    "ExecuteTime": {
     "end_time": "2023-08-01T22:47:03.189623Z",
     "start_time": "2023-08-01T22:47:03.178787Z"
    }
   },
   "outputs": [],
   "source": [
    "for i, bb in enumerate(train_loader):\n",
    "    break"
   ]
  },
  {
   "cell_type": "code",
   "execution_count": 21,
   "id": "85550ded",
   "metadata": {
    "ExecuteTime": {
     "end_time": "2023-08-01T22:36:21.968260Z",
     "start_time": "2023-08-01T22:36:21.955075Z"
    }
   },
   "outputs": [
    {
     "data": {
      "text/plain": [
       "DataBatch(x=[5980, 7], y=[128], batch=[5980], ptr=[129])"
      ]
     },
     "execution_count": 21,
     "metadata": {},
     "output_type": "execute_result"
    }
   ],
   "source": [
    "bb"
   ]
  },
  {
   "cell_type": "code",
   "execution_count": 8,
   "id": "c892671f",
   "metadata": {
    "ExecuteTime": {
     "end_time": "2023-07-31T21:59:27.923113Z",
     "start_time": "2023-07-31T21:59:27.919979Z"
    }
   },
   "outputs": [],
   "source": [
    "from src.models.jet_augs import *"
   ]
  },
  {
   "cell_type": "code",
   "execution_count": 10,
   "id": "a2961ce9",
   "metadata": {
    "ExecuteTime": {
     "end_time": "2023-07-31T22:00:06.428308Z",
     "start_time": "2023-07-31T22:00:05.468399Z"
    }
   },
   "outputs": [
    {
     "data": {
      "text/plain": [
       "DataBatch(x=[8909, 7], y=[128], batch=[8909], ptr=[129])"
      ]
     },
     "execution_count": 10,
     "metadata": {},
     "output_type": "execute_result"
    }
   ],
   "source": [
    "collinear_fill_jets(bb, device)"
   ]
  },
  {
   "cell_type": "markdown",
   "id": "64087c52",
   "metadata": {},
   "source": [
    "## Reshape a batch\n",
    "Original shape: (n_constit_total, 7)  \n",
    "Desired shape: (batch_size, 3, n_constit)"
   ]
  },
  {
   "cell_type": "code",
   "execution_count": 40,
   "id": "24681424",
   "metadata": {
    "ExecuteTime": {
     "end_time": "2023-08-01T22:47:05.830799Z",
     "start_time": "2023-08-01T22:47:05.825888Z"
    }
   },
   "outputs": [],
   "source": [
    "bb.x = bb.x[:, :3]"
   ]
  },
  {
   "cell_type": "code",
   "execution_count": 41,
   "id": "25bc6e96",
   "metadata": {
    "ExecuteTime": {
     "end_time": "2023-08-01T22:47:06.576954Z",
     "start_time": "2023-08-01T22:47:06.569683Z"
    }
   },
   "outputs": [
    {
     "data": {
      "text/plain": [
       "DataBatch(x=[5980, 3], y=[128], batch=[5980], ptr=[129])"
      ]
     },
     "execution_count": 41,
     "metadata": {},
     "output_type": "execute_result"
    }
   ],
   "source": [
    "bb"
   ]
  },
  {
   "cell_type": "code",
   "execution_count": 15,
   "id": "2c7b3098",
   "metadata": {
    "ExecuteTime": {
     "end_time": "2023-08-01T22:32:07.584047Z",
     "start_time": "2023-08-01T22:32:07.575687Z"
    }
   },
   "outputs": [
    {
     "data": {
      "text/plain": [
       "90"
      ]
     },
     "execution_count": 15,
     "metadata": {},
     "output_type": "execute_result"
    }
   ],
   "source": [
    "torch.bincount(bb.batch).max().item()"
   ]
  },
  {
   "cell_type": "code",
   "execution_count": 13,
   "id": "2782bf23",
   "metadata": {
    "ExecuteTime": {
     "end_time": "2023-08-01T22:28:06.688700Z",
     "start_time": "2023-08-01T22:28:06.683407Z"
    }
   },
   "outputs": [],
   "source": [
    "bb.x = bb.x.transpose(0,1)"
   ]
  },
  {
   "cell_type": "code",
   "execution_count": 14,
   "id": "6529410a",
   "metadata": {
    "ExecuteTime": {
     "end_time": "2023-08-01T22:28:11.962807Z",
     "start_time": "2023-08-01T22:28:11.955553Z"
    }
   },
   "outputs": [
    {
     "data": {
      "text/plain": [
       "torch.Size([3, 5980])"
      ]
     },
     "execution_count": 14,
     "metadata": {},
     "output_type": "execute_result"
    }
   ],
   "source": [
    "bb.x.shape"
   ]
  },
  {
   "cell_type": "code",
   "execution_count": 30,
   "id": "052fa5d8",
   "metadata": {
    "ExecuteTime": {
     "end_time": "2023-07-28T17:20:17.932822Z",
     "start_time": "2023-07-28T17:20:17.923767Z"
    }
   },
   "outputs": [
    {
     "data": {
      "text/plain": [
       "(3, 23)"
      ]
     },
     "execution_count": 30,
     "metadata": {},
     "output_type": "execute_result"
    }
   ],
   "source": [
    "np.array(bb[i].x[:, :3].transpose(0,1)).shape"
   ]
  },
  {
   "cell_type": "code",
   "execution_count": 32,
   "id": "9e13235a",
   "metadata": {
    "ExecuteTime": {
     "end_time": "2023-07-28T17:21:57.665592Z",
     "start_time": "2023-07-28T17:21:57.604973Z"
    }
   },
   "outputs": [
    {
     "name": "stderr",
     "output_type": "stream",
     "text": [
      "/tmp/ipykernel_69/2236089462.py:4: VisibleDeprecationWarning: Creating an ndarray from ragged nested sequences (which is a list-or-tuple of lists-or-tuples-or ndarrays with different lengths or shapes) is deprecated. If you meant to do this, you must specify 'dtype=object' when creating the ndarray.\n",
      "  new_batch_array = np.array(new_batch, ndmin=3)\n"
     ]
    },
    {
     "ename": "ValueError",
     "evalue": "could not broadcast input array from shape (3,23) into shape (3,)",
     "output_type": "error",
     "traceback": [
      "\u001b[0;31m---------------------------------------------------------------------------\u001b[0m",
      "\u001b[0;31mValueError\u001b[0m                                Traceback (most recent call last)",
      "Cell \u001b[0;32mIn[32], line 4\u001b[0m\n\u001b[1;32m      2\u001b[0m \u001b[38;5;28;01mfor\u001b[39;00m i \u001b[38;5;129;01min\u001b[39;00m \u001b[38;5;28mrange\u001b[39m(\u001b[38;5;28mlen\u001b[39m(bb)):\n\u001b[1;32m      3\u001b[0m     new_batch\u001b[38;5;241m.\u001b[39mappend(np\u001b[38;5;241m.\u001b[39marray(bb[i]\u001b[38;5;241m.\u001b[39mx[:, :\u001b[38;5;241m3\u001b[39m]\u001b[38;5;241m.\u001b[39mtranspose(\u001b[38;5;241m0\u001b[39m,\u001b[38;5;241m1\u001b[39m))) \n\u001b[0;32m----> 4\u001b[0m new_batch_array \u001b[38;5;241m=\u001b[39m \u001b[43mnp\u001b[49m\u001b[38;5;241;43m.\u001b[39;49m\u001b[43marray\u001b[49m\u001b[43m(\u001b[49m\u001b[43mnew_batch\u001b[49m\u001b[43m,\u001b[49m\u001b[43m \u001b[49m\u001b[43mndmin\u001b[49m\u001b[38;5;241;43m=\u001b[39;49m\u001b[38;5;241;43m3\u001b[39;49m\u001b[43m)\u001b[49m\n\u001b[1;32m      5\u001b[0m new_batch_array\u001b[38;5;241m.\u001b[39mshape\n",
      "\u001b[0;31mValueError\u001b[0m: could not broadcast input array from shape (3,23) into shape (3,)"
     ]
    }
   ],
   "source": [
    "new_batch = []\n",
    "for i in range(len(bb)):\n",
    "    new_batch.append(np.array(bb[i].x[:, :3].transpose(0,1))) \n",
    "new_batch_array = np.array(new_batch, ndmin=3)\n",
    "new_batch_array.shape"
   ]
  },
  {
   "cell_type": "code",
   "execution_count": 36,
   "id": "222e54eb",
   "metadata": {
    "ExecuteTime": {
     "end_time": "2023-07-28T17:24:32.391420Z",
     "start_time": "2023-07-28T17:24:32.385154Z"
    },
    "collapsed": true
   },
   "outputs": [
    {
     "name": "stdout",
     "output_type": "stream",
     "text": [
      "(3, 23)\n",
      "(3, 43)\n",
      "(3, 41)\n",
      "(3, 25)\n",
      "(3, 73)\n",
      "(3, 55)\n",
      "(3, 53)\n",
      "(3, 70)\n",
      "(3, 27)\n",
      "(3, 64)\n",
      "(3, 89)\n",
      "(3, 28)\n",
      "(3, 71)\n",
      "(3, 29)\n",
      "(3, 40)\n",
      "(3, 22)\n",
      "(3, 41)\n",
      "(3, 43)\n",
      "(3, 13)\n",
      "(3, 25)\n",
      "(3, 57)\n",
      "(3, 32)\n",
      "(3, 76)\n",
      "(3, 57)\n",
      "(3, 27)\n",
      "(3, 16)\n",
      "(3, 23)\n",
      "(3, 50)\n",
      "(3, 40)\n",
      "(3, 44)\n",
      "(3, 42)\n",
      "(3, 42)\n",
      "(3, 25)\n",
      "(3, 65)\n",
      "(3, 21)\n",
      "(3, 44)\n",
      "(3, 61)\n",
      "(3, 23)\n",
      "(3, 32)\n",
      "(3, 26)\n",
      "(3, 53)\n",
      "(3, 47)\n",
      "(3, 55)\n",
      "(3, 67)\n",
      "(3, 54)\n",
      "(3, 36)\n",
      "(3, 81)\n",
      "(3, 62)\n",
      "(3, 62)\n",
      "(3, 66)\n",
      "(3, 13)\n",
      "(3, 45)\n",
      "(3, 68)\n",
      "(3, 23)\n",
      "(3, 69)\n",
      "(3, 30)\n",
      "(3, 30)\n",
      "(3, 34)\n",
      "(3, 49)\n",
      "(3, 34)\n",
      "(3, 48)\n",
      "(3, 65)\n",
      "(3, 41)\n",
      "(3, 78)\n",
      "(3, 41)\n",
      "(3, 32)\n",
      "(3, 81)\n",
      "(3, 50)\n",
      "(3, 52)\n",
      "(3, 60)\n",
      "(3, 57)\n",
      "(3, 39)\n",
      "(3, 54)\n",
      "(3, 57)\n",
      "(3, 73)\n",
      "(3, 53)\n",
      "(3, 77)\n",
      "(3, 90)\n",
      "(3, 48)\n",
      "(3, 59)\n",
      "(3, 53)\n",
      "(3, 67)\n",
      "(3, 49)\n",
      "(3, 43)\n",
      "(3, 49)\n",
      "(3, 52)\n",
      "(3, 39)\n",
      "(3, 55)\n",
      "(3, 39)\n",
      "(3, 37)\n",
      "(3, 21)\n",
      "(3, 33)\n",
      "(3, 21)\n",
      "(3, 44)\n",
      "(3, 25)\n",
      "(3, 48)\n",
      "(3, 56)\n",
      "(3, 21)\n",
      "(3, 44)\n",
      "(3, 36)\n",
      "(3, 53)\n",
      "(3, 33)\n",
      "(3, 54)\n",
      "(3, 45)\n",
      "(3, 59)\n",
      "(3, 69)\n",
      "(3, 44)\n",
      "(3, 34)\n",
      "(3, 69)\n",
      "(3, 64)\n",
      "(3, 80)\n",
      "(3, 17)\n",
      "(3, 39)\n",
      "(3, 60)\n",
      "(3, 44)\n",
      "(3, 31)\n",
      "(3, 62)\n",
      "(3, 18)\n",
      "(3, 49)\n",
      "(3, 35)\n",
      "(3, 52)\n",
      "(3, 42)\n",
      "(3, 59)\n",
      "(3, 37)\n",
      "(3, 62)\n",
      "(3, 59)\n",
      "(3, 28)\n",
      "(3, 39)\n"
     ]
    }
   ],
   "source": [
    "for i in range(len(new_batch)):\n",
    "    print(new_batch[i].shape)\n"
   ]
  },
  {
   "cell_type": "code",
   "execution_count": 37,
   "id": "54979a25",
   "metadata": {
    "ExecuteTime": {
     "end_time": "2023-08-01T22:46:48.072752Z",
     "start_time": "2023-08-01T22:46:48.064849Z"
    }
   },
   "outputs": [],
   "source": [
    "def convert_x_py(bb):\n",
    "    # Compute number of constituents for each item in the batch\n",
    "    n_constits = torch.bincount(bb.batch)\n",
    "\n",
    "    # Compute maximum number of constituents\n",
    "    n_constit = n_constits.max().item()\n",
    "\n",
    "    # Allocate a tensor of the desired shape, filled with a padding value (e.g. zero)\n",
    "    x_padded = torch.zeros(bb.batch.max().item() + 1, 3, n_constit)\n",
    "\n",
    "    # Fill the padded tensor with the values from Batch.x\n",
    "    for i, (start, length) in enumerate(zip(bb.ptr[:-1], n_constits)):\n",
    "        x_padded[i, :, :length] = bb.x[start:start+length].t()\n",
    "\n",
    "    return x_padded"
   ]
  },
  {
   "cell_type": "code",
   "execution_count": 38,
   "id": "84c795a3",
   "metadata": {
    "ExecuteTime": {
     "end_time": "2023-08-01T22:46:51.548383Z",
     "start_time": "2023-08-01T22:46:51.540004Z"
    }
   },
   "outputs": [],
   "source": [
    "def convert_x(batch):\n",
    "    batch_size = batch.num_graphs\n",
    "    list_of_graphs = batch.to_data_list()  # convert the batch to a list of Data objects\n",
    "    max_nodes = max(data.x.size(0) for data in list_of_graphs)  # get maximum number of nodes\n",
    "    padded_x = []\n",
    "\n",
    "    for data in list_of_graphs:\n",
    "        padding = torch.zeros((max_nodes - data.x.size(0), 3))  # create a padding tensor\n",
    "        padded_data = torch.cat([data.x, padding], dim=0)  # append padding to the graph tensor\n",
    "        padded_x.append(padded_data)\n",
    "\n",
    "    padded_x = torch.stack(padded_x, dim=0)  # stack into a single tensor\n",
    "    padded_x = padded_x.transpose(1, 2)  # transpose to get [batch_size, 3, max_nodes]\n",
    "    return padded_x  # output tensor of shape [batch_size, max_nodes, 3]\n"
   ]
  },
  {
   "cell_type": "code",
   "execution_count": 46,
   "id": "e1a6acdb",
   "metadata": {
    "ExecuteTime": {
     "end_time": "2023-08-01T22:48:06.025214Z",
     "start_time": "2023-08-01T22:48:05.985963Z"
    }
   },
   "outputs": [
    {
     "data": {
      "text/plain": [
       "tensor([[[ 4.8051e-03, -3.0414e-02,  3.2171e-03,  ...,  0.0000e+00,\n",
       "           0.0000e+00,  0.0000e+00],\n",
       "         [-1.2196e-02,  1.1893e-01, -7.5693e-03,  ...,  0.0000e+00,\n",
       "           0.0000e+00,  0.0000e+00],\n",
       "         [ 5.8162e+00,  4.3164e+00,  4.3124e+00,  ...,  0.0000e+00,\n",
       "           0.0000e+00,  0.0000e+00]],\n",
       "\n",
       "        [[-2.7744e-02,  1.4459e-02, -1.4909e-03,  ...,  0.0000e+00,\n",
       "           0.0000e+00,  0.0000e+00],\n",
       "         [-9.5150e-03,  1.1490e-02,  5.4397e-02,  ...,  0.0000e+00,\n",
       "           0.0000e+00,  0.0000e+00],\n",
       "         [ 4.9597e+00,  4.3412e+00,  3.8201e+00,  ...,  0.0000e+00,\n",
       "           0.0000e+00,  0.0000e+00]],\n",
       "\n",
       "        [[-6.2029e-02,  5.5684e-02, -5.2199e-03,  ...,  0.0000e+00,\n",
       "           0.0000e+00,  0.0000e+00],\n",
       "         [-2.9171e-02,  9.4480e-02,  3.1358e-02,  ...,  0.0000e+00,\n",
       "           0.0000e+00,  0.0000e+00],\n",
       "         [ 4.9968e+00,  4.0171e+00,  3.7796e+00,  ...,  0.0000e+00,\n",
       "           0.0000e+00,  0.0000e+00]],\n",
       "\n",
       "        ...,\n",
       "\n",
       "        [[-1.2788e-01,  3.3035e-02,  1.3589e-02,  ...,  0.0000e+00,\n",
       "           0.0000e+00,  0.0000e+00],\n",
       "         [-5.5486e-01,  1.1927e-01,  1.4941e-01,  ...,  0.0000e+00,\n",
       "           0.0000e+00,  0.0000e+00],\n",
       "         [ 3.8520e+00,  3.7950e+00,  3.7863e+00,  ...,  0.0000e+00,\n",
       "           0.0000e+00,  0.0000e+00]],\n",
       "\n",
       "        [[-1.8329e-02, -1.6968e-02,  1.4202e-01,  ...,  0.0000e+00,\n",
       "           0.0000e+00,  0.0000e+00],\n",
       "         [ 9.2324e-02,  1.0426e-01,  1.8587e-01,  ...,  0.0000e+00,\n",
       "           0.0000e+00,  0.0000e+00],\n",
       "         [ 4.6709e+00,  4.4140e+00,  4.1508e+00,  ...,  0.0000e+00,\n",
       "           0.0000e+00,  0.0000e+00]],\n",
       "\n",
       "        [[ 8.2718e-02, -6.9137e-02,  7.8678e-02,  ...,  0.0000e+00,\n",
       "           0.0000e+00,  0.0000e+00],\n",
       "         [ 1.1965e-01, -3.7819e-01,  1.2172e-01,  ...,  0.0000e+00,\n",
       "           0.0000e+00,  0.0000e+00],\n",
       "         [ 4.5868e+00,  4.3402e+00,  4.2792e+00,  ...,  0.0000e+00,\n",
       "           0.0000e+00,  0.0000e+00]]])"
      ]
     },
     "execution_count": 46,
     "metadata": {},
     "output_type": "execute_result"
    }
   ],
   "source": [
    "convert_x_py(bb)"
   ]
  },
  {
   "cell_type": "code",
   "execution_count": 47,
   "id": "8f173eab",
   "metadata": {
    "ExecuteTime": {
     "end_time": "2023-08-01T22:48:09.517705Z",
     "start_time": "2023-08-01T22:48:09.491612Z"
    }
   },
   "outputs": [
    {
     "data": {
      "text/plain": [
       "tensor([[[ 4.8051e-03, -3.0414e-02,  3.2171e-03,  ...,  0.0000e+00,\n",
       "           0.0000e+00,  0.0000e+00],\n",
       "         [-1.2196e-02,  1.1893e-01, -7.5693e-03,  ...,  0.0000e+00,\n",
       "           0.0000e+00,  0.0000e+00],\n",
       "         [ 5.8162e+00,  4.3164e+00,  4.3124e+00,  ...,  0.0000e+00,\n",
       "           0.0000e+00,  0.0000e+00]],\n",
       "\n",
       "        [[-2.7744e-02,  1.4459e-02, -1.4909e-03,  ...,  0.0000e+00,\n",
       "           0.0000e+00,  0.0000e+00],\n",
       "         [-9.5150e-03,  1.1490e-02,  5.4397e-02,  ...,  0.0000e+00,\n",
       "           0.0000e+00,  0.0000e+00],\n",
       "         [ 4.9597e+00,  4.3412e+00,  3.8201e+00,  ...,  0.0000e+00,\n",
       "           0.0000e+00,  0.0000e+00]],\n",
       "\n",
       "        [[-6.2029e-02,  5.5684e-02, -5.2199e-03,  ...,  0.0000e+00,\n",
       "           0.0000e+00,  0.0000e+00],\n",
       "         [-2.9171e-02,  9.4480e-02,  3.1358e-02,  ...,  0.0000e+00,\n",
       "           0.0000e+00,  0.0000e+00],\n",
       "         [ 4.9968e+00,  4.0171e+00,  3.7796e+00,  ...,  0.0000e+00,\n",
       "           0.0000e+00,  0.0000e+00]],\n",
       "\n",
       "        ...,\n",
       "\n",
       "        [[-1.2788e-01,  3.3035e-02,  1.3589e-02,  ...,  0.0000e+00,\n",
       "           0.0000e+00,  0.0000e+00],\n",
       "         [-5.5486e-01,  1.1927e-01,  1.4941e-01,  ...,  0.0000e+00,\n",
       "           0.0000e+00,  0.0000e+00],\n",
       "         [ 3.8520e+00,  3.7950e+00,  3.7863e+00,  ...,  0.0000e+00,\n",
       "           0.0000e+00,  0.0000e+00]],\n",
       "\n",
       "        [[-1.8329e-02, -1.6968e-02,  1.4202e-01,  ...,  0.0000e+00,\n",
       "           0.0000e+00,  0.0000e+00],\n",
       "         [ 9.2324e-02,  1.0426e-01,  1.8587e-01,  ...,  0.0000e+00,\n",
       "           0.0000e+00,  0.0000e+00],\n",
       "         [ 4.6709e+00,  4.4140e+00,  4.1508e+00,  ...,  0.0000e+00,\n",
       "           0.0000e+00,  0.0000e+00]],\n",
       "\n",
       "        [[ 8.2718e-02, -6.9137e-02,  7.8678e-02,  ...,  0.0000e+00,\n",
       "           0.0000e+00,  0.0000e+00],\n",
       "         [ 1.1965e-01, -3.7819e-01,  1.2172e-01,  ...,  0.0000e+00,\n",
       "           0.0000e+00,  0.0000e+00],\n",
       "         [ 4.5868e+00,  4.3402e+00,  4.2792e+00,  ...,  0.0000e+00,\n",
       "           0.0000e+00,  0.0000e+00]]])"
      ]
     },
     "execution_count": 47,
     "metadata": {},
     "output_type": "execute_result"
    }
   ],
   "source": [
    "convert_x(bb)"
   ]
  },
  {
   "cell_type": "code",
   "execution_count": 35,
   "id": "dbaf3733",
   "metadata": {
    "ExecuteTime": {
     "end_time": "2023-08-01T22:45:51.399993Z",
     "start_time": "2023-08-01T22:45:51.363779Z"
    }
   },
   "outputs": [
    {
     "data": {
      "text/plain": [
       "tensor([[ 4.8051e-03, -3.0414e-02,  3.2171e-03, -7.8048e-03,  1.7593e-02,\n",
       "         -7.7527e-03, -1.2270e-02, -2.2361e-02, -2.1361e-02,  2.2012e-02,\n",
       "         -7.2189e-02,  3.4314e-02,  8.0996e-02,  2.9781e-02, -3.5419e-02,\n",
       "          2.9532e-02,  5.2790e-02,  1.5436e-01,  6.6205e-03, -2.7769e-01,\n",
       "         -2.9481e-01,  4.5826e-01, -6.0504e-02,  0.0000e+00,  0.0000e+00,\n",
       "          0.0000e+00,  0.0000e+00,  0.0000e+00,  0.0000e+00,  0.0000e+00,\n",
       "          0.0000e+00,  0.0000e+00,  0.0000e+00,  0.0000e+00,  0.0000e+00,\n",
       "          0.0000e+00,  0.0000e+00,  0.0000e+00,  0.0000e+00,  0.0000e+00,\n",
       "          0.0000e+00,  0.0000e+00,  0.0000e+00,  0.0000e+00,  0.0000e+00,\n",
       "          0.0000e+00,  0.0000e+00,  0.0000e+00,  0.0000e+00,  0.0000e+00,\n",
       "          0.0000e+00,  0.0000e+00,  0.0000e+00,  0.0000e+00,  0.0000e+00,\n",
       "          0.0000e+00,  0.0000e+00,  0.0000e+00,  0.0000e+00,  0.0000e+00,\n",
       "          0.0000e+00,  0.0000e+00,  0.0000e+00,  0.0000e+00,  0.0000e+00,\n",
       "          0.0000e+00,  0.0000e+00,  0.0000e+00,  0.0000e+00,  0.0000e+00,\n",
       "          0.0000e+00,  0.0000e+00,  0.0000e+00,  0.0000e+00,  0.0000e+00,\n",
       "          0.0000e+00,  0.0000e+00,  0.0000e+00,  0.0000e+00,  0.0000e+00,\n",
       "          0.0000e+00,  0.0000e+00,  0.0000e+00,  0.0000e+00,  0.0000e+00,\n",
       "          0.0000e+00,  0.0000e+00,  0.0000e+00,  0.0000e+00,  0.0000e+00],\n",
       "        [-1.2196e-02,  1.1893e-01, -7.5693e-03, -3.0973e-02, -2.1652e-02,\n",
       "         -2.4383e-02, -2.0188e-02, -2.7594e-02, -1.8263e-03, -1.4627e-02,\n",
       "         -2.0109e-01, -3.0462e-02, -1.5802e-02,  1.0204e-02, -5.9423e-02,\n",
       "         -6.5001e-02, -3.1059e-02, -5.3552e-02,  5.8456e-02, -1.1460e-01,\n",
       "         -6.2067e-02,  5.9593e-01, -3.9868e-01,  0.0000e+00,  0.0000e+00,\n",
       "          0.0000e+00,  0.0000e+00,  0.0000e+00,  0.0000e+00,  0.0000e+00,\n",
       "          0.0000e+00,  0.0000e+00,  0.0000e+00,  0.0000e+00,  0.0000e+00,\n",
       "          0.0000e+00,  0.0000e+00,  0.0000e+00,  0.0000e+00,  0.0000e+00,\n",
       "          0.0000e+00,  0.0000e+00,  0.0000e+00,  0.0000e+00,  0.0000e+00,\n",
       "          0.0000e+00,  0.0000e+00,  0.0000e+00,  0.0000e+00,  0.0000e+00,\n",
       "          0.0000e+00,  0.0000e+00,  0.0000e+00,  0.0000e+00,  0.0000e+00,\n",
       "          0.0000e+00,  0.0000e+00,  0.0000e+00,  0.0000e+00,  0.0000e+00,\n",
       "          0.0000e+00,  0.0000e+00,  0.0000e+00,  0.0000e+00,  0.0000e+00,\n",
       "          0.0000e+00,  0.0000e+00,  0.0000e+00,  0.0000e+00,  0.0000e+00,\n",
       "          0.0000e+00,  0.0000e+00,  0.0000e+00,  0.0000e+00,  0.0000e+00,\n",
       "          0.0000e+00,  0.0000e+00,  0.0000e+00,  0.0000e+00,  0.0000e+00,\n",
       "          0.0000e+00,  0.0000e+00,  0.0000e+00,  0.0000e+00,  0.0000e+00,\n",
       "          0.0000e+00,  0.0000e+00,  0.0000e+00,  0.0000e+00,  0.0000e+00],\n",
       "        [ 5.8162e+00,  4.3164e+00,  4.3124e+00,  3.3570e+00,  2.7561e+00,\n",
       "          2.6760e+00,  2.6129e+00,  2.2736e+00,  2.0914e+00,  1.9888e+00,\n",
       "          1.9135e+00,  1.8373e+00,  1.5403e+00,  1.3903e+00,  1.0075e+00,\n",
       "          7.1350e-01,  6.2458e-01,  5.4390e-01,  4.8727e-01,  2.4372e-01,\n",
       "          1.3339e-01, -6.7466e-01, -1.1519e+00,  0.0000e+00,  0.0000e+00,\n",
       "          0.0000e+00,  0.0000e+00,  0.0000e+00,  0.0000e+00,  0.0000e+00,\n",
       "          0.0000e+00,  0.0000e+00,  0.0000e+00,  0.0000e+00,  0.0000e+00,\n",
       "          0.0000e+00,  0.0000e+00,  0.0000e+00,  0.0000e+00,  0.0000e+00,\n",
       "          0.0000e+00,  0.0000e+00,  0.0000e+00,  0.0000e+00,  0.0000e+00,\n",
       "          0.0000e+00,  0.0000e+00,  0.0000e+00,  0.0000e+00,  0.0000e+00,\n",
       "          0.0000e+00,  0.0000e+00,  0.0000e+00,  0.0000e+00,  0.0000e+00,\n",
       "          0.0000e+00,  0.0000e+00,  0.0000e+00,  0.0000e+00,  0.0000e+00,\n",
       "          0.0000e+00,  0.0000e+00,  0.0000e+00,  0.0000e+00,  0.0000e+00,\n",
       "          0.0000e+00,  0.0000e+00,  0.0000e+00,  0.0000e+00,  0.0000e+00,\n",
       "          0.0000e+00,  0.0000e+00,  0.0000e+00,  0.0000e+00,  0.0000e+00,\n",
       "          0.0000e+00,  0.0000e+00,  0.0000e+00,  0.0000e+00,  0.0000e+00,\n",
       "          0.0000e+00,  0.0000e+00,  0.0000e+00,  0.0000e+00,  0.0000e+00,\n",
       "          0.0000e+00,  0.0000e+00,  0.0000e+00,  0.0000e+00,  0.0000e+00]])"
      ]
     },
     "execution_count": 35,
     "metadata": {},
     "output_type": "execute_result"
    }
   ],
   "source": [
    "converted_batch = convert_x(bb)\n",
    "converted_batch[0,:,:]"
   ]
  },
  {
   "cell_type": "code",
   "execution_count": 26,
   "id": "bc83845f",
   "metadata": {
    "ExecuteTime": {
     "end_time": "2023-08-01T22:37:05.557367Z",
     "start_time": "2023-08-01T22:37:05.545934Z"
    }
   },
   "outputs": [
    {
     "data": {
      "text/plain": [
       "tensor([[ 4.8051e-03, -1.2196e-02,  5.8162e+00],\n",
       "        [-3.0414e-02,  1.1893e-01,  4.3164e+00],\n",
       "        [ 3.2171e-03, -7.5693e-03,  4.3124e+00],\n",
       "        ...,\n",
       "        [-6.6076e-01,  1.8006e-01, -7.0576e-01],\n",
       "        [ 1.6592e-01,  6.9361e-01, -1.0265e+00],\n",
       "        [ 2.4350e-01,  1.7230e-01, -1.1979e+00]])"
      ]
     },
     "execution_count": 26,
     "metadata": {},
     "output_type": "execute_result"
    }
   ],
   "source": [
    "bb.x"
   ]
  },
  {
   "cell_type": "code",
   "execution_count": 36,
   "id": "266539ef",
   "metadata": {
    "ExecuteTime": {
     "end_time": "2023-08-01T22:46:01.946132Z",
     "start_time": "2023-08-01T22:46:01.935494Z"
    }
   },
   "outputs": [
    {
     "data": {
      "text/plain": [
       "tensor([[True, True, True, True, True, True, True, True, True, True, True, True,\n",
       "         True, True, True, True, True, True, True, True, True, True, True, True,\n",
       "         True, True, True, True, True, True, True, True, True, True, True, True,\n",
       "         True, True, True, True, True, True, True, True, True, True, True, True,\n",
       "         True, True, True, True, True, True, True, True, True, True, True, True,\n",
       "         True, True, True, True, True, True, True, True, True, True, True, True,\n",
       "         True, True, True, True, True, True, True, True, True, True, True, True,\n",
       "         True, True, True, True, True, True],\n",
       "        [True, True, True, True, True, True, True, True, True, True, True, True,\n",
       "         True, True, True, True, True, True, True, True, True, True, True, True,\n",
       "         True, True, True, True, True, True, True, True, True, True, True, True,\n",
       "         True, True, True, True, True, True, True, True, True, True, True, True,\n",
       "         True, True, True, True, True, True, True, True, True, True, True, True,\n",
       "         True, True, True, True, True, True, True, True, True, True, True, True,\n",
       "         True, True, True, True, True, True, True, True, True, True, True, True,\n",
       "         True, True, True, True, True, True],\n",
       "        [True, True, True, True, True, True, True, True, True, True, True, True,\n",
       "         True, True, True, True, True, True, True, True, True, True, True, True,\n",
       "         True, True, True, True, True, True, True, True, True, True, True, True,\n",
       "         True, True, True, True, True, True, True, True, True, True, True, True,\n",
       "         True, True, True, True, True, True, True, True, True, True, True, True,\n",
       "         True, True, True, True, True, True, True, True, True, True, True, True,\n",
       "         True, True, True, True, True, True, True, True, True, True, True, True,\n",
       "         True, True, True, True, True, True]])"
      ]
     },
     "execution_count": 36,
     "metadata": {},
     "output_type": "execute_result"
    }
   ],
   "source": [
    "x_padded[0,:,:] == converted_batch[0,:,:]"
   ]
  },
  {
   "cell_type": "code",
   "execution_count": null,
   "id": "e860e6fe",
   "metadata": {},
   "outputs": [],
   "source": []
  },
  {
   "cell_type": "code",
   "execution_count": null,
   "id": "2c5a67c6",
   "metadata": {},
   "outputs": [],
   "source": []
  },
  {
   "cell_type": "markdown",
   "id": "04085915",
   "metadata": {},
   "source": [
    "### see the range of ptp_eta"
   ]
  },
  {
   "cell_type": "code",
   "execution_count": null,
   "id": "d558a189",
   "metadata": {
    "ExecuteTime": {
     "end_time": "2023-07-27T22:04:09.102699Z",
     "start_time": "2023-07-27T22:04:09.102684Z"
    }
   },
   "outputs": [],
   "source": [
    "ptp_eta_lst = []\n",
    "for i, bb in enumerate(test_loader):\n",
    "    bb = bb.clone()\n",
    "    bb = bb.to(\"cpu\")\n",
    "    X = bb.x.numpy()\n",
    "    ptp_eta = np.ptp(X[:,0], axis=-1, keepdims=True)\n",
    "    ptp_eta_lst.append(ptp_eta[0])\n",
    "#     print(f\"ptp_eta for batch {i} : {ptp_eta}\")\n",
    "#     if i == 30:\n",
    "#         break\n",
    "    "
   ]
  },
  {
   "cell_type": "code",
   "execution_count": null,
   "id": "c072c242",
   "metadata": {
    "ExecuteTime": {
     "end_time": "2023-07-27T22:04:09.104003Z",
     "start_time": "2023-07-27T22:04:09.103988Z"
    }
   },
   "outputs": [],
   "source": [
    "fig, ax = plt.subplots(figsize=(8, 6))\n",
    "plt.hist(ptp_eta_lst, bins=10, histtype=\"step\", linewidth=2, label=f\"ptp_eta\")\n",
    "\n",
    "ax.legend(title=\"10k Jets\")\n",
    "ax.set_xlabel(r\"ptp_eta\");\n",
    "ax.set_ylabel(r\"Events\");"
   ]
  },
  {
   "cell_type": "code",
   "execution_count": null,
   "id": "abc3664d",
   "metadata": {
    "ExecuteTime": {
     "end_time": "2023-07-27T22:04:09.105312Z",
     "start_time": "2023-07-27T22:04:09.105297Z"
    }
   },
   "outputs": [],
   "source": [
    "for i, bb in enumerate(train_loader):\n",
    "    break"
   ]
  },
  {
   "cell_type": "markdown",
   "id": "6496983f",
   "metadata": {},
   "source": [
    "# Translate Jets"
   ]
  },
  {
   "cell_type": "code",
   "execution_count": null,
   "id": "e21989cd",
   "metadata": {
    "ExecuteTime": {
     "end_time": "2023-07-27T22:04:09.106828Z",
     "start_time": "2023-07-27T22:04:09.106813Z"
    }
   },
   "outputs": [],
   "source": [
    "def translate_jets(batch, width=1.0, device='cpu'):\n",
    "    width = 1.0\n",
    "    bb = batch.clone()\n",
    "    bb = bb.to(\"cpu\")\n",
    "    X = bb.x.numpy()\n",
    "    ptp_eta = np.ptp(X[:,0], axis=-1, keepdims=True)\n",
    "    ptp_phi = np.ptp(X[:,1], axis=-1, keepdims=True)\n",
    "    low_eta  = -width*ptp_eta\n",
    "    print(f\"low eta: {low_eta}\")\n",
    "    high_eta = +width*ptp_eta\n",
    "    print(f\"high eta: {high_eta}\")\n",
    "    low_phi = np.maximum(-width*ptp_phi, -np.pi-np.min(X[:,1]).reshape(ptp_phi.shape))\n",
    "    print(f\"low phi: {low_phi}\")\n",
    "    high_phi = np.minimum(+width*ptp_phi, +np.pi-np.max(X[:,1]).reshape(ptp_phi.shape))\n",
    "    print(f\"high phi: {high_phi}\")\n",
    "    shift_eta_batch = np.random.uniform(low=low_eta, high=high_eta, size=(bb.y.shape[0], 1))  \n",
    "    shift_phi_batch = np.random.uniform(low=low_phi, high=high_phi, size=(bb.y.shape[0], 1))  \n",
    "    \n",
    "    # To make sure that the components of each jet get shifted by the same amount\n",
    "    for i in range(len(bb)):\n",
    "        X_jet = bb[i].x.numpy()\n",
    "        shift_eta_jet = np.ones((X_jet.shape[0], 1)) * shift_eta_batch[i]\n",
    "        shift_phi_jet = np.ones((X_jet.shape[0], 1)) * shift_phi_batch[i]\n",
    "        if i == 0:\n",
    "            shift_eta = shift_eta_jet\n",
    "            shift_phi = shift_phi_jet\n",
    "        else:\n",
    "            shift_eta = np.concatenate((shift_eta, shift_eta_jet))\n",
    "            shift_phi = np.concatenate((shift_phi, shift_phi_jet))\n",
    "\n",
    "    shift = np.hstack((shift_eta, shift_phi, np.zeros((X.shape[0], 5))))\n",
    "    new_X = X + shift\n",
    "    new_X = torch.tensor(new_X).to(device)\n",
    "    bb.x = new_X\n",
    "    return bb.to(device)"
   ]
  },
  {
   "cell_type": "markdown",
   "id": "5a2ee955",
   "metadata": {},
   "source": [
    "## Test translate_jets()"
   ]
  },
  {
   "cell_type": "code",
   "execution_count": null,
   "id": "1950f73c",
   "metadata": {
    "ExecuteTime": {
     "end_time": "2023-07-27T22:04:09.108034Z",
     "start_time": "2023-07-27T22:04:09.108018Z"
    }
   },
   "outputs": [],
   "source": [
    "new_batch = translate_jets(bb, device=device)"
   ]
  },
  {
   "cell_type": "code",
   "execution_count": null,
   "id": "6ea1bda9",
   "metadata": {
    "ExecuteTime": {
     "end_time": "2023-07-27T22:04:09.109323Z",
     "start_time": "2023-07-27T22:04:09.109307Z"
    }
   },
   "outputs": [],
   "source": [
    "bb[0].x[:, 0]"
   ]
  },
  {
   "cell_type": "code",
   "execution_count": null,
   "id": "86e6df6b",
   "metadata": {
    "ExecuteTime": {
     "end_time": "2023-07-27T22:04:09.110588Z",
     "start_time": "2023-07-27T22:04:09.110572Z"
    }
   },
   "outputs": [],
   "source": [
    "new_batch[0].x[:, 0]\n",
    "# new_batch.x.device"
   ]
  },
  {
   "cell_type": "code",
   "execution_count": null,
   "id": "01e2ccaa",
   "metadata": {
    "ExecuteTime": {
     "end_time": "2023-07-27T22:04:09.111877Z",
     "start_time": "2023-07-27T22:04:09.111862Z"
    }
   },
   "outputs": [],
   "source": [
    "i=0\n",
    "new_batch.cpu()[i].x[:, 0].numpy() - bb.cpu()[i].x[:, 0].numpy()"
   ]
  },
  {
   "cell_type": "markdown",
   "id": "f9ac8141",
   "metadata": {},
   "source": [
    "# Rotate Jets"
   ]
  },
  {
   "cell_type": "code",
   "execution_count": null,
   "id": "fcf8b932",
   "metadata": {
    "ExecuteTime": {
     "end_time": "2023-07-27T22:04:09.113148Z",
     "start_time": "2023-07-27T22:04:09.113133Z"
    }
   },
   "outputs": [],
   "source": [
    "def rotate_jets(batch, device):\n",
    "    bb = batch.clone()\n",
    "    bb = bb.to(\"cpu\")\n",
    "    rot_angle = np.random.rand(len(bb))*2*np.pi\n",
    "#     print(rot_angle)\n",
    "    c = np.cos(rot_angle)\n",
    "    s = np.sin(rot_angle)\n",
    "    o = np.ones_like(rot_angle)\n",
    "    z = np.zeros_like(rot_angle)\n",
    "    rot_matrix = np.array([[z, c, -s], [z, s, c], [o, z, z]])  # (3, 3, 100)\n",
    "    rot_matrix = rot_matrix.transpose(2,0,1)  # (100, 3, 3)\n",
    "\n",
    "    for i in range(len(bb)):\n",
    "        x_ = bb[i].x[:,:3]\n",
    "        new_x = np.einsum('ij,jk', bb[i].x[:,:3], rot_matrix[i])  # this is somehow (pT, eta', phi')\n",
    "        new_x[:, [0,2]] = new_x[:, [2, 0]] \n",
    "        new_x[:, [0,1]] = new_x[:, [1, 0]] # now (phi', eta', pT)\n",
    "        \n",
    "        if i == 0:\n",
    "            new_X = new_x\n",
    "        else:\n",
    "            new_X = np.concatenate((new_X, new_x), axis=0)\n",
    "\n",
    "    new_X = torch.tensor(new_X).to(device)\n",
    "    bb.x[:,:3] = new_X\n",
    "    return bb.to(device)"
   ]
  },
  {
   "cell_type": "markdown",
   "id": "497f4901",
   "metadata": {},
   "source": [
    "## Test rotate_jets()"
   ]
  },
  {
   "cell_type": "code",
   "execution_count": null,
   "id": "c1728e75",
   "metadata": {
    "ExecuteTime": {
     "end_time": "2023-07-27T22:04:09.114396Z",
     "start_time": "2023-07-27T22:04:09.114381Z"
    }
   },
   "outputs": [],
   "source": [
    "for i, batch in enumerate(train_loader):\n",
    "    if i == 1:\n",
    "        break"
   ]
  },
  {
   "cell_type": "code",
   "execution_count": null,
   "id": "471f24e5",
   "metadata": {
    "ExecuteTime": {
     "end_time": "2023-07-27T22:04:09.115697Z",
     "start_time": "2023-07-27T22:04:09.115682Z"
    }
   },
   "outputs": [],
   "source": [
    "new_batch = rotate_jets(batch, device=device)"
   ]
  },
  {
   "cell_type": "code",
   "execution_count": 68,
   "id": "c394d084",
   "metadata": {
    "collapsed": true
   },
   "outputs": [
    {
     "data": {
      "text/plain": [
       "tensor([[-6.0437e-02, -2.9798e-02,  4.9351e+00],\n",
       "        [ 1.1935e-01,  2.6293e-01,  4.5134e+00],\n",
       "        [ 1.1935e-01,  2.6293e-01,  3.8842e+00],\n",
       "        [ 2.2080e-02, -5.8930e-02,  3.7488e+00],\n",
       "        [ 1.6222e-02, -6.6628e-02,  3.5040e+00],\n",
       "        [-2.5196e-01, -5.0939e-01,  3.3562e+00],\n",
       "        [ 1.2240e-01,  2.5398e-01,  2.9413e+00],\n",
       "        [ 4.7167e-02, -3.4889e-02,  2.6665e+00],\n",
       "        [ 1.5118e-01,  2.6092e-01,  2.5321e+00],\n",
       "        [-3.0791e-01, -5.3602e-01,  2.2583e+00],\n",
       "        [ 8.9111e-02, -8.4846e-02,  2.1801e+00],\n",
       "        [ 1.0256e-01,  2.9138e-01,  2.1715e+00],\n",
       "        [ 1.9424e-01,  2.4204e-01,  2.0848e+00],\n",
       "        [-2.2788e-01, -5.0678e-01,  1.7994e+00],\n",
       "        [-2.4578e-01, -4.4921e-01,  1.6775e+00],\n",
       "        [-7.9526e-04,  2.4844e-01,  1.6761e+00],\n",
       "        [-1.8728e-02, -6.2828e-02,  1.6329e+00],\n",
       "        [-2.5419e-01, -4.2511e-01,  1.6205e+00],\n",
       "        [ 1.0769e-01,  2.2927e-01,  1.5918e+00],\n",
       "        [-4.4587e-01, -4.5636e-01,  1.5623e+00],\n",
       "        [-4.4538e-02, -1.7549e-02,  1.4822e+00],\n",
       "        [ 1.0688e-01,  1.3231e-02,  1.4066e+00],\n",
       "        [ 1.8782e-01,  1.5051e-01,  1.3831e+00],\n",
       "        [-4.3353e-01,  2.1737e-01,  1.2644e+00],\n",
       "        [ 5.9766e-02,  2.0079e-01,  1.2436e+00],\n",
       "        [-1.0020e-01, -4.8274e-01,  1.2353e+00],\n",
       "        [-3.0038e-02,  3.8877e-01,  1.2286e+00],\n",
       "        [-1.6399e-02, -2.1783e-01,  1.2199e+00],\n",
       "        [ 2.0576e-01, -2.2634e-01,  1.2084e+00],\n",
       "        [ 9.8368e-02,  1.9743e-01,  1.1490e+00],\n",
       "        [-2.1190e-01, -2.2637e-01,  1.1462e+00],\n",
       "        [-2.1331e-01, -6.1788e-01,  1.1252e+00],\n",
       "        [ 1.3934e-01,  2.4882e-01,  1.0617e+00],\n",
       "        [-3.3013e-03, -4.7024e-01,  1.0162e+00],\n",
       "        [-2.0907e-01, -4.0799e-01,  8.3324e-01],\n",
       "        [-2.2567e-01,  1.9387e-01,  8.0464e-01],\n",
       "        [-1.0366e-02,  1.5768e-01,  7.9244e-01],\n",
       "        [-1.1943e-02, -1.2468e-01,  6.6859e-01],\n",
       "        [ 6.0320e-02,  2.7523e-01,  4.7798e-01],\n",
       "        [ 3.1347e-02, -2.0043e-01,  4.1087e-01],\n",
       "        [-1.9655e-01, -5.3068e-01,  3.9641e-01],\n",
       "        [-2.5196e-01, -5.0939e-01,  2.6377e-01],\n",
       "        [ 2.2632e-03, -5.9954e-01,  2.2258e-01],\n",
       "        [-2.2700e-01, -1.7080e-01,  2.0969e-01],\n",
       "        [ 2.6257e-01,  1.1468e-01,  1.8028e-01],\n",
       "        [ 2.9670e-02,  9.1065e-02,  1.3671e-01],\n",
       "        [ 5.0345e-02, -2.3596e-01,  8.7284e-02],\n",
       "        [-1.8120e-02, -7.4327e-01, -2.7724e-02],\n",
       "        [ 3.8512e-02, -3.5052e-01, -6.8051e-02],\n",
       "        [-2.0209e-01, -3.6152e-01, -1.9551e-01],\n",
       "        [ 6.1144e-02, -5.1466e-01, -4.8508e-01],\n",
       "        [ 4.6837e-01, -1.6947e-01, -1.4010e+00],\n",
       "        [-6.3803e-02,  6.7407e-02, -1.4965e+00]], device='cuda:0',\n",
       "       dtype=torch.float64)"
      ]
     },
     "execution_count": 68,
     "metadata": {},
     "output_type": "execute_result"
    }
   ],
   "source": [
    "new_batch[0].x[:,:3]"
   ]
  },
  {
   "cell_type": "markdown",
   "id": "59cd74f0",
   "metadata": {},
   "source": [
    "# Rescale and normalize pT"
   ]
  },
  {
   "cell_type": "code",
   "execution_count": 25,
   "id": "b860c8f1",
   "metadata": {
    "ExecuteTime": {
     "end_time": "2023-07-27T22:19:43.351632Z",
     "start_time": "2023-07-27T22:19:43.343740Z"
    }
   },
   "outputs": [],
   "source": [
    "for i, bb in enumerate(train_loader):\n",
    "    break"
   ]
  },
  {
   "cell_type": "code",
   "execution_count": 26,
   "id": "e110d31e",
   "metadata": {
    "ExecuteTime": {
     "end_time": "2023-07-27T22:19:49.634353Z",
     "start_time": "2023-07-27T22:19:49.628722Z"
    }
   },
   "outputs": [
    {
     "data": {
      "text/plain": [
       "tensor([ 5.8162,  4.3164,  4.3124,  3.3570,  2.7561,  2.6760,  2.6129,  2.2736,\n",
       "         2.0914,  1.9888,  1.9135,  1.8373,  1.5403,  1.3903,  1.0075,  0.7135,\n",
       "         0.6246,  0.5439,  0.4873,  0.2437,  0.1334, -0.6747, -1.1519])"
      ]
     },
     "execution_count": 26,
     "metadata": {},
     "output_type": "execute_result"
    }
   ],
   "source": [
    "bb[0].x[:, 2]"
   ]
  },
  {
   "cell_type": "code",
   "execution_count": 27,
   "id": "f9e51b41",
   "metadata": {
    "ExecuteTime": {
     "end_time": "2023-07-27T22:19:52.418061Z",
     "start_time": "2023-07-27T22:19:52.413861Z"
    }
   },
   "outputs": [],
   "source": [
    "def rescale_pts(batch, device):\n",
    "    bb = batch.clone()\n",
    "    x_rscl = bb.x.clone()\n",
    "    bb.x[:,2] = torch.nan_to_num(x_rscl[:,2]/600, posinf=0.0, neginf=0.0)\n",
    "    return bb.to(device)"
   ]
  },
  {
   "cell_type": "code",
   "execution_count": 30,
   "id": "f351dc6c",
   "metadata": {
    "ExecuteTime": {
     "end_time": "2023-07-27T22:20:17.799337Z",
     "start_time": "2023-07-27T22:20:17.794439Z"
    }
   },
   "outputs": [
    {
     "data": {
      "text/plain": [
       "tensor([ 5.8162,  4.3164,  4.3124,  3.3570,  2.7561,  2.6760,  2.6129,  2.2736,\n",
       "         2.0914,  1.9888,  1.9135,  1.8373,  1.5403,  1.3903,  1.0075,  0.7135,\n",
       "         0.6246,  0.5439,  0.4873,  0.2437,  0.1334, -0.6747, -1.1519])"
      ]
     },
     "execution_count": 30,
     "metadata": {},
     "output_type": "execute_result"
    }
   ],
   "source": [
    "bb[0].x[:, 2]"
   ]
  },
  {
   "cell_type": "code",
   "execution_count": 28,
   "id": "75e6b6e0",
   "metadata": {
    "ExecuteTime": {
     "end_time": "2023-07-27T22:20:08.454257Z",
     "start_time": "2023-07-27T22:20:08.435597Z"
    }
   },
   "outputs": [],
   "source": [
    "new_batch = rescale_pts(bb, device)"
   ]
  },
  {
   "cell_type": "code",
   "execution_count": 29,
   "id": "0d64a03e",
   "metadata": {
    "ExecuteTime": {
     "end_time": "2023-07-27T22:20:11.202279Z",
     "start_time": "2023-07-27T22:20:11.195475Z"
    }
   },
   "outputs": [
    {
     "data": {
      "text/plain": [
       "tensor([ 0.0097,  0.0072,  0.0072,  0.0056,  0.0046,  0.0045,  0.0044,  0.0038,\n",
       "         0.0035,  0.0033,  0.0032,  0.0031,  0.0026,  0.0023,  0.0017,  0.0012,\n",
       "         0.0010,  0.0009,  0.0008,  0.0004,  0.0002, -0.0011, -0.0019],\n",
       "       device='cuda:0')"
      ]
     },
     "execution_count": 29,
     "metadata": {},
     "output_type": "execute_result"
    }
   ],
   "source": [
    "new_batch[0].x[:, 2]"
   ]
  },
  {
   "cell_type": "code",
   "execution_count": 48,
   "id": "90d9dcd3",
   "metadata": {
    "ExecuteTime": {
     "end_time": "2023-07-27T22:29:30.539058Z",
     "start_time": "2023-07-27T22:29:30.533604Z"
    }
   },
   "outputs": [],
   "source": [
    "def normalize_pts(batch, device):\n",
    "    bb = batch.clone()\n",
    "    for i in range(len(bb)):\n",
    "        x_norm = bb[i].x.clone()\n",
    "        new_pt = torch.nan_to_num(x_norm[:,2]/torch.sum(x_norm[:,2]), posinf = 0.0, neginf = 0.0 )\n",
    "\n",
    "        if i == 0:\n",
    "            new_PT = new_pt\n",
    "        else:\n",
    "            new_PT = torch.concatenate((new_PT, new_pt), axis=0)\n",
    "    new_PT = torch.tensor(new_PT).to(device)\n",
    "    bb.x[:, 2] = new_PT\n",
    "    return bb.to(device)"
   ]
  },
  {
   "cell_type": "code",
   "execution_count": 49,
   "id": "7f62ea83",
   "metadata": {
    "ExecuteTime": {
     "end_time": "2023-07-27T22:29:31.409442Z",
     "start_time": "2023-07-27T22:29:31.385535Z"
    }
   },
   "outputs": [
    {
     "data": {
      "text/plain": [
       "tensor([ 5.8162,  4.3164,  4.3124,  3.3570,  2.7561,  2.6760,  2.6129,  2.2736,\n",
       "         2.0914,  1.9888,  1.9135,  1.8373,  1.5403,  1.3903,  1.0075,  0.7135,\n",
       "         0.6246,  0.5439,  0.4873,  0.2437,  0.1334, -0.6747, -1.1519],\n",
       "       device='cuda:0')"
      ]
     },
     "execution_count": 49,
     "metadata": {},
     "output_type": "execute_result"
    }
   ],
   "source": [
    "bb[0].x[:, 2]"
   ]
  },
  {
   "cell_type": "code",
   "execution_count": 50,
   "id": "80182b2b",
   "metadata": {
    "ExecuteTime": {
     "end_time": "2023-07-27T22:29:32.250542Z",
     "start_time": "2023-07-27T22:29:32.243957Z"
    }
   },
   "outputs": [
    {
     "data": {
      "text/plain": [
       "tensor(40.8094, device='cuda:0')"
      ]
     },
     "execution_count": 50,
     "metadata": {},
     "output_type": "execute_result"
    }
   ],
   "source": [
    "torch.sum(bb[0].x[:, 2])"
   ]
  },
  {
   "cell_type": "code",
   "execution_count": 51,
   "id": "b04f5c9c",
   "metadata": {
    "ExecuteTime": {
     "end_time": "2023-07-27T22:29:33.212938Z",
     "start_time": "2023-07-27T22:29:33.106801Z"
    }
   },
   "outputs": [
    {
     "name": "stderr",
     "output_type": "stream",
     "text": [
      "/tmp/ipykernel_68/977259205.py:11: UserWarning: To copy construct from a tensor, it is recommended to use sourceTensor.clone().detach() or sourceTensor.clone().detach().requires_grad_(True), rather than torch.tensor(sourceTensor).\n",
      "  new_PT = torch.tensor(new_PT).to(device)\n"
     ]
    }
   ],
   "source": [
    "new_batch = normalize_pts(bb, device)"
   ]
  },
  {
   "cell_type": "code",
   "execution_count": 41,
   "id": "260b3ac7",
   "metadata": {
    "ExecuteTime": {
     "end_time": "2023-07-27T22:22:36.890630Z",
     "start_time": "2023-07-27T22:22:36.886265Z"
    }
   },
   "outputs": [
    {
     "data": {
      "text/plain": [
       "False"
      ]
     },
     "execution_count": 41,
     "metadata": {},
     "output_type": "execute_result"
    }
   ],
   "source": [
    "new_batch == bb"
   ]
  },
  {
   "cell_type": "code",
   "execution_count": 57,
   "id": "7e75c241",
   "metadata": {
    "ExecuteTime": {
     "end_time": "2023-07-27T22:30:33.051339Z",
     "start_time": "2023-07-27T22:30:32.939912Z"
    },
    "collapsed": true
   },
   "outputs": [
    {
     "name": "stdout",
     "output_type": "stream",
     "text": [
      "tensor(1., device='cuda:0')\n",
      "tensor(1., device='cuda:0')\n",
      "tensor(1., device='cuda:0')\n",
      "tensor(1., device='cuda:0')\n",
      "tensor(1., device='cuda:0')\n",
      "tensor(1., device='cuda:0')\n",
      "tensor(1.0000, device='cuda:0')\n",
      "tensor(1., device='cuda:0')\n",
      "tensor(1., device='cuda:0')\n",
      "tensor(1.0000, device='cuda:0')\n",
      "tensor(1., device='cuda:0')\n",
      "tensor(1., device='cuda:0')\n",
      "tensor(1.0000, device='cuda:0')\n",
      "tensor(1., device='cuda:0')\n",
      "tensor(1., device='cuda:0')\n",
      "tensor(1.0000, device='cuda:0')\n",
      "tensor(1., device='cuda:0')\n",
      "tensor(1., device='cuda:0')\n",
      "tensor(1., device='cuda:0')\n",
      "tensor(1.0000, device='cuda:0')\n",
      "tensor(1., device='cuda:0')\n",
      "tensor(1., device='cuda:0')\n",
      "tensor(1., device='cuda:0')\n",
      "tensor(1.0000, device='cuda:0')\n",
      "tensor(1.0000, device='cuda:0')\n",
      "tensor(1.0000, device='cuda:0')\n",
      "tensor(1., device='cuda:0')\n",
      "tensor(1.0000, device='cuda:0')\n",
      "tensor(1.0000, device='cuda:0')\n",
      "tensor(1., device='cuda:0')\n",
      "tensor(1.0000, device='cuda:0')\n",
      "tensor(1., device='cuda:0')\n",
      "tensor(1., device='cuda:0')\n",
      "tensor(1., device='cuda:0')\n",
      "tensor(1., device='cuda:0')\n",
      "tensor(1.0000, device='cuda:0')\n",
      "tensor(1.0000, device='cuda:0')\n",
      "tensor(1.0000, device='cuda:0')\n",
      "tensor(1., device='cuda:0')\n",
      "tensor(1., device='cuda:0')\n",
      "tensor(1., device='cuda:0')\n",
      "tensor(1., device='cuda:0')\n",
      "tensor(1., device='cuda:0')\n",
      "tensor(1., device='cuda:0')\n",
      "tensor(1.0000, device='cuda:0')\n",
      "tensor(1.0000, device='cuda:0')\n",
      "tensor(1.0000, device='cuda:0')\n",
      "tensor(1., device='cuda:0')\n",
      "tensor(1.0000, device='cuda:0')\n",
      "tensor(1.0000, device='cuda:0')\n",
      "tensor(1., device='cuda:0')\n",
      "tensor(1., device='cuda:0')\n",
      "tensor(1., device='cuda:0')\n",
      "tensor(1., device='cuda:0')\n",
      "tensor(1.0000, device='cuda:0')\n",
      "tensor(1., device='cuda:0')\n",
      "tensor(1.0000, device='cuda:0')\n",
      "tensor(1., device='cuda:0')\n",
      "tensor(1., device='cuda:0')\n",
      "tensor(1., device='cuda:0')\n",
      "tensor(1.0000, device='cuda:0')\n",
      "tensor(1., device='cuda:0')\n",
      "tensor(1., device='cuda:0')\n",
      "tensor(1.0000, device='cuda:0')\n",
      "tensor(1., device='cuda:0')\n",
      "tensor(1., device='cuda:0')\n",
      "tensor(1.0000, device='cuda:0')\n",
      "tensor(1.0000, device='cuda:0')\n",
      "tensor(1., device='cuda:0')\n",
      "tensor(1., device='cuda:0')\n",
      "tensor(1., device='cuda:0')\n",
      "tensor(1., device='cuda:0')\n",
      "tensor(1., device='cuda:0')\n",
      "tensor(1.0000, device='cuda:0')\n",
      "tensor(1.0000, device='cuda:0')\n",
      "tensor(1.0000, device='cuda:0')\n",
      "tensor(1.0000, device='cuda:0')\n",
      "tensor(1., device='cuda:0')\n",
      "tensor(1.0000, device='cuda:0')\n",
      "tensor(1., device='cuda:0')\n",
      "tensor(1., device='cuda:0')\n",
      "tensor(1., device='cuda:0')\n",
      "tensor(1.0000, device='cuda:0')\n",
      "tensor(1., device='cuda:0')\n",
      "tensor(1., device='cuda:0')\n",
      "tensor(1., device='cuda:0')\n",
      "tensor(1., device='cuda:0')\n",
      "tensor(1., device='cuda:0')\n",
      "tensor(1., device='cuda:0')\n",
      "tensor(1.0000, device='cuda:0')\n",
      "tensor(1.0000, device='cuda:0')\n",
      "tensor(1., device='cuda:0')\n",
      "tensor(1., device='cuda:0')\n",
      "tensor(1.0000, device='cuda:0')\n",
      "tensor(1., device='cuda:0')\n",
      "tensor(1., device='cuda:0')\n",
      "tensor(1., device='cuda:0')\n",
      "tensor(1.0000, device='cuda:0')\n",
      "tensor(1.0000, device='cuda:0')\n",
      "tensor(1.0000, device='cuda:0')\n",
      "tensor(1.0000, device='cuda:0')\n",
      "tensor(1.0000, device='cuda:0')\n",
      "tensor(1., device='cuda:0')\n",
      "tensor(1., device='cuda:0')\n",
      "tensor(1., device='cuda:0')\n",
      "tensor(1.0000, device='cuda:0')\n",
      "tensor(1., device='cuda:0')\n",
      "tensor(1.0000, device='cuda:0')\n",
      "tensor(1., device='cuda:0')\n",
      "tensor(1., device='cuda:0')\n",
      "tensor(1.0000, device='cuda:0')\n",
      "tensor(1., device='cuda:0')\n",
      "tensor(1., device='cuda:0')\n",
      "tensor(1., device='cuda:0')\n",
      "tensor(1., device='cuda:0')\n",
      "tensor(1.0000, device='cuda:0')\n",
      "tensor(1., device='cuda:0')\n",
      "tensor(1., device='cuda:0')\n",
      "tensor(1.0000, device='cuda:0')\n",
      "tensor(1., device='cuda:0')\n",
      "tensor(1., device='cuda:0')\n",
      "tensor(1., device='cuda:0')\n",
      "tensor(1., device='cuda:0')\n",
      "tensor(1.0000, device='cuda:0')\n",
      "tensor(1., device='cuda:0')\n",
      "tensor(1., device='cuda:0')\n",
      "tensor(1.0000, device='cuda:0')\n",
      "tensor(1., device='cuda:0')\n"
     ]
    }
   ],
   "source": [
    "for i in range(len(bb)):\n",
    "    print(torch.sum(new_batch[i].x[:, 2]))"
   ]
  },
  {
   "cell_type": "code",
   "execution_count": 54,
   "id": "f2a16b1a",
   "metadata": {
    "ExecuteTime": {
     "end_time": "2023-07-27T22:29:50.168358Z",
     "start_time": "2023-07-27T22:29:50.160436Z"
    }
   },
   "outputs": [
    {
     "data": {
      "text/plain": [
       "tensor(1., device='cuda:0')"
      ]
     },
     "execution_count": 54,
     "metadata": {},
     "output_type": "execute_result"
    }
   ],
   "source": [
    "torch.sum(new_batch[2].x[:, 2])"
   ]
  },
  {
   "cell_type": "code",
   "execution_count": 13,
   "id": "34dd8cee",
   "metadata": {},
   "outputs": [],
   "source": [
    "# 0,1,2, eta, phi, pT"
   ]
  },
  {
   "cell_type": "markdown",
   "id": "f91ebf58",
   "metadata": {},
   "source": [
    "# cropping"
   ]
  },
  {
   "cell_type": "code",
   "execution_count": 49,
   "id": "d11c1b55",
   "metadata": {
    "ExecuteTime": {
     "end_time": "2023-07-28T17:59:25.432758Z",
     "start_time": "2023-07-28T17:59:25.421649Z"
    }
   },
   "outputs": [
    {
     "data": {
      "text/plain": [
       "tensor([[ 4.8051e-03, -1.2196e-02,  5.8162e+00,  ..., -6.0878e-01,\n",
       "         -6.0632e-01,  1.3108e-02],\n",
       "        [-3.0414e-02,  1.1893e-01,  4.3164e+00,  ..., -2.1086e+00,\n",
       "         -2.1307e+00,  1.2275e-01],\n",
       "        [ 3.2171e-03, -7.5693e-03,  4.3124e+00,  ..., -2.1126e+00,\n",
       "         -2.1113e+00,  8.2246e-03],\n",
       "        ...,\n",
       "        [-6.6076e-01,  1.8006e-01, -7.0576e-01,  ..., -7.1097e+00,\n",
       "         -7.6615e+00,  6.8485e-01],\n",
       "        [ 1.6592e-01,  6.9361e-01, -1.0265e+00,  ..., -7.4305e+00,\n",
       "         -7.2859e+00,  7.1318e-01],\n",
       "        [ 2.4350e-01,  1.7230e-01, -1.1979e+00,  ..., -7.6019e+00,\n",
       "         -7.3845e+00,  2.9830e-01]])"
      ]
     },
     "execution_count": 49,
     "metadata": {},
     "output_type": "execute_result"
    }
   ],
   "source": [
    "bb.x"
   ]
  },
  {
   "cell_type": "code",
   "execution_count": 44,
   "id": "9f89d080",
   "metadata": {
    "ExecuteTime": {
     "end_time": "2023-07-28T17:54:50.878661Z",
     "start_time": "2023-07-28T17:54:50.870648Z"
    }
   },
   "outputs": [],
   "source": [
    "new_data_list = []\n",
    "for i in range(10):\n",
    "    new_data_list.append(bb[i])"
   ]
  },
  {
   "cell_type": "code",
   "execution_count": 45,
   "id": "bad06740",
   "metadata": {
    "ExecuteTime": {
     "end_time": "2023-07-28T17:54:59.031810Z",
     "start_time": "2023-07-28T17:54:59.023482Z"
    }
   },
   "outputs": [
    {
     "data": {
      "text/plain": [
       "[Data(x=[23, 7], y=[1]),\n",
       " Data(x=[43, 7], y=[1]),\n",
       " Data(x=[41, 7], y=[1]),\n",
       " Data(x=[25, 7], y=[1]),\n",
       " Data(x=[73, 7], y=[1]),\n",
       " Data(x=[55, 7], y=[1]),\n",
       " Data(x=[53, 7], y=[1]),\n",
       " Data(x=[70, 7], y=[1]),\n",
       " Data(x=[27, 7], y=[1]),\n",
       " Data(x=[64, 7], y=[1])]"
      ]
     },
     "execution_count": 45,
     "metadata": {},
     "output_type": "execute_result"
    }
   ],
   "source": [
    "new_data_list"
   ]
  },
  {
   "cell_type": "code",
   "execution_count": 47,
   "id": "9a4dcc62",
   "metadata": {
    "ExecuteTime": {
     "end_time": "2023-07-28T17:55:51.023358Z",
     "start_time": "2023-07-28T17:55:51.015287Z"
    }
   },
   "outputs": [],
   "source": [
    "small_batch = Batch.from_data_list(new_data_list)"
   ]
  },
  {
   "cell_type": "code",
   "execution_count": 48,
   "id": "eba706cf",
   "metadata": {
    "ExecuteTime": {
     "end_time": "2023-07-28T17:55:58.063099Z",
     "start_time": "2023-07-28T17:55:58.054931Z"
    }
   },
   "outputs": [
    {
     "data": {
      "text/plain": [
       "DataBatch(x=[474, 7], y=[10], batch=[474], ptr=[11])"
      ]
     },
     "execution_count": 48,
     "metadata": {},
     "output_type": "execute_result"
    }
   ],
   "source": [
    "small_batch"
   ]
  },
  {
   "cell_type": "code",
   "execution_count": 50,
   "id": "19689072",
   "metadata": {
    "ExecuteTime": {
     "end_time": "2023-07-28T18:00:35.628753Z",
     "start_time": "2023-07-28T18:00:35.618992Z"
    }
   },
   "outputs": [],
   "source": [
    "def crop_jets( batch, nc, device ):\n",
    "    '''\n",
    "    Input: batch of jets, shape \n",
    "    Output: batch of cropped jets, each jet is cropped to nc constituents, shape \n",
    "    '''\n",
    "    new_data_list = []\n",
    "    for i in range(len(batch)):\n",
    "        new_x = batch[i].x[0:nc, :]\n",
    "        jet = Data(x=new_x.to(device), y=batch[i].y.to(device))\n",
    "        new_data_list.append(jet)\n",
    "    new_batch = Batch.from_data_list(new_data_list)\n",
    "    return new_batch.to(device)"
   ]
  },
  {
   "cell_type": "markdown",
   "id": "f241937c",
   "metadata": {},
   "source": [
    "### Original batch"
   ]
  },
  {
   "cell_type": "code",
   "execution_count": 51,
   "id": "47bdd5e7",
   "metadata": {
    "ExecuteTime": {
     "end_time": "2023-07-28T18:00:39.397338Z",
     "start_time": "2023-07-28T18:00:39.388300Z"
    }
   },
   "outputs": [
    {
     "name": "stdout",
     "output_type": "stream",
     "text": [
      "shape of the original batch: torch.Size([5980, 7])\n",
      "jet 0 shape: torch.Size([23, 7])\n",
      "jet 1 shape: torch.Size([43, 7])\n",
      "jet 2 shape: torch.Size([41, 7])\n",
      "jet 3 shape: torch.Size([25, 7])\n",
      "jet 4 shape: torch.Size([73, 7])\n"
     ]
    }
   ],
   "source": [
    "print(f\"shape of the original batch: {bb.x.shape}\")\n",
    "for i in range(5):\n",
    "    print(f\"jet {i} shape: {bb[i].x.shape}\")"
   ]
  },
  {
   "cell_type": "markdown",
   "id": "15a99881",
   "metadata": {},
   "source": [
    "### Cropped batch"
   ]
  },
  {
   "cell_type": "code",
   "execution_count": 52,
   "id": "e8aece3d",
   "metadata": {
    "ExecuteTime": {
     "end_time": "2023-07-28T18:00:45.441174Z",
     "start_time": "2023-07-28T18:00:43.428328Z"
    }
   },
   "outputs": [],
   "source": [
    "new_batch = crop_jets(bb, 10, device)"
   ]
  },
  {
   "cell_type": "code",
   "execution_count": 53,
   "id": "48946d96",
   "metadata": {
    "ExecuteTime": {
     "end_time": "2023-07-28T18:00:49.862792Z",
     "start_time": "2023-07-28T18:00:49.854504Z"
    }
   },
   "outputs": [
    {
     "name": "stdout",
     "output_type": "stream",
     "text": [
      "shape of the cropped batch: torch.Size([1280, 7])\n",
      "jet 0 shape: torch.Size([10, 7])\n",
      "jet 1 shape: torch.Size([10, 7])\n",
      "jet 2 shape: torch.Size([10, 7])\n",
      "jet 3 shape: torch.Size([10, 7])\n",
      "jet 4 shape: torch.Size([10, 7])\n"
     ]
    }
   ],
   "source": [
    "print(f\"shape of the cropped batch: {new_batch.x.shape}\")\n",
    "for i in range(5):\n",
    "    print(f\"jet {i} shape: {new_batch[i].x.shape}\")"
   ]
  },
  {
   "cell_type": "code",
   "execution_count": 58,
   "id": "b446609f",
   "metadata": {
    "ExecuteTime": {
     "end_time": "2023-07-28T18:45:09.945865Z",
     "start_time": "2023-07-28T18:45:09.937874Z"
    }
   },
   "outputs": [
    {
     "data": {
      "text/plain": [
       "5980"
      ]
     },
     "execution_count": 58,
     "metadata": {},
     "output_type": "execute_result"
    }
   ],
   "source": [
    "bb.x.shape[0]"
   ]
  },
  {
   "cell_type": "markdown",
   "id": "c597195e",
   "metadata": {},
   "source": [
    "## Soft Splitting"
   ]
  },
  {
   "cell_type": "code",
   "execution_count": 7,
   "id": "09603f97",
   "metadata": {
    "ExecuteTime": {
     "end_time": "2023-07-28T18:55:36.205975Z",
     "start_time": "2023-07-28T18:55:36.197398Z"
    }
   },
   "outputs": [
    {
     "data": {
      "text/plain": [
       "torch.Size([5980, 7])"
      ]
     },
     "execution_count": 7,
     "metadata": {},
     "output_type": "execute_result"
    }
   ],
   "source": [
    "bb.x.shape"
   ]
  },
  {
   "cell_type": "code",
   "execution_count": 11,
   "id": "d2a783d9",
   "metadata": {
    "ExecuteTime": {
     "end_time": "2023-07-28T18:56:43.215429Z",
     "start_time": "2023-07-28T18:56:43.206805Z"
    }
   },
   "outputs": [
    {
     "data": {
      "text/plain": [
       "(5980, 1)"
      ]
     },
     "execution_count": 11,
     "metadata": {},
     "output_type": "execute_result"
    }
   ],
   "source": [
    "np.random.randn(bb.x.shape[0], 1).shape"
   ]
  },
  {
   "cell_type": "code",
   "execution_count": 13,
   "id": "22dd12e7",
   "metadata": {
    "ExecuteTime": {
     "end_time": "2023-07-28T18:57:37.142725Z",
     "start_time": "2023-07-28T18:57:36.766899Z"
    }
   },
   "outputs": [
    {
     "data": {
      "text/plain": [
       "(5980, 5980)"
      ]
     },
     "execution_count": 13,
     "metadata": {},
     "output_type": "execute_result"
    }
   ],
   "source": [
    "pT = bb.x[:, 2]\n",
    "np.nan_to_num(0.1 * np.random.randn(bb.x.shape[0], 1) / pT.clip(min=0.1), posinf = 0.0, neginf = 0.0 ).shape"
   ]
  },
  {
   "cell_type": "code",
   "execution_count": 22,
   "id": "efcd8ec1",
   "metadata": {
    "ExecuteTime": {
     "end_time": "2023-07-28T19:01:27.067810Z",
     "start_time": "2023-07-28T19:01:26.953506Z"
    }
   },
   "outputs": [
    {
     "data": {
      "text/plain": [
       "(5980, 5980)"
      ]
     },
     "execution_count": 22,
     "metadata": {},
     "output_type": "execute_result"
    }
   ],
   "source": [
    "arr = 0.1 * np.random.randn(bb.x.shape[0], 1) / np.array(pT.clip(min=0.1))\n",
    "arr.shape"
   ]
  },
  {
   "cell_type": "code",
   "execution_count": 17,
   "id": "32f1a760",
   "metadata": {
    "ExecuteTime": {
     "end_time": "2023-07-28T19:00:06.012785Z",
     "start_time": "2023-07-28T19:00:06.004158Z"
    }
   },
   "outputs": [
    {
     "data": {
      "text/plain": [
       "(5980,)"
      ]
     },
     "execution_count": 17,
     "metadata": {},
     "output_type": "execute_result"
    }
   ],
   "source": [
    "np.array(pT.clip(min=0.1)).shape"
   ]
  },
  {
   "cell_type": "code",
   "execution_count": 25,
   "id": "b6be28cf",
   "metadata": {
    "ExecuteTime": {
     "end_time": "2023-07-28T19:05:15.307485Z",
     "start_time": "2023-07-28T19:05:15.296992Z"
    }
   },
   "outputs": [
    {
     "data": {
      "text/plain": [
       "(5980, 1)"
      ]
     },
     "execution_count": 25,
     "metadata": {},
     "output_type": "execute_result"
    }
   ],
   "source": [
    "shift_eta = np.nan_to_num(0.1 * np.random.randn(bb.x.shape[0]) / pT.clip(min=0.1), posinf = 0.0, neginf = 0.0 )\n",
    "arr = shift_eta.reshape(-1, 1)\n",
    "arr.shape\n",
    "    "
   ]
  },
  {
   "cell_type": "code",
   "execution_count": 26,
   "id": "cb6a280f",
   "metadata": {
    "ExecuteTime": {
     "end_time": "2023-07-28T19:05:29.187791Z",
     "start_time": "2023-07-28T19:05:29.175935Z"
    }
   },
   "outputs": [],
   "source": [
    "def distort_jets(batch, device, strength=0.1, pT_clip_min=0.1):\n",
    "    '''\n",
    "    Input: batch of jets, shape \n",
    "    Output: batch of jets with each constituents position shifted independently, shifts drawn from normal with mean 0, std strength/pT, same shape as input\n",
    "    '''\n",
    "    bb = batch.clone()\n",
    "    pT = bb.x[:, 2]\n",
    "    shift_eta = np.nan_to_num(strength * np.random.randn(bb.x.shape[0]) / pT.clip(min=pT_clip_min), posinf = 0.0, neginf = 0.0 )\n",
    "    shift_phi = np.nan_to_num(strength * np.random.randn(bb.x.shape[0]) / pT.clip(min=pT_clip_min), posinf = 0.0, neginf = 0.0 )\n",
    "    shift = np.hstack((shift_eta.reshape(-1, 1), shift_phi.reshape(-1, 1), np.zeros((bb.x.shape[0], 5))))\n",
    "    new_X = bb.x + shift\n",
    "    new_X = torch.tensor(new_X).to(device)\n",
    "    bb.x = new_X\n",
    "    return bb.to(device)"
   ]
  },
  {
   "cell_type": "code",
   "execution_count": 27,
   "id": "4852dd3b",
   "metadata": {
    "ExecuteTime": {
     "end_time": "2023-07-28T19:05:37.230783Z",
     "start_time": "2023-07-28T19:05:30.052088Z"
    }
   },
   "outputs": [
    {
     "name": "stdout",
     "output_type": "stream",
     "text": [
      "(5980,)\n"
     ]
    },
    {
     "name": "stderr",
     "output_type": "stream",
     "text": [
      "/tmp/ipykernel_181/3958303765.py:13: UserWarning: To copy construct from a tensor, it is recommended to use sourceTensor.clone().detach() or sourceTensor.clone().detach().requires_grad_(True), rather than torch.tensor(sourceTensor).\n",
      "  new_X = torch.tensor(new_X).to(device)\n"
     ]
    }
   ],
   "source": [
    "new_batch = distort_jets(bb, device)"
   ]
  },
  {
   "cell_type": "code",
   "execution_count": 7,
   "id": "e48a5db4",
   "metadata": {
    "ExecuteTime": {
     "end_time": "2023-07-28T21:52:35.366798Z",
     "start_time": "2023-07-28T21:52:35.362077Z"
    }
   },
   "outputs": [
    {
     "data": {
      "text/plain": [
       "Data(x=[23, 7], y=[1])"
      ]
     },
     "execution_count": 7,
     "metadata": {},
     "output_type": "execute_result"
    }
   ],
   "source": [
    "bb[0]"
   ]
  },
  {
   "cell_type": "code",
   "execution_count": 28,
   "id": "6a8b428f",
   "metadata": {
    "ExecuteTime": {
     "end_time": "2023-07-28T19:07:01.764359Z",
     "start_time": "2023-07-28T19:07:01.636626Z"
    }
   },
   "outputs": [
    {
     "data": {
      "text/plain": [
       "tensor([[-1.0163e-02, -3.2400e-03,  5.8162e+00,  6.1614e+00, -6.0878e-01,\n",
       "         -6.0632e-01,  1.3108e-02],\n",
       "        [ 4.8254e-03,  9.3150e-02,  4.3164e+00,  4.6370e+00, -2.1086e+00,\n",
       "         -2.1307e+00,  1.2275e-01],\n",
       "        [-4.2668e-03, -5.8707e-02,  4.3124e+00,  4.6564e+00, -2.1126e+00,\n",
       "         -2.1113e+00,  8.2246e-03],\n",
       "        [-5.8896e-03, -3.6816e-02,  3.3570e+00,  3.6933e+00, -3.0680e+00,\n",
       "         -3.0744e+00,  3.1942e-02],\n",
       "        [ 2.5674e-02,  2.6295e-02,  2.7561e+00,  3.1103e+00, -3.6689e+00,\n",
       "         -3.6573e+00,  2.7899e-02],\n",
       "        [-3.9077e-03, -8.9251e-02,  2.6760e+00,  3.0123e+00, -3.7490e+00,\n",
       "         -3.7554e+00,  2.5586e-02],\n",
       "        [-4.1144e-03, -5.6387e-02,  2.6129e+00,  2.9461e+00, -3.8121e+00,\n",
       "         -3.8216e+00,  2.3624e-02],\n",
       "        [ 5.5828e-02, -9.7878e-03,  2.2736e+00,  2.5998e+00, -4.1514e+00,\n",
       "         -4.1679e+00,  3.5517e-02],\n",
       "        [-1.0001e-01,  6.0073e-02,  2.0914e+00,  2.4182e+00, -4.3336e+00,\n",
       "         -4.3494e+00,  2.1439e-02],\n",
       "        [-2.6961e-02, -3.0938e-02,  1.9888e+00,  2.3461e+00, -4.4362e+00,\n",
       "         -4.4215e+00,  2.6429e-02],\n",
       "        [-4.9062e-02, -1.8030e-01,  1.9135e+00,  2.2058e+00, -4.5115e+00,\n",
       "         -4.5619e+00,  2.1365e-01],\n",
       "        [-5.3151e-02,  4.7251e-02,  1.8373e+00,  2.2035e+00, -4.5877e+00,\n",
       "         -4.5642e+00,  4.5885e-02],\n",
       "        [ 7.9926e-02,  1.2719e-02,  1.5403e+00,  1.9406e+00, -4.8847e+00,\n",
       "         -4.8270e+00,  8.2523e-02],\n",
       "        [ 9.7137e-03, -2.7263e-02,  1.3903e+00,  1.7532e+00, -5.0347e+00,\n",
       "         -5.0145e+00,  3.1481e-02],\n",
       "        [ 9.8229e-02, -5.1136e-03,  1.0075e+00,  1.3247e+00, -5.4175e+00,\n",
       "         -5.4430e+00,  6.9178e-02],\n",
       "        [ 1.3636e-02, -1.1895e-01,  7.1350e-01,  1.0763e+00, -5.7115e+00,\n",
       "         -5.6914e+00,  7.1396e-02],\n",
       "        [-9.5861e-03,  1.0280e-01,  6.2458e-01,  1.0042e+00, -5.8004e+00,\n",
       "         -5.7635e+00,  6.1249e-02],\n",
       "        [ 3.5745e-03, -2.6063e-02,  5.4390e-01,  9.9987e-01, -5.8811e+00,\n",
       "         -5.7678e+00,  1.6338e-01],\n",
       "        [-2.1490e-01,  1.6261e-01,  4.8727e-01,  8.3370e-01, -5.9377e+00,\n",
       "         -5.9340e+00,  5.8830e-02],\n",
       "        [-4.1094e-01, -5.8543e-01,  2.4372e-01,  4.1217e-01, -6.1813e+00,\n",
       "         -6.3555e+00,  3.0041e-01],\n",
       "        [-2.8160e-02, -3.4919e-02,  1.3339e-01,  2.9279e-01, -6.2916e+00,\n",
       "         -6.4749e+00,  3.0127e-01],\n",
       "        [ 2.1989e+00,  1.3429e+00, -6.7466e-01,  3.2243e-02, -7.0997e+00,\n",
       "         -6.7354e+00,  7.5175e-01],\n",
       "        [-1.7199e+00,  2.0615e+00, -1.1519e+00, -8.5178e-01, -7.5769e+00,\n",
       "         -7.6195e+00,  4.0324e-01]], device='cuda:0', dtype=torch.float64)"
      ]
     },
     "execution_count": 28,
     "metadata": {},
     "output_type": "execute_result"
    }
   ],
   "source": [
    "new_batch[0].x"
   ]
  },
  {
   "cell_type": "markdown",
   "id": "465ab7bc",
   "metadata": {},
   "source": [
    "## Colinear Splitting"
   ]
  },
  {
   "cell_type": "code",
   "execution_count": 26,
   "id": "6cdee87e",
   "metadata": {
    "ExecuteTime": {
     "end_time": "2023-07-28T22:13:37.464375Z",
     "start_time": "2023-07-28T22:13:37.460984Z"
    }
   },
   "outputs": [],
   "source": [
    "ptcl_a = bb[0].x[0].clone()"
   ]
  },
  {
   "cell_type": "code",
   "execution_count": 27,
   "id": "9d096417",
   "metadata": {
    "ExecuteTime": {
     "end_time": "2023-07-28T22:13:40.622030Z",
     "start_time": "2023-07-28T22:13:40.608632Z"
    }
   },
   "outputs": [
    {
     "data": {
      "text/plain": [
       "tensor([ 4.8051e-03, -1.2196e-02,  5.8162e+00,  6.1614e+00, -6.0878e-01,\n",
       "        -6.0632e-01,  1.3108e-02])"
      ]
     },
     "execution_count": 27,
     "metadata": {},
     "output_type": "execute_result"
    }
   ],
   "source": [
    "ptcl_a"
   ]
  },
  {
   "cell_type": "code",
   "execution_count": 28,
   "id": "cf6de29e",
   "metadata": {
    "ExecuteTime": {
     "end_time": "2023-07-28T22:14:03.157764Z",
     "start_time": "2023-07-28T22:14:03.154878Z"
    }
   },
   "outputs": [],
   "source": [
    "ptcl_a[2] = 3"
   ]
  },
  {
   "cell_type": "code",
   "execution_count": 30,
   "id": "f752c8fc",
   "metadata": {
    "ExecuteTime": {
     "end_time": "2023-07-28T22:14:14.169361Z",
     "start_time": "2023-07-28T22:14:14.163265Z"
    }
   },
   "outputs": [
    {
     "data": {
      "text/plain": [
       "tensor(3.)"
      ]
     },
     "execution_count": 30,
     "metadata": {},
     "output_type": "execute_result"
    }
   ],
   "source": [
    "ptcl_a[2]"
   ]
  },
  {
   "cell_type": "code",
   "execution_count": null,
   "id": "962b41d0",
   "metadata": {},
   "outputs": [],
   "source": []
  },
  {
   "cell_type": "code",
   "execution_count": null,
   "id": "a8eb7a89",
   "metadata": {},
   "outputs": [],
   "source": []
  },
  {
   "cell_type": "code",
   "execution_count": 16,
   "id": "c4595195",
   "metadata": {
    "ExecuteTime": {
     "end_time": "2023-07-28T22:02:54.262851Z",
     "start_time": "2023-07-28T22:02:54.257910Z"
    }
   },
   "outputs": [
    {
     "data": {
      "text/plain": [
       "0.29360172098284154"
      ]
     },
     "execution_count": 16,
     "metadata": {},
     "output_type": "execute_result"
    }
   ],
   "source": [
    "np.random.uniform()"
   ]
  },
  {
   "cell_type": "code",
   "execution_count": 11,
   "id": "0d30ed4e",
   "metadata": {
    "ExecuteTime": {
     "end_time": "2023-07-28T22:02:16.645632Z",
     "start_time": "2023-07-28T22:02:16.642653Z"
    }
   },
   "outputs": [],
   "source": [
    "def split_jet(jet):\n",
    "    \"\"\"\n",
    "    Input: a single jet, shape Data(x=[n_constit, 7], y=[1])\n",
    "    \n",
    "    \"\"\""
   ]
  },
  {
   "cell_type": "code",
   "execution_count": 43,
   "id": "4c9d48f5",
   "metadata": {
    "ExecuteTime": {
     "end_time": "2023-07-28T22:24:36.566064Z",
     "start_time": "2023-07-28T22:24:36.554719Z"
    }
   },
   "outputs": [],
   "source": [
    "def collinear_fill_jets( batch, device, split_ratio=0.5 ):\n",
    "    '''\n",
    "    Input: batch of jets, shape \n",
    "    Output: batch of jets with collinear splittings, the function attempts to fill as many of the zero-padded args.nconstit\n",
    "    entries with collinear splittings of the constituents by splitting each constituent at most once, same shape as input\n",
    "    '''\n",
    "    new_data_list = []\n",
    "    for i in range(len(batch)):\n",
    "        # construct a new jet\n",
    "        # for each particle, randomly decide whether to split or not, with split probability equal to split_ratio\n",
    "        new_x = []\n",
    "        for j in range(batch[i].x.shape[0]):\n",
    "            if np.random.uniform() <= split_ratio:\n",
    "                # initialize the two particles produced by collinear splitting\n",
    "                ptcl_a = batch[i].x[j].clone()\n",
    "                ptcl_b = batch[i].x[j].clone()\n",
    "                # split the pT of the particle\n",
    "                pT = batch[i].x[j,2].item()\n",
    "                pT_a = np.random.uniform(low=0, high=pT)\n",
    "                pT_b = pT - pT_a\n",
    "                # assign the split pT to the new particles\n",
    "                ptcl_a[2] = pT_a\n",
    "                ptcl_b[2] = pT_b\n",
    "                # add the two new particles to the list\n",
    "                new_x.append(ptcl_a)\n",
    "                new_x.append(ptcl_b)\n",
    "            else:\n",
    "                # Do nothing, add the original particle to the list\n",
    "                new_x.append(batch[i].x[j])\n",
    "#         print(new_x)\n",
    "        new_jet = Data(x=torch.stack(new_x).to(device), y=batch[i].y.to(device))\n",
    "        new_data_list.append(new_jet)\n",
    "    new_batch = Batch.from_data_list(new_data_list)\n",
    "    return new_batch.to(device)"
   ]
  },
  {
   "cell_type": "code",
   "execution_count": 44,
   "id": "c0a530ce",
   "metadata": {
    "ExecuteTime": {
     "end_time": "2023-07-28T22:24:37.090392Z",
     "start_time": "2023-07-28T22:24:37.082191Z"
    }
   },
   "outputs": [
    {
     "data": {
      "text/plain": [
       "torch.Size([5980, 7])"
      ]
     },
     "execution_count": 44,
     "metadata": {},
     "output_type": "execute_result"
    }
   ],
   "source": [
    "bb.x.shape"
   ]
  },
  {
   "cell_type": "code",
   "execution_count": 45,
   "id": "0f8efec3",
   "metadata": {
    "ExecuteTime": {
     "end_time": "2023-07-28T22:24:39.563888Z",
     "start_time": "2023-07-28T22:24:38.068486Z"
    }
   },
   "outputs": [],
   "source": [
    "new_batch = collinear_fill_jets(bb, device)"
   ]
  },
  {
   "cell_type": "code",
   "execution_count": 46,
   "id": "3c60f727",
   "metadata": {
    "ExecuteTime": {
     "end_time": "2023-07-28T22:24:48.237942Z",
     "start_time": "2023-07-28T22:24:48.230256Z"
    }
   },
   "outputs": [
    {
     "data": {
      "text/plain": [
       "torch.Size([8992, 7])"
      ]
     },
     "execution_count": 46,
     "metadata": {},
     "output_type": "execute_result"
    }
   ],
   "source": [
    "new_batch.x.shape"
   ]
  },
  {
   "cell_type": "code",
   "execution_count": 47,
   "id": "31893bb7",
   "metadata": {
    "ExecuteTime": {
     "end_time": "2023-07-28T22:25:12.204199Z",
     "start_time": "2023-07-28T22:25:12.196728Z"
    }
   },
   "outputs": [
    {
     "name": "stdout",
     "output_type": "stream",
     "text": [
      "shape of the original batch: torch.Size([5980, 7])\n",
      "jet 0 shape: torch.Size([23, 7])\n",
      "jet 1 shape: torch.Size([43, 7])\n",
      "jet 2 shape: torch.Size([41, 7])\n",
      "jet 3 shape: torch.Size([25, 7])\n",
      "jet 4 shape: torch.Size([73, 7])\n"
     ]
    }
   ],
   "source": [
    "print(f\"shape of the original batch: {bb.x.shape}\")\n",
    "for i in range(5):\n",
    "    print(f\"jet {i} shape: {bb[i].x.shape}\")"
   ]
  },
  {
   "cell_type": "code",
   "execution_count": 48,
   "id": "13fff38e",
   "metadata": {
    "ExecuteTime": {
     "end_time": "2023-07-28T22:25:25.266668Z",
     "start_time": "2023-07-28T22:25:25.261736Z"
    }
   },
   "outputs": [
    {
     "name": "stdout",
     "output_type": "stream",
     "text": [
      "shape of the cropped batch: torch.Size([8992, 7])\n",
      "jet 0 shape: torch.Size([36, 7])\n",
      "jet 1 shape: torch.Size([69, 7])\n",
      "jet 2 shape: torch.Size([58, 7])\n",
      "jet 3 shape: torch.Size([34, 7])\n",
      "jet 4 shape: torch.Size([113, 7])\n"
     ]
    }
   ],
   "source": [
    "print(f\"shape of the cropped batch: {new_batch.x.shape}\")\n",
    "for i in range(5):\n",
    "    print(f\"jet {i} shape: {new_batch[i].x.shape}\")"
   ]
  },
  {
   "cell_type": "code",
   "execution_count": 51,
   "id": "8b824ee9",
   "metadata": {
    "ExecuteTime": {
     "end_time": "2023-07-28T22:27:48.703602Z",
     "start_time": "2023-07-28T22:27:48.681825Z"
    }
   },
   "outputs": [
    {
     "name": "stdout",
     "output_type": "stream",
     "text": [
      "shape of the original batch: torch.Size([5980, 7])\n",
      "jet 0 : tensor([[ 4.8051e-03, -1.2196e-02,  5.8162e+00],\n",
      "        [-3.0414e-02,  1.1893e-01,  4.3164e+00],\n",
      "        [ 3.2171e-03, -7.5693e-03,  4.3124e+00],\n",
      "        [-7.8048e-03, -3.0973e-02,  3.3570e+00],\n",
      "        [ 1.7593e-02, -2.1652e-02,  2.7561e+00],\n",
      "        [-7.7527e-03, -2.4383e-02,  2.6760e+00],\n",
      "        [-1.2270e-02, -2.0188e-02,  2.6129e+00],\n",
      "        [-2.2361e-02, -2.7594e-02,  2.2736e+00],\n",
      "        [-2.1361e-02, -1.8263e-03,  2.0914e+00],\n",
      "        [ 2.2012e-02, -1.4627e-02,  1.9888e+00],\n",
      "        [-7.2189e-02, -2.0109e-01,  1.9135e+00],\n",
      "        [ 3.4314e-02, -3.0462e-02,  1.8373e+00],\n",
      "        [ 8.0996e-02, -1.5802e-02,  1.5403e+00],\n",
      "        [ 2.9781e-02,  1.0204e-02,  1.3903e+00],\n",
      "        [-3.5419e-02, -5.9423e-02,  1.0075e+00],\n",
      "        [ 2.9532e-02, -6.5001e-02,  7.1350e-01],\n",
      "        [ 5.2790e-02, -3.1059e-02,  6.2458e-01],\n",
      "        [ 1.5436e-01, -5.3552e-02,  5.4390e-01],\n",
      "        [ 6.6205e-03,  5.8456e-02,  4.8727e-01],\n",
      "        [-2.7769e-01, -1.1460e-01,  2.4372e-01],\n",
      "        [-2.9481e-01, -6.2067e-02,  1.3339e-01],\n",
      "        [ 4.5826e-01,  5.9593e-01, -6.7466e-01],\n",
      "        [-6.0504e-02, -3.9868e-01, -1.1519e+00]])\n",
      "jet 1 : tensor([[-2.7744e-02, -9.5150e-03,  4.9597e+00],\n",
      "        [ 1.4459e-02,  1.1490e-02,  4.3412e+00],\n",
      "        [-1.4909e-03,  5.4397e-02,  3.8201e+00],\n",
      "        [ 6.4540e-03,  1.0833e-02,  3.7853e+00],\n",
      "        [ 8.9853e-03, -1.4512e-02,  3.2955e+00],\n",
      "        [ 1.2258e-02, -1.8582e-02,  3.1862e+00],\n",
      "        [-2.3654e-02,  5.0586e-02,  3.0888e+00],\n",
      "        [-5.5244e-03, -4.5097e-03,  2.9200e+00],\n",
      "        [ 1.3101e-02,  3.5761e-02,  2.8948e+00],\n",
      "        [ 1.1920e-02, -2.5942e-02,  2.8851e+00],\n",
      "        [ 7.2332e-03,  2.0919e-02,  2.7640e+00],\n",
      "        [-1.0122e-02, -3.8582e-02,  2.5999e+00],\n",
      "        [ 6.3227e-02, -2.6314e-02,  2.4723e+00],\n",
      "        [-1.7501e-03,  1.9111e-02,  2.4414e+00],\n",
      "        [-1.7540e-02, -3.4831e-03,  2.4392e+00],\n",
      "        [-5.2300e-02, -2.6801e-02,  2.0267e+00],\n",
      "        [ 3.0385e-02,  5.3750e-02,  1.9439e+00],\n",
      "        [ 1.2719e-01,  9.2695e-02,  1.4124e+00],\n",
      "        [ 7.2738e-02,  6.7094e-02,  1.4113e+00],\n",
      "        [-1.0564e-01,  5.5323e-02,  1.1581e+00],\n",
      "        [ 3.0666e-02, -5.8369e-02,  1.0560e+00],\n",
      "        [-1.7709e-02, -3.1703e-02,  9.2342e-01],\n",
      "        [ 8.0005e-02, -4.5124e-02,  8.2510e-01],\n",
      "        [ 1.2911e-01,  1.7067e-01,  8.0542e-01],\n",
      "        [ 6.7691e-02, -3.2734e-01,  7.9777e-01],\n",
      "        [-8.4794e-02, -4.4252e-02,  7.4116e-01],\n",
      "        [-5.6831e-02, -6.8058e-01,  6.7583e-01],\n",
      "        [ 8.6484e-02, -2.2713e-01,  5.5201e-01],\n",
      "        [-2.3327e-01,  3.4094e-02,  4.6084e-01],\n",
      "        [ 8.0747e-02, -1.2959e-01,  4.5209e-01],\n",
      "        [ 5.3728e-02, -1.0968e-01,  3.1043e-01],\n",
      "        [ 1.5112e-01,  8.9637e-02,  1.1403e-01],\n",
      "        [ 6.1364e-01,  2.4668e-01,  6.0876e-02],\n",
      "        [ 2.4466e-02, -3.0393e-01, -3.3393e-02],\n",
      "        [ 8.6484e-02, -2.2713e-01, -2.7820e-01],\n",
      "        [ 2.7929e-02,  1.9950e-01, -2.9690e-01],\n",
      "        [ 4.9428e-01, -4.7751e-01, -4.6621e-01],\n",
      "        [-9.1641e-02, -4.1685e-01, -5.6495e-01],\n",
      "        [-4.0900e-01, -3.1796e-01, -6.4040e-01],\n",
      "        [-6.1921e-01,  4.3652e-02, -6.8058e-01],\n",
      "        [-1.9533e-01,  4.1721e-03, -7.5500e-01],\n",
      "        [ 1.5981e-01, -1.2131e-01, -7.6052e-01],\n",
      "        [-6.1738e-01, -4.2515e-01, -9.3887e-01]])\n",
      "jet 2 : tensor([[-6.2029e-02, -2.9171e-02,  4.9968e+00],\n",
      "        [ 5.5684e-02,  9.4480e-02,  4.0171e+00],\n",
      "        [-5.2199e-03,  3.1358e-02,  3.7796e+00],\n",
      "        [-2.7324e-02,  1.4531e-02,  3.5509e+00],\n",
      "        [-1.9530e-02,  1.5934e-02,  3.3752e+00],\n",
      "        [ 7.8992e-03,  3.8785e-02,  3.2896e+00],\n",
      "        [ 7.3439e-02, -3.2850e-02,  3.1097e+00],\n",
      "        [ 7.3439e-02, -3.2850e-02,  3.0800e+00],\n",
      "        [-4.8192e-02,  1.4024e-01,  2.8714e+00],\n",
      "        [ 5.9186e-02,  9.0962e-02,  2.7320e+00],\n",
      "        [ 7.5383e-02,  9.0070e-02,  2.6889e+00],\n",
      "        [ 2.0279e-02, -2.5502e-01,  2.5825e+00],\n",
      "        [ 6.2335e-03,  6.4459e-02,  2.5365e+00],\n",
      "        [-4.9571e-02,  8.6127e-02,  2.1776e+00],\n",
      "        [-1.3750e-02,  6.6464e-02,  2.1715e+00],\n",
      "        [ 2.0837e-02,  9.2266e-03,  2.1634e+00],\n",
      "        [ 1.8958e-02,  8.2200e-03,  2.0780e+00],\n",
      "        [-2.7400e-02, -5.8445e-02,  1.9941e+00],\n",
      "        [ 5.3387e-02, -1.2977e-01,  1.8224e+00],\n",
      "        [-1.7881e-01, -2.6281e-03,  1.6994e+00],\n",
      "        [-4.0347e-02,  1.6595e-02,  1.6264e+00],\n",
      "        [ 9.5000e-02, -1.6226e-01,  1.5527e+00],\n",
      "        [-1.6114e-01, -2.2997e-01,  1.2927e+00],\n",
      "        [ 6.0405e-03, -1.1915e-01,  1.2583e+00],\n",
      "        [-1.1035e-01, -3.3048e-01,  1.1340e+00],\n",
      "        [ 3.1494e-02, -2.3004e-01,  1.1333e+00],\n",
      "        [-5.8788e-02, -3.0037e-01,  1.1010e+00],\n",
      "        [ 1.1609e-01, -1.0647e-01,  1.0951e+00],\n",
      "        [ 6.1491e-02, -2.9560e-01,  7.7118e-01],\n",
      "        [-1.7991e-02,  1.7776e-01,  7.6394e-01],\n",
      "        [ 2.8277e-01, -4.4915e-02,  7.3142e-01],\n",
      "        [ 1.9900e-01, -2.5525e-01,  4.2837e-01],\n",
      "        [-6.8702e-02, -3.4982e-01,  3.9175e-01],\n",
      "        [-8.5361e-02, -1.9741e-01,  1.7270e-01],\n",
      "        [-1.0734e-01, -8.2655e-03,  1.4414e-01],\n",
      "        [-1.3622e-02, -6.0818e-03, -9.1412e-02],\n",
      "        [ 1.6393e-01, -4.4612e-02, -3.3191e-01],\n",
      "        [ 5.4655e-01, -3.1894e-02, -4.0947e-01],\n",
      "        [-1.4143e-02,  3.7953e-01, -6.3393e-01],\n",
      "        [ 5.3476e-01,  5.4019e-01, -7.8063e-01],\n",
      "        [ 2.2173e-01,  5.4094e-01, -9.8853e-01]])\n",
      "jet 3 : tensor([[-7.3951e-03,  5.6221e-03,  5.0959e+00],\n",
      "        [-1.0691e-03, -6.5856e-03,  4.3168e+00],\n",
      "        [ 8.1789e-04,  4.2605e-04,  4.2235e+00],\n",
      "        [-6.4703e-03, -1.4370e-02,  4.0941e+00],\n",
      "        [ 1.4750e-02, -2.5223e-02,  3.9873e+00],\n",
      "        [-7.6206e-03, -1.7733e-02,  3.9153e+00],\n",
      "        [-1.4394e-02,  2.7704e-03,  3.7395e+00],\n",
      "        [ 3.1817e-03, -1.9486e-03,  3.5704e+00],\n",
      "        [ 1.1010e-02, -8.8334e-04,  2.5173e+00],\n",
      "        [-9.9138e-03, -9.2769e-03,  2.4642e+00],\n",
      "        [ 2.8543e-02, -1.9647e-02,  2.3292e+00],\n",
      "        [ 2.0209e-02, -5.6148e-02,  2.0206e+00],\n",
      "        [-8.9380e-02,  4.4158e-02,  1.9246e+00],\n",
      "        [-1.5837e-02,  5.8449e-02,  1.2606e+00],\n",
      "        [-1.1174e-01,  4.0303e-01,  1.1125e+00],\n",
      "        [-1.5406e-01,  1.2104e-01,  6.5213e-01],\n",
      "        [ 4.1332e-01,  6.4580e-01,  6.0910e-01],\n",
      "        [ 7.2260e-01,  3.2947e-01,  4.2357e-01],\n",
      "        [-5.1552e-01, -3.9883e-01,  2.9809e-01],\n",
      "        [-2.3640e-01,  4.3456e-01,  2.5816e-01],\n",
      "        [-5.1009e-01, -1.6127e-01,  1.1773e-01],\n",
      "        [-1.9119e-01,  1.9864e-01, -2.8254e-01],\n",
      "        [-5.6576e-02, -2.8924e-01, -3.4781e-01],\n",
      "        [ 5.7009e-01,  1.7725e-01, -7.1413e-01],\n",
      "        [ 1.0740e-01, -3.4169e-01, -1.8217e+00]])\n",
      "jet 4 : tensor([[-6.0207e-02,  2.5878e-02,  5.1643e+00],\n",
      "        [-1.1304e-01,  8.7023e-05,  4.8344e+00],\n",
      "        [ 2.5244e-01,  2.3741e-01,  3.9157e+00],\n",
      "        [ 2.2948e-01,  2.4921e-01,  3.3559e+00],\n",
      "        [-1.3563e-01,  9.5440e-02,  3.1611e+00],\n",
      "        [-1.2189e-01,  1.1296e-02,  2.7435e+00],\n",
      "        [-1.3674e-01, -7.0947e-01,  2.5493e+00],\n",
      "        [ 1.4331e-01,  2.8422e-01,  2.5033e+00],\n",
      "        [-2.0517e-01, -5.4593e-01,  2.4559e+00],\n",
      "        [ 2.4198e-01,  4.4361e-01,  2.3198e+00],\n",
      "        [-6.8276e-02, -1.3774e-02,  2.2654e+00],\n",
      "        [ 3.6837e-01,  1.9113e-01,  2.2280e+00],\n",
      "        [-1.2424e-01, -8.2335e-03,  2.1871e+00],\n",
      "        [-2.3467e-02,  9.7175e-02,  2.1550e+00],\n",
      "        [-1.1871e-01, -1.8875e-02,  2.1240e+00],\n",
      "        [-1.5619e-01, -3.3254e-01,  2.1061e+00],\n",
      "        [-2.8419e-01, -4.2077e-01,  1.9744e+00],\n",
      "        [-1.9617e-01, -5.6024e-01,  1.9661e+00],\n",
      "        [-1.1186e-01, -5.7945e-02,  1.7976e+00],\n",
      "        [ 5.4631e-02, -6.2843e-02,  1.7914e+00],\n",
      "        [ 8.7947e-02,  8.4593e-02,  1.7633e+00],\n",
      "        [-1.5919e-01, -1.9217e-01,  1.7476e+00],\n",
      "        [ 2.9503e-01,  2.5439e-01,  1.6331e+00],\n",
      "        [-2.2781e-01,  5.1466e-02,  1.6188e+00],\n",
      "        [ 6.0093e-03, -5.2999e-02,  1.5492e+00],\n",
      "        [-1.2414e-01,  1.4257e-03,  1.3025e+00],\n",
      "        [-5.9072e-03,  3.4900e-03,  1.2235e+00],\n",
      "        [-3.4728e-03,  6.7618e-03,  1.1472e+00],\n",
      "        [-4.7120e-01, -2.8601e-01,  1.1263e+00],\n",
      "        [-2.1769e-01,  2.1577e-02,  1.0563e+00],\n",
      "        [-1.8014e-01, -3.0462e-01,  1.0210e+00],\n",
      "        [ 1.3418e-01, -3.0809e-01,  1.0148e+00],\n",
      "        [-1.5619e-01, -3.3254e-01,  9.8863e-01],\n",
      "        [-1.4097e-01, -3.5161e-01,  9.8449e-01],\n",
      "        [-1.3563e-01,  9.5440e-02,  9.4222e-01],\n",
      "        [-1.4872e-01, -5.0103e-01,  9.1725e-01],\n",
      "        [-8.1603e-02,  7.9837e-02,  8.0393e-01],\n",
      "        [-4.8478e-01, -6.0169e-01,  6.4198e-01],\n",
      "        [-2.3717e-02,  4.5479e-01,  5.2593e-01],\n",
      "        [-2.1590e-01, -7.6884e-01,  5.0531e-01],\n",
      "        [-1.2537e-01,  2.4833e-01,  4.9502e-01],\n",
      "        [-2.6159e-01, -6.8309e-01,  4.7670e-01],\n",
      "        [-2.3109e-01, -5.9370e-01,  4.0856e-01],\n",
      "        [-4.0634e-03,  2.4146e-02,  3.7836e-01],\n",
      "        [-2.6017e-01, -5.1572e-01,  3.7493e-01],\n",
      "        [-1.2537e-01,  2.4833e-01,  3.6212e-01],\n",
      "        [-1.5432e-01, -1.9489e-01,  3.6201e-01],\n",
      "        [ 4.6282e-01, -5.2620e-02,  3.5401e-01],\n",
      "        [-6.6453e-02, -6.1939e-01,  3.0708e-01],\n",
      "        [-5.7773e-01, -1.7601e-01,  2.9632e-01],\n",
      "        [ 1.0327e-01, -6.6434e-01,  2.4519e-01],\n",
      "        [ 2.7263e-01, -4.7661e-01,  1.8390e-01],\n",
      "        [-4.5460e-02, -6.7755e-01,  1.3026e-01],\n",
      "        [ 1.2586e-01,  8.9162e-02, -2.1569e-01],\n",
      "        [-4.7120e-01, -2.8601e-01, -2.4054e-01],\n",
      "        [ 3.9670e-01, -3.0747e-01, -3.4008e-01],\n",
      "        [-3.8073e-02, -5.0177e-01, -4.3199e-01],\n",
      "        [-8.3794e-02, -3.9798e-01, -4.3498e-01],\n",
      "        [ 2.0065e-01, -5.0526e-02, -5.9474e-01],\n",
      "        [-2.1094e-01,  1.8485e-01, -6.8258e-01],\n",
      "        [-6.5091e-01, -1.1440e-01, -7.0281e-01],\n",
      "        [ 3.1015e-01,  6.8305e-01, -7.3982e-01],\n",
      "        [ 1.0815e-01, -1.7614e-01, -7.4286e-01],\n",
      "        [-5.9485e-01, -3.3744e-01, -8.7731e-01],\n",
      "        [-3.3138e-02, -1.1418e-01, -1.0339e+00],\n",
      "        [ 1.7502e-01,  2.6152e-01, -1.0690e+00],\n",
      "        [ 5.1178e-01,  4.5178e-01, -1.2779e+00],\n",
      "        [ 5.0445e-01,  5.1955e-01, -1.3613e+00],\n",
      "        [ 4.3279e-01,  6.0210e-01, -1.3638e+00],\n",
      "        [ 4.9844e-01,  4.3593e-01, -1.4030e+00],\n",
      "        [ 5.9285e-02,  6.1833e-01, -1.6102e+00],\n",
      "        [ 1.3418e-01, -3.0809e-01, -1.6373e+00],\n",
      "        [ 5.2172e-01, -3.9558e-01, -1.7283e+00]])\n"
     ]
    }
   ],
   "source": [
    "print(f\"shape of the original batch: {bb.x.shape}\")\n",
    "for i in range(5):\n",
    "    print(f\"jet {i} : {bb[i].x[:,:3]}\")"
   ]
  },
  {
   "cell_type": "code",
   "execution_count": 52,
   "id": "cc0e3a3d",
   "metadata": {
    "ExecuteTime": {
     "end_time": "2023-07-28T22:28:09.606032Z",
     "start_time": "2023-07-28T22:28:09.544947Z"
    }
   },
   "outputs": [
    {
     "name": "stdout",
     "output_type": "stream",
     "text": [
      "shape of the cropped batch: torch.Size([8992, 7])\n",
      "jet 0 shape: tensor([[ 4.8051e-03, -1.2196e-02,  3.9488e+00],\n",
      "        [ 4.8051e-03, -1.2196e-02,  1.8674e+00],\n",
      "        [-3.0414e-02,  1.1893e-01,  2.8096e+00],\n",
      "        [-3.0414e-02,  1.1893e-01,  1.5068e+00],\n",
      "        [ 3.2171e-03, -7.5693e-03,  4.3124e+00],\n",
      "        [-7.8048e-03, -3.0973e-02,  3.3570e+00],\n",
      "        [ 1.7593e-02, -2.1652e-02,  1.7079e+00],\n",
      "        [ 1.7593e-02, -2.1652e-02,  1.0482e+00],\n",
      "        [-7.7527e-03, -2.4383e-02,  2.6760e+00],\n",
      "        [-1.2270e-02, -2.0188e-02,  1.2962e+00],\n",
      "        [-1.2270e-02, -2.0188e-02,  1.3167e+00],\n",
      "        [-2.2361e-02, -2.7594e-02,  1.6670e+00],\n",
      "        [-2.2361e-02, -2.7594e-02,  6.0665e-01],\n",
      "        [-2.1361e-02, -1.8263e-03,  1.3058e+00],\n",
      "        [-2.1361e-02, -1.8263e-03,  7.8561e-01],\n",
      "        [ 2.2012e-02, -1.4627e-02,  1.4132e+00],\n",
      "        [ 2.2012e-02, -1.4627e-02,  5.7553e-01],\n",
      "        [-7.2189e-02, -2.0109e-01,  1.2921e+00],\n",
      "        [-7.2189e-02, -2.0109e-01,  6.2138e-01],\n",
      "        [ 3.4314e-02, -3.0462e-02,  1.8373e+00],\n",
      "        [ 8.0996e-02, -1.5802e-02,  1.3998e+00],\n",
      "        [ 8.0996e-02, -1.5802e-02,  1.4054e-01],\n",
      "        [ 2.9781e-02,  1.0204e-02,  1.3903e+00],\n",
      "        [-3.5419e-02, -5.9423e-02,  1.0075e+00],\n",
      "        [ 2.9532e-02, -6.5001e-02,  7.1350e-01],\n",
      "        [ 5.2790e-02, -3.1059e-02,  6.2458e-01],\n",
      "        [ 1.5436e-01, -5.3552e-02,  5.4390e-01],\n",
      "        [ 6.6205e-03,  5.8456e-02,  4.8727e-01],\n",
      "        [-2.7769e-01, -1.1460e-01,  1.7365e-01],\n",
      "        [-2.7769e-01, -1.1460e-01,  7.0068e-02],\n",
      "        [-2.9481e-01, -6.2067e-02,  7.9263e-02],\n",
      "        [-2.9481e-01, -6.2067e-02,  5.4132e-02],\n",
      "        [ 4.5826e-01,  5.9593e-01, -6.9506e-02],\n",
      "        [ 4.5826e-01,  5.9593e-01, -6.0515e-01],\n",
      "        [-6.0504e-02, -3.9868e-01, -9.4941e-01],\n",
      "        [-6.0504e-02, -3.9868e-01, -2.0250e-01]], device='cuda:0')\n",
      "jet 1 shape: tensor([[-2.7744e-02, -9.5150e-03,  4.9597e+00],\n",
      "        [ 1.4459e-02,  1.1490e-02,  4.3412e+00],\n",
      "        [-1.4909e-03,  5.4397e-02,  3.8201e+00],\n",
      "        [ 6.4540e-03,  1.0833e-02,  4.7160e-01],\n",
      "        [ 6.4540e-03,  1.0833e-02,  3.3137e+00],\n",
      "        [ 8.9853e-03, -1.4512e-02,  1.8598e+00],\n",
      "        [ 8.9853e-03, -1.4512e-02,  1.4357e+00],\n",
      "        [ 1.2258e-02, -1.8582e-02,  2.6277e+00],\n",
      "        [ 1.2258e-02, -1.8582e-02,  5.5844e-01],\n",
      "        [-2.3654e-02,  5.0586e-02,  3.0888e+00],\n",
      "        [-5.5244e-03, -4.5097e-03,  1.7856e+00],\n",
      "        [-5.5244e-03, -4.5097e-03,  1.1344e+00],\n",
      "        [ 1.3101e-02,  3.5761e-02,  2.8948e+00],\n",
      "        [ 1.1920e-02, -2.5942e-02,  2.8851e+00],\n",
      "        [ 7.2332e-03,  2.0919e-02,  2.7640e+00],\n",
      "        [-1.0122e-02, -3.8582e-02,  2.5999e+00],\n",
      "        [ 6.3227e-02, -2.6314e-02,  2.3524e+00],\n",
      "        [ 6.3227e-02, -2.6314e-02,  1.1993e-01],\n",
      "        [-1.7501e-03,  1.9111e-02,  6.2182e-01],\n",
      "        [-1.7501e-03,  1.9111e-02,  1.8196e+00],\n",
      "        [-1.7540e-02, -3.4831e-03,  6.2923e-02],\n",
      "        [-1.7540e-02, -3.4831e-03,  2.3763e+00],\n",
      "        [-5.2300e-02, -2.6801e-02,  1.9596e+00],\n",
      "        [-5.2300e-02, -2.6801e-02,  6.7120e-02],\n",
      "        [ 3.0385e-02,  5.3750e-02,  8.6555e-01],\n",
      "        [ 3.0385e-02,  5.3750e-02,  1.0784e+00],\n",
      "        [ 1.2719e-01,  9.2695e-02,  1.1918e+00],\n",
      "        [ 1.2719e-01,  9.2695e-02,  2.2067e-01],\n",
      "        [ 7.2738e-02,  6.7094e-02,  1.2149e+00],\n",
      "        [ 7.2738e-02,  6.7094e-02,  1.9634e-01],\n",
      "        [-1.0564e-01,  5.5323e-02,  6.5726e-01],\n",
      "        [-1.0564e-01,  5.5323e-02,  5.0082e-01],\n",
      "        [ 3.0666e-02, -5.8369e-02,  1.0560e+00],\n",
      "        [-1.7709e-02, -3.1703e-02,  9.2342e-01],\n",
      "        [ 8.0005e-02, -4.5124e-02,  8.2510e-01],\n",
      "        [ 1.2911e-01,  1.7067e-01,  8.0542e-01],\n",
      "        [ 6.7691e-02, -3.2734e-01,  4.8360e-01],\n",
      "        [ 6.7691e-02, -3.2734e-01,  3.1417e-01],\n",
      "        [-8.4794e-02, -4.4252e-02,  1.5619e-01],\n",
      "        [-8.4794e-02, -4.4252e-02,  5.8497e-01],\n",
      "        [-5.6831e-02, -6.8058e-01,  6.7583e-01],\n",
      "        [ 8.6484e-02, -2.2713e-01,  1.3786e-02],\n",
      "        [ 8.6484e-02, -2.2713e-01,  5.3822e-01],\n",
      "        [-2.3327e-01,  3.4094e-02,  2.6497e-01],\n",
      "        [-2.3327e-01,  3.4094e-02,  1.9587e-01],\n",
      "        [ 8.0747e-02, -1.2959e-01,  1.1056e-01],\n",
      "        [ 8.0747e-02, -1.2959e-01,  3.4153e-01],\n",
      "        [ 5.3728e-02, -1.0968e-01,  1.1599e-01],\n",
      "        [ 5.3728e-02, -1.0968e-01,  1.9444e-01],\n",
      "        [ 1.5112e-01,  8.9637e-02,  1.1403e-01],\n",
      "        [ 6.1364e-01,  2.4668e-01,  8.3446e-03],\n",
      "        [ 6.1364e-01,  2.4668e-01,  5.2531e-02],\n",
      "        [ 2.4466e-02, -3.0393e-01, -2.4437e-02],\n",
      "        [ 2.4466e-02, -3.0393e-01, -8.9560e-03],\n",
      "        [ 8.6484e-02, -2.2713e-01, -1.2430e-01],\n",
      "        [ 8.6484e-02, -2.2713e-01, -1.5390e-01],\n",
      "        [ 2.7929e-02,  1.9950e-01, -2.0708e-01],\n",
      "        [ 2.7929e-02,  1.9950e-01, -8.9818e-02],\n",
      "        [ 4.9428e-01, -4.7751e-01, -4.6621e-01],\n",
      "        [-9.1641e-02, -4.1685e-01, -9.4445e-02],\n",
      "        [-9.1641e-02, -4.1685e-01, -4.7051e-01],\n",
      "        [-4.0900e-01, -3.1796e-01, -6.4040e-01],\n",
      "        [-6.1921e-01,  4.3652e-02, -5.1963e-01],\n",
      "        [-6.1921e-01,  4.3652e-02, -1.6095e-01],\n",
      "        [-1.9533e-01,  4.1721e-03, -3.1255e-01],\n",
      "        [-1.9533e-01,  4.1721e-03, -4.4245e-01],\n",
      "        [ 1.5981e-01, -1.2131e-01, -7.6052e-01],\n",
      "        [-6.1738e-01, -4.2515e-01, -8.4934e-01],\n",
      "        [-6.1738e-01, -4.2515e-01, -8.9529e-02]], device='cuda:0')\n",
      "jet 2 shape: tensor([[-6.2029e-02, -2.9171e-02,  4.9968e+00],\n",
      "        [ 5.5684e-02,  9.4480e-02,  4.0171e+00],\n",
      "        [-5.2199e-03,  3.1358e-02,  1.4617e+00],\n",
      "        [-5.2199e-03,  3.1358e-02,  2.3178e+00],\n",
      "        [-2.7324e-02,  1.4531e-02,  3.5509e+00],\n",
      "        [-1.9530e-02,  1.5934e-02,  2.6369e+00],\n",
      "        [-1.9530e-02,  1.5934e-02,  7.3821e-01],\n",
      "        [ 7.8992e-03,  3.8785e-02,  3.2896e+00],\n",
      "        [ 7.3439e-02, -3.2850e-02,  1.5814e+00],\n",
      "        [ 7.3439e-02, -3.2850e-02,  1.5283e+00],\n",
      "        [ 7.3439e-02, -3.2850e-02,  2.2923e+00],\n",
      "        [ 7.3439e-02, -3.2850e-02,  7.8774e-01],\n",
      "        [-4.8192e-02,  1.4024e-01,  2.8714e+00],\n",
      "        [ 5.9186e-02,  9.0962e-02,  2.7320e+00],\n",
      "        [ 7.5383e-02,  9.0070e-02,  2.6889e+00],\n",
      "        [ 2.0279e-02, -2.5502e-01,  2.5825e+00],\n",
      "        [ 6.2335e-03,  6.4459e-02,  2.8498e-01],\n",
      "        [ 6.2335e-03,  6.4459e-02,  2.2515e+00],\n",
      "        [-4.9571e-02,  8.6127e-02,  2.1776e+00],\n",
      "        [-1.3750e-02,  6.6464e-02,  7.4723e-01],\n",
      "        [-1.3750e-02,  6.6464e-02,  1.4242e+00],\n",
      "        [ 2.0837e-02,  9.2266e-03,  9.7628e-01],\n",
      "        [ 2.0837e-02,  9.2266e-03,  1.1871e+00],\n",
      "        [ 1.8958e-02,  8.2200e-03,  2.0780e+00],\n",
      "        [-2.7400e-02, -5.8445e-02,  1.1235e+00],\n",
      "        [-2.7400e-02, -5.8445e-02,  8.7063e-01],\n",
      "        [ 5.3387e-02, -1.2977e-01,  1.4934e+00],\n",
      "        [ 5.3387e-02, -1.2977e-01,  3.2894e-01],\n",
      "        [-1.7881e-01, -2.6281e-03,  1.1703e+00],\n",
      "        [-1.7881e-01, -2.6281e-03,  5.2910e-01],\n",
      "        [-4.0347e-02,  1.6595e-02,  5.1441e-01],\n",
      "        [-4.0347e-02,  1.6595e-02,  1.1120e+00],\n",
      "        [ 9.5000e-02, -1.6226e-01,  1.5527e+00],\n",
      "        [-1.6114e-01, -2.2997e-01,  1.2927e+00],\n",
      "        [ 6.0405e-03, -1.1915e-01,  1.0522e+00],\n",
      "        [ 6.0405e-03, -1.1915e-01,  2.0609e-01],\n",
      "        [-1.1035e-01, -3.3048e-01,  1.1340e+00],\n",
      "        [ 3.1494e-02, -2.3004e-01,  1.0862e-01],\n",
      "        [ 3.1494e-02, -2.3004e-01,  1.0247e+00],\n",
      "        [-5.8788e-02, -3.0037e-01,  1.1010e+00],\n",
      "        [ 1.1609e-01, -1.0647e-01,  1.0951e+00],\n",
      "        [ 6.1491e-02, -2.9560e-01,  2.7816e-01],\n",
      "        [ 6.1491e-02, -2.9560e-01,  4.9302e-01],\n",
      "        [-1.7991e-02,  1.7776e-01,  7.6394e-01],\n",
      "        [ 2.8277e-01, -4.4915e-02,  7.3142e-01],\n",
      "        [ 1.9900e-01, -2.5525e-01,  6.1577e-02],\n",
      "        [ 1.9900e-01, -2.5525e-01,  3.6679e-01],\n",
      "        [-6.8702e-02, -3.4982e-01,  3.9175e-01],\n",
      "        [-8.5361e-02, -1.9741e-01,  1.7270e-01],\n",
      "        [-1.0734e-01, -8.2655e-03,  1.4414e-01],\n",
      "        [-1.3622e-02, -6.0818e-03, -9.1412e-02],\n",
      "        [ 1.6393e-01, -4.4612e-02, -3.3191e-01],\n",
      "        [ 5.4655e-01, -3.1894e-02, -1.3106e-01],\n",
      "        [ 5.4655e-01, -3.1894e-02, -2.7840e-01],\n",
      "        [-1.4143e-02,  3.7953e-01, -5.0928e-01],\n",
      "        [-1.4143e-02,  3.7953e-01, -1.2465e-01],\n",
      "        [ 5.3476e-01,  5.4019e-01, -7.8063e-01],\n",
      "        [ 2.2173e-01,  5.4094e-01, -9.8853e-01]], device='cuda:0')\n",
      "jet 3 shape: tensor([[-7.3951e-03,  5.6221e-03,  5.0959e+00],\n",
      "        [-1.0691e-03, -6.5856e-03,  4.3168e+00],\n",
      "        [ 8.1789e-04,  4.2605e-04,  1.6650e+00],\n",
      "        [ 8.1789e-04,  4.2605e-04,  2.5585e+00],\n",
      "        [-6.4703e-03, -1.4370e-02,  4.0941e+00],\n",
      "        [ 1.4750e-02, -2.5223e-02,  1.3628e+00],\n",
      "        [ 1.4750e-02, -2.5223e-02,  2.6244e+00],\n",
      "        [-7.6206e-03, -1.7733e-02,  3.9153e+00],\n",
      "        [-1.4394e-02,  2.7704e-03,  2.7310e+00],\n",
      "        [-1.4394e-02,  2.7704e-03,  1.0084e+00],\n",
      "        [ 3.1817e-03, -1.9486e-03,  2.6587e+00],\n",
      "        [ 3.1817e-03, -1.9486e-03,  9.1173e-01],\n",
      "        [ 1.1010e-02, -8.8334e-04,  2.5173e+00],\n",
      "        [-9.9138e-03, -9.2769e-03,  2.4642e+00],\n",
      "        [ 2.8543e-02, -1.9647e-02,  2.3292e+00],\n",
      "        [ 2.0209e-02, -5.6148e-02,  7.0354e-01],\n",
      "        [ 2.0209e-02, -5.6148e-02,  1.3170e+00],\n",
      "        [-8.9380e-02,  4.4158e-02,  1.9246e+00],\n",
      "        [-1.5837e-02,  5.8449e-02,  1.2606e+00],\n",
      "        [-1.1174e-01,  4.0303e-01,  2.5992e-01],\n",
      "        [-1.1174e-01,  4.0303e-01,  8.5254e-01],\n",
      "        [-1.5406e-01,  1.2104e-01,  7.4866e-02],\n",
      "        [-1.5406e-01,  1.2104e-01,  5.7727e-01],\n",
      "        [ 4.1332e-01,  6.4580e-01,  6.0910e-01],\n",
      "        [ 7.2260e-01,  3.2947e-01,  4.2357e-01],\n",
      "        [-5.1552e-01, -3.9883e-01,  2.9809e-01],\n",
      "        [-2.3640e-01,  4.3456e-01,  2.5816e-01],\n",
      "        [-5.1009e-01, -1.6127e-01,  1.1773e-01],\n",
      "        [-1.9119e-01,  1.9864e-01, -3.7549e-02],\n",
      "        [-1.9119e-01,  1.9864e-01, -2.4499e-01],\n",
      "        [-5.6576e-02, -2.8924e-01, -1.1691e-01],\n",
      "        [-5.6576e-02, -2.8924e-01, -2.3090e-01],\n",
      "        [ 5.7009e-01,  1.7725e-01, -7.1413e-01],\n",
      "        [ 1.0740e-01, -3.4169e-01, -1.8217e+00]], device='cuda:0')\n",
      "jet 4 shape: tensor([[-6.0207e-02,  2.5878e-02,  1.5951e+00],\n",
      "        [-6.0207e-02,  2.5878e-02,  3.5692e+00],\n",
      "        [-1.1304e-01,  8.7023e-05,  4.7906e+00],\n",
      "        [-1.1304e-01,  8.7023e-05,  4.3725e-02],\n",
      "        [ 2.5244e-01,  2.3741e-01,  3.9157e+00],\n",
      "        [ 2.2948e-01,  2.4921e-01,  3.3559e+00],\n",
      "        [-1.3563e-01,  9.5440e-02,  3.1611e+00],\n",
      "        [-1.2189e-01,  1.1296e-02,  2.7435e+00],\n",
      "        [-1.3674e-01, -7.0947e-01,  2.5493e+00],\n",
      "        [ 1.4331e-01,  2.8422e-01,  2.5033e+00],\n",
      "        [-2.0517e-01, -5.4593e-01,  2.4559e+00],\n",
      "        [ 2.4198e-01,  4.4361e-01,  1.8150e+00],\n",
      "        [ 2.4198e-01,  4.4361e-01,  5.0477e-01],\n",
      "        [-6.8276e-02, -1.3774e-02,  2.2654e+00],\n",
      "        [ 3.6837e-01,  1.9113e-01,  2.2280e+00],\n",
      "        [-1.2424e-01, -8.2335e-03,  9.1170e-01],\n",
      "        [-1.2424e-01, -8.2335e-03,  1.2754e+00],\n",
      "        [-2.3467e-02,  9.7175e-02,  2.1550e+00],\n",
      "        [-1.1871e-01, -1.8875e-02,  1.1336e+00],\n",
      "        [-1.1871e-01, -1.8875e-02,  9.9038e-01],\n",
      "        [-1.5619e-01, -3.3254e-01,  2.1061e+00],\n",
      "        [-2.8419e-01, -4.2077e-01,  4.6472e-01],\n",
      "        [-2.8419e-01, -4.2077e-01,  1.5097e+00],\n",
      "        [-1.9617e-01, -5.6024e-01,  1.9661e+00],\n",
      "        [-1.1186e-01, -5.7945e-02,  6.0908e-02],\n",
      "        [-1.1186e-01, -5.7945e-02,  1.7367e+00],\n",
      "        [ 5.4631e-02, -6.2843e-02,  1.0884e+00],\n",
      "        [ 5.4631e-02, -6.2843e-02,  7.0305e-01],\n",
      "        [ 8.7947e-02,  8.4593e-02,  1.7633e+00],\n",
      "        [-1.5919e-01, -1.9217e-01,  1.2838e+00],\n",
      "        [-1.5919e-01, -1.9217e-01,  4.6379e-01],\n",
      "        [ 2.9503e-01,  2.5439e-01,  1.5364e+00],\n",
      "        [ 2.9503e-01,  2.5439e-01,  9.6660e-02],\n",
      "        [-2.2781e-01,  5.1466e-02,  1.6188e+00],\n",
      "        [ 6.0093e-03, -5.2999e-02,  2.0494e-01],\n",
      "        [ 6.0093e-03, -5.2999e-02,  1.3443e+00],\n",
      "        [-1.2414e-01,  1.4257e-03,  4.2217e-01],\n",
      "        [-1.2414e-01,  1.4257e-03,  8.8035e-01],\n",
      "        [-5.9072e-03,  3.4900e-03,  5.4767e-01],\n",
      "        [-5.9072e-03,  3.4900e-03,  6.7581e-01],\n",
      "        [-3.4728e-03,  6.7618e-03,  5.9675e-01],\n",
      "        [-3.4728e-03,  6.7618e-03,  5.5043e-01],\n",
      "        [-4.7120e-01, -2.8601e-01,  1.1263e+00],\n",
      "        [-2.1769e-01,  2.1577e-02,  8.8207e-02],\n",
      "        [-2.1769e-01,  2.1577e-02,  9.6810e-01],\n",
      "        [-1.8014e-01, -3.0462e-01,  1.0210e+00],\n",
      "        [ 1.3418e-01, -3.0809e-01,  1.0148e+00],\n",
      "        [-1.5619e-01, -3.3254e-01,  6.3903e-01],\n",
      "        [-1.5619e-01, -3.3254e-01,  3.4960e-01],\n",
      "        [-1.4097e-01, -3.5161e-01,  9.8449e-01],\n",
      "        [-1.3563e-01,  9.5440e-02,  6.2884e-01],\n",
      "        [-1.3563e-01,  9.5440e-02,  3.1338e-01],\n",
      "        [-1.4872e-01, -5.0103e-01,  7.7670e-01],\n",
      "        [-1.4872e-01, -5.0103e-01,  1.4055e-01],\n",
      "        [-8.1603e-02,  7.9837e-02,  2.7623e-01],\n",
      "        [-8.1603e-02,  7.9837e-02,  5.2770e-01],\n",
      "        [-4.8478e-01, -6.0169e-01,  3.0745e-01],\n",
      "        [-4.8478e-01, -6.0169e-01,  3.3453e-01],\n",
      "        [-2.3717e-02,  4.5479e-01,  3.3436e-01],\n",
      "        [-2.3717e-02,  4.5479e-01,  1.9158e-01],\n",
      "        [-2.1590e-01, -7.6884e-01,  3.3478e-01],\n",
      "        [-2.1590e-01, -7.6884e-01,  1.7053e-01],\n",
      "        [-1.2537e-01,  2.4833e-01,  2.8086e-01],\n",
      "        [-1.2537e-01,  2.4833e-01,  2.1416e-01],\n",
      "        [-2.6159e-01, -6.8309e-01,  2.9830e-01],\n",
      "        [-2.6159e-01, -6.8309e-01,  1.7840e-01],\n",
      "        [-2.3109e-01, -5.9370e-01,  4.0856e-01],\n",
      "        [-4.0634e-03,  2.4146e-02,  5.7489e-02],\n",
      "        [-4.0634e-03,  2.4146e-02,  3.2087e-01],\n",
      "        [-2.6017e-01, -5.1572e-01,  1.3313e-02],\n",
      "        [-2.6017e-01, -5.1572e-01,  3.6161e-01],\n",
      "        [-1.2537e-01,  2.4833e-01,  3.6212e-01],\n",
      "        [-1.5432e-01, -1.9489e-01,  6.3213e-02],\n",
      "        [-1.5432e-01, -1.9489e-01,  2.9879e-01],\n",
      "        [ 4.6282e-01, -5.2620e-02,  3.5401e-01],\n",
      "        [-6.6453e-02, -6.1939e-01,  3.0708e-01],\n",
      "        [-5.7773e-01, -1.7601e-01,  2.9632e-01],\n",
      "        [ 1.0327e-01, -6.6434e-01,  2.4519e-01],\n",
      "        [ 2.7263e-01, -4.7661e-01,  2.4278e-02],\n",
      "        [ 2.7263e-01, -4.7661e-01,  1.5963e-01],\n",
      "        [-4.5460e-02, -6.7755e-01,  2.2684e-02],\n",
      "        [-4.5460e-02, -6.7755e-01,  1.0758e-01],\n",
      "        [ 1.2586e-01,  8.9162e-02, -2.1569e-01],\n",
      "        [-4.7120e-01, -2.8601e-01, -1.1241e-02],\n",
      "        [-4.7120e-01, -2.8601e-01, -2.2930e-01],\n",
      "        [ 3.9670e-01, -3.0747e-01, -1.2281e-01],\n",
      "        [ 3.9670e-01, -3.0747e-01, -2.1728e-01],\n",
      "        [-3.8073e-02, -5.0177e-01, -4.3199e-01],\n",
      "        [-8.3794e-02, -3.9798e-01, -4.3498e-01],\n",
      "        [ 2.0065e-01, -5.0526e-02, -5.9474e-01],\n",
      "        [-2.1094e-01,  1.8485e-01, -6.8258e-01],\n",
      "        [-6.5091e-01, -1.1440e-01, -7.0281e-01],\n",
      "        [ 3.1015e-01,  6.8305e-01, -7.3982e-01],\n",
      "        [ 1.0815e-01, -1.7614e-01, -1.7567e-01],\n",
      "        [ 1.0815e-01, -1.7614e-01, -5.6719e-01],\n",
      "        [-5.9485e-01, -3.3744e-01, -8.4590e-01],\n",
      "        [-5.9485e-01, -3.3744e-01, -3.1413e-02],\n",
      "        [-3.3138e-02, -1.1418e-01, -1.0339e+00],\n",
      "        [ 1.7502e-01,  2.6152e-01, -7.4000e-01],\n",
      "        [ 1.7502e-01,  2.6152e-01, -3.2899e-01],\n",
      "        [ 5.1178e-01,  4.5178e-01, -6.4215e-01],\n",
      "        [ 5.1178e-01,  4.5178e-01, -6.3578e-01],\n",
      "        [ 5.0445e-01,  5.1955e-01, -8.0050e-01],\n",
      "        [ 5.0445e-01,  5.1955e-01, -5.6084e-01],\n",
      "        [ 4.3279e-01,  6.0210e-01, -1.0143e+00],\n",
      "        [ 4.3279e-01,  6.0210e-01, -3.4946e-01],\n",
      "        [ 4.9844e-01,  4.3593e-01, -3.0761e-01],\n",
      "        [ 4.9844e-01,  4.3593e-01, -1.0954e+00],\n",
      "        [ 5.9285e-02,  6.1833e-01, -1.6102e+00],\n",
      "        [ 1.3418e-01, -3.0809e-01, -7.2224e-01],\n",
      "        [ 1.3418e-01, -3.0809e-01, -9.1503e-01],\n",
      "        [ 5.2172e-01, -3.9558e-01, -1.5800e+00],\n",
      "        [ 5.2172e-01, -3.9558e-01, -1.4825e-01]], device='cuda:0')\n"
     ]
    }
   ],
   "source": [
    "print(f\"shape of the cropped batch: {new_batch.x.shape}\")\n",
    "for i in range(5):\n",
    "    print(f\"jet {i} shape: {new_batch[i].x[:,:3]}\")"
   ]
  },
  {
   "cell_type": "code",
   "execution_count": null,
   "id": "f1a53caa",
   "metadata": {},
   "outputs": [],
   "source": []
  },
  {
   "cell_type": "markdown",
   "id": "946501dd",
   "metadata": {},
   "source": [
    "# Training ParticleNet with augmented jets"
   ]
  },
  {
   "cell_type": "code",
   "execution_count": 14,
   "id": "30b2ede4",
   "metadata": {},
   "outputs": [],
   "source": [
    "from typing import Callable, Union\n",
    "\n",
    "import numpy as np\n",
    "import torch\n",
    "import torch.nn as nn\n",
    "import torch.nn.functional as F\n",
    "from torch import Tensor\n",
    "from torch_cluster import knn_graph\n",
    "from torch_geometric.nn import global_mean_pool\n",
    "from torch_geometric.nn.conv import MessagePassing, EdgeConv\n",
    "from torch_geometric.typing import Adj, PairTensor\n",
    "from pdb import set_trace as bp\n",
    "\n",
    "class EdgeConvBlock(nn.Module):\n",
    "    def __init__(self, in_size, layer_size, depth):\n",
    "        super(EdgeConvBlock, self).__init__()\n",
    "\n",
    "        layers = []\n",
    "\n",
    "        layers.append(nn.Linear(in_size * 2, layer_size))\n",
    "        layers.append(nn.BatchNorm1d(layer_size))\n",
    "        layers.append(nn.ReLU())\n",
    "\n",
    "        for i in range(depth):\n",
    "            layers.append(nn.Linear(layer_size, layer_size))\n",
    "            layers.append(nn.BatchNorm1d(layer_size))\n",
    "            layers.append(nn.ReLU())\n",
    "\n",
    "        self.edge_conv = EdgeConv(nn.Sequential(*layers), aggr=\"mean\")\n",
    "\n",
    "    def forward(self, x, edge_index):\n",
    "        return self.edge_conv(x, edge_index)\n",
    "\n",
    "\n",
    "class ParticleNet(nn.Module):\n",
    "    def __init__(\n",
    "        self,\n",
    "        node_feat_size,\n",
    "        num_classes=1,\n",
    "        k=16,\n",
    "        depth=2,\n",
    "        dropout=False,\n",
    "        device = \"cpu\"\n",
    "    ):\n",
    "        super(ParticleNet, self).__init__()\n",
    "\n",
    "        self.node_feat_size = node_feat_size\n",
    "        self.num_classes = num_classes\n",
    "\n",
    "        self.k = k\n",
    "        self.num_edge_conv_blocks = 3\n",
    "        \n",
    "        self.augmentations = True\n",
    "\n",
    "        self.kernel_sizes = [self.node_feat_size, 64, 128, 256]\n",
    "        self.input_sizes = np.cumsum(self.kernel_sizes)  # [4, 4+64, 4+64+128, 4+64+128+256]\n",
    "\n",
    "        self.fc_size = 256\n",
    "        self.device = device\n",
    "\n",
    "        if dropout:\n",
    "            self.dropout = 0.1\n",
    "            self.dropout_layer = nn.Dropout(p=self.dropout)\n",
    "        else:\n",
    "            self.dropout = None\n",
    "\n",
    "        # define the edgeconvblocks\n",
    "        self.edge_conv_blocks = nn.ModuleList()\n",
    "        for i in range(0, self.num_edge_conv_blocks):\n",
    "            self.edge_conv_blocks.append(EdgeConvBlock(self.input_sizes[i], self.kernel_sizes[i + 1], depth=depth))\n",
    "\n",
    "        # define the fully connected networks (post-edgeconvs)\n",
    "        self.fc1 = nn.Linear(self.input_sizes[-1], self.fc_size)\n",
    "        self.fc2 = nn.Linear(self.fc_size, self.num_classes)\n",
    "\n",
    "        self.sig = nn.Sigmoid()\n",
    "    \n",
    "#     def augmentations(self, batch):\n",
    "#         batch = rescale_pts(batch)\n",
    "#         batch = rotate_jets(batch, self.device)\n",
    "#         batch = translate_jets(batch, device = self.device)\n",
    "#         batch = normalize_pts(batch)\n",
    "    \n",
    "\n",
    "    def forward(self, batch):\n",
    "        if self.augmentations:\n",
    "            batch = rescale_pts(batch)\n",
    "            batch = rotate_jets(batch, self.device)\n",
    "            batch = translate_jets(batch, device = self.device)\n",
    "            batch = normalize_pts(batch)\n",
    "        \n",
    "        x = batch.x\n",
    "        y = batch.y\n",
    "        batch = batch.batch\n",
    "\n",
    "        # input transformations\n",
    "#         x[:, 2] = (x[:, 2] - 1.7) * 0.7  # part_pt_log\n",
    "#         x[:, 3] = (x[:, 3] - 2.0) * 0.7  # part_e_log\n",
    "#         x[:, 4] = (x[:, 4] + 4.7) * 0.7  # part_logptrel\n",
    "#         x[:, 5] = (x[:, 5] + 4.7) * 0.7  # part_logerel\n",
    "#         x[:, 6] = (x[:, 6] - 0.2) * 4.7  # part_deltaR\n",
    "\n",
    "        edge_index = {}\n",
    "        for i in range(self.num_edge_conv_blocks):\n",
    "            # using only angular coords for knn in first edgeconv block\n",
    "            edge_index[f\"edge_conv_{i}\"] = knn_graph(x[:, :2], self.k, batch) if i == 0 else knn_graph(x, self.k, batch)\n",
    "\n",
    "            out = self.edge_conv_blocks[i](x, edge_index[f\"edge_conv_{i}\"])\n",
    "\n",
    "            x = torch.cat((out, x), dim=1)  # concatenating with latent features i.e. skip connections per EdgeConvBlock\n",
    "\n",
    "        x = global_mean_pool(x, batch)\n",
    "\n",
    "        x = F.relu(self.fc1(x))\n",
    "        if self.dropout:\n",
    "            x = self.dropout_layer(x)\n",
    "        x = self.fc2(x)\n",
    "        x = self.sig(x)\n",
    "\n",
    "        return x, y"
   ]
  },
  {
   "cell_type": "code",
   "execution_count": 15,
   "id": "ed62a9ca",
   "metadata": {},
   "outputs": [],
   "source": [
    "# setup the input/output dimension of the model\n",
    "num_features = 7  # we have 7 input features\n",
    "num_classes = 1  # we have one output node"
   ]
  },
  {
   "cell_type": "code",
   "execution_count": 16,
   "id": "bbaa9552",
   "metadata": {},
   "outputs": [
    {
     "data": {
      "text/plain": [
       "ParticleNet(\n",
       "  (dropout_layer): Dropout(p=0.1, inplace=False)\n",
       "  (edge_conv_blocks): ModuleList(\n",
       "    (0): EdgeConvBlock(\n",
       "      (edge_conv): EdgeConv(nn=Sequential(\n",
       "        (0): Linear(in_features=14, out_features=64, bias=True)\n",
       "        (1): BatchNorm1d(64, eps=1e-05, momentum=0.1, affine=True, track_running_stats=True)\n",
       "        (2): ReLU()\n",
       "        (3): Linear(in_features=64, out_features=64, bias=True)\n",
       "        (4): BatchNorm1d(64, eps=1e-05, momentum=0.1, affine=True, track_running_stats=True)\n",
       "        (5): ReLU()\n",
       "        (6): Linear(in_features=64, out_features=64, bias=True)\n",
       "        (7): BatchNorm1d(64, eps=1e-05, momentum=0.1, affine=True, track_running_stats=True)\n",
       "        (8): ReLU()\n",
       "        (9): Linear(in_features=64, out_features=64, bias=True)\n",
       "        (10): BatchNorm1d(64, eps=1e-05, momentum=0.1, affine=True, track_running_stats=True)\n",
       "        (11): ReLU()\n",
       "      ))\n",
       "    )\n",
       "    (1): EdgeConvBlock(\n",
       "      (edge_conv): EdgeConv(nn=Sequential(\n",
       "        (0): Linear(in_features=142, out_features=128, bias=True)\n",
       "        (1): BatchNorm1d(128, eps=1e-05, momentum=0.1, affine=True, track_running_stats=True)\n",
       "        (2): ReLU()\n",
       "        (3): Linear(in_features=128, out_features=128, bias=True)\n",
       "        (4): BatchNorm1d(128, eps=1e-05, momentum=0.1, affine=True, track_running_stats=True)\n",
       "        (5): ReLU()\n",
       "        (6): Linear(in_features=128, out_features=128, bias=True)\n",
       "        (7): BatchNorm1d(128, eps=1e-05, momentum=0.1, affine=True, track_running_stats=True)\n",
       "        (8): ReLU()\n",
       "        (9): Linear(in_features=128, out_features=128, bias=True)\n",
       "        (10): BatchNorm1d(128, eps=1e-05, momentum=0.1, affine=True, track_running_stats=True)\n",
       "        (11): ReLU()\n",
       "      ))\n",
       "    )\n",
       "    (2): EdgeConvBlock(\n",
       "      (edge_conv): EdgeConv(nn=Sequential(\n",
       "        (0): Linear(in_features=398, out_features=256, bias=True)\n",
       "        (1): BatchNorm1d(256, eps=1e-05, momentum=0.1, affine=True, track_running_stats=True)\n",
       "        (2): ReLU()\n",
       "        (3): Linear(in_features=256, out_features=256, bias=True)\n",
       "        (4): BatchNorm1d(256, eps=1e-05, momentum=0.1, affine=True, track_running_stats=True)\n",
       "        (5): ReLU()\n",
       "        (6): Linear(in_features=256, out_features=256, bias=True)\n",
       "        (7): BatchNorm1d(256, eps=1e-05, momentum=0.1, affine=True, track_running_stats=True)\n",
       "        (8): ReLU()\n",
       "        (9): Linear(in_features=256, out_features=256, bias=True)\n",
       "        (10): BatchNorm1d(256, eps=1e-05, momentum=0.1, affine=True, track_running_stats=True)\n",
       "        (11): ReLU()\n",
       "      ))\n",
       "    )\n",
       "  )\n",
       "  (fc1): Linear(in_features=455, out_features=256, bias=True)\n",
       "  (fc2): Linear(in_features=256, out_features=1, bias=True)\n",
       "  (sig): Sigmoid()\n",
       ")"
      ]
     },
     "execution_count": 16,
     "metadata": {},
     "output_type": "execute_result"
    }
   ],
   "source": [
    "model_kwargs = {\n",
    "    \"node_feat_size\": num_features,\n",
    "    \"num_classes\": num_classes,\n",
    "    \"k\": 16,\n",
    "    \"depth\": 3,\n",
    "    \"dropout\": True,\n",
    "    \"device\":device\n",
    "}\n",
    "\n",
    "model = ParticleNet(**model_kwargs)\n",
    "model.to(device)"
   ]
  },
  {
   "cell_type": "code",
   "execution_count": 17,
   "id": "3f30d58f",
   "metadata": {},
   "outputs": [
    {
     "data": {
      "text/plain": [
       "ParticleNet(\n",
       "  (dropout_layer): Dropout(p=0.1, inplace=False)\n",
       "  (edge_conv_blocks): ModuleList(\n",
       "    (0): EdgeConvBlock(\n",
       "      (edge_conv): EdgeConv(nn=Sequential(\n",
       "        (0): Linear(in_features=14, out_features=64, bias=True)\n",
       "        (1): BatchNorm1d(64, eps=1e-05, momentum=0.1, affine=True, track_running_stats=True)\n",
       "        (2): ReLU()\n",
       "        (3): Linear(in_features=64, out_features=64, bias=True)\n",
       "        (4): BatchNorm1d(64, eps=1e-05, momentum=0.1, affine=True, track_running_stats=True)\n",
       "        (5): ReLU()\n",
       "        (6): Linear(in_features=64, out_features=64, bias=True)\n",
       "        (7): BatchNorm1d(64, eps=1e-05, momentum=0.1, affine=True, track_running_stats=True)\n",
       "        (8): ReLU()\n",
       "        (9): Linear(in_features=64, out_features=64, bias=True)\n",
       "        (10): BatchNorm1d(64, eps=1e-05, momentum=0.1, affine=True, track_running_stats=True)\n",
       "        (11): ReLU()\n",
       "      ))\n",
       "    )\n",
       "    (1): EdgeConvBlock(\n",
       "      (edge_conv): EdgeConv(nn=Sequential(\n",
       "        (0): Linear(in_features=142, out_features=128, bias=True)\n",
       "        (1): BatchNorm1d(128, eps=1e-05, momentum=0.1, affine=True, track_running_stats=True)\n",
       "        (2): ReLU()\n",
       "        (3): Linear(in_features=128, out_features=128, bias=True)\n",
       "        (4): BatchNorm1d(128, eps=1e-05, momentum=0.1, affine=True, track_running_stats=True)\n",
       "        (5): ReLU()\n",
       "        (6): Linear(in_features=128, out_features=128, bias=True)\n",
       "        (7): BatchNorm1d(128, eps=1e-05, momentum=0.1, affine=True, track_running_stats=True)\n",
       "        (8): ReLU()\n",
       "        (9): Linear(in_features=128, out_features=128, bias=True)\n",
       "        (10): BatchNorm1d(128, eps=1e-05, momentum=0.1, affine=True, track_running_stats=True)\n",
       "        (11): ReLU()\n",
       "      ))\n",
       "    )\n",
       "    (2): EdgeConvBlock(\n",
       "      (edge_conv): EdgeConv(nn=Sequential(\n",
       "        (0): Linear(in_features=398, out_features=256, bias=True)\n",
       "        (1): BatchNorm1d(256, eps=1e-05, momentum=0.1, affine=True, track_running_stats=True)\n",
       "        (2): ReLU()\n",
       "        (3): Linear(in_features=256, out_features=256, bias=True)\n",
       "        (4): BatchNorm1d(256, eps=1e-05, momentum=0.1, affine=True, track_running_stats=True)\n",
       "        (5): ReLU()\n",
       "        (6): Linear(in_features=256, out_features=256, bias=True)\n",
       "        (7): BatchNorm1d(256, eps=1e-05, momentum=0.1, affine=True, track_running_stats=True)\n",
       "        (8): ReLU()\n",
       "        (9): Linear(in_features=256, out_features=256, bias=True)\n",
       "        (10): BatchNorm1d(256, eps=1e-05, momentum=0.1, affine=True, track_running_stats=True)\n",
       "        (11): ReLU()\n",
       "      ))\n",
       "    )\n",
       "  )\n",
       "  (fc1): Linear(in_features=455, out_features=256, bias=True)\n",
       "  (fc2): Linear(in_features=256, out_features=1, bias=True)\n",
       "  (sig): Sigmoid()\n",
       ")"
      ]
     },
     "execution_count": 17,
     "metadata": {},
     "output_type": "execute_result"
    }
   ],
   "source": [
    "optimizer = torch.optim.Adam(model.parameters(), lr=1e-3)\n",
    "\n",
    "criterion = nn.BCELoss()\n",
    "sig = nn.Sigmoid()\n",
    "\n",
    "model.train()"
   ]
  },
  {
   "cell_type": "code",
   "execution_count": 18,
   "id": "0b9c40b6",
   "metadata": {},
   "outputs": [
    {
     "data": {
      "application/vnd.jupyter.widget-view+json": {
       "model_id": "4aa900f5d0264edeab4c6b5b32ea7919",
       "version_major": 2,
       "version_minor": 0
      },
      "text/plain": [
       "  0%|          | 0/10 [00:00<?, ?it/s]"
      ]
     },
     "metadata": {},
     "output_type": "display_data"
    },
    {
     "data": {
      "application/vnd.jupyter.widget-view+json": {
       "model_id": "c18eb82d3e984607a40ce301a825b5bc",
       "version_major": 2,
       "version_minor": 0
      },
      "text/plain": [
       "0it [00:00, ?it/s]"
      ]
     },
     "metadata": {},
     "output_type": "display_data"
    },
    {
     "name": "stdout",
     "output_type": "stream",
     "text": [
      "epoch 0, loss: 0.573233962059021\n"
     ]
    },
    {
     "data": {
      "application/vnd.jupyter.widget-view+json": {
       "model_id": "10d9f0b9761a413ba1a85602fb3230c0",
       "version_major": 2,
       "version_minor": 0
      },
      "text/plain": [
       "0it [00:00, ?it/s]"
      ]
     },
     "metadata": {},
     "output_type": "display_data"
    },
    {
     "name": "stdout",
     "output_type": "stream",
     "text": [
      "epoch 1, loss: 0.5649367570877075\n"
     ]
    },
    {
     "data": {
      "application/vnd.jupyter.widget-view+json": {
       "model_id": "3e4838f60830459981e335edb0fae0c1",
       "version_major": 2,
       "version_minor": 0
      },
      "text/plain": [
       "0it [00:00, ?it/s]"
      ]
     },
     "metadata": {},
     "output_type": "display_data"
    },
    {
     "name": "stdout",
     "output_type": "stream",
     "text": [
      "epoch 2, loss: 0.5618266463279724\n"
     ]
    },
    {
     "data": {
      "application/vnd.jupyter.widget-view+json": {
       "model_id": "cbc20f7c97fc4b12866ce662e6290a70",
       "version_major": 2,
       "version_minor": 0
      },
      "text/plain": [
       "0it [00:00, ?it/s]"
      ]
     },
     "metadata": {},
     "output_type": "display_data"
    },
    {
     "name": "stdout",
     "output_type": "stream",
     "text": [
      "epoch 3, loss: 0.5604450106620789\n"
     ]
    },
    {
     "data": {
      "application/vnd.jupyter.widget-view+json": {
       "model_id": "a1cae32b34c14d2bb86148c4e38c0697",
       "version_major": 2,
       "version_minor": 0
      },
      "text/plain": [
       "0it [00:00, ?it/s]"
      ]
     },
     "metadata": {},
     "output_type": "display_data"
    },
    {
     "name": "stdout",
     "output_type": "stream",
     "text": [
      "epoch 4, loss: 0.5591593980789185\n"
     ]
    },
    {
     "data": {
      "application/vnd.jupyter.widget-view+json": {
       "model_id": "cbdbb588b49c4d969e93939de0424ecf",
       "version_major": 2,
       "version_minor": 0
      },
      "text/plain": [
       "0it [00:00, ?it/s]"
      ]
     },
     "metadata": {},
     "output_type": "display_data"
    },
    {
     "name": "stdout",
     "output_type": "stream",
     "text": [
      "epoch 5, loss: 0.5580376386642456\n"
     ]
    },
    {
     "data": {
      "application/vnd.jupyter.widget-view+json": {
       "model_id": "51f1fe4012d147fb978bf11123313165",
       "version_major": 2,
       "version_minor": 0
      },
      "text/plain": [
       "0it [00:00, ?it/s]"
      ]
     },
     "metadata": {},
     "output_type": "display_data"
    },
    {
     "name": "stdout",
     "output_type": "stream",
     "text": [
      "epoch 6, loss: 0.5573257803916931\n"
     ]
    },
    {
     "data": {
      "application/vnd.jupyter.widget-view+json": {
       "model_id": "6d8d89ef73af4385847e04c1461e6115",
       "version_major": 2,
       "version_minor": 0
      },
      "text/plain": [
       "0it [00:00, ?it/s]"
      ]
     },
     "metadata": {},
     "output_type": "display_data"
    },
    {
     "name": "stdout",
     "output_type": "stream",
     "text": [
      "epoch 7, loss: 0.5568434596061707\n"
     ]
    },
    {
     "data": {
      "application/vnd.jupyter.widget-view+json": {
       "model_id": "547832aaa9644bbf8d26533f26233efc",
       "version_major": 2,
       "version_minor": 0
      },
      "text/plain": [
       "0it [00:00, ?it/s]"
      ]
     },
     "metadata": {},
     "output_type": "display_data"
    },
    {
     "name": "stdout",
     "output_type": "stream",
     "text": [
      "epoch 8, loss: 0.5564178228378296\n"
     ]
    },
    {
     "data": {
      "application/vnd.jupyter.widget-view+json": {
       "model_id": "c7fcc4a152674a51b56cd4670e3bbde1",
       "version_major": 2,
       "version_minor": 0
      },
      "text/plain": [
       "0it [00:00, ?it/s]"
      ]
     },
     "metadata": {},
     "output_type": "display_data"
    },
    {
     "name": "stdout",
     "output_type": "stream",
     "text": [
      "epoch 9, loss: 0.5559555292129517\n"
     ]
    }
   ],
   "source": [
    "# quick training without monitoring validation\n",
    "optimizer = torch.optim.Adam(model.parameters(), lr=1e-3)\n",
    "\n",
    "criterion = nn.BCELoss()\n",
    "sig = nn.Sigmoid()\n",
    "\n",
    "model.train()\n",
    "\n",
    "for epoch in tqdm(range(10)):\n",
    "    losses = []\n",
    "    for i, batch in tqdm(enumerate(train_loader)):\n",
    "        preds, targets = model(batch.to(device))\n",
    "        loss = criterion(sig(preds), targets.reshape(-1, 1).float())\n",
    "#         print(f\"batch # {i}, loss={loss:.3f}\")\n",
    "\n",
    "        for param in model.parameters():\n",
    "            param.grad = None\n",
    "        loss.backward()\n",
    "        optimizer.step()\n",
    "        losses.append(loss.detach())\n",
    "\n",
    "    losses = sum(losses)/len(losses)\n",
    "    print(f\"epoch {epoch}, loss: {losses}\")"
   ]
  },
  {
   "cell_type": "code",
   "execution_count": 19,
   "id": "1ad4d40c",
   "metadata": {},
   "outputs": [],
   "source": [
    "# model.eval()\n",
    "# with torch.no_grad():\n",
    "#     for i, batch in tqdm(enumerate(val_loader)):\n",
    "#         preds, targets = model(batch.to(device))\n",
    "#         loss = criterion(sig(preds), targets.reshape(-1, 1).float())\n",
    "#         val_losses.append(loss.item())\n",
    "        \n",
    "# val_loss = sum(val_losses) / len(val_losses)\n",
    "# print(\"Val loss : {}\".format(val_loss))"
   ]
  },
  {
   "cell_type": "code",
   "execution_count": 20,
   "id": "54b6bbfd",
   "metadata": {},
   "outputs": [],
   "source": [
    "def make_roc(y_test, y_score, save_path = 'roc', save_flag=False):\n",
    "    fpr, tpr, _ = roc_curve(y_test, y_score)\n",
    "\n",
    "    fig, ax = plt.subplots(figsize=(8,7))\n",
    "    ax.plot(\n",
    "        tpr,\n",
    "        fpr,\n",
    "        color=\"darkorange\",\n",
    "        lw=2,\n",
    "        label=f\"AUC = {round(auc(fpr, tpr)*100,2)}%\",\n",
    "    )\n",
    "    plt.xlim([0.0, 1.0])\n",
    "    plt.ylabel(\"False Positive Rate\")\n",
    "    plt.xlabel(\"True Positive Rate\")\n",
    "    plt.yscale(\"log\")\n",
    "    plt.legend(loc=\"lower right\")\n",
    "    if save_flag:\n",
    "        plt.savefig(f'toptagging_expts/plots/{save_path}.jpg')\n",
    "    "
   ]
  },
  {
   "cell_type": "code",
   "execution_count": 21,
   "id": "ce88a138",
   "metadata": {},
   "outputs": [
    {
     "name": "stdout",
     "output_type": "stream",
     "text": [
      "- making predictions\n"
     ]
    },
    {
     "data": {
      "application/vnd.jupyter.widget-view+json": {
       "model_id": "bd5540c216b742b685ae5f85baa9df52",
       "version_major": 2,
       "version_minor": 0
      },
      "text/plain": [
       "0it [00:00, ?it/s]"
      ]
     },
     "metadata": {},
     "output_type": "display_data"
    }
   ],
   "source": [
    "print(\"- making predictions\")\n",
    "y_score = None\n",
    "y_test = None\n",
    "\n",
    "model.eval()\n",
    "model.augmentations = False\n",
    "for i, batch in tqdm(enumerate(test_loader)):\n",
    "\n",
    "    preds, targets = model(batch.to(device))\n",
    "    preds = preds.detach().cpu()\n",
    "\n",
    "    if y_score is None:\n",
    "        y_score = preds[:].detach().cpu().reshape(-1)\n",
    "        y_test = targets.detach().cpu()\n",
    "    else:\n",
    "        y_score = torch.cat([y_score, preds[:].detach().cpu().reshape(-1)])\n",
    "        y_test = torch.cat([y_test, targets.detach().cpu()])\n",
    "\n",
    "#     if i==100:\n",
    "#         break"
   ]
  },
  {
   "cell_type": "code",
   "execution_count": 22,
   "id": "4129131e",
   "metadata": {},
   "outputs": [
    {
     "data": {
      "image/png": "[encoded data removed]",
      "text/plain": [
       "<Figure size 800x700 with 1 Axes>"
      ]
     },
     "metadata": {},
     "output_type": "display_data"
    }
   ],
   "source": [
    "plt.rcParams.update({\"font.size\": 20})\n",
    "make_roc(y_test, y_score, 'roc_rescl_rotate_transl_norm',save_flag=False)"
   ]
  },
  {
   "cell_type": "code",
   "execution_count": null,
   "id": "f551912d",
   "metadata": {},
   "outputs": [],
   "source": []
  }
 ],
 "metadata": {
  "kernelspec": {
   "display_name": "Python 3 (ipykernel)",
   "language": "python",
   "name": "python3"
  },
  "language_info": {
   "codemirror_mode": {
    "name": "ipython",
    "version": 3
   },
   "file_extension": ".py",
   "mimetype": "text/x-python",
   "name": "python",
   "nbconvert_exporter": "python",
   "pygments_lexer": "ipython3",
   "version": "3.10.10"
  }
 },
 "nbformat": 4,
 "nbformat_minor": 5
}
